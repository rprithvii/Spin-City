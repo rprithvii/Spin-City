{
 "cells": [
  {
   "cell_type": "code",
   "execution_count": 1,
   "id": "13981ee6-aa8b-4aa8-8a6b-a98430d5d67b",
   "metadata": {},
   "outputs": [],
   "source": [
    "%reset -f"
   ]
  },
  {
   "cell_type": "code",
   "execution_count": 2,
   "id": "f3cf6294-8177-4add-87cd-88c5dca8abdc",
   "metadata": {},
   "outputs": [],
   "source": [
    "import pandas as pd\n",
    "import numpy as np\n",
    "import os\n",
    "import sys"
   ]
  },
  {
   "cell_type": "code",
   "execution_count": 3,
   "id": "3efea2bb-5ceb-4cfa-a422-7f4c969dc2cb",
   "metadata": {},
   "outputs": [],
   "source": [
    "# Set display options\n",
    "pd.set_option('display.max_columns', None)\n",
    "pd.set_option('display.max_rows', None)\n",
    "pd.set_option('display.width', None)\n",
    "pd.set_option('display.max_colwidth', None)"
   ]
  },
  {
   "cell_type": "code",
   "execution_count": 4,
   "id": "0dc8e220-1128-414f-8d72-4adeef080722",
   "metadata": {},
   "outputs": [
    {
     "data": {
      "text/plain": [
       "'C:\\\\Users\\\\rajpprit\\\\Documents\\\\UK I&I\\\\Trainings\\\\Vizcon 2025\\\\New York city bike data\\\\notebooks'"
      ]
     },
     "execution_count": 4,
     "metadata": {},
     "output_type": "execute_result"
    }
   ],
   "source": [
    "os.getcwd()"
   ]
  },
  {
   "cell_type": "code",
   "execution_count": 5,
   "id": "28a15de4-46e5-47f3-a401-893bd000c8b1",
   "metadata": {},
   "outputs": [],
   "source": [
    "os.chdir(\"..\")"
   ]
  },
  {
   "cell_type": "code",
   "execution_count": 6,
   "id": "a524f5e3-3bae-48e2-acce-69794c393286",
   "metadata": {},
   "outputs": [
    {
     "data": {
      "text/plain": [
       "'C:\\\\Users\\\\rajpprit\\\\Documents\\\\UK I&I\\\\Trainings\\\\Vizcon 2025\\\\New York city bike data'"
      ]
     },
     "execution_count": 6,
     "metadata": {},
     "output_type": "execute_result"
    }
   ],
   "source": [
    "os.getcwd()"
   ]
  },
  {
   "cell_type": "code",
   "execution_count": 7,
   "id": "86fdd5dd-68ba-48a7-ae51-3ffb677f2c5d",
   "metadata": {},
   "outputs": [
    {
     "data": {
      "text/plain": [
       "['.virtual_documents',\n",
       " 'Community',\n",
       " 'data_processed',\n",
       " 'data_raw',\n",
       " 'desktop.ini',\n",
       " 'notebooks',\n",
       " 'site']"
      ]
     },
     "execution_count": 7,
     "metadata": {},
     "output_type": "execute_result"
    }
   ],
   "source": [
    "os.listdir()"
   ]
  },
  {
   "cell_type": "code",
   "execution_count": null,
   "id": "71615240-e848-410d-931c-76ea8b1e31a2",
   "metadata": {},
   "outputs": [],
   "source": []
  },
  {
   "cell_type": "code",
   "execution_count": null,
   "id": "f977d841-7ca0-463c-bb90-eb782b0a977b",
   "metadata": {},
   "outputs": [],
   "source": []
  },
  {
   "cell_type": "code",
   "execution_count": null,
   "id": "01089162-bf81-4214-bc9f-666065a7fbc4",
   "metadata": {},
   "outputs": [],
   "source": []
  },
  {
   "cell_type": "code",
   "execution_count": null,
   "id": "6fb4b69f-c145-4503-9561-3092b750dcf8",
   "metadata": {},
   "outputs": [],
   "source": []
  },
  {
   "cell_type": "code",
   "execution_count": 8,
   "id": "e745f7d1-48ae-4eba-9c46-3f918d32b06f",
   "metadata": {},
   "outputs": [
    {
     "data": {
      "text/plain": [
       "'C:\\\\Users\\\\rajpprit\\\\Documents\\\\UK I&I\\\\Trainings\\\\Vizcon 2025\\\\New York city bike data'"
      ]
     },
     "execution_count": 8,
     "metadata": {},
     "output_type": "execute_result"
    }
   ],
   "source": [
    "os.getcwd()"
   ]
  },
  {
   "cell_type": "code",
   "execution_count": null,
   "id": "3b438a8d-2b3a-4db6-b557-e06c90b89c9b",
   "metadata": {},
   "outputs": [],
   "source": []
  },
  {
   "cell_type": "code",
   "execution_count": 9,
   "id": "0df990e7-5854-4ee3-b887-dc6fe008212c",
   "metadata": {},
   "outputs": [],
   "source": [
    "# -----------------------------\n",
    "# 2. Sample Data Preparation\n",
    "# -----------------------------\n",
    "os.chdir(\"C:\\\\Users\\\\rajpprit\\\\Documents\\\\UK I&I\\\\Trainings\\\\Vizcon 2025\\\\New York city bike data\\\\data_processed\\\\Pickel files\")\n",
    "df_2024 = pd.read_pickle(\"df_2024.pkl\")"
   ]
  },
  {
   "cell_type": "code",
   "execution_count": null,
   "id": "2ee421ef-ded5-4b5a-80aa-8fa3a5698728",
   "metadata": {},
   "outputs": [],
   "source": []
  },
  {
   "cell_type": "code",
   "execution_count": 10,
   "id": "821ef571-d9d1-4f32-a182-ba0c8580762e",
   "metadata": {},
   "outputs": [],
   "source": [
    "os.chdir(\"C:\\\\Users\\\\rajpprit\\\\Documents\\\\UK I&I\\\\Trainings\\\\Vizcon 2025\\\\New York city bike data\")"
   ]
  },
  {
   "cell_type": "code",
   "execution_count": 11,
   "id": "2383c1e5-08b3-4358-be61-051cc3452383",
   "metadata": {},
   "outputs": [
    {
     "data": {
      "text/plain": [
       "'C:\\\\Users\\\\rajpprit\\\\Documents\\\\UK I&I\\\\Trainings\\\\Vizcon 2025\\\\New York city bike data'"
      ]
     },
     "execution_count": 11,
     "metadata": {},
     "output_type": "execute_result"
    }
   ],
   "source": [
    "os.getcwd()"
   ]
  },
  {
   "cell_type": "code",
   "execution_count": null,
   "id": "286f4f7e-0e66-4db0-9453-3583b0b8e8d7",
   "metadata": {},
   "outputs": [],
   "source": []
  },
  {
   "cell_type": "markdown",
   "id": "78371ab2-e840-4dbe-afe5-048c038fdc14",
   "metadata": {},
   "source": [
    "#### Data import"
   ]
  },
  {
   "cell_type": "code",
   "execution_count": 12,
   "id": "979a88f7-c396-45f6-a99e-131aa994a971",
   "metadata": {},
   "outputs": [],
   "source": [
    "import pandas as pd\n",
    "import plotly.express as px\n",
    "import plotly.graph_objects as go\n",
    "from plotly.subplots import make_subplots\n",
    "import numpy as np\n",
    "from datetime import datetime"
   ]
  },
  {
   "cell_type": "code",
   "execution_count": null,
   "id": "2526ef7d-fb9b-490f-bc6b-5bf80b1b7f1c",
   "metadata": {},
   "outputs": [],
   "source": []
  },
  {
   "cell_type": "code",
   "execution_count": 13,
   "id": "029beb33-f25f-466b-ae74-7aa4d29b76fc",
   "metadata": {},
   "outputs": [
    {
     "data": {
      "text/plain": [
       "(44303209, 13)"
      ]
     },
     "execution_count": 13,
     "metadata": {},
     "output_type": "execute_result"
    }
   ],
   "source": [
    "df_2024.shape"
   ]
  },
  {
   "cell_type": "code",
   "execution_count": 14,
   "id": "1dde7aa7-002b-4bcd-968b-0ff66ac1ba9f",
   "metadata": {},
   "outputs": [
    {
     "data": {
      "text/plain": [
       "(44303209, 13)"
      ]
     },
     "execution_count": 14,
     "metadata": {},
     "output_type": "execute_result"
    }
   ],
   "source": [
    "df_2024.shape"
   ]
  },
  {
   "cell_type": "code",
   "execution_count": null,
   "id": "97e46dff-3788-4d49-85bf-37aba7ea2070",
   "metadata": {},
   "outputs": [],
   "source": []
  },
  {
   "cell_type": "code",
   "execution_count": 38,
   "id": "aa329ff0-ead6-4d2e-906b-622eb62a873e",
   "metadata": {},
   "outputs": [],
   "source": [
    "df_2024 = df_2024[:10000]"
   ]
  },
  {
   "cell_type": "code",
   "execution_count": 39,
   "id": "adb71ac2-180a-47ce-931c-96e56cc0ca0a",
   "metadata": {},
   "outputs": [
    {
     "data": {
      "text/plain": [
       "(10000, 13)"
      ]
     },
     "execution_count": 39,
     "metadata": {},
     "output_type": "execute_result"
    }
   ],
   "source": [
    "df_2024.shape"
   ]
  },
  {
   "cell_type": "code",
   "execution_count": null,
   "id": "0b4f87cf-e192-4bc4-bdf3-b34925834a8f",
   "metadata": {},
   "outputs": [],
   "source": []
  },
  {
   "cell_type": "markdown",
   "id": "ab6450fa-8554-40fc-99f7-62a0c24387f5",
   "metadata": {},
   "source": [
    "#### Main routes - Option1 - color intensity"
   ]
  },
  {
   "cell_type": "code",
   "execution_count": 40,
   "id": "ec783f8a-7b8d-461d-ba72-1cf1994f6e4f",
   "metadata": {},
   "outputs": [
    {
     "name": "stdout",
     "output_type": "stream",
     "text": [
      "Most popular route: Canal St & Rutgers St → Henry St & Grand St\n",
      "Number of rides on most popular route: 143\n",
      "Minimum rides shown: 19\n"
     ]
    }
   ],
   "source": [
    "import plotly.graph_objects as go\n",
    "import pandas as pd\n",
    "import numpy as np\n",
    "import requests\n",
    "import time\n",
    "\n",
    "# Your OpenRouteService API key\n",
    "ORS_API_KEY = 'eyJvcmciOiI1YjNjZTM1OTc4NTExMTAwMDFjZjYyNDgiLCJpZCI6ImE3OWY4ZmQxZDM0YTQ5Yzg4NzUwNTEwMDdlNjY2MjdkIiwiaCI6Im11cm11cjY0In0='  # Replace with your API key\n",
    "\n",
    "def get_route_coordinates(start_lng, start_lat, end_lng, end_lat):\n",
    "    \"\"\"Get cycling route from OpenRouteService API\"\"\"\n",
    "    headers = {\n",
    "        'Authorization': ORS_API_KEY,\n",
    "        'Content-Type': 'application/json; charset=utf-8'\n",
    "    }\n",
    "    \n",
    "    body = {\"coordinates\": [[start_lng, start_lat], [end_lng, end_lat]],\n",
    "            \"profile\": \"cycling-regular\",\n",
    "            \"format\": \"geojson\"}\n",
    "    \n",
    "    try:\n",
    "        response = requests.post(\n",
    "            'https://api.openrouteservice.org/v2/directions/cycling-regular/geojson',\n",
    "            json=body,\n",
    "            headers=headers\n",
    "        )\n",
    "        \n",
    "        if response.status_code == 200:\n",
    "            route = response.json()\n",
    "            return route['features'][0]['geometry']['coordinates']\n",
    "        else:\n",
    "            print(f\"Error getting route: {response.status_code}\")\n",
    "            return None\n",
    "    except Exception as e:\n",
    "        print(f\"Error: {e}\")\n",
    "        return None\n",
    "\n",
    "def get_top_routes(df_2024, top_n=50):\n",
    "    routes = df_2024.groupby(\n",
    "        ['start_station_name', 'end_station_name', 'start_lat', 'start_lng', 'end_lat', 'end_lng']\n",
    "    ).size().reset_index(name='rides')\n",
    "    \n",
    "    routes = routes[routes['start_station_name'] != routes['end_station_name']]\n",
    "    return routes.nlargest(top_n, 'rides')\n",
    "\n",
    "# Get top 50 routes\n",
    "top_routes = get_top_routes(df_2024, top_n=50)\n",
    "\n",
    "# Normalize rides for color scaling\n",
    "top_routes['normalized_rides'] = (top_routes['rides'] - top_routes['rides'].min()) / \\\n",
    "                                (top_routes['rides'].max() - top_routes['rides'].min())\n",
    "\n",
    "# Create figure\n",
    "fig = go.Figure()\n",
    "\n",
    "# Add routes with actual paths\n",
    "for idx, route in top_routes.iterrows():\n",
    "    coords = get_route_coordinates(\n",
    "        route['start_lng'], \n",
    "        route['start_lat'], \n",
    "        route['end_lng'], \n",
    "        route['end_lat']\n",
    "    )\n",
    "    \n",
    "    if coords:\n",
    "        lngs, lats = zip(*coords)\n",
    "        \n",
    "        # Calculate color based on number of rides\n",
    "        color_intensity = 0.3 + (route['normalized_rides'] * 2.0)  # ranges from 0.3 to 0.9\n",
    "        \n",
    "        fig.add_trace(go.Scattermapbox(\n",
    "            mode='lines',\n",
    "            lon=list(lngs),\n",
    "            lat=list(lats),\n",
    "            line=dict(\n",
    "                width=3,\n",
    "                color=f'rgba(99, 171, 255, {color_intensity})'  # Uber-style blue\n",
    "            ),\n",
    "            hovertemplate=(\n",
    "                f\"<b>Route {idx+1} of 50</b><br>\" +\n",
    "                f\"From: {route['start_station_name']}<br>\" +\n",
    "                f\"To: {route['end_station_name']}<br>\" +\n",
    "                f\"Number of rides: {route['rides']:,}<br>\" +\n",
    "                \"<extra></extra>\"\n",
    "            ),\n",
    "            showlegend=False\n",
    "        ))\n",
    "    \n",
    "    # Add a small delay to avoid hitting API rate limits\n",
    "    time.sleep(1)\n",
    "\n",
    "# Add station points\n",
    "stations = pd.concat([\n",
    "    df_2024[['start_station_name', 'start_lat', 'start_lng']].rename(\n",
    "        columns={'start_station_name': 'station_name', 'start_lat': 'lat', 'start_lng': 'lng'}\n",
    "    ),\n",
    "    df_2024[['end_station_name', 'end_lat', 'end_lng']].rename(\n",
    "        columns={'end_station_name': 'station_name', 'end_lat': 'lat', 'end_lng': 'lng'}\n",
    "    )\n",
    "]).drop_duplicates()\n",
    "\n",
    "fig.add_trace(go.Scattermapbox(\n",
    "    lat=stations['lat'],\n",
    "    lon=stations['lng'],\n",
    "    mode='markers',\n",
    "    marker=dict(\n",
    "        size=4,\n",
    "        color='white',\n",
    "        opacity=0.8\n",
    "    ),\n",
    "    showlegend=False,\n",
    "    hoverinfo='none'\n",
    "))\n",
    "\n",
    "# Update layout\n",
    "fig.update_layout(\n",
    "    mapbox_style=\"carto-darkmatter\",\n",
    "    mapbox=dict(\n",
    "        center=dict(lat=40.7505, lon=-73.9934),\n",
    "        zoom=11.5\n",
    "    ),\n",
    "    margin={\"r\":0,\"t\":50,\"l\":0,\"b\":0},\n",
    "    title={\n",
    "        'text': \"Top 50 Most Popular Citibike Routes (2024)<br>\" +\n",
    "               \"<sup>Color intensity indicates number of rides</sup>\",\n",
    "        'y':0.98,\n",
    "        'x':0.5,\n",
    "        'xanchor': 'center',\n",
    "        'yanchor': 'top',\n",
    "        'font': dict(color='white', size=16)\n",
    "    },\n",
    "    paper_bgcolor='#1a1f35',\n",
    "    plot_bgcolor='#1a1f35'\n",
    ")\n",
    "\n",
    "# Save the map\n",
    "fig.write_html(\"site/charts/top_routes_map.html\")\n",
    "\n",
    "# Print some statistics\n",
    "print(f\"Most popular route: {top_routes.iloc[0]['start_station_name']} → {top_routes.iloc[0]['end_station_name']}\")\n",
    "print(f\"Number of rides on most popular route: {top_routes.iloc[0]['rides']:,}\")\n",
    "print(f\"Minimum rides shown: {top_routes.iloc[-1]['rides']:,}\")\n"
   ]
  },
  {
   "cell_type": "code",
   "execution_count": null,
   "id": "f05a3057-e276-472b-86fd-c2699da92e85",
   "metadata": {},
   "outputs": [],
   "source": []
  },
  {
   "cell_type": "markdown",
   "id": "29e8d400-b341-4e70-9adc-ba4f6e5ef8aa",
   "metadata": {},
   "source": [
    "#### Main routes - option2 - color gradient"
   ]
  },
  {
   "cell_type": "code",
   "execution_count": 15,
   "id": "1f047d95-1998-45cb-902c-d5a642b2d7c7",
   "metadata": {},
   "outputs": [
    {
     "name": "stdout",
     "output_type": "stream",
     "text": [
      "Error getting route: 403\n",
      "Error getting route: 403\n",
      "Error getting route: 403\n",
      "Error getting route: 403\n",
      "Error getting route: 403\n",
      "Error getting route: 403\n",
      "Error getting route: 403\n",
      "Error getting route: 403\n",
      "Error getting route: 403\n",
      "Error getting route: 403\n",
      "Error getting route: 403\n",
      "Error getting route: 403\n",
      "Error getting route: 403\n",
      "Error getting route: 403\n",
      "Error getting route: 403\n",
      "Error getting route: 403\n",
      "Error getting route: 403\n",
      "Error getting route: 403\n",
      "Error getting route: 403\n",
      "Error getting route: 403\n",
      "Error getting route: 403\n",
      "Error getting route: 403\n",
      "Error getting route: 403\n",
      "Error getting route: 403\n",
      "Error getting route: 403\n",
      "Error getting route: 403\n",
      "Error getting route: 403\n",
      "Error getting route: 403\n",
      "Error getting route: 403\n",
      "Error getting route: 403\n",
      "Error getting route: 403\n",
      "Error getting route: 403\n",
      "Error getting route: 403\n",
      "Error getting route: 403\n",
      "Error getting route: 403\n",
      "Error getting route: 403\n",
      "Error getting route: 403\n",
      "Error getting route: 403\n",
      "Error getting route: 403\n",
      "Error getting route: 403\n",
      "Error getting route: 403\n",
      "Error getting route: 403\n",
      "Error getting route: 403\n",
      "Error getting route: 403\n",
      "Error getting route: 403\n",
      "Error getting route: 403\n",
      "Error getting route: 403\n",
      "Error getting route: 403\n",
      "Error getting route: 403\n",
      "Error getting route: 403\n",
      "Error getting route: 403\n",
      "Error getting route: 403\n",
      "Error getting route: 403\n",
      "Error getting route: 403\n",
      "Error getting route: 403\n",
      "Error getting route: 403\n",
      "Error getting route: 403\n",
      "Error getting route: 403\n",
      "Error getting route: 403\n",
      "Error getting route: 403\n",
      "Error getting route: 403\n",
      "Error getting route: 403\n",
      "Error getting route: 403\n",
      "Error getting route: 403\n",
      "Error getting route: 403\n",
      "Error getting route: 403\n",
      "Error getting route: 403\n",
      "Error getting route: 403\n",
      "Error getting route: 403\n",
      "Error getting route: 403\n",
      "Error getting route: 403\n",
      "Error getting route: 403\n",
      "Error getting route: 403\n",
      "Error getting route: 403\n",
      "Error getting route: 403\n",
      "Error getting route: 403\n",
      "Error getting route: 403\n",
      "Error getting route: 403\n",
      "Error getting route: 403\n",
      "Error getting route: 403\n",
      "Error getting route: 403\n",
      "Error getting route: 403\n",
      "Error getting route: 403\n",
      "Error getting route: 403\n",
      "Error getting route: 403\n",
      "Error getting route: 403\n",
      "Error getting route: 403\n",
      "Error getting route: 403\n",
      "Error getting route: 403\n",
      "Error getting route: 403\n",
      "Error getting route: 403\n",
      "Error getting route: 403\n",
      "Error getting route: 403\n",
      "Error getting route: 403\n",
      "Error getting route: 403\n",
      "Error getting route: 403\n",
      "Error getting route: 403\n",
      "Error getting route: 403\n",
      "Error getting route: 403\n",
      "Error getting route: 403\n",
      "Error getting route: 403\n",
      "Error getting route: 403\n",
      "Error getting route: 403\n",
      "Error getting route: 403\n",
      "Error getting route: 403\n",
      "Error getting route: 403\n",
      "Error getting route: 403\n",
      "Error getting route: 403\n",
      "Error getting route: 403\n",
      "Error getting route: 403\n",
      "Error getting route: 403\n",
      "Error getting route: 403\n",
      "Error getting route: 403\n",
      "Error getting route: 403\n",
      "Error getting route: 403\n",
      "Error getting route: 403\n",
      "Error getting route: 403\n",
      "Error getting route: 403\n",
      "Error getting route: 403\n",
      "Error getting route: 403\n",
      "Error getting route: 403\n",
      "Error getting route: 403\n",
      "Error getting route: 403\n",
      "Error getting route: 403\n",
      "Error getting route: 403\n",
      "Error getting route: 403\n",
      "Error getting route: 403\n",
      "Error getting route: 403\n",
      "Error getting route: 403\n",
      "Error getting route: 403\n",
      "Error getting route: 403\n",
      "Error getting route: 403\n",
      "Error getting route: 403\n",
      "Error getting route: 403\n",
      "Error getting route: 403\n",
      "Error getting route: 403\n",
      "Error getting route: 403\n",
      "Error getting route: 403\n",
      "Error getting route: 403\n",
      "Error getting route: 403\n",
      "Error getting route: 403\n",
      "Error getting route: 403\n",
      "Error getting route: 403\n",
      "Error getting route: 403\n",
      "Error getting route: 403\n",
      "Error getting route: 403\n",
      "Error getting route: 403\n",
      "Error getting route: 403\n",
      "Error getting route: 403\n",
      "Error getting route: 403\n",
      "Error getting route: 403\n",
      "Most popular route: River Ter & Warren St → Vesey Pl & River Terrace\n",
      "Number of rides on most popular route: 7,367\n",
      "Minimum rides shown: 1,362\n"
     ]
    }
   ],
   "source": [
    "import plotly.graph_objects as go\n",
    "import pandas as pd\n",
    "import numpy as np\n",
    "import requests\n",
    "import time\n",
    "\n",
    "# Your OpenRouteService API key\n",
    "ORS_API_KEY = 'eyJvcmciOiI1YjNjZTM1OTc4NTExMTAwMDFjZjYyNDgiLCJpZCI6ImE3OWY4ZmQxZDM0YTQ5Yzg4NzUwNTEwMDdlNjY2MjdkIiwiaCI6Im11cm11cjY0In0='\n",
    "\n",
    "def get_route_coordinates(start_lng, start_lat, end_lng, end_lat):\n",
    "    \"\"\"Get cycling route from OpenRouteService API\"\"\"\n",
    "    headers = {\n",
    "        'Authorization': ORS_API_KEY,\n",
    "        'Content-Type': 'application/json; charset=utf-8'\n",
    "    }\n",
    "    \n",
    "    body = {\"coordinates\": [[start_lng, start_lat], [end_lng, end_lat]],\n",
    "            \"profile\": \"cycling-regular\",\n",
    "            \"format\": \"geojson\"}\n",
    "    \n",
    "    try:\n",
    "        response = requests.post(\n",
    "            'https://api.openrouteservice.org/v2/directions/cycling-regular/geojson',\n",
    "            json=body,\n",
    "            headers=headers\n",
    "        )\n",
    "        \n",
    "        if response.status_code == 200:\n",
    "            route = response.json()\n",
    "            return route['features'][0]['geometry']['coordinates']\n",
    "        else:\n",
    "            print(f\"Error getting route: {response.status_code}\")\n",
    "            return None\n",
    "    except Exception as e:\n",
    "        print(f\"Error: {e}\")\n",
    "        return None\n",
    "\n",
    "def get_color(normalized_value):\n",
    "    \"\"\"\n",
    "    Returns color based on normalized value:\n",
    "    1.0 -> Red (most popular)\n",
    "    0.5 -> Purple (medium popular)\n",
    "    0.0 -> Blue (least popular)\n",
    "    \"\"\"\n",
    "    if normalized_value > 0.7:\n",
    "        # Red range\n",
    "        intensity = min(max((normalized_value - 0.7) / 0.3, 0), 1)\n",
    "        return f'rgba(255, 50, 50, 0.8)'\n",
    "    elif normalized_value > 0.3:\n",
    "        # Purple range\n",
    "        intensity = min(max((normalized_value - 0.3) / 0.4, 0), 1)\n",
    "        return f'rgba(180, 50, 180, 0.7)'\n",
    "    else:\n",
    "        # Blue range\n",
    "        intensity = min(max(normalized_value / 0.3, 0), 1)\n",
    "        return f'rgba(50, 50, 255, 0.6)'\n",
    "\n",
    "\n",
    "def get_top_routes(df_2024, top_n=1000):\n",
    "    routes = df_2024.groupby(\n",
    "        ['start_station_name', 'end_station_name', 'start_lat', 'start_lng', 'end_lat', 'end_lng']\n",
    "    ).size().reset_index(name='rides')\n",
    "    \n",
    "    routes = routes[routes['start_station_name'] != routes['end_station_name']]\n",
    "    return routes.nlargest(top_n, 'rides')\n",
    "\n",
    "# Get top 1000 routes\n",
    "top_routes = get_top_routes(df_2024, top_n=1000)\n",
    "\n",
    "# Normalize rides for color scaling\n",
    "top_routes['normalized_rides'] = (top_routes['rides'] - top_routes['rides'].min()) / \\\n",
    "                                (top_routes['rides'].max() - top_routes['rides'].min())\n",
    "\n",
    "# Create figure\n",
    "fig = go.Figure()\n",
    "\n",
    "# Add routes with actual paths\n",
    "for idx, route in top_routes.iterrows():\n",
    "    coords = get_route_coordinates(\n",
    "        route['start_lng'], \n",
    "        route['start_lat'], \n",
    "        route['end_lng'], \n",
    "        route['end_lat']\n",
    "    )\n",
    "    \n",
    "    if coords:\n",
    "        lngs, lats = zip(*coords)\n",
    "        \n",
    "        # Get color based on normalized rides\n",
    "        route_color = get_color(route['normalized_rides'])\n",
    "        \n",
    "        fig.add_trace(go.Scattermapbox(\n",
    "            mode='lines',\n",
    "            lon=list(lngs),\n",
    "            lat=list(lats),\n",
    "            line=dict(\n",
    "                width=2,  # Reduced width for better visibility with more routes\n",
    "                color=route_color\n",
    "            ),\n",
    "            hovertemplate=(\n",
    "                f\"<b>Route {idx+1} of 1000</b><br>\" +\n",
    "                f\"From: {route['start_station_name']}<br>\" +\n",
    "                f\"To: {route['end_station_name']}<br>\" +\n",
    "                f\"Number of rides: {route['rides']:,}<br>\" +\n",
    "                f\"Popularity Rank: {idx+1}<br>\" +\n",
    "                \"<extra></extra>\"\n",
    "            ),\n",
    "            showlegend=False\n",
    "        ))\n",
    "    \n",
    "    # Add a small delay to avoid hitting API rate limits\n",
    "    time.sleep(1)\n",
    "\n",
    "# Add station points\n",
    "stations = pd.concat([\n",
    "    df_2024[['start_station_name', 'start_lat', 'start_lng']].rename(\n",
    "        columns={'start_station_name': 'station_name', 'start_lat': 'lat', 'start_lng': 'lng'}\n",
    "    ),\n",
    "    df_2024[['end_station_name', 'end_lat', 'end_lng']].rename(\n",
    "        columns={'end_station_name': 'station_name', 'end_lat': 'lat', 'end_lng': 'lng'}\n",
    "    )\n",
    "]).drop_duplicates()\n",
    "\n",
    "# Add a color scale reference\n",
    "fig.add_trace(go.Scattermapbox(\n",
    "    lat=[None],\n",
    "    lon=[None],\n",
    "    mode='markers',\n",
    "    marker=dict(\n",
    "        size=0,\n",
    "        colorscale=[\n",
    "            [0, 'rgba(50, 50, 255, 0.6)'],    # Blue\n",
    "            [0.3, 'rgba(155, 50, 255, 0.7)'],  # Purple\n",
    "            [0.7, 'rgba(255, 50, 50, 0.8)']    # Red\n",
    "        ],\n",
    "        colorbar=dict(\n",
    "            title='Number of Rides',\n",
    "            titleside='right',\n",
    "            x=0.98,\n",
    "            y=0.5,\n",
    "            thickness=20,\n",
    "            len=0.5,\n",
    "            tickformat=',d',\n",
    "            tickvals=[0, 0.5, 1],\n",
    "            ticktext=[f\"{int(top_routes['rides'].min()):,}\", \n",
    "                     f\"{int((top_routes['rides'].min() + top_routes['rides'].max())/2):,}\", \n",
    "                     f\"{int(top_routes['rides'].max()):,}\"]\n",
    "        )\n",
    "    ),\n",
    "    showlegend=False\n",
    "))\n",
    "\n",
    "# Add station markers\n",
    "fig.add_trace(go.Scattermapbox(\n",
    "    lat=stations['lat'],\n",
    "    lon=stations['lng'],\n",
    "    mode='markers',\n",
    "    marker=dict(\n",
    "        size=3,  # Reduced size for better visibility with more routes\n",
    "        color='white',\n",
    "        opacity=0.6\n",
    "    ),\n",
    "    showlegend=False,\n",
    "    hoverinfo='none'\n",
    "))\n",
    "\n",
    "# Update layout\n",
    "fig.update_layout(\n",
    "    mapbox_style=\"carto-darkmatter\",\n",
    "    mapbox=dict(\n",
    "        center=dict(lat=40.7505, lon=-73.9934),\n",
    "        zoom=11.5\n",
    "    ),\n",
    "    margin={\"r\":0,\"t\":50,\"l\":0,\"b\":0},\n",
    "    title={\n",
    "        'text': \"Top 1000 Most Popular Citibike Routes (2024)<br>\" +\n",
    "               \"<sup>Red = Most Popular → Purple → Blue = Less Popular</sup>\",\n",
    "        'y':0.98,\n",
    "        'x':0.5,\n",
    "        'xanchor': 'center',\n",
    "        'yanchor': 'top',\n",
    "        'font': dict(color='white', size=16)\n",
    "    },\n",
    "    paper_bgcolor='#1a1f35',\n",
    "    plot_bgcolor='#1a1f35'\n",
    ")\n",
    "\n",
    "# Save the map\n",
    "fig.write_html(\"site/charts/top_routes_map.html\")\n",
    "\n",
    "# Print some statistics\n",
    "print(f\"Most popular route: {top_routes.iloc[0]['start_station_name']} → {top_routes.iloc[0]['end_station_name']}\")\n",
    "print(f\"Number of rides on most popular route: {top_routes.iloc[0]['rides']:,}\")\n",
    "print(f\"Minimum rides shown: {top_routes.iloc[-1]['rides']:,}\")"
   ]
  },
  {
   "cell_type": "code",
   "execution_count": null,
   "id": "c49b091c-0610-410c-96ca-2e9287908a26",
   "metadata": {},
   "outputs": [],
   "source": []
  },
  {
   "cell_type": "code",
   "execution_count": null,
   "id": "271b3ea2-0a9e-4418-8a4d-f93d7eff94e6",
   "metadata": {},
   "outputs": [],
   "source": []
  },
  {
   "cell_type": "code",
   "execution_count": null,
   "id": "90b71a9a-8d84-4f07-9123-c5056ca5c975",
   "metadata": {},
   "outputs": [],
   "source": []
  },
  {
   "cell_type": "code",
   "execution_count": null,
   "id": "48698055-a658-4f84-b115-e4286b1521bc",
   "metadata": {},
   "outputs": [],
   "source": []
  },
  {
   "cell_type": "code",
   "execution_count": null,
   "id": "00ecaa8c-2349-4984-96c3-423efd1693ce",
   "metadata": {},
   "outputs": [],
   "source": []
  }
 ],
 "metadata": {
  "kernelspec": {
   "display_name": "Python 3 (ipykernel)",
   "language": "python",
   "name": "python3"
  },
  "language_info": {
   "codemirror_mode": {
    "name": "ipython",
    "version": 3
   },
   "file_extension": ".py",
   "mimetype": "text/x-python",
   "name": "python",
   "nbconvert_exporter": "python",
   "pygments_lexer": "ipython3",
   "version": "3.12.7"
  }
 },
 "nbformat": 4,
 "nbformat_minor": 5
}
