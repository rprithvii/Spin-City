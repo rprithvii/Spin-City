{
 "cells": [
  {
   "cell_type": "code",
   "execution_count": 1,
   "id": "13981ee6-aa8b-4aa8-8a6b-a98430d5d67b",
   "metadata": {},
   "outputs": [],
   "source": [
    "%reset -f"
   ]
  },
  {
   "cell_type": "code",
   "execution_count": 2,
   "id": "f3cf6294-8177-4add-87cd-88c5dca8abdc",
   "metadata": {},
   "outputs": [],
   "source": [
    "import pandas as pd\n",
    "import numpy as np\n",
    "import os\n",
    "import sys"
   ]
  },
  {
   "cell_type": "code",
   "execution_count": 3,
   "id": "3efea2bb-5ceb-4cfa-a422-7f4c969dc2cb",
   "metadata": {},
   "outputs": [],
   "source": [
    "# Set display options\n",
    "pd.set_option('display.max_columns', None)\n",
    "pd.set_option('display.max_rows', None)\n",
    "pd.set_option('display.width', None)\n",
    "pd.set_option('display.max_colwidth', None)"
   ]
  },
  {
   "cell_type": "code",
   "execution_count": 4,
   "id": "0dc8e220-1128-414f-8d72-4adeef080722",
   "metadata": {},
   "outputs": [
    {
     "data": {
      "text/plain": [
       "'C:\\\\Users\\\\rajpprit\\\\Documents\\\\UK I&I\\\\Trainings\\\\Vizcon 2025\\\\New York city bike data\\\\notebooks'"
      ]
     },
     "execution_count": 4,
     "metadata": {},
     "output_type": "execute_result"
    }
   ],
   "source": [
    "os.getcwd()"
   ]
  },
  {
   "cell_type": "code",
   "execution_count": 5,
   "id": "28a15de4-46e5-47f3-a401-893bd000c8b1",
   "metadata": {},
   "outputs": [],
   "source": [
    "os.chdir(\"..\")"
   ]
  },
  {
   "cell_type": "code",
   "execution_count": 6,
   "id": "a524f5e3-3bae-48e2-acce-69794c393286",
   "metadata": {},
   "outputs": [
    {
     "data": {
      "text/plain": [
       "'C:\\\\Users\\\\rajpprit\\\\Documents\\\\UK I&I\\\\Trainings\\\\Vizcon 2025\\\\New York city bike data'"
      ]
     },
     "execution_count": 6,
     "metadata": {},
     "output_type": "execute_result"
    }
   ],
   "source": [
    "os.getcwd()"
   ]
  },
  {
   "cell_type": "code",
   "execution_count": 7,
   "id": "86fdd5dd-68ba-48a7-ae51-3ffb677f2c5d",
   "metadata": {},
   "outputs": [
    {
     "data": {
      "text/plain": [
       "['.virtual_documents',\n",
       " 'Community',\n",
       " 'data_processed',\n",
       " 'data_raw',\n",
       " 'desktop.ini',\n",
       " 'notebooks',\n",
       " 'site']"
      ]
     },
     "execution_count": 7,
     "metadata": {},
     "output_type": "execute_result"
    }
   ],
   "source": [
    "os.listdir()"
   ]
  },
  {
   "cell_type": "code",
   "execution_count": null,
   "id": "71615240-e848-410d-931c-76ea8b1e31a2",
   "metadata": {},
   "outputs": [],
   "source": []
  },
  {
   "cell_type": "code",
   "execution_count": null,
   "id": "f977d841-7ca0-463c-bb90-eb782b0a977b",
   "metadata": {},
   "outputs": [],
   "source": []
  },
  {
   "cell_type": "code",
   "execution_count": null,
   "id": "01089162-bf81-4214-bc9f-666065a7fbc4",
   "metadata": {},
   "outputs": [],
   "source": []
  },
  {
   "cell_type": "code",
   "execution_count": null,
   "id": "6fb4b69f-c145-4503-9561-3092b750dcf8",
   "metadata": {},
   "outputs": [],
   "source": []
  },
  {
   "cell_type": "code",
   "execution_count": 8,
   "id": "e745f7d1-48ae-4eba-9c46-3f918d32b06f",
   "metadata": {},
   "outputs": [
    {
     "data": {
      "text/plain": [
       "'C:\\\\Users\\\\rajpprit\\\\Documents\\\\UK I&I\\\\Trainings\\\\Vizcon 2025\\\\New York city bike data'"
      ]
     },
     "execution_count": 8,
     "metadata": {},
     "output_type": "execute_result"
    }
   ],
   "source": [
    "os.getcwd()"
   ]
  },
  {
   "cell_type": "code",
   "execution_count": null,
   "id": "3b438a8d-2b3a-4db6-b557-e06c90b89c9b",
   "metadata": {},
   "outputs": [],
   "source": []
  },
  {
   "cell_type": "code",
   "execution_count": 9,
   "id": "0df990e7-5854-4ee3-b887-dc6fe008212c",
   "metadata": {},
   "outputs": [],
   "source": [
    "# -----------------------------\n",
    "# 2. Sample Data Preparation\n",
    "# -----------------------------\n",
    "os.chdir(\"C:\\\\Users\\\\rajpprit\\\\Documents\\\\UK I&I\\\\Trainings\\\\Vizcon 2025\\\\New York city bike data\\\\data_processed\\\\Pickel files\")\n",
    "df_2021 = pd.read_pickle(\"df_2021.pkl\")\n",
    "df_2024 = pd.read_pickle(\"df_2024.pkl\")"
   ]
  },
  {
   "cell_type": "code",
   "execution_count": null,
   "id": "2ee421ef-ded5-4b5a-80aa-8fa3a5698728",
   "metadata": {},
   "outputs": [],
   "source": []
  },
  {
   "cell_type": "code",
   "execution_count": 10,
   "id": "821ef571-d9d1-4f32-a182-ba0c8580762e",
   "metadata": {},
   "outputs": [],
   "source": [
    "os.chdir(\"C:\\\\Users\\\\rajpprit\\\\Documents\\\\UK I&I\\\\Trainings\\\\Vizcon 2025\\\\New York city bike data\")"
   ]
  },
  {
   "cell_type": "code",
   "execution_count": 11,
   "id": "2383c1e5-08b3-4358-be61-051cc3452383",
   "metadata": {},
   "outputs": [
    {
     "data": {
      "text/plain": [
       "'C:\\\\Users\\\\rajpprit\\\\Documents\\\\UK I&I\\\\Trainings\\\\Vizcon 2025\\\\New York city bike data'"
      ]
     },
     "execution_count": 11,
     "metadata": {},
     "output_type": "execute_result"
    }
   ],
   "source": [
    "os.getcwd()"
   ]
  },
  {
   "cell_type": "code",
   "execution_count": null,
   "id": "286f4f7e-0e66-4db0-9453-3583b0b8e8d7",
   "metadata": {},
   "outputs": [],
   "source": []
  },
  {
   "cell_type": "markdown",
   "id": "78371ab2-e840-4dbe-afe5-048c038fdc14",
   "metadata": {},
   "source": [
    "#### Data import"
   ]
  },
  {
   "cell_type": "code",
   "execution_count": 12,
   "id": "979a88f7-c396-45f6-a99e-131aa994a971",
   "metadata": {},
   "outputs": [],
   "source": [
    "import pandas as pd\n",
    "import plotly.express as px\n",
    "import plotly.graph_objects as go\n",
    "from plotly.subplots import make_subplots\n",
    "import numpy as np\n",
    "from datetime import datetime"
   ]
  },
  {
   "cell_type": "code",
   "execution_count": null,
   "id": "2526ef7d-fb9b-490f-bc6b-5bf80b1b7f1c",
   "metadata": {},
   "outputs": [],
   "source": []
  },
  {
   "cell_type": "code",
   "execution_count": null,
   "id": "029beb33-f25f-466b-ae74-7aa4d29b76fc",
   "metadata": {},
   "outputs": [],
   "source": []
  },
  {
   "cell_type": "code",
   "execution_count": null,
   "id": "0b4f87cf-e192-4bc4-bdf3-b34925834a8f",
   "metadata": {},
   "outputs": [],
   "source": []
  },
  {
   "cell_type": "markdown",
   "id": "ab6450fa-8554-40fc-99f7-62a0c24387f5",
   "metadata": {},
   "source": [
    "#### Delta on map - Option1"
   ]
  },
  {
   "cell_type": "code",
   "execution_count": 13,
   "id": "7201d226-64a8-4fb1-ac1b-153c36ff33c1",
   "metadata": {},
   "outputs": [
    {
     "name": "stdout",
     "output_type": "stream",
     "text": [
      "Total stations analyzed: 2471\n",
      "Stations with increased usage: 2162\n",
      "Stations with decreased usage: 306\n",
      "Maximum increase: 232,655\n",
      "Maximum decrease: -190,120\n"
     ]
    }
   ],
   "source": [
    "import plotly.graph_objects as go\n",
    "import pandas as pd\n",
    "import numpy as np\n",
    "\n",
    "def calculate_station_changes(df_2021, df_2024):\n",
    "    # Function to combine start and end counts for a year\n",
    "    def get_station_counts(df_year):\n",
    "        start_counts = df_year.groupby('start_station_name').agg({\n",
    "            'start_lat': 'first',\n",
    "            'start_lng': 'first',\n",
    "            'ride_id': 'count'\n",
    "        }).rename(columns={'start_lat': 'lat', 'start_lng': 'lng', 'ride_id': 'count'})\n",
    "        \n",
    "        end_counts = df_year.groupby('end_station_name').agg({\n",
    "            'end_lat': 'first',\n",
    "            'end_lng': 'first',\n",
    "            'ride_id': 'count'\n",
    "        }).rename(columns={'end_lat': 'lat', 'end_lng': 'lng', 'ride_id': 'count'})\n",
    "        \n",
    "        combined = pd.concat([start_counts, end_counts]).groupby(level=0).agg({\n",
    "            'lat': 'first',\n",
    "            'lng': 'first',\n",
    "            'count': 'sum'\n",
    "        })\n",
    "        \n",
    "        return combined\n",
    "    \n",
    "    counts_2021 = get_station_counts(df_2021)\n",
    "    counts_2024 = get_station_counts(df_2024)\n",
    "    \n",
    "    # Calculate changes\n",
    "    stations = pd.merge(\n",
    "        counts_2021, \n",
    "        counts_2024, \n",
    "        left_index=True, \n",
    "        right_index=True, \n",
    "        suffixes=('_2021', '_2024'),\n",
    "        how='outer'\n",
    "    ).fillna(0)\n",
    "    \n",
    "    stations['change'] = stations['count_2024'] - stations['count_2021']\n",
    "    stations['pct_change'] = (stations['change'] / stations['count_2021']) * 100\n",
    "    \n",
    "    return stations\n",
    "\n",
    "# Calculate changes using the two separate datasets\n",
    "stations = calculate_station_changes(df_2021, df_2024)\n",
    "\n",
    "\n"
   ]
  },
  {
   "cell_type": "code",
   "execution_count": null,
   "id": "8ec50793-cdbd-4838-8d9d-645d7d7d4464",
   "metadata": {},
   "outputs": [],
   "source": []
  },
  {
   "cell_type": "code",
   "execution_count": 14,
   "id": "ec3c3c60-b0b7-4a54-a558-5564f81da194",
   "metadata": {},
   "outputs": [
    {
     "name": "stdout",
     "output_type": "stream",
     "text": [
      "Total stations analyzed: 2471\n",
      "Stations with increased usage: 2162\n",
      "Stations with decreased usage: 306\n",
      "Maximum increase: 232,655\n",
      "Maximum decrease: -190,120\n"
     ]
    }
   ],
   "source": [
    "# Create figure\n",
    "fig = go.Figure()\n",
    "\n",
    "# Add base map layer with station dots\n",
    "fig.add_trace(go.Scattermapbox(\n",
    "    lat=stations['lat_2021'],\n",
    "    lon=stations['lng_2021'],\n",
    "    mode='markers',\n",
    "    marker=dict(\n",
    "        size=4,\n",
    "        color='white',\n",
    "        opacity=0.8\n",
    "    ),\n",
    "    showlegend=False,\n",
    "    hoverinfo='none'\n",
    "))\n",
    "\n",
    "# Add change visualization layer\n",
    "def get_color(change):\n",
    "    if change > 0:\n",
    "        return f'rgba(0, 255, 0, 0.6)'  # Brighter green for positive\n",
    "    return f'rgba(255, 0, 0, 0.6)'  # Brighter red for negative\n",
    "\n",
    "# Calculate size scaling factor\n",
    "max_change = stations['change'].abs().max()\n",
    "size_scale = 30  # Adjust this value to make circles larger or smaller\n",
    "\n",
    "fig.add_trace(go.Scattermapbox(\n",
    "    lat=stations['lat_2021'],\n",
    "    lon=stations['lng_2021'],\n",
    "    mode='markers',\n",
    "    marker=dict(\n",
    "        size=stations['change'].abs().apply(lambda x: np.sqrt(abs(x)/max_change) * size_scale),\n",
    "        color=[get_color(c) for c in stations['change']],\n",
    "        opacity=0.6\n",
    "    ),\n",
    "    text=stations.apply(\n",
    "        lambda x: f\"Station: {x.name}<br>\" +\n",
    "                 f\"2021 Rides: {int(x['count_2021']):,}<br>\" +\n",
    "                 f\"2024 Rides: {int(x['count_2024']):,}<br>\" +\n",
    "                 f\"Change: {int(x['change']):,} ({x['pct_change']:.1f}%)\",\n",
    "        axis=1\n",
    "    ),\n",
    "    hovertemplate=\"%{text}<extra></extra>\"\n",
    "))\n",
    "\n",
    "# Update layout\n",
    "fig.update_layout(\n",
    "    mapbox_style=\"carto-darkmatter\",\n",
    "    mapbox=dict(\n",
    "        center=dict(lat=40.7505, lon=-73.9934),  # Manhattan center\n",
    "        zoom=11.5\n",
    "    ),\n",
    "    margin={\"r\":0,\"t\":50,\"l\":0,\"b\":0},\n",
    "    title={\n",
    "        'text': \"Change in Citibike Station Usage (2021 vs 2024)<br>\" +\n",
    "               \"<sup>Circle size = magnitude of change | Green = increase, Red = decrease</sup>\",\n",
    "        'y':0.98,\n",
    "        'x':0.5,\n",
    "        'xanchor': 'center',\n",
    "        'yanchor': 'top',\n",
    "        'font': dict(color='white')\n",
    "    },\n",
    "    paper_bgcolor='#1a1f35',\n",
    "    plot_bgcolor='#1a1f35'\n",
    ")\n",
    "\n",
    "# Save the map\n",
    "fig.write_html(\"site/charts/station_changes_map.html\")\n",
    "\n",
    "print(f\"Total stations analyzed: {len(stations)}\")\n",
    "print(f\"Stations with increased usage: {(stations['change'] > 0).sum()}\")\n",
    "print(f\"Stations with decreased usage: {(stations['change'] < 0).sum()}\")\n",
    "print(f\"Maximum increase: {stations['change'].max():,.0f}\")\n",
    "print(f\"Maximum decrease: {stations['change'].min():,.0f}\")"
   ]
  },
  {
   "cell_type": "code",
   "execution_count": null,
   "id": "ff8221c7-682d-4fa8-b53d-4191c8610230",
   "metadata": {},
   "outputs": [],
   "source": []
  },
  {
   "cell_type": "markdown",
   "id": "5586dd88-924a-4b45-8cd7-384236262d0d",
   "metadata": {},
   "source": [
    "#### Delta on map - Option 2"
   ]
  },
  {
   "cell_type": "code",
   "execution_count": 16,
   "id": "1f4ed498-91ae-4e5e-af8b-cb6238b1fa4f",
   "metadata": {},
   "outputs": [],
   "source": [
    "import plotly.graph_objects as go\n",
    "import pandas as pd\n",
    "import numpy as np\n",
    "\n",
    "def calculate_station_changes(df_2021, df_2024):\n",
    "    def get_station_counts(df_year):\n",
    "        start_counts = df_year.groupby('start_station_name').agg({\n",
    "            'start_lat': 'first',\n",
    "            'start_lng': 'first',\n",
    "            'ride_id': 'count'\n",
    "        }).rename(columns={'start_lat': 'lat', 'start_lng': 'lng', 'ride_id': 'count'})\n",
    "        \n",
    "        end_counts = df_year.groupby('end_station_name').agg({\n",
    "            'end_lat': 'first',\n",
    "            'end_lng': 'first',\n",
    "            'ride_id': 'count'\n",
    "        }).rename(columns={'end_lat': 'lat', 'end_lng': 'lng', 'ride_id': 'count'})\n",
    "        \n",
    "        combined = pd.concat([start_counts, end_counts]).groupby(level=0).agg({\n",
    "            'lat': 'first',\n",
    "            'lng': 'first',\n",
    "            'count': 'sum'\n",
    "        })\n",
    "        \n",
    "        return combined\n",
    "    \n",
    "    counts_2021 = get_station_counts(df_2021)\n",
    "    counts_2024 = get_station_counts(df_2024)\n",
    "    \n",
    "    stations = pd.merge(\n",
    "        counts_2021, \n",
    "        counts_2024, \n",
    "        left_index=True, \n",
    "        right_index=True, \n",
    "        suffixes=('_2021', '_2024'),\n",
    "        how='outer'\n",
    "    ).fillna(0)\n",
    "    \n",
    "    stations['total_rides'] = stations['count_2021'] + stations['count_2024']\n",
    "    stations['pct_change'] = ((stations['count_2024'] - stations['count_2021']) / stations['count_2021'] * 100)\n",
    "    \n",
    "    return stations\n",
    "\n",
    "# Calculate changes\n",
    "stations = calculate_station_changes(df_2021, df_2024)\n",
    "\n",
    "\n"
   ]
  },
  {
   "cell_type": "code",
   "execution_count": null,
   "id": "ec783f8a-7b8d-461d-ba72-1cf1994f6e4f",
   "metadata": {},
   "outputs": [],
   "source": []
  },
  {
   "cell_type": "code",
   "execution_count": 17,
   "id": "63aac2b0-b880-4e96-b5be-6adecc559e0e",
   "metadata": {},
   "outputs": [
    {
     "name": "stdout",
     "output_type": "stream",
     "text": [
      "Total stations analyzed: 2471\n",
      "Stations with increased usage: 2162\n",
      "Stations with decreased usage: 306\n",
      "Maximum % increase: inf%\n",
      "Maximum % decrease: -100.0%\n",
      "Median % change: 100.0%\n"
     ]
    }
   ],
   "source": [
    "# Create figure\n",
    "fig = go.Figure()\n",
    "\n",
    "# Add base map layer with station dots\n",
    "fig.add_trace(go.Scattermapbox(\n",
    "    lat=stations['lat_2021'],\n",
    "    lon=stations['lng_2021'],\n",
    "    mode='markers',\n",
    "    marker=dict(\n",
    "        size=3,\n",
    "        color='white',\n",
    "        opacity=0.6\n",
    "    ),\n",
    "    showlegend=False,\n",
    "    hoverinfo='none'\n",
    "))\n",
    "\n",
    "# Color function using a more subtle palette\n",
    "def get_color(pct_change):\n",
    "    if pct_change > 0:\n",
    "        # Subtle blue gradient for positive change\n",
    "        intensity = min(abs(pct_change) / 100, 1)\n",
    "        return f'rgba(99, 171, 255, {intensity * 0.7})'  # Uber-style blue\n",
    "    else:\n",
    "        # Subtle coral/orange gradient for negative change\n",
    "        intensity = min(abs(pct_change) / 100, 1)\n",
    "        return f'rgba(255, 126, 103, {intensity * 0.7})'  # Warm coral\n",
    "\n",
    "# Calculate size scaling factor based on total rides\n",
    "max_total_rides = stations['total_rides'].max()\n",
    "size_scale = 40  # Adjust this value to make circles larger or smaller\n",
    "\n",
    "fig.add_trace(go.Scattermapbox(\n",
    "    lat=stations['lat_2021'],\n",
    "    lon=stations['lng_2021'],\n",
    "    mode='markers',\n",
    "    marker=dict(\n",
    "        size=stations['total_rides'].apply(lambda x: np.sqrt(x/max_total_rides) * size_scale),\n",
    "        color=[get_color(c) for c in stations['pct_change']],\n",
    "        opacity=0.7\n",
    "    ),\n",
    "    text=stations.apply(\n",
    "        lambda x: f\"Station: {x.name}<br>\" +\n",
    "                 f\"2021 Rides: {int(x['count_2021']):,}<br>\" +\n",
    "                 f\"2024 Rides: {int(x['count_2024']):,}<br>\" +\n",
    "                 f\"Total Rides: {int(x['total_rides']):,}<br>\" +\n",
    "                 f\"Change: {x['pct_change']:.1f}%\",\n",
    "        axis=1\n",
    "    ),\n",
    "    hovertemplate=\"%{text}<extra></extra>\"\n",
    "))\n",
    "\n",
    "# Update layout\n",
    "fig.update_layout(\n",
    "    mapbox_style=\"carto-darkmatter\",\n",
    "    mapbox=dict(\n",
    "        center=dict(lat=40.7505, lon=-73.9934),  # Manhattan center\n",
    "        zoom=11.5\n",
    "    ),\n",
    "    margin={\"r\":0,\"t\":50,\"l\":0,\"b\":0},\n",
    "    title={\n",
    "        'text': \"Citibike Station Usage Changes (2021 vs 2024)<br>\" +\n",
    "               \"<sup>Circle size = total rides | Color intensity = % change (Blue +ve, Coral -ve)</sup>\",\n",
    "        'y':0.98,\n",
    "        'x':0.5,\n",
    "        'xanchor': 'center',\n",
    "        'yanchor': 'top',\n",
    "        'font': dict(color='white', size=16)\n",
    "    },\n",
    "    paper_bgcolor='#1a1f35',\n",
    "    plot_bgcolor='#1a1f35'\n",
    ")\n",
    "\n",
    "# Save the map\n",
    "fig.write_html(\"site/charts/station_changes_map1.html\")\n",
    "\n",
    "# Print summary statistics\n",
    "print(f\"Total stations analyzed: {len(stations)}\")\n",
    "print(f\"Stations with increased usage: {(stations['pct_change'] > 0).sum()}\")\n",
    "print(f\"Stations with decreased usage: {(stations['pct_change'] < 0).sum()}\")\n",
    "print(f\"Maximum % increase: {stations['pct_change'].max():.1f}%\")\n",
    "print(f\"Maximum % decrease: {stations['pct_change'].min():.1f}%\")\n",
    "print(f\"Median % change: {stations['pct_change'].median():.1f}%\")"
   ]
  },
  {
   "cell_type": "code",
   "execution_count": null,
   "id": "08a57dc2-ea2e-43a5-ab31-acafbbba67b7",
   "metadata": {},
   "outputs": [],
   "source": []
  },
  {
   "cell_type": "markdown",
   "id": "80b5c8a7-1829-4423-a09c-a977c046ef71",
   "metadata": {},
   "source": [
    "#### Station changes - option 3"
   ]
  },
  {
   "cell_type": "code",
   "execution_count": 21,
   "id": "00ecaa8c-2349-4984-96c3-423efd1693ce",
   "metadata": {},
   "outputs": [],
   "source": [
    "# Update layout\n",
    "fig.update_layout(\n",
    "    mapbox_style=\"carto-darkmatter\",\n",
    "    mapbox=dict(\n",
    "        center=dict(lat=40.7505, lon=-73.9934),  # Manhattan center\n",
    "        zoom=11.5\n",
    "    ),\n",
    "    margin=dict(r=0, t=80, l=0, b=0),  # Increased top margin to 80\n",
    "    title=dict(\n",
    "        text=\"Change in Citibike Station Usage (2021 vs 2024)<br>\" +\n",
    "             \"<sup>Circle size = magnitude of change | Green = increase, Red = decrease</sup>\",\n",
    "        y=0.95,  # Adjusted y position\n",
    "        x=0.5,\n",
    "        xanchor='center',\n",
    "        yanchor='top',\n",
    "        font=dict(\n",
    "            color='#00fff2',\n",
    "            size=24,\n",
    "            family='Arial, sans-serif'\n",
    "        ),\n",
    "        pad=dict(b=20)  # Added padding below title\n",
    "    ),\n",
    "    paper_bgcolor='rgba(0,0,0,0)',\n",
    "    plot_bgcolor='rgba(0,0,0,0)'\n",
    ")\n",
    "\n",
    "# Save the map with config options\n",
    "fig.write_html(\"site/charts/station_changes_map2.html\",\n",
    "               config={\n",
    "                   'displayModeBar': True,\n",
    "                   'modeBarButtonsToAdd': ['drawrect', 'eraseshape'],\n",
    "                   'modeBarButtonsToRemove': ['lasso2d']\n",
    "               })\n"
   ]
  },
  {
   "cell_type": "code",
   "execution_count": null,
   "id": "a43d724c-f2a2-4f41-91f7-3c8bae3e092d",
   "metadata": {},
   "outputs": [],
   "source": []
  }
 ],
 "metadata": {
  "kernelspec": {
   "display_name": "Python 3 (ipykernel)",
   "language": "python",
   "name": "python3"
  },
  "language_info": {
   "codemirror_mode": {
    "name": "ipython",
    "version": 3
   },
   "file_extension": ".py",
   "mimetype": "text/x-python",
   "name": "python",
   "nbconvert_exporter": "python",
   "pygments_lexer": "ipython3",
   "version": "3.12.7"
  }
 },
 "nbformat": 4,
 "nbformat_minor": 5
}
