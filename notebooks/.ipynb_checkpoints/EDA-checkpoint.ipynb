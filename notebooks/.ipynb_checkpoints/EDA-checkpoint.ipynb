{
 "cells": [
  {
   "cell_type": "code",
   "execution_count": 93,
   "id": "13981ee6-aa8b-4aa8-8a6b-a98430d5d67b",
   "metadata": {},
   "outputs": [],
   "source": [
    "%reset -f"
   ]
  },
  {
   "cell_type": "code",
   "execution_count": 94,
   "id": "f3cf6294-8177-4add-87cd-88c5dca8abdc",
   "metadata": {},
   "outputs": [],
   "source": [
    "import pandas as pd\n",
    "import numpy as np\n",
    "import os\n",
    "import sys"
   ]
  },
  {
   "cell_type": "code",
   "execution_count": 95,
   "id": "3efea2bb-5ceb-4cfa-a422-7f4c969dc2cb",
   "metadata": {},
   "outputs": [],
   "source": [
    "# Set display options\n",
    "pd.set_option('display.max_columns', None)\n",
    "pd.set_option('display.max_rows', None)\n",
    "pd.set_option('display.width', None)\n",
    "pd.set_option('display.max_colwidth', None)"
   ]
  },
  {
   "cell_type": "code",
   "execution_count": 96,
   "id": "0dc8e220-1128-414f-8d72-4adeef080722",
   "metadata": {},
   "outputs": [
    {
     "data": {
      "text/plain": [
       "'C:\\\\Users\\\\rajpprit\\\\Documents\\\\UK I&I\\\\Trainings\\\\Vizcon 2025\\\\New York city bike data\\\\data_raw'"
      ]
     },
     "execution_count": 96,
     "metadata": {},
     "output_type": "execute_result"
    }
   ],
   "source": [
    "os.getcwd()"
   ]
  },
  {
   "cell_type": "code",
   "execution_count": null,
   "id": "6fb4b69f-c145-4503-9561-3092b750dcf8",
   "metadata": {},
   "outputs": [],
   "source": []
  },
  {
   "cell_type": "code",
   "execution_count": 100,
   "id": "b521280b-4413-4ca3-b479-5fc70d312b72",
   "metadata": {},
   "outputs": [],
   "source": [
    "os.chdir(\"..\")"
   ]
  },
  {
   "cell_type": "code",
   "execution_count": 101,
   "id": "b4eba8fd-6bb3-4123-ad34-cb6c3b7a37aa",
   "metadata": {},
   "outputs": [
    {
     "data": {
      "text/plain": [
       "'C:\\\\Users\\\\rajpprit\\\\Documents\\\\UK I&I\\\\Trainings\\\\Vizcon 2025\\\\New York city bike data'"
      ]
     },
     "execution_count": 101,
     "metadata": {},
     "output_type": "execute_result"
    }
   ],
   "source": [
    "os.getcwd()"
   ]
  },
  {
   "cell_type": "code",
   "execution_count": 102,
   "id": "d818da06-1539-424e-979e-0933e04cd29e",
   "metadata": {},
   "outputs": [
    {
     "data": {
      "text/plain": [
       "['.virtual_documents',\n",
       " 'data_processed',\n",
       " 'data_raw',\n",
       " 'desktop.ini',\n",
       " 'notebooks',\n",
       " 'site']"
      ]
     },
     "execution_count": 102,
     "metadata": {},
     "output_type": "execute_result"
    }
   ],
   "source": [
    "os.listdir()"
   ]
  },
  {
   "cell_type": "code",
   "execution_count": 103,
   "id": "d7226bcf-5571-4407-9280-b3b74f9b007c",
   "metadata": {},
   "outputs": [],
   "source": [
    "os.chdir(\"./data_processed\")"
   ]
  },
  {
   "cell_type": "code",
   "execution_count": 104,
   "id": "abef0be6-06e7-4ad8-a2ec-8d79218b86e8",
   "metadata": {},
   "outputs": [
    {
     "data": {
      "text/plain": [
       "'C:\\\\Users\\\\rajpprit\\\\Documents\\\\UK I&I\\\\Trainings\\\\Vizcon 2025\\\\New York city bike data\\\\data_processed'"
      ]
     },
     "execution_count": 104,
     "metadata": {},
     "output_type": "execute_result"
    }
   ],
   "source": [
    "os.getcwd()"
   ]
  },
  {
   "cell_type": "code",
   "execution_count": 105,
   "id": "64c71ffa-e524-4c31-b156-abad33ae8b25",
   "metadata": {},
   "outputs": [
    {
     "data": {
      "text/plain": [
       "['Pickel files']"
      ]
     },
     "execution_count": 105,
     "metadata": {},
     "output_type": "execute_result"
    }
   ],
   "source": [
    "os.listdir()"
   ]
  },
  {
   "cell_type": "code",
   "execution_count": 107,
   "id": "3541a783-6001-41cb-8d0c-c926e09d8b3a",
   "metadata": {},
   "outputs": [],
   "source": [
    "os.chdir(\"./Pickel files\")"
   ]
  },
  {
   "cell_type": "code",
   "execution_count": 108,
   "id": "95fba394-1b0a-473d-918e-e263aa34e3ec",
   "metadata": {},
   "outputs": [
    {
     "data": {
      "text/plain": [
       "'C:\\\\Users\\\\rajpprit\\\\Documents\\\\UK I&I\\\\Trainings\\\\Vizcon 2025\\\\New York city bike data\\\\data_processed\\\\Pickel files'"
      ]
     },
     "execution_count": 108,
     "metadata": {},
     "output_type": "execute_result"
    }
   ],
   "source": [
    "os.getcwd()"
   ]
  },
  {
   "cell_type": "code",
   "execution_count": 109,
   "id": "53b6a949-0bcd-4431-b14b-fca83746a9d7",
   "metadata": {},
   "outputs": [
    {
     "name": "stdout",
     "output_type": "stream",
     "text": [
      "Processing df_2013.pkl ...\n",
      "✅ df_2013.pkl: 0 duplicates removed (5614888 rows kept)\n",
      "Processing df_2014.pkl ...\n",
      "✅ df_2014.pkl: 0 duplicates removed (8081216 rows kept)\n",
      "Processing df_2015.pkl ...\n",
      "✅ df_2015.pkl: 0 duplicates removed (9937968 rows kept)\n",
      "Processing df_2016.pkl ...\n",
      "✅ df_2016.pkl: 0 duplicates removed (10262649 rows kept)\n",
      "Processing df_2017.pkl ...\n",
      "✅ df_2017.pkl: 0 duplicates removed (14118669 rows kept)\n",
      "Processing df_2018.pkl ...\n",
      "✅ df_2018.pkl: 0 duplicates removed (17548339 rows kept)\n",
      "Processing df_2019.pkl ...\n",
      "✅ df_2019.pkl: 0 duplicates removed (20551697 rows kept)\n",
      "Processing df_2020.pkl ...\n",
      "✅ df_2020.pkl: 0 duplicates removed (19562314 rows kept)\n",
      "Processing df_2021.pkl ...\n",
      "✅ df_2021.pkl: 0 duplicates removed (27130122 rows kept)\n",
      "Processing df_2022.pkl ...\n",
      "✅ df_2022.pkl: 0 duplicates removed (29838806 rows kept)\n",
      "Processing df_2023.pkl ...\n",
      "✅ df_2023.pkl: 0 duplicates removed (35106986 rows kept)\n",
      "Processing df_2024.pkl ...\n",
      "✅ df_2024.pkl: 0 duplicates removed (44303209 rows kept)\n",
      "Processing df_2025.pkl ...\n",
      "✅ df_2025.pkl: 0 duplicates removed (25121550 rows kept)\n",
      "Processing JC_df_2015.pkl ...\n",
      "✅ JC_df_2015.pkl: 0 duplicates removed (52883 rows kept)\n",
      "Processing JC_df_2016.pkl ...\n",
      "✅ JC_df_2016.pkl: 0 duplicates removed (247584 rows kept)\n",
      "Processing JC_df_2017.pkl ...\n",
      "✅ JC_df_2017.pkl: 0 duplicates removed (294928 rows kept)\n",
      "Processing JC_df_2018.pkl ...\n",
      "✅ JC_df_2018.pkl: 0 duplicates removed (353892 rows kept)\n",
      "Processing JC_df_2019.pkl ...\n",
      "✅ JC_df_2019.pkl: 0 duplicates removed (404947 rows kept)\n",
      "Processing JC_df_2020.pkl ...\n",
      "✅ JC_df_2020.pkl: 0 duplicates removed (323351 rows kept)\n",
      "Processing JC_df_2021.pkl ...\n",
      "✅ JC_df_2021.pkl: 0 duplicates removed (644443 rows kept)\n",
      "Processing JC_df_2022.pkl ...\n",
      "✅ JC_df_2022.pkl: 0 duplicates removed (895485 rows kept)\n",
      "Processing JC_df_2023.pkl ...\n",
      "✅ JC_df_2023.pkl: 0 duplicates removed (988851 rows kept)\n",
      "Processing JC_df_2024.pkl ...\n",
      "✅ JC_df_2024.pkl: 0 duplicates removed (1052451 rows kept)\n",
      "Processing JC_df_2025.pkl ...\n",
      "✅ JC_df_2025.pkl: 0 duplicates removed (548789 rows kept)\n",
      "🎯 All pickle files cleaned and saved back.\n"
     ]
    }
   ],
   "source": [
    "import pandas as pd\n",
    "import glob\n",
    "import os\n",
    "\n",
    "# Your pickle directory\n",
    "pkl_folder = r\"C:\\Users\\rajpprit\\Documents\\UK I&I\\Trainings\\Vizcon 2025\\New York city bike data\\data_processed\\Pickel files\"\n",
    "\n",
    "# Loop through all pickle files\n",
    "for pkl_file in glob.glob(os.path.join(pkl_folder, \"*.pkl\")):\n",
    "    print(f\"Processing {os.path.basename(pkl_file)} ...\")\n",
    "    \n",
    "    # Load\n",
    "    df = pd.read_pickle(pkl_file)\n",
    "    \n",
    "    # Drop duplicates\n",
    "    before = df.shape[0]\n",
    "    df = df.drop_duplicates()\n",
    "    after = df.shape[0]\n",
    "    \n",
    "    # Save back (overwrite same file)\n",
    "    df.to_pickle(pkl_file)\n",
    "    \n",
    "    print(f\"✅ {os.path.basename(pkl_file)}: {before - after} duplicates removed ({after} rows kept)\")\n",
    "\n",
    "print(\"🎯 All pickle files cleaned and saved back.\")\n"
   ]
  },
  {
   "cell_type": "code",
   "execution_count": null,
   "id": "10552ffc-92f1-46b4-ad2e-438dde87f564",
   "metadata": {},
   "outputs": [],
   "source": []
  },
  {
   "cell_type": "code",
   "execution_count": 110,
   "id": "ef119a35-4ade-4e15-9c59-d327107dd425",
   "metadata": {},
   "outputs": [
    {
     "data": {
      "text/plain": [
       "'C:\\\\Users\\\\rajpprit\\\\Documents\\\\UK I&I\\\\Trainings\\\\Vizcon 2025\\\\New York city bike data\\\\data_processed\\\\Pickel files'"
      ]
     },
     "execution_count": 110,
     "metadata": {},
     "output_type": "execute_result"
    }
   ],
   "source": [
    "os.getcwd()"
   ]
  },
  {
   "cell_type": "code",
   "execution_count": null,
   "id": "e745f7d1-48ae-4eba-9c46-3f918d32b06f",
   "metadata": {},
   "outputs": [],
   "source": []
  },
  {
   "cell_type": "code",
   "execution_count": null,
   "id": "3d8eddce-5cbf-4cab-beee-35606197d83f",
   "metadata": {},
   "outputs": [],
   "source": []
  },
  {
   "cell_type": "code",
   "execution_count": null,
   "id": "42e3b4fa-97dc-405c-bab7-a22a86161cdd",
   "metadata": {},
   "outputs": [],
   "source": []
  }
 ],
 "metadata": {
  "kernelspec": {
   "display_name": "Python 3 (ipykernel)",
   "language": "python",
   "name": "python3"
  },
  "language_info": {
   "codemirror_mode": {
    "name": "ipython",
    "version": 3
   },
   "file_extension": ".py",
   "mimetype": "text/x-python",
   "name": "python",
   "nbconvert_exporter": "python",
   "pygments_lexer": "ipython3",
   "version": "3.12.7"
  }
 },
 "nbformat": 4,
 "nbformat_minor": 5
}
