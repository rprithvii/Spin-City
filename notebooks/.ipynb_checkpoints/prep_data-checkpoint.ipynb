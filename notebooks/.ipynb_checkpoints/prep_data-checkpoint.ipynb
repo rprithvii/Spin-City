{
 "cells": [
  {
   "cell_type": "code",
   "execution_count": 1,
   "id": "ab5fcc09-254c-4868-a26c-e890343e9fe7",
   "metadata": {},
   "outputs": [],
   "source": [
    "import pandas as pd\n",
    "import numpy as np\n",
    "import os\n",
    "import sys"
   ]
  },
  {
   "cell_type": "code",
   "execution_count": 2,
   "id": "2eea4124-acf2-43c1-9c1c-ab157be3f482",
   "metadata": {},
   "outputs": [
    {
     "data": {
      "text/plain": [
       "'C:\\\\Users\\\\rajpprit\\\\Documents\\\\UK I&I\\\\Trainings\\\\Vizcon 2025\\\\New York city bike data\\\\notebooks'"
      ]
     },
     "execution_count": 2,
     "metadata": {},
     "output_type": "execute_result"
    }
   ],
   "source": [
    "os.getcwd()"
   ]
  },
  {
   "cell_type": "code",
   "execution_count": 3,
   "id": "0cec32c8-d5ca-45fe-b3fa-1ca3ba5f7478",
   "metadata": {},
   "outputs": [],
   "source": [
    "os.chdir(\"..\")"
   ]
  },
  {
   "cell_type": "code",
   "execution_count": 4,
   "id": "4185ff7f-2bc4-473d-b8b9-c1d7db0bcda8",
   "metadata": {},
   "outputs": [
    {
     "data": {
      "text/plain": [
       "'C:\\\\Users\\\\rajpprit\\\\Documents\\\\UK I&I\\\\Trainings\\\\Vizcon 2025\\\\New York city bike data'"
      ]
     },
     "execution_count": 4,
     "metadata": {},
     "output_type": "execute_result"
    }
   ],
   "source": [
    "os.getcwd()"
   ]
  },
  {
   "cell_type": "code",
   "execution_count": 5,
   "id": "657a4819-b547-4558-a292-28bf217e0101",
   "metadata": {},
   "outputs": [
    {
     "data": {
      "text/plain": [
       "['.virtual_documents',\n",
       " 'data_processed',\n",
       " 'data_raw',\n",
       " 'desktop.ini',\n",
       " 'notebooks',\n",
       " 'site']"
      ]
     },
     "execution_count": 5,
     "metadata": {},
     "output_type": "execute_result"
    }
   ],
   "source": [
    "os.listdir()"
   ]
  },
  {
   "cell_type": "code",
   "execution_count": 6,
   "id": "054c0edc-a16e-49a1-b646-8a8d96469232",
   "metadata": {},
   "outputs": [],
   "source": [
    "os.chdir(\"./data_raw\")"
   ]
  },
  {
   "cell_type": "code",
   "execution_count": 7,
   "id": "5e747478-1b76-421c-a3e2-2e3a7c7a79e7",
   "metadata": {},
   "outputs": [
    {
     "data": {
      "text/plain": [
       "'C:\\\\Users\\\\rajpprit\\\\Documents\\\\UK I&I\\\\Trainings\\\\Vizcon 2025\\\\New York city bike data\\\\data_raw'"
      ]
     },
     "execution_count": 7,
     "metadata": {},
     "output_type": "execute_result"
    }
   ],
   "source": [
    "os.getcwd()"
   ]
  },
  {
   "cell_type": "code",
   "execution_count": null,
   "id": "0142f854-eb0d-4cca-b815-6bd27fe02a50",
   "metadata": {},
   "outputs": [],
   "source": []
  },
  {
   "cell_type": "code",
   "execution_count": null,
   "id": "478097a2-995e-4266-8097-6abf3974fbae",
   "metadata": {},
   "outputs": [],
   "source": []
  },
  {
   "cell_type": "code",
   "execution_count": 18,
   "id": "9def0ef6-ff7c-45f5-a8db-1c77a89b638b",
   "metadata": {},
   "outputs": [],
   "source": [
    "import zipfile\n",
    "import pandas as pd\n",
    "from io import BytesIO\n",
    "import os\n",
    "import re\n",
    "import gc\n",
    "\n",
    "def process_citibike_data(zip_filename):\n",
    "    \"\"\"\n",
    "    Process Citibike data from a zip file, combine all CSVs, drop duplicates,\n",
    "    and save as pickle file.\n",
    "    \n",
    "    Parameters:\n",
    "    zip_filename (str): Name of the zip file (should contain year in format YYYY)\n",
    "    \n",
    "    Returns:\n",
    "    str: Name of the saved pickle file\n",
    "    \"\"\"\n",
    "    def extract_all_csvs(zip_path):\n",
    "        dfs = []\n",
    "        total_size = 0\n",
    "        \n",
    "        with zipfile.ZipFile(zip_path) as z:\n",
    "            for filename in z.namelist():\n",
    "                # Skip directories and __MACOSX folders\n",
    "                if filename.endswith('/') or '__MACOSX' in filename:\n",
    "                    continue\n",
    "                    \n",
    "                _, ext = os.path.splitext(filename)\n",
    "                \n",
    "                if ext.lower() == '.csv':\n",
    "                    with z.open(filename) as f:\n",
    "                        print(f\"Reading CSV file: {filename}\")\n",
    "                        try:\n",
    "                            df = pd.read_csv(f)\n",
    "                            # Check if DataFrame is compatible\n",
    "                            if dfs and set(df.columns) != set(dfs[0].columns):\n",
    "                                print(f\"Warning: {filename} has different columns\")\n",
    "                                continue\n",
    "                            dfs.append(df)\n",
    "                            total_size += df.memory_usage(deep=True).sum() / 1e6  # Size in MB\n",
    "                            print(f\"Current memory usage: {total_size:.2f} MB\")\n",
    "                        except Exception as e:\n",
    "                            print(f\"Error reading {filename}: {e}\")\n",
    "                            \n",
    "                elif ext.lower() == '.zip':\n",
    "                    print(f\"Found nested zip file: {filename}\")\n",
    "                    with z.open(filename) as nested_zip_file:\n",
    "                        nested_zip_data = BytesIO(nested_zip_file.read())\n",
    "                        try:\n",
    "                            nested_dfs = extract_all_csvs(nested_zip_data)\n",
    "                            dfs.extend(nested_dfs)\n",
    "                        except Exception as e:\n",
    "                            print(f\"Error processing nested zip {filename}: {e}\")\n",
    "        \n",
    "        return dfs\n",
    "\n",
    "    try:\n",
    "        # Extract year from filename using regex\n",
    "        year_match = re.search(r'(\\d{4})', zip_filename)\n",
    "        if year_match:\n",
    "            year = year_match.group(1)\n",
    "        else:\n",
    "            raise ValueError(\"Could not extract year from filename\")\n",
    "        \n",
    "        # Get all DataFrames\n",
    "        print(f\"Processing {zip_filename}...\")\n",
    "        all_dfs = extract_all_csvs(zip_filename)\n",
    "        \n",
    "        # Combine them if any were found\n",
    "        if all_dfs:\n",
    "            # Combine all DataFrames\n",
    "            print(\"Combining all DataFrames...\")\n",
    "            df_combined = pd.concat(all_dfs, ignore_index=True)\n",
    "            \n",
    "            # Clear memory of individual DataFrames\n",
    "            del all_dfs\n",
    "            gc.collect()\n",
    "            \n",
    "            # Drop duplicates\n",
    "            print(\"Dropping duplicates...\")\n",
    "            df_combined = df_combined.drop_duplicates()\n",
    "            \n",
    "            # Create dynamic variable name and filename\n",
    "            df_name = f'df_{year}'\n",
    "            pickle_filename = f'{df_name}.pkl'\n",
    "            \n",
    "            # Save the DataFrame to a pickle file\n",
    "            print(f\"Saving DataFrame to {pickle_filename}...\")\n",
    "            df_combined.to_pickle(pickle_filename)\n",
    "            \n",
    "            # Print final shape\n",
    "            print(f\"Final DataFrame shape: {df_combined.shape}\")\n",
    "            \n",
    "            # Clear memory\n",
    "            del df_combined\n",
    "            gc.collect()\n",
    "            \n",
    "            print(f\"Processing complete. File saved as {pickle_filename}\")\n",
    "            return pickle_filename\n",
    "            \n",
    "        else:\n",
    "            print(\"No CSV files found\")\n",
    "            return None\n",
    "            \n",
    "    except Exception as e:\n",
    "        print(f\"Error processing main zip file: {e}\")\n",
    "        return None\n",
    "\n"
   ]
  },
  {
   "cell_type": "code",
   "execution_count": 19,
   "id": "7c360a88-1052-4692-83a2-87f7aed0e684",
   "metadata": {},
   "outputs": [
    {
     "name": "stdout",
     "output_type": "stream",
     "text": [
      "Processing 2013-citibike-tripdata.zip...\n",
      "Reading CSV file: 2013-citibike-tripdata/201309-citibike-tripdata.csv\n",
      "Current memory usage: 470.81 MB\n",
      "Reading CSV file: 2013-citibike-tripdata/201311-citibike-tripdata.csv\n",
      "Current memory usage: 778.36 MB\n",
      "Reading CSV file: 2013-citibike-tripdata/201307-citibike-tripdata.csv\n",
      "Current memory usage: 1162.11 MB\n",
      "Reading CSV file: 2013-citibike-tripdata/201308-citibike-tripdata.csv\n",
      "Current memory usage: 1618.10 MB\n",
      "Reading CSV file: 2013-citibike-tripdata/201306-citibike-tripdata.csv\n",
      "Current memory usage: 1854.64 MB\n",
      "Reading CSV file: 2013-citibike-tripdata/201310-citibike-tripdata.csv\n",
      "Current memory usage: 2327.06 MB\n",
      "Reading CSV file: 2013-citibike-tripdata/201312-citibike-tripdata.csv\n",
      "Current memory usage: 2529.08 MB\n",
      "Reading CSV file: 2013-citibike-tripdata/12_December/201312-citibike-tripdata_1.csv\n",
      "Current memory usage: 2731.10 MB\n",
      "Reading CSV file: 2013-citibike-tripdata/11_November/201311-citibike-tripdata_1.csv\n",
      "Current memory usage: 3038.65 MB\n",
      "Reading CSV file: 2013-citibike-tripdata/7_July/201307-citibike-tripdata_1.csv\n",
      "Current memory usage: 3422.40 MB\n",
      "Reading CSV file: 2013-citibike-tripdata/10_October/201310-citibike-tripdata_2.csv\n",
      "Current memory usage: 3439.57 MB\n",
      "Reading CSV file: 2013-citibike-tripdata/10_October/201310-citibike-tripdata_1.csv\n",
      "Current memory usage: 3894.82 MB\n",
      "Reading CSV file: 2013-citibike-tripdata/9_September/201309-citibike-tripdata_2.csv\n",
      "Current memory usage: 3910.47 MB\n",
      "Reading CSV file: 2013-citibike-tripdata/9_September/201309-citibike-tripdata_1.csv\n",
      "Current memory usage: 4365.63 MB\n",
      "Reading CSV file: 2013-citibike-tripdata/8_August/201308-citibike-tripdata_1.csv\n",
      "Current memory usage: 4820.74 MB\n",
      "Reading CSV file: 2013-citibike-tripdata/8_August/201308-citibike-tripdata_2.csv\n",
      "Current memory usage: 4821.63 MB\n",
      "Reading CSV file: 2013-citibike-tripdata/6_June/201306-citibike-tripdata_1.csv\n",
      "Current memory usage: 5058.17 MB\n",
      "Combining all DataFrames...\n",
      "Dropping duplicates...\n",
      "Saving DataFrame to df_2013.pkl...\n",
      "Final DataFrame shape: (5614888, 15)\n",
      "Processing complete. File saved as df_2013.pkl\n"
     ]
    }
   ],
   "source": [
    "# Example usage:\n",
    "if __name__ == \"__main__\":\n",
    "    # Process single file\n",
    "    pickle_file = process_citibike_data('2013-citibike-tripdata.zip')"
   ]
  },
  {
   "cell_type": "markdown",
   "id": "eeaefdfe-30b0-4f90-80f9-eab5503ab5f7",
   "metadata": {},
   "source": [
    "#### Saving all files from 2024 to 2023"
   ]
  },
  {
   "cell_type": "code",
   "execution_count": 20,
   "id": "75ea0351-52c4-4688-818c-73f51d05162d",
   "metadata": {},
   "outputs": [],
   "source": [
    "list1 = [2014, 2015, 2016, 2017, 2018, 2019, 2020, 2021, 2022, 2023]"
   ]
  },
  {
   "cell_type": "code",
   "execution_count": null,
   "id": "1fc73ad0-e55d-4368-9ca3-83fa4267ab41",
   "metadata": {},
   "outputs": [],
   "source": []
  },
  {
   "cell_type": "code",
   "execution_count": 21,
   "id": "79da89fd-04b6-44ee-9930-7b31e907cb63",
   "metadata": {},
   "outputs": [
    {
     "name": "stdout",
     "output_type": "stream",
     "text": [
      "Processing 2014-citibike-tripdata.zip...\n",
      "Reading CSV file: 2014-citibike-tripdata/4_April/201404-citibike-tripdata_1.csv\n",
      "Current memory usage: 305.40 MB\n",
      "Reading CSV file: 2014-citibike-tripdata/12_December/201412-citibike-tripdata_1.csv\n",
      "Current memory usage: 468.93 MB\n",
      "Reading CSV file: 2014-citibike-tripdata/11_November/201411-citibike-tripdata_1.csv\n",
      "Current memory usage: 685.79 MB\n",
      "Reading CSV file: 2014-citibike-tripdata/7_July/201407-citibike-tripdata_1.csv\n",
      "Current memory usage: 1127.14 MB\n",
      "Reading CSV file: 2014-citibike-tripdata/10_October/201410-citibike-tripdata_1.csv\n",
      "Current memory usage: 1466.84 MB\n",
      "Reading CSV file: 2014-citibike-tripdata/9_September/201409-citibike-tripdata_1.csv\n",
      "Current memory usage: 1856.11 MB\n",
      "Reading CSV file: 2014-citibike-tripdata/8_August/201408-citibike-tripdata_1.csv\n",
      "Current memory usage: 2295.05 MB\n",
      "Reading CSV file: 2014-citibike-tripdata/6_June/201406-citibike-tripdata_1.csv\n",
      "Current memory usage: 2721.90 MB\n",
      "Reading CSV file: 2014-citibike-tripdata/3_March/201403-citibike-tripdata_1.csv\n",
      "Current memory usage: 2921.89 MB\n",
      "Reading CSV file: 2014-citibike-tripdata/1_January/201401-citibike-tripdata_1.csv\n",
      "Current memory usage: 3058.60 MB\n",
      "Reading CSV file: 2014-citibike-tripdata/2_February/201402-citibike-tripdata_1.csv\n",
      "Current memory usage: 3160.90 MB\n",
      "Reading CSV file: 2014-citibike-tripdata/5_May/201405-citibike-tripdata_1.csv\n",
      "Current memory usage: 3555.39 MB\n",
      "Combining all DataFrames...\n",
      "Dropping duplicates...\n",
      "Saving DataFrame to df_2014.pkl...\n",
      "Final DataFrame shape: (8081216, 15)\n",
      "Processing complete. File saved as df_2014.pkl\n",
      "Processing 2015-citibike-tripdata.zip...\n",
      "Reading CSV file: 2015-citibike-tripdata/4_April/201504-citibike-tripdata_1.csv\n",
      "Current memory usage: 266.21 MB\n",
      "Reading CSV file: 2015-citibike-tripdata/12_December/201512-citibike-tripdata_1.csv\n",
      "Current memory usage: 595.95 MB\n",
      "Reading CSV file: 2015-citibike-tripdata/11_November/201511-citibike-tripdata_1.csv\n",
      "Current memory usage: 1000.71 MB\n",
      "Reading CSV file: 2015-citibike-tripdata/7_July/201507-citibike-tripdata_1.csv\n",
      "Current memory usage: 1408.71 MB\n",
      "Reading CSV file: 2015-citibike-tripdata/7_July/201507-citibike-tripdata_2.csv\n",
      "Current memory usage: 1443.71 MB\n",
      "Reading CSV file: 2015-citibike-tripdata/10_October/201510-citibike-tripdata_2.csv\n",
      "Current memory usage: 1530.89 MB\n",
      "Reading CSV file: 2015-citibike-tripdata/10_October/201510-citibike-tripdata_1.csv\n",
      "Current memory usage: 1941.09 MB\n",
      "Reading CSV file: 2015-citibike-tripdata/9_September/201509-citibike-tripdata_2.csv\n",
      "Current memory usage: 2059.53 MB\n",
      "Reading CSV file: 2015-citibike-tripdata/9_September/201509-citibike-tripdata_1.csv\n",
      "Current memory usage: 2467.88 MB\n",
      "Reading CSV file: 2015-citibike-tripdata/8_August/201508-citibike-tripdata_1.csv\n",
      "Current memory usage: 2875.95 MB\n",
      "Reading CSV file: 2015-citibike-tripdata/8_August/201508-citibike-tripdata_2.csv\n",
      "Current memory usage: 2949.18 MB\n",
      "Reading CSV file: 2015-citibike-tripdata/6_June/201506-citibike-tripdata_1.csv\n",
      "Current memory usage: 3327.11 MB\n",
      "Reading CSV file: 2015-citibike-tripdata/3_March/201503-citibike-tripdata_1.csv\n",
      "Current memory usage: 3464.32 MB\n",
      "Reading CSV file: 2015-citibike-tripdata/1_January/201501-citibike-tripdata_1.csv\n",
      "Current memory usage: 3578.88 MB\n",
      "Reading CSV file: 2015-citibike-tripdata/2_February/201502-citibike-tripdata_1.csv\n",
      "Current memory usage: 3657.87 MB\n",
      "Reading CSV file: 2015-citibike-tripdata/5_May/201505-citibike-tripdata_1.csv\n",
      "Current memory usage: 4050.38 MB\n",
      "Combining all DataFrames...\n",
      "Dropping duplicates...\n",
      "Saving DataFrame to df_2015.pkl...\n",
      "Final DataFrame shape: (9937968, 15)\n",
      "Processing complete. File saved as df_2015.pkl\n",
      "Processing 2016-citibike-tripdata.zip...\n",
      "Reading CSV file: 2016-citibike-tripdata/4_April/201604-citibike-tripdata_1.csv\n",
      "Current memory usage: 408.52 MB\n",
      "Reading CSV file: 2016-citibike-tripdata/4_April/201604-citibike-tripdata_2.csv\n",
      "Current memory usage: 413.91 MB\n",
      "Reading CSV file: 2016-citibike-tripdata/12_December/201612-citibike-tripdata_1.csv\n",
      "Warning: 2016-citibike-tripdata/12_December/201612-citibike-tripdata_1.csv has different columns\n",
      "Reading CSV file: 2016-citibike-tripdata/11_November/201611-citibike-tripdata_2.csv\n",
      "Warning: 2016-citibike-tripdata/11_November/201611-citibike-tripdata_2.csv has different columns\n",
      "Reading CSV file: 2016-citibike-tripdata/11_November/201611-citibike-tripdata_1.csv\n",
      "Warning: 2016-citibike-tripdata/11_November/201611-citibike-tripdata_1.csv has different columns\n",
      "Reading CSV file: 2016-citibike-tripdata/7_July/201607-citibike-tripdata_2.csv\n",
      "Current memory usage: 569.41 MB\n",
      "Reading CSV file: 2016-citibike-tripdata/7_July/201607-citibike-tripdata_1.csv\n",
      "Current memory usage: 977.75 MB\n",
      "Reading CSV file: 2016-citibike-tripdata/10_October/201610-citibike-tripdata_1.csv\n",
      "Warning: 2016-citibike-tripdata/10_October/201610-citibike-tripdata_1.csv has different columns\n",
      "Reading CSV file: 2016-citibike-tripdata/10_October/201610-citibike-tripdata_2.csv\n",
      "Warning: 2016-citibike-tripdata/10_October/201610-citibike-tripdata_2.csv has different columns\n",
      "Reading CSV file: 2016-citibike-tripdata/9_September/201609-citibike-tripdata_1.csv\n",
      "Current memory usage: 1386.47 MB\n",
      "Reading CSV file: 2016-citibike-tripdata/9_September/201609-citibike-tripdata_2.csv\n",
      "Current memory usage: 1652.14 MB\n",
      "Reading CSV file: 2016-citibike-tripdata/8_August/201608-citibike-tripdata_2.csv\n",
      "Current memory usage: 1880.33 MB\n",
      "Reading CSV file: 2016-citibike-tripdata/8_August/201608-citibike-tripdata_1.csv\n",
      "Current memory usage: 2288.52 MB\n",
      "Reading CSV file: 2016-citibike-tripdata/6_June/201606-citibike-tripdata_1.csv\n",
      "Current memory usage: 2696.88 MB\n",
      "Reading CSV file: 2016-citibike-tripdata/6_June/201606-citibike-tripdata_2.csv\n",
      "Current memory usage: 2885.17 MB\n",
      "Reading CSV file: 2016-citibike-tripdata/3_March/201603-citibike-tripdata_1.csv\n",
      "Current memory usage: 3260.75 MB\n",
      "Reading CSV file: 2016-citibike-tripdata/1_January/201601-citibike-tripdata_1.csv\n",
      "Current memory usage: 3468.58 MB\n",
      "Reading CSV file: 2016-citibike-tripdata/2_February/201602-citibike-tripdata_1.csv\n",
      "Current memory usage: 3697.42 MB\n",
      "Reading CSV file: 2016-citibike-tripdata/5_May/201605-citibike-tripdata_2.csv\n",
      "Current memory usage: 3784.32 MB\n",
      "Reading CSV file: 2016-citibike-tripdata/5_May/201605-citibike-tripdata_1.csv\n",
      "Current memory usage: 4192.71 MB\n",
      "Combining all DataFrames...\n",
      "Dropping duplicates...\n",
      "Saving DataFrame to df_2016.pkl...\n",
      "Final DataFrame shape: (10262649, 15)\n",
      "Processing complete. File saved as df_2016.pkl\n",
      "Processing 2017-citibike-tripdata.zip...\n",
      "Reading CSV file: 2017-citibike-tripdata/4_April/201704-citibike-tripdata.csv_1.csv\n",
      "Current memory usage: 411.53 MB\n",
      "Reading CSV file: 2017-citibike-tripdata/4_April/201704-citibike-tripdata.csv_2.csv\n",
      "Current memory usage: 541.33 MB\n",
      "Reading CSV file: 2017-citibike-tripdata/12_December/201712-citibike-tripdata.csv_1.csv\n",
      "Current memory usage: 907.44 MB\n",
      "Reading CSV file: 2017-citibike-tripdata/11_November/201711-citibike-tripdata.csv_2.csv\n",
      "Current memory usage: 1043.50 MB\n",
      "Reading CSV file: 2017-citibike-tripdata/11_November/201711-citibike-tripdata.csv_1.csv\n",
      "Current memory usage: 1454.84 MB\n",
      "Reading CSV file: 2017-citibike-tripdata/7_July/201707-citibike-tripdata.csv_2.csv\n",
      "Current memory usage: 1757.62 MB\n",
      "Reading CSV file: 2017-citibike-tripdata/7_July/201707-citibike-tripdata.csv_1.csv\n",
      "Current memory usage: 2169.38 MB\n",
      "Reading CSV file: 2017-citibike-tripdata/10_October/201710-citibike-tripdata.csv_1.csv\n",
      "Current memory usage: 2581.02 MB\n",
      "Reading CSV file: 2017-citibike-tripdata/10_October/201710-citibike-tripdata.csv_2.csv\n",
      "Current memory usage: 2950.38 MB\n",
      "Reading CSV file: 2017-citibike-tripdata/9_September/201709-citibike-tripdata.csv_2.csv\n",
      "Current memory usage: 3311.73 MB\n",
      "Reading CSV file: 2017-citibike-tripdata/9_September/201709-citibike-tripdata.csv_1.csv\n",
      "Current memory usage: 3723.37 MB\n",
      "Reading CSV file: 2017-citibike-tripdata/8_August/201708-citibike-tripdata.csv_1.csv\n",
      "Current memory usage: 4134.98 MB\n",
      "Reading CSV file: 2017-citibike-tripdata/8_August/201708-citibike-tripdata.csv_2.csv\n",
      "Current memory usage: 4471.10 MB\n",
      "Reading CSV file: 2017-citibike-tripdata/6_June/201706-citibike-tripdata.csv_1.csv\n",
      "Current memory usage: 4882.73 MB\n",
      "Reading CSV file: 2017-citibike-tripdata/6_June/201706-citibike-tripdata.csv_2.csv\n",
      "Current memory usage: 5183.83 MB\n",
      "Reading CSV file: 2017-citibike-tripdata/3_March/201703-citibike-tripdata.csv_1.csv\n",
      "Warning: 2017-citibike-tripdata/3_March/201703-citibike-tripdata.csv_1.csv has different columns\n",
      "Reading CSV file: 2017-citibike-tripdata/1_January/201701-citibike-tripdata.csv_1.csv\n",
      "Warning: 2017-citibike-tripdata/1_January/201701-citibike-tripdata.csv_1.csv has different columns\n",
      "Reading CSV file: 2017-citibike-tripdata/2_February/201702-citibike-tripdata.csv_1.csv\n",
      "Warning: 2017-citibike-tripdata/2_February/201702-citibike-tripdata.csv_1.csv has different columns\n",
      "Reading CSV file: 2017-citibike-tripdata/5_May/201705-citibike-tripdata.csv_2.csv\n",
      "Current memory usage: 5399.24 MB\n",
      "Reading CSV file: 2017-citibike-tripdata/5_May/201705-citibike-tripdata.csv_1.csv\n",
      "Current memory usage: 5810.63 MB\n",
      "Combining all DataFrames...\n",
      "Dropping duplicates...\n",
      "Saving DataFrame to df_2017.pkl...\n",
      "Final DataFrame shape: (14118669, 15)\n",
      "Processing complete. File saved as df_2017.pkl\n",
      "Processing 2018-citibike-tripdata.zip...\n",
      "Reading CSV file: 2018-citibike-tripdata/201809-citibike-tripdata.csv\n",
      "Current memory usage: 792.53 MB\n",
      "Reading CSV file: 2018-citibike-tripdata/201801-citibike-tripdata.csv\n",
      "Current memory usage: 1095.52 MB\n",
      "Reading CSV file: 2018-citibike-tripdata/201803-citibike-tripdata.csv\n",
      "Current memory usage: 1507.27 MB\n",
      "Reading CSV file: 2018-citibike-tripdata/201805-citibike-tripdata.csv\n",
      "Current memory usage: 2277.31 MB\n",
      "Reading CSV file: 2018-citibike-tripdata/201807-citibike-tripdata.csv\n",
      "Current memory usage: 3084.99 MB\n",
      "Reading CSV file: 2018-citibike-tripdata/201811-citibike-tripdata.csv\n",
      "Current memory usage: 3616.34 MB\n",
      "Reading CSV file: 2018-citibike-tripdata/201804-citibike-tripdata_1.csv\n",
      "Current memory usage: 4037.89 MB\n",
      "Reading CSV file: 2018-citibike-tripdata/201804-citibike-tripdata_2.csv\n",
      "Current memory usage: 4168.07 MB\n",
      "Reading CSV file: 2018-citibike-tripdata/201808-citibike-tripdata.csv\n",
      "Current memory usage: 5002.41 MB\n",
      "Reading CSV file: 2018-citibike-tripdata/201802-citibike-tripdata.csv\n",
      "Current memory usage: 5357.81 MB\n",
      "Reading CSV file: 2018-citibike-tripdata/201812-citibike-tripdata.csv\n",
      "Current memory usage: 5786.34 MB\n",
      "Reading CSV file: 2018-citibike-tripdata/201804-citibike-tripdata.csv\n",
      "Current memory usage: 6338.06 MB\n",
      "Reading CSV file: 2018-citibike-tripdata/201810-citibike-tripdata.csv\n",
      "Current memory usage: 7130.61 MB\n",
      "Reading CSV file: 2018-citibike-tripdata/201806-citibike-tripdata.csv\n",
      "Current memory usage: 7955.14 MB\n",
      "Reading CSV file: 2018-citibike-tripdata/4_April/201804-citibike-tripdata_1.csv\n",
      "Current memory usage: 8376.68 MB\n",
      "Reading CSV file: 2018-citibike-tripdata/4_April/201804-citibike-tripdata_2.csv\n",
      "Current memory usage: 8506.87 MB\n",
      "Reading CSV file: 2018-citibike-tripdata/12_December/201812-citibike-tripdata_1.csv\n",
      "Current memory usage: 8928.42 MB\n",
      "Reading CSV file: 2018-citibike-tripdata/12_December/201812-citibike-tripdata_2.csv\n",
      "Current memory usage: 8935.39 MB\n",
      "Reading CSV file: 2018-citibike-tripdata/11_November/201811-citibike-tripdata_2.csv\n",
      "Current memory usage: 9045.12 MB\n",
      "Reading CSV file: 2018-citibike-tripdata/11_November/201811-citibike-tripdata_1.csv\n",
      "Current memory usage: 9466.74 MB\n",
      "Reading CSV file: 2018-citibike-tripdata/7_July/201807-citibike-tripdata_2.csv\n",
      "Current memory usage: 9853.20 MB\n",
      "Reading CSV file: 2018-citibike-tripdata/7_July/201807-citibike-tripdata_1.csv\n",
      "Current memory usage: 10274.42 MB\n",
      "Reading CSV file: 2018-citibike-tripdata/10_October/201810-citibike-tripdata_1.csv\n",
      "Current memory usage: 10696.40 MB\n",
      "Reading CSV file: 2018-citibike-tripdata/10_October/201810-citibike-tripdata_2.csv\n",
      "Current memory usage: 11066.96 MB\n",
      "Reading CSV file: 2018-citibike-tripdata/9_September/201809-citibike-tripdata_1.csv\n",
      "Current memory usage: 11489.03 MB\n",
      "Reading CSV file: 2018-citibike-tripdata/9_September/201809-citibike-tripdata_2.csv\n",
      "Current memory usage: 11859.49 MB\n",
      "Reading CSV file: 2018-citibike-tripdata/8_August/201808-citibike-tripdata_2.csv\n",
      "Current memory usage: 12271.83 MB\n",
      "Reading CSV file: 2018-citibike-tripdata/8_August/201808-citibike-tripdata_1.csv\n",
      "Current memory usage: 12693.83 MB\n",
      "Reading CSV file: 2018-citibike-tripdata/6_June/201806-citibike-tripdata_1.csv\n",
      "Current memory usage: 13115.18 MB\n",
      "Reading CSV file: 2018-citibike-tripdata/6_June/201806-citibike-tripdata_2.csv\n",
      "Current memory usage: 13518.36 MB\n",
      "Reading CSV file: 2018-citibike-tripdata/3_March/201803-citibike-tripdata_1.csv\n",
      "Current memory usage: 13930.11 MB\n",
      "Reading CSV file: 2018-citibike-tripdata/1_January/201801-citibike-tripdata_1.csv\n",
      "Current memory usage: 14233.10 MB\n",
      "Reading CSV file: 2018-citibike-tripdata/2_February/201802-citibike-tripdata_1.csv\n",
      "Current memory usage: 14588.50 MB\n",
      "Reading CSV file: 2018-citibike-tripdata/5_May/201805-citibike-tripdata_2.csv\n",
      "Current memory usage: 14937.44 MB\n",
      "Reading CSV file: 2018-citibike-tripdata/5_May/201805-citibike-tripdata_1.csv\n",
      "Current memory usage: 15358.55 MB\n",
      "Combining all DataFrames...\n",
      "Dropping duplicates...\n",
      "Saving DataFrame to df_2018.pkl...\n",
      "Final DataFrame shape: (17548339, 15)\n",
      "Processing complete. File saved as df_2018.pkl\n",
      "Processing 2019-citibike-tripdata.zip...\n",
      "Reading CSV file: 2019-citibike-tripdata/4_April/201904-citibike-tripdata_2.csv\n",
      "Current memory usage: 323.23 MB\n",
      "Reading CSV file: 2019-citibike-tripdata/4_April/201904-citibike-tripdata_1.csv\n",
      "Current memory usage: 745.13 MB\n",
      "Reading CSV file: 2019-citibike-tripdata/12_December/201912-citibike-tripdata_1.csv\n",
      "Current memory usage: 1147.85 MB\n",
      "Reading CSV file: 2019-citibike-tripdata/11_November/201911-citibike-tripdata_1.csv\n",
      "Current memory usage: 1569.40 MB\n",
      "Reading CSV file: 2019-citibike-tripdata/11_November/201911-citibike-tripdata_2.csv\n",
      "Current memory usage: 1771.19 MB\n",
      "Reading CSV file: 2019-citibike-tripdata/7_July/201907-citibike-tripdata_1.csv\n",
      "Current memory usage: 2193.44 MB\n",
      "Reading CSV file: 2019-citibike-tripdata/7_July/201907-citibike-tripdata_3.csv\n",
      "Current memory usage: 2269.84 MB\n",
      "Reading CSV file: 2019-citibike-tripdata/7_July/201907-citibike-tripdata_2.csv\n",
      "Current memory usage: 2691.89 MB\n",
      "Reading CSV file: 2019-citibike-tripdata/10_October/201910-citibike-tripdata_3.csv\n",
      "Current memory usage: 2730.92 MB\n",
      "Reading CSV file: 2019-citibike-tripdata/10_October/201910-citibike-tripdata_2.csv\n",
      "Current memory usage: 3152.57 MB\n",
      "Reading CSV file: 2019-citibike-tripdata/10_October/201910-citibike-tripdata_1.csv\n",
      "Current memory usage: 3574.36 MB\n",
      "Reading CSV file: 2019-citibike-tripdata/9_September/201909-citibike-tripdata_3.csv\n",
      "Current memory usage: 3762.07 MB\n",
      "Reading CSV file: 2019-citibike-tripdata/9_September/201909-citibike-tripdata_2.csv\n",
      "Current memory usage: 4183.97 MB\n",
      "Reading CSV file: 2019-citibike-tripdata/9_September/201909-citibike-tripdata_1.csv\n",
      "Current memory usage: 4605.87 MB\n",
      "Reading CSV file: 2019-citibike-tripdata/8_August/201908-citibike-tripdata_1.csv\n",
      "Current memory usage: 5027.98 MB\n",
      "Reading CSV file: 2019-citibike-tripdata/8_August/201908-citibike-tripdata_2.csv\n",
      "Current memory usage: 5450.02 MB\n",
      "Reading CSV file: 2019-citibike-tripdata/8_August/201908-citibike-tripdata_3.csv\n",
      "Current memory usage: 5595.23 MB\n",
      "Reading CSV file: 2019-citibike-tripdata/6_June/201906-citibike-tripdata_2.csv\n",
      "Current memory usage: 6017.52 MB\n",
      "Reading CSV file: 2019-citibike-tripdata/6_June/201906-citibike-tripdata_3.csv\n",
      "Current memory usage: 6070.53 MB\n",
      "Reading CSV file: 2019-citibike-tripdata/6_June/201906-citibike-tripdata_1.csv\n",
      "Current memory usage: 6492.83 MB\n",
      "Reading CSV file: 2019-citibike-tripdata/3_March/201903-citibike-tripdata_1.csv\n",
      "Current memory usage: 6914.62 MB\n",
      "Reading CSV file: 2019-citibike-tripdata/3_March/201903-citibike-tripdata_2.csv\n",
      "Current memory usage: 7052.98 MB\n",
      "Reading CSV file: 2019-citibike-tripdata/1_January/201901-citibike-tripdata_1.csv\n",
      "Current memory usage: 7460.70 MB\n",
      "Reading CSV file: 2019-citibike-tripdata/2_February/201902-citibike-tripdata_1.csv\n",
      "Current memory usage: 7858.56 MB\n",
      "Reading CSV file: 2019-citibike-tripdata/5_May/201905-citibike-tripdata_1.csv\n",
      "Current memory usage: 8280.44 MB\n",
      "Reading CSV file: 2019-citibike-tripdata/5_May/201905-citibike-tripdata_2.csv\n",
      "Current memory usage: 8670.79 MB\n",
      "Combining all DataFrames...\n",
      "Dropping duplicates...\n",
      "Saving DataFrame to df_2019.pkl...\n",
      "Final DataFrame shape: (20551697, 15)\n",
      "Processing complete. File saved as df_2019.pkl\n",
      "Processing 2020-citibike-tripdata.zip...\n",
      "Found nested zip file: 2020-citibike-tripdata/202004-citibike-tripdata.zip\n",
      "Reading CSV file: 202004-citibike-tripdata_1.csv\n"
     ]
    },
    {
     "name": "stderr",
     "output_type": "stream",
     "text": [
      "C:\\Users\\rajpprit\\AppData\\Local\\Temp\\ipykernel_5372\\2931885762.py:35: DtypeWarning: Columns (5,7) have mixed types. Specify dtype option on import or set low_memory=False.\n",
      "  df = pd.read_csv(f)\n"
     ]
    },
    {
     "name": "stdout",
     "output_type": "stream",
     "text": [
      "Current memory usage: 410.02 MB\n",
      "Found nested zip file: 2020-citibike-tripdata/202012-citibike-tripdata.zip\n",
      "Reading CSV file: 202012-citibike-tripdata_1.csv\n"
     ]
    },
    {
     "name": "stderr",
     "output_type": "stream",
     "text": [
      "C:\\Users\\rajpprit\\AppData\\Local\\Temp\\ipykernel_5372\\2931885762.py:35: DtypeWarning: Columns (5,7) have mixed types. Specify dtype option on import or set low_memory=False.\n",
      "  df = pd.read_csv(f)\n"
     ]
    },
    {
     "name": "stdout",
     "output_type": "stream",
     "text": [
      "Current memory usage: 584.13 MB\n",
      "Reading CSV file: 202012-citibike-tripdata_2.csv\n",
      "Current memory usage: 631.30 MB\n",
      "Found nested zip file: 2020-citibike-tripdata/202006-citibike-tripdata.zip\n",
      "Reading CSV file: 202006-citibike-tripdata_1.csv\n"
     ]
    },
    {
     "name": "stderr",
     "output_type": "stream",
     "text": [
      "C:\\Users\\rajpprit\\AppData\\Local\\Temp\\ipykernel_5372\\2931885762.py:35: DtypeWarning: Columns (5,7) have mixed types. Specify dtype option on import or set low_memory=False.\n",
      "  df = pd.read_csv(f)\n"
     ]
    },
    {
     "name": "stdout",
     "output_type": "stream",
     "text": [
      "Current memory usage: 596.12 MB\n",
      "Reading CSV file: 202006-citibike-tripdata_2.csv\n"
     ]
    },
    {
     "name": "stderr",
     "output_type": "stream",
     "text": [
      "C:\\Users\\rajpprit\\AppData\\Local\\Temp\\ipykernel_5372\\2931885762.py:35: DtypeWarning: Columns (5,7) have mixed types. Specify dtype option on import or set low_memory=False.\n",
      "  df = pd.read_csv(f)\n"
     ]
    },
    {
     "name": "stdout",
     "output_type": "stream",
     "text": [
      "Current memory usage: 1114.77 MB\n",
      "Found nested zip file: 2020-citibike-tripdata/202010-citibike-tripdata.zip\n",
      "Reading CSV file: 202010-citibike-tripdata_1.csv\n"
     ]
    },
    {
     "name": "stderr",
     "output_type": "stream",
     "text": [
      "C:\\Users\\rajpprit\\AppData\\Local\\Temp\\ipykernel_5372\\2931885762.py:35: DtypeWarning: Columns (5,7) have mixed types. Specify dtype option on import or set low_memory=False.\n",
      "  df = pd.read_csv(f)\n"
     ]
    },
    {
     "name": "stdout",
     "output_type": "stream",
     "text": [
      "Current memory usage: 587.60 MB\n",
      "Reading CSV file: 202010-citibike-tripdata_2.csv\n"
     ]
    },
    {
     "name": "stderr",
     "output_type": "stream",
     "text": [
      "C:\\Users\\rajpprit\\AppData\\Local\\Temp\\ipykernel_5372\\2931885762.py:35: DtypeWarning: Columns (5,7) have mixed types. Specify dtype option on import or set low_memory=False.\n",
      "  df = pd.read_csv(f)\n"
     ]
    },
    {
     "name": "stdout",
     "output_type": "stream",
     "text": [
      "Current memory usage: 1163.86 MB\n",
      "Reading CSV file: 202010-citibike-tripdata_3.csv\n"
     ]
    },
    {
     "name": "stderr",
     "output_type": "stream",
     "text": [
      "C:\\Users\\rajpprit\\AppData\\Local\\Temp\\ipykernel_5372\\2931885762.py:35: DtypeWarning: Columns (7) have mixed types. Specify dtype option on import or set low_memory=False.\n",
      "  df = pd.read_csv(f)\n"
     ]
    },
    {
     "name": "stdout",
     "output_type": "stream",
     "text": [
      "Current memory usage: 1301.86 MB\n",
      "Found nested zip file: 2020-citibike-tripdata/202008-citibike-tripdata.zip\n",
      "Reading CSV file: 202008-citibike-tripdata_3.csv\n"
     ]
    },
    {
     "name": "stderr",
     "output_type": "stream",
     "text": [
      "C:\\Users\\rajpprit\\AppData\\Local\\Temp\\ipykernel_5372\\2931885762.py:35: DtypeWarning: Columns (5,7) have mixed types. Specify dtype option on import or set low_memory=False.\n",
      "  df = pd.read_csv(f)\n"
     ]
    },
    {
     "name": "stdout",
     "output_type": "stream",
     "text": [
      "Current memory usage: 198.70 MB\n",
      "Reading CSV file: 202008-citibike-tripdata_2.csv\n"
     ]
    },
    {
     "name": "stderr",
     "output_type": "stream",
     "text": [
      "C:\\Users\\rajpprit\\AppData\\Local\\Temp\\ipykernel_5372\\2931885762.py:35: DtypeWarning: Columns (5,7) have mixed types. Specify dtype option on import or set low_memory=False.\n",
      "  df = pd.read_csv(f)\n"
     ]
    },
    {
     "name": "stdout",
     "output_type": "stream",
     "text": [
      "Current memory usage: 776.32 MB\n",
      "Reading CSV file: 202008-citibike-tripdata_1.csv\n"
     ]
    },
    {
     "name": "stderr",
     "output_type": "stream",
     "text": [
      "C:\\Users\\rajpprit\\AppData\\Local\\Temp\\ipykernel_5372\\2931885762.py:35: DtypeWarning: Columns (5,7) have mixed types. Specify dtype option on import or set low_memory=False.\n",
      "  df = pd.read_csv(f)\n"
     ]
    },
    {
     "name": "stdout",
     "output_type": "stream",
     "text": [
      "Current memory usage: 1359.56 MB\n",
      "Found nested zip file: 2020-citibike-tripdata/202002-citibike-tripdata.zip\n",
      "Reading CSV file: 202002-citibike-tripdata_1.csv\n"
     ]
    },
    {
     "name": "stderr",
     "output_type": "stream",
     "text": [
      "C:\\Users\\rajpprit\\AppData\\Local\\Temp\\ipykernel_5372\\2931885762.py:35: DtypeWarning: Columns (5,7) have mixed types. Specify dtype option on import or set low_memory=False.\n",
      "  df = pd.read_csv(f)\n"
     ]
    },
    {
     "name": "stdout",
     "output_type": "stream",
     "text": [
      "Current memory usage: 589.35 MB\n",
      "Reading CSV file: 202002-citibike-tripdata_2.csv\n"
     ]
    },
    {
     "name": "stderr",
     "output_type": "stream",
     "text": [
      "C:\\Users\\rajpprit\\AppData\\Local\\Temp\\ipykernel_5372\\2931885762.py:35: DtypeWarning: Columns (5) have mixed types. Specify dtype option on import or set low_memory=False.\n",
      "  df = pd.read_csv(f)\n"
     ]
    },
    {
     "name": "stdout",
     "output_type": "stream",
     "text": [
      "Current memory usage: 672.27 MB\n",
      "Found nested zip file: 2020-citibike-tripdata/202005-citibike-tripdata.zip\n",
      "Reading CSV file: 202005-citibike-tripdata_2.csv\n"
     ]
    },
    {
     "name": "stderr",
     "output_type": "stream",
     "text": [
      "C:\\Users\\rajpprit\\AppData\\Local\\Temp\\ipykernel_5372\\2931885762.py:35: DtypeWarning: Columns (5,7) have mixed types. Specify dtype option on import or set low_memory=False.\n",
      "  df = pd.read_csv(f)\n"
     ]
    },
    {
     "name": "stdout",
     "output_type": "stream",
     "text": [
      "Current memory usage: 293.32 MB\n",
      "Reading CSV file: 202005-citibike-tripdata_1.csv\n"
     ]
    },
    {
     "name": "stderr",
     "output_type": "stream",
     "text": [
      "C:\\Users\\rajpprit\\AppData\\Local\\Temp\\ipykernel_5372\\2931885762.py:35: DtypeWarning: Columns (5,7) have mixed types. Specify dtype option on import or set low_memory=False.\n",
      "  df = pd.read_csv(f)\n"
     ]
    },
    {
     "name": "stdout",
     "output_type": "stream",
     "text": [
      "Current memory usage: 888.46 MB\n",
      "Found nested zip file: 2020-citibike-tripdata/202011-citibike-tripdata.zip\n",
      "Reading CSV file: 202011-citibike-tripdata_2.csv\n"
     ]
    },
    {
     "name": "stderr",
     "output_type": "stream",
     "text": [
      "C:\\Users\\rajpprit\\AppData\\Local\\Temp\\ipykernel_5372\\2931885762.py:35: DtypeWarning: Columns (5,7) have mixed types. Specify dtype option on import or set low_memory=False.\n",
      "  df = pd.read_csv(f)\n"
     ]
    },
    {
     "name": "stdout",
     "output_type": "stream",
     "text": [
      "Current memory usage: 436.78 MB\n",
      "Reading CSV file: 202011-citibike-tripdata_1.csv\n"
     ]
    },
    {
     "name": "stderr",
     "output_type": "stream",
     "text": [
      "C:\\Users\\rajpprit\\AppData\\Local\\Temp\\ipykernel_5372\\2931885762.py:35: DtypeWarning: Columns (5,7) have mixed types. Specify dtype option on import or set low_memory=False.\n",
      "  df = pd.read_csv(f)\n"
     ]
    },
    {
     "name": "stdout",
     "output_type": "stream",
     "text": [
      "Current memory usage: 1017.15 MB\n",
      "Found nested zip file: 2020-citibike-tripdata/202007-citibike-tripdata.zip\n",
      "Reading CSV file: 202007-citibike-tripdata_2.csv\n"
     ]
    },
    {
     "name": "stderr",
     "output_type": "stream",
     "text": [
      "C:\\Users\\rajpprit\\AppData\\Local\\Temp\\ipykernel_5372\\2931885762.py:35: DtypeWarning: Columns (5,7) have mixed types. Specify dtype option on import or set low_memory=False.\n",
      "  df = pd.read_csv(f)\n"
     ]
    },
    {
     "name": "stdout",
     "output_type": "stream",
     "text": [
      "Current memory usage: 595.78 MB\n",
      "Reading CSV file: 202007-citibike-tripdata_3.csv\n"
     ]
    },
    {
     "name": "stderr",
     "output_type": "stream",
     "text": [
      "C:\\Users\\rajpprit\\AppData\\Local\\Temp\\ipykernel_5372\\2931885762.py:35: DtypeWarning: Columns (7) have mixed types. Specify dtype option on import or set low_memory=False.\n",
      "  df = pd.read_csv(f)\n"
     ]
    },
    {
     "name": "stdout",
     "output_type": "stream",
     "text": [
      "Current memory usage: 662.54 MB\n",
      "Reading CSV file: 202007-citibike-tripdata_1.csv\n"
     ]
    },
    {
     "name": "stderr",
     "output_type": "stream",
     "text": [
      "C:\\Users\\rajpprit\\AppData\\Local\\Temp\\ipykernel_5372\\2931885762.py:35: DtypeWarning: Columns (5,7) have mixed types. Specify dtype option on import or set low_memory=False.\n",
      "  df = pd.read_csv(f)\n"
     ]
    },
    {
     "name": "stdout",
     "output_type": "stream",
     "text": [
      "Current memory usage: 1251.55 MB\n",
      "Found nested zip file: 2020-citibike-tripdata/202009-citibike-tripdata.zip\n",
      "Reading CSV file: 202009-citibike-tripdata_1.csv\n"
     ]
    },
    {
     "name": "stderr",
     "output_type": "stream",
     "text": [
      "C:\\Users\\rajpprit\\AppData\\Local\\Temp\\ipykernel_5372\\2931885762.py:35: DtypeWarning: Columns (5,7) have mixed types. Specify dtype option on import or set low_memory=False.\n",
      "  df = pd.read_csv(f)\n"
     ]
    },
    {
     "name": "stdout",
     "output_type": "stream",
     "text": [
      "Current memory usage: 584.81 MB\n",
      "Reading CSV file: 202009-citibike-tripdata_2.csv\n"
     ]
    },
    {
     "name": "stderr",
     "output_type": "stream",
     "text": [
      "C:\\Users\\rajpprit\\AppData\\Local\\Temp\\ipykernel_5372\\2931885762.py:35: DtypeWarning: Columns (5,7) have mixed types. Specify dtype option on import or set low_memory=False.\n",
      "  df = pd.read_csv(f)\n"
     ]
    },
    {
     "name": "stdout",
     "output_type": "stream",
     "text": [
      "Current memory usage: 1171.80 MB\n",
      "Reading CSV file: 202009-citibike-tripdata_3.csv\n"
     ]
    },
    {
     "name": "stderr",
     "output_type": "stream",
     "text": [
      "C:\\Users\\rajpprit\\AppData\\Local\\Temp\\ipykernel_5372\\2931885762.py:35: DtypeWarning: Columns (5,7) have mixed types. Specify dtype option on import or set low_memory=False.\n",
      "  df = pd.read_csv(f)\n"
     ]
    },
    {
     "name": "stdout",
     "output_type": "stream",
     "text": [
      "Current memory usage: 1462.85 MB\n",
      "Found nested zip file: 2020-citibike-tripdata/202001-citibike-tripdata.zip\n",
      "Reading CSV file: 202001-citibike-tripdata_2.csv\n"
     ]
    },
    {
     "name": "stderr",
     "output_type": "stream",
     "text": [
      "C:\\Users\\rajpprit\\AppData\\Local\\Temp\\ipykernel_5372\\2931885762.py:35: DtypeWarning: Columns (5,7) have mixed types. Specify dtype option on import or set low_memory=False.\n",
      "  df = pd.read_csv(f)\n"
     ]
    },
    {
     "name": "stdout",
     "output_type": "stream",
     "text": [
      "Current memory usage: 143.16 MB\n",
      "Reading CSV file: 202001-citibike-tripdata_1.csv\n"
     ]
    },
    {
     "name": "stderr",
     "output_type": "stream",
     "text": [
      "C:\\Users\\rajpprit\\AppData\\Local\\Temp\\ipykernel_5372\\2931885762.py:35: DtypeWarning: Columns (5,7) have mixed types. Specify dtype option on import or set low_memory=False.\n",
      "  df = pd.read_csv(f)\n"
     ]
    },
    {
     "name": "stdout",
     "output_type": "stream",
     "text": [
      "Current memory usage: 732.40 MB\n",
      "Found nested zip file: 2020-citibike-tripdata/202003-citibike-tripdata.zip\n",
      "Reading CSV file: 202003-citibike-tripdata_2.csv\n"
     ]
    },
    {
     "name": "stderr",
     "output_type": "stream",
     "text": [
      "C:\\Users\\rajpprit\\AppData\\Local\\Temp\\ipykernel_5372\\2931885762.py:35: DtypeWarning: Columns (5,7) have mixed types. Specify dtype option on import or set low_memory=False.\n",
      "  df = pd.read_csv(f)\n"
     ]
    },
    {
     "name": "stdout",
     "output_type": "stream",
     "text": [
      "Current memory usage: 43.03 MB\n",
      "Reading CSV file: 202003-citibike-tripdata_1.csv\n"
     ]
    },
    {
     "name": "stderr",
     "output_type": "stream",
     "text": [
      "C:\\Users\\rajpprit\\AppData\\Local\\Temp\\ipykernel_5372\\2931885762.py:35: DtypeWarning: Columns (7) have mixed types. Specify dtype option on import or set low_memory=False.\n",
      "  df = pd.read_csv(f)\n"
     ]
    },
    {
     "name": "stdout",
     "output_type": "stream",
     "text": [
      "Current memory usage: 640.99 MB\n",
      "Combining all DataFrames...\n",
      "Dropping duplicates...\n",
      "Saving DataFrame to df_2020.pkl...\n",
      "Final DataFrame shape: (19562314, 13)\n",
      "Processing complete. File saved as df_2020.pkl\n",
      "Processing 2021-citibike-tripdata.zip...\n",
      "Found nested zip file: 2021-citibike-tripdata/202107-citibike-tripdata.zip\n",
      "Reading CSV file: 202107-citibike-tripdata_4.csv\n",
      "Current memory usage: 10.97 MB\n",
      "Reading CSV file: 202107-citibike-tripdata_1.csv\n"
     ]
    },
    {
     "name": "stderr",
     "output_type": "stream",
     "text": [
      "C:\\Users\\rajpprit\\AppData\\Local\\Temp\\ipykernel_5372\\2931885762.py:35: DtypeWarning: Columns (7) have mixed types. Specify dtype option on import or set low_memory=False.\n",
      "  df = pd.read_csv(f)\n"
     ]
    },
    {
     "name": "stdout",
     "output_type": "stream",
     "text": [
      "Current memory usage: 560.77 MB\n",
      "Reading CSV file: 202107-citibike-tripdata_3.csv\n"
     ]
    },
    {
     "name": "stderr",
     "output_type": "stream",
     "text": [
      "C:\\Users\\rajpprit\\AppData\\Local\\Temp\\ipykernel_5372\\2931885762.py:35: DtypeWarning: Columns (7) have mixed types. Specify dtype option on import or set low_memory=False.\n",
      "  df = pd.read_csv(f)\n"
     ]
    },
    {
     "name": "stdout",
     "output_type": "stream",
     "text": [
      "Current memory usage: 1112.97 MB\n",
      "Reading CSV file: 202107-citibike-tripdata_2.csv\n"
     ]
    },
    {
     "name": "stderr",
     "output_type": "stream",
     "text": [
      "C:\\Users\\rajpprit\\AppData\\Local\\Temp\\ipykernel_5372\\2931885762.py:35: DtypeWarning: Columns (7) have mixed types. Specify dtype option on import or set low_memory=False.\n",
      "  df = pd.read_csv(f)\n"
     ]
    },
    {
     "name": "stdout",
     "output_type": "stream",
     "text": [
      "Current memory usage: 1657.66 MB\n",
      "Found nested zip file: 2021-citibike-tripdata/202111-citibike-tripdata.zip\n",
      "Reading CSV file: 202111-citibike-tripdata_1.csv\n"
     ]
    },
    {
     "name": "stderr",
     "output_type": "stream",
     "text": [
      "C:\\Users\\rajpprit\\AppData\\Local\\Temp\\ipykernel_5372\\2931885762.py:35: DtypeWarning: Columns (5,7) have mixed types. Specify dtype option on import or set low_memory=False.\n",
      "  df = pd.read_csv(f)\n"
     ]
    },
    {
     "name": "stdout",
     "output_type": "stream",
     "text": [
      "Current memory usage: 588.49 MB\n",
      "Reading CSV file: 202111-citibike-tripdata_2.csv\n"
     ]
    },
    {
     "name": "stderr",
     "output_type": "stream",
     "text": [
      "C:\\Users\\rajpprit\\AppData\\Local\\Temp\\ipykernel_5372\\2931885762.py:35: DtypeWarning: Columns (5,7) have mixed types. Specify dtype option on import or set low_memory=False.\n",
      "  df = pd.read_csv(f)\n"
     ]
    },
    {
     "name": "stdout",
     "output_type": "stream",
     "text": [
      "Current memory usage: 1169.61 MB\n",
      "Reading CSV file: 202111-citibike-tripdata_3.csv\n"
     ]
    },
    {
     "name": "stderr",
     "output_type": "stream",
     "text": [
      "C:\\Users\\rajpprit\\AppData\\Local\\Temp\\ipykernel_5372\\2931885762.py:35: DtypeWarning: Columns (5,7) have mixed types. Specify dtype option on import or set low_memory=False.\n",
      "  df = pd.read_csv(f)\n"
     ]
    },
    {
     "name": "stdout",
     "output_type": "stream",
     "text": [
      "Current memory usage: 1235.77 MB\n",
      "Found nested zip file: 2021-citibike-tripdata/202105-citibike-tripdata.zip\n",
      "Reading CSV file: 202105-citibike-tripdata_1.csv\n"
     ]
    },
    {
     "name": "stderr",
     "output_type": "stream",
     "text": [
      "C:\\Users\\rajpprit\\AppData\\Local\\Temp\\ipykernel_5372\\2931885762.py:35: DtypeWarning: Columns (5,7) have mixed types. Specify dtype option on import or set low_memory=False.\n",
      "  df = pd.read_csv(f)\n"
     ]
    },
    {
     "name": "stdout",
     "output_type": "stream",
     "text": [
      "Current memory usage: 577.21 MB\n",
      "Reading CSV file: 202105-citibike-tripdata_2.csv\n"
     ]
    },
    {
     "name": "stderr",
     "output_type": "stream",
     "text": [
      "C:\\Users\\rajpprit\\AppData\\Local\\Temp\\ipykernel_5372\\2931885762.py:35: DtypeWarning: Columns (7) have mixed types. Specify dtype option on import or set low_memory=False.\n",
      "  df = pd.read_csv(f)\n"
     ]
    },
    {
     "name": "stdout",
     "output_type": "stream",
     "text": [
      "Current memory usage: 1119.66 MB\n",
      "Reading CSV file: 202105-citibike-tripdata_3.csv\n"
     ]
    },
    {
     "name": "stderr",
     "output_type": "stream",
     "text": [
      "C:\\Users\\rajpprit\\AppData\\Local\\Temp\\ipykernel_5372\\2931885762.py:35: DtypeWarning: Columns (7) have mixed types. Specify dtype option on import or set low_memory=False.\n",
      "  df = pd.read_csv(f)\n"
     ]
    },
    {
     "name": "stdout",
     "output_type": "stream",
     "text": [
      "Current memory usage: 1488.75 MB\n",
      "Found nested zip file: 2021-citibike-tripdata/202103-citibike-tripdata.zip\n",
      "Reading CSV file: 202103-citibike-tripdata_1.csv\n"
     ]
    },
    {
     "name": "stderr",
     "output_type": "stream",
     "text": [
      "C:\\Users\\rajpprit\\AppData\\Local\\Temp\\ipykernel_5372\\2931885762.py:35: DtypeWarning: Columns (5,7) have mixed types. Specify dtype option on import or set low_memory=False.\n",
      "  df = pd.read_csv(f)\n"
     ]
    },
    {
     "name": "stdout",
     "output_type": "stream",
     "text": [
      "Current memory usage: 576.72 MB\n",
      "Reading CSV file: 202103-citibike-tripdata_2.csv\n"
     ]
    },
    {
     "name": "stderr",
     "output_type": "stream",
     "text": [
      "C:\\Users\\rajpprit\\AppData\\Local\\Temp\\ipykernel_5372\\2931885762.py:35: DtypeWarning: Columns (7) have mixed types. Specify dtype option on import or set low_memory=False.\n",
      "  df = pd.read_csv(f)\n"
     ]
    },
    {
     "name": "stdout",
     "output_type": "stream",
     "text": [
      "Current memory usage: 845.75 MB\n",
      "Found nested zip file: 2021-citibike-tripdata/202101-citibike-tripdata.zip\n",
      "Reading CSV file: 202101-citibike-tripdata_1.csv\n"
     ]
    },
    {
     "name": "stderr",
     "output_type": "stream",
     "text": [
      "C:\\Users\\rajpprit\\AppData\\Local\\Temp\\ipykernel_5372\\2931885762.py:35: DtypeWarning: Columns (5,7) have mixed types. Specify dtype option on import or set low_memory=False.\n",
      "  df = pd.read_csv(f)\n"
     ]
    },
    {
     "name": "stdout",
     "output_type": "stream",
     "text": [
      "Current memory usage: 582.48 MB\n",
      "Reading CSV file: 202101-citibike-tripdata_2.csv\n",
      "Current memory usage: 637.46 MB\n",
      "Found nested zip file: 2021-citibike-tripdata/202109-citibike-tripdata.zip\n",
      "Reading CSV file: 202109-citibike-tripdata_3.csv\n"
     ]
    },
    {
     "name": "stderr",
     "output_type": "stream",
     "text": [
      "C:\\Users\\rajpprit\\AppData\\Local\\Temp\\ipykernel_5372\\2931885762.py:35: DtypeWarning: Columns (7) have mixed types. Specify dtype option on import or set low_memory=False.\n",
      "  df = pd.read_csv(f)\n"
     ]
    },
    {
     "name": "stdout",
     "output_type": "stream",
     "text": [
      "Current memory usage: 548.74 MB\n",
      "Reading CSV file: 202109-citibike-tripdata_2.csv\n"
     ]
    },
    {
     "name": "stderr",
     "output_type": "stream",
     "text": [
      "C:\\Users\\rajpprit\\AppData\\Local\\Temp\\ipykernel_5372\\2931885762.py:35: DtypeWarning: Columns (7) have mixed types. Specify dtype option on import or set low_memory=False.\n",
      "  df = pd.read_csv(f)\n"
     ]
    },
    {
     "name": "stdout",
     "output_type": "stream",
     "text": [
      "Current memory usage: 1097.26 MB\n",
      "Reading CSV file: 202109-citibike-tripdata_1.csv\n"
     ]
    },
    {
     "name": "stderr",
     "output_type": "stream",
     "text": [
      "C:\\Users\\rajpprit\\AppData\\Local\\Temp\\ipykernel_5372\\2931885762.py:35: DtypeWarning: Columns (7) have mixed types. Specify dtype option on import or set low_memory=False.\n",
      "  df = pd.read_csv(f)\n"
     ]
    },
    {
     "name": "stdout",
     "output_type": "stream",
     "text": [
      "Current memory usage: 1651.95 MB\n",
      "Reading CSV file: 202109-citibike-tripdata_4.csv\n"
     ]
    },
    {
     "name": "stderr",
     "output_type": "stream",
     "text": [
      "C:\\Users\\rajpprit\\AppData\\Local\\Temp\\ipykernel_5372\\2931885762.py:35: DtypeWarning: Columns (7) have mixed types. Specify dtype option on import or set low_memory=False.\n",
      "  df = pd.read_csv(f)\n"
     ]
    },
    {
     "name": "stdout",
     "output_type": "stream",
     "text": [
      "Current memory usage: 1773.50 MB\n",
      "Found nested zip file: 2021-citibike-tripdata/202110-citibike-tripdata.zip\n",
      "Reading CSV file: 202110-citibike-tripdata_3.csv\n"
     ]
    },
    {
     "name": "stderr",
     "output_type": "stream",
     "text": [
      "C:\\Users\\rajpprit\\AppData\\Local\\Temp\\ipykernel_5372\\2931885762.py:35: DtypeWarning: Columns (5,7) have mixed types. Specify dtype option on import or set low_memory=False.\n",
      "  df = pd.read_csv(f)\n"
     ]
    },
    {
     "name": "stdout",
     "output_type": "stream",
     "text": [
      "Current memory usage: 577.41 MB\n",
      "Reading CSV file: 202110-citibike-tripdata_2.csv\n"
     ]
    },
    {
     "name": "stderr",
     "output_type": "stream",
     "text": [
      "C:\\Users\\rajpprit\\AppData\\Local\\Temp\\ipykernel_5372\\2931885762.py:35: DtypeWarning: Columns (5,7) have mixed types. Specify dtype option on import or set low_memory=False.\n",
      "  df = pd.read_csv(f)\n"
     ]
    },
    {
     "name": "stdout",
     "output_type": "stream",
     "text": [
      "Current memory usage: 1159.57 MB\n",
      "Reading CSV file: 202110-citibike-tripdata_1.csv\n"
     ]
    },
    {
     "name": "stderr",
     "output_type": "stream",
     "text": [
      "C:\\Users\\rajpprit\\AppData\\Local\\Temp\\ipykernel_5372\\2931885762.py:35: DtypeWarning: Columns (5,7) have mixed types. Specify dtype option on import or set low_memory=False.\n",
      "  df = pd.read_csv(f)\n"
     ]
    },
    {
     "name": "stdout",
     "output_type": "stream",
     "text": [
      "Current memory usage: 1743.84 MB\n",
      "Reading CSV file: 202110-citibike-tripdata_4.csv\n",
      "Current memory usage: 1749.47 MB\n",
      "Found nested zip file: 2021-citibike-tripdata/202106-citibike-tripdata.zip\n",
      "Reading CSV file: 202106-citibike-tripdata_2.csv\n"
     ]
    },
    {
     "name": "stderr",
     "output_type": "stream",
     "text": [
      "C:\\Users\\rajpprit\\AppData\\Local\\Temp\\ipykernel_5372\\2931885762.py:35: DtypeWarning: Columns (7) have mixed types. Specify dtype option on import or set low_memory=False.\n",
      "  df = pd.read_csv(f)\n"
     ]
    },
    {
     "name": "stdout",
     "output_type": "stream",
     "text": [
      "Current memory usage: 550.25 MB\n",
      "Reading CSV file: 202106-citibike-tripdata_3.csv\n"
     ]
    },
    {
     "name": "stderr",
     "output_type": "stream",
     "text": [
      "C:\\Users\\rajpprit\\AppData\\Local\\Temp\\ipykernel_5372\\2931885762.py:35: DtypeWarning: Columns (7) have mixed types. Specify dtype option on import or set low_memory=False.\n",
      "  df = pd.read_csv(f)\n"
     ]
    },
    {
     "name": "stdout",
     "output_type": "stream",
     "text": [
      "Current memory usage: 1100.46 MB\n",
      "Reading CSV file: 202106-citibike-tripdata_1.csv\n"
     ]
    },
    {
     "name": "stderr",
     "output_type": "stream",
     "text": [
      "C:\\Users\\rajpprit\\AppData\\Local\\Temp\\ipykernel_5372\\2931885762.py:35: DtypeWarning: Columns (7) have mixed types. Specify dtype option on import or set low_memory=False.\n",
      "  df = pd.read_csv(f)\n"
     ]
    },
    {
     "name": "stdout",
     "output_type": "stream",
     "text": [
      "Current memory usage: 1653.21 MB\n",
      "Reading CSV file: 202106-citibike-tripdata_4.csv\n"
     ]
    },
    {
     "name": "stderr",
     "output_type": "stream",
     "text": [
      "C:\\Users\\rajpprit\\AppData\\Local\\Temp\\ipykernel_5372\\2931885762.py:35: DtypeWarning: Columns (7) have mixed types. Specify dtype option on import or set low_memory=False.\n",
      "  df = pd.read_csv(f)\n"
     ]
    },
    {
     "name": "stdout",
     "output_type": "stream",
     "text": [
      "Current memory usage: 1714.99 MB\n",
      "Found nested zip file: 2021-citibike-tripdata/202112-citibike-tripdata.zip\n",
      "Reading CSV file: 202112-citibike-tripdata_2.csv\n"
     ]
    },
    {
     "name": "stderr",
     "output_type": "stream",
     "text": [
      "C:\\Users\\rajpprit\\AppData\\Local\\Temp\\ipykernel_5372\\2931885762.py:35: DtypeWarning: Columns (5,7) have mixed types. Specify dtype option on import or set low_memory=False.\n",
      "  df = pd.read_csv(f)\n"
     ]
    },
    {
     "name": "stdout",
     "output_type": "stream",
     "text": [
      "Current memory usage: 404.08 MB\n",
      "Reading CSV file: 202112-citibike-tripdata_1.csv\n"
     ]
    },
    {
     "name": "stderr",
     "output_type": "stream",
     "text": [
      "C:\\Users\\rajpprit\\AppData\\Local\\Temp\\ipykernel_5372\\2931885762.py:35: DtypeWarning: Columns (5,7) have mixed types. Specify dtype option on import or set low_memory=False.\n",
      "  df = pd.read_csv(f)\n"
     ]
    },
    {
     "name": "stdout",
     "output_type": "stream",
     "text": [
      "Current memory usage: 981.15 MB\n",
      "Found nested zip file: 2021-citibike-tripdata/202104-citibike-tripdata.zip\n",
      "Reading CSV file: 202104-citibike-tripdata_3.csv\n",
      "Current memory usage: 13.25 MB\n",
      "Reading CSV file: 202104-citibike-tripdata_2.csv\n"
     ]
    },
    {
     "name": "stderr",
     "output_type": "stream",
     "text": [
      "C:\\Users\\rajpprit\\AppData\\Local\\Temp\\ipykernel_5372\\2931885762.py:35: DtypeWarning: Columns (7) have mixed types. Specify dtype option on import or set low_memory=False.\n",
      "  df = pd.read_csv(f)\n"
     ]
    },
    {
     "name": "stdout",
     "output_type": "stream",
     "text": [
      "Current memory usage: 556.54 MB\n",
      "Reading CSV file: 202104-citibike-tripdata_1.csv\n"
     ]
    },
    {
     "name": "stderr",
     "output_type": "stream",
     "text": [
      "C:\\Users\\rajpprit\\AppData\\Local\\Temp\\ipykernel_5372\\2931885762.py:35: DtypeWarning: Columns (5,7) have mixed types. Specify dtype option on import or set low_memory=False.\n",
      "  df = pd.read_csv(f)\n"
     ]
    },
    {
     "name": "stdout",
     "output_type": "stream",
     "text": [
      "Current memory usage: 1136.05 MB\n",
      "Found nested zip file: 2021-citibike-tripdata/202102-citibike-tripdata.zip\n",
      "Reading CSV file: 202102-citibike-tripdata_1.csv\n"
     ]
    },
    {
     "name": "stderr",
     "output_type": "stream",
     "text": [
      "C:\\Users\\rajpprit\\AppData\\Local\\Temp\\ipykernel_5372\\2931885762.py:35: DtypeWarning: Columns (5,7) have mixed types. Specify dtype option on import or set low_memory=False.\n",
      "  df = pd.read_csv(f)\n"
     ]
    },
    {
     "name": "stdout",
     "output_type": "stream",
     "text": [
      "Current memory usage: 371.05 MB\n",
      "Found nested zip file: 2021-citibike-tripdata/202108-citibike-tripdata.zip\n",
      "Reading CSV file: 202108-citibike-tripdata_4.csv\n",
      "Current memory usage: 7.36 MB\n",
      "Reading CSV file: 202108-citibike-tripdata_1.csv\n"
     ]
    },
    {
     "name": "stderr",
     "output_type": "stream",
     "text": [
      "C:\\Users\\rajpprit\\AppData\\Local\\Temp\\ipykernel_5372\\2931885762.py:35: DtypeWarning: Columns (7) have mixed types. Specify dtype option on import or set low_memory=False.\n",
      "  df = pd.read_csv(f)\n"
     ]
    },
    {
     "name": "stdout",
     "output_type": "stream",
     "text": [
      "Current memory usage: 556.52 MB\n",
      "Reading CSV file: 202108-citibike-tripdata_2.csv\n"
     ]
    },
    {
     "name": "stderr",
     "output_type": "stream",
     "text": [
      "C:\\Users\\rajpprit\\AppData\\Local\\Temp\\ipykernel_5372\\2931885762.py:35: DtypeWarning: Columns (7) have mixed types. Specify dtype option on import or set low_memory=False.\n",
      "  df = pd.read_csv(f)\n"
     ]
    },
    {
     "name": "stdout",
     "output_type": "stream",
     "text": [
      "Current memory usage: 1104.62 MB\n",
      "Reading CSV file: 202108-citibike-tripdata_3.csv\n"
     ]
    },
    {
     "name": "stderr",
     "output_type": "stream",
     "text": [
      "C:\\Users\\rajpprit\\AppData\\Local\\Temp\\ipykernel_5372\\2931885762.py:35: DtypeWarning: Columns (7) have mixed types. Specify dtype option on import or set low_memory=False.\n",
      "  df = pd.read_csv(f)\n"
     ]
    },
    {
     "name": "stdout",
     "output_type": "stream",
     "text": [
      "Current memory usage: 1654.88 MB\n",
      "Combining all DataFrames...\n",
      "Dropping duplicates...\n",
      "Saving DataFrame to df_2021.pkl...\n",
      "Final DataFrame shape: (27130122, 13)\n",
      "Processing complete. File saved as df_2021.pkl\n",
      "Processing 2022-citibike-tripdata.zip...\n",
      "Found nested zip file: 2022-citibike-tripdata/202209-citibike-tripdata.zip\n",
      "Reading CSV file: 202209-citibike-tripdata_4.csv\n"
     ]
    },
    {
     "name": "stderr",
     "output_type": "stream",
     "text": [
      "C:\\Users\\rajpprit\\AppData\\Local\\Temp\\ipykernel_5372\\2931885762.py:35: DtypeWarning: Columns (5,7) have mixed types. Specify dtype option on import or set low_memory=False.\n",
      "  df = pd.read_csv(f)\n"
     ]
    },
    {
     "name": "stdout",
     "output_type": "stream",
     "text": [
      "Current memory usage: 245.12 MB\n",
      "Reading CSV file: 202209-citibike-tripdata_1.csv\n"
     ]
    },
    {
     "name": "stderr",
     "output_type": "stream",
     "text": [
      "C:\\Users\\rajpprit\\AppData\\Local\\Temp\\ipykernel_5372\\2931885762.py:35: DtypeWarning: Columns (5,7) have mixed types. Specify dtype option on import or set low_memory=False.\n",
      "  df = pd.read_csv(f)\n"
     ]
    },
    {
     "name": "stdout",
     "output_type": "stream",
     "text": [
      "Current memory usage: 829.83 MB\n",
      "Reading CSV file: 202209-citibike-tripdata_2.csv\n"
     ]
    },
    {
     "name": "stderr",
     "output_type": "stream",
     "text": [
      "C:\\Users\\rajpprit\\AppData\\Local\\Temp\\ipykernel_5372\\2931885762.py:35: DtypeWarning: Columns (5,7) have mixed types. Specify dtype option on import or set low_memory=False.\n",
      "  df = pd.read_csv(f)\n"
     ]
    },
    {
     "name": "stdout",
     "output_type": "stream",
     "text": [
      "Current memory usage: 1420.92 MB\n",
      "Reading CSV file: 202209-citibike-tripdata_3.csv\n"
     ]
    },
    {
     "name": "stderr",
     "output_type": "stream",
     "text": [
      "C:\\Users\\rajpprit\\AppData\\Local\\Temp\\ipykernel_5372\\2931885762.py:35: DtypeWarning: Columns (5,7) have mixed types. Specify dtype option on import or set low_memory=False.\n",
      "  df = pd.read_csv(f)\n"
     ]
    },
    {
     "name": "stdout",
     "output_type": "stream",
     "text": [
      "Current memory usage: 2007.22 MB\n",
      "Found nested zip file: 2022-citibike-tripdata/202201-citibike-tripdata.zip\n",
      "Reading CSV file: 202201-citibike-tripdata_2.csv\n",
      "Current memory usage: 12.51 MB\n",
      "Reading CSV file: 202201-citibike-tripdata_1.csv\n"
     ]
    },
    {
     "name": "stderr",
     "output_type": "stream",
     "text": [
      "C:\\Users\\rajpprit\\AppData\\Local\\Temp\\ipykernel_5372\\2931885762.py:35: DtypeWarning: Columns (5,7) have mixed types. Specify dtype option on import or set low_memory=False.\n",
      "  df = pd.read_csv(f)\n"
     ]
    },
    {
     "name": "stdout",
     "output_type": "stream",
     "text": [
      "Current memory usage: 588.24 MB\n",
      "Found nested zip file: 2022-citibike-tripdata/202203-citibike-tripdata.zip\n",
      "Reading CSV file: 202203-citibike-tripdata_2.csv\n"
     ]
    },
    {
     "name": "stderr",
     "output_type": "stream",
     "text": [
      "C:\\Users\\rajpprit\\AppData\\Local\\Temp\\ipykernel_5372\\2931885762.py:35: DtypeWarning: Columns (5,7) have mixed types. Specify dtype option on import or set low_memory=False.\n",
      "  df = pd.read_csv(f)\n"
     ]
    },
    {
     "name": "stdout",
     "output_type": "stream",
     "text": [
      "Current memory usage: 491.43 MB\n",
      "Reading CSV file: 202203-citibike-tripdata_1.csv\n"
     ]
    },
    {
     "name": "stderr",
     "output_type": "stream",
     "text": [
      "C:\\Users\\rajpprit\\AppData\\Local\\Temp\\ipykernel_5372\\2931885762.py:35: DtypeWarning: Columns (5,7) have mixed types. Specify dtype option on import or set low_memory=False.\n",
      "  df = pd.read_csv(f)\n"
     ]
    },
    {
     "name": "stdout",
     "output_type": "stream",
     "text": [
      "Current memory usage: 1067.71 MB\n",
      "Found nested zip file: 2022-citibike-tripdata/202205-citibike-tripdata.zip\n",
      "Reading CSV file: 202205-citibike-tripdata_3.csv\n"
     ]
    },
    {
     "name": "stderr",
     "output_type": "stream",
     "text": [
      "C:\\Users\\rajpprit\\AppData\\Local\\Temp\\ipykernel_5372\\2931885762.py:35: DtypeWarning: Columns (5,7) have mixed types. Specify dtype option on import or set low_memory=False.\n",
      "  df = pd.read_csv(f)\n"
     ]
    },
    {
     "name": "stdout",
     "output_type": "stream",
     "text": [
      "Current memory usage: 507.34 MB\n",
      "Reading CSV file: 202205-citibike-tripdata_2.csv\n"
     ]
    },
    {
     "name": "stderr",
     "output_type": "stream",
     "text": [
      "C:\\Users\\rajpprit\\AppData\\Local\\Temp\\ipykernel_5372\\2931885762.py:35: DtypeWarning: Columns (5,7) have mixed types. Specify dtype option on import or set low_memory=False.\n",
      "  df = pd.read_csv(f)\n"
     ]
    },
    {
     "name": "stdout",
     "output_type": "stream",
     "text": [
      "Current memory usage: 1093.10 MB\n",
      "Reading CSV file: 202205-citibike-tripdata_1.csv\n"
     ]
    },
    {
     "name": "stderr",
     "output_type": "stream",
     "text": [
      "C:\\Users\\rajpprit\\AppData\\Local\\Temp\\ipykernel_5372\\2931885762.py:35: DtypeWarning: Columns (5,7) have mixed types. Specify dtype option on import or set low_memory=False.\n",
      "  df = pd.read_csv(f)\n"
     ]
    },
    {
     "name": "stdout",
     "output_type": "stream",
     "text": [
      "Current memory usage: 1692.25 MB\n",
      "Found nested zip file: 2022-citibike-tripdata/202207-citibike-tripdata.zip\n",
      "Reading CSV file: 202207-citibike-tripdata_2.csv\n"
     ]
    },
    {
     "name": "stderr",
     "output_type": "stream",
     "text": [
      "C:\\Users\\rajpprit\\AppData\\Local\\Temp\\ipykernel_5372\\2931885762.py:35: DtypeWarning: Columns (5,7) have mixed types. Specify dtype option on import or set low_memory=False.\n",
      "  df = pd.read_csv(f)\n"
     ]
    },
    {
     "name": "stdout",
     "output_type": "stream",
     "text": [
      "Current memory usage: 580.79 MB\n",
      "Reading CSV file: 202207-citibike-tripdata_3.csv\n"
     ]
    },
    {
     "name": "stderr",
     "output_type": "stream",
     "text": [
      "C:\\Users\\rajpprit\\AppData\\Local\\Temp\\ipykernel_5372\\2931885762.py:35: DtypeWarning: Columns (5,7) have mixed types. Specify dtype option on import or set low_memory=False.\n",
      "  df = pd.read_csv(f)\n"
     ]
    },
    {
     "name": "stdout",
     "output_type": "stream",
     "text": [
      "Current memory usage: 1164.69 MB\n",
      "Reading CSV file: 202207-citibike-tripdata_1.csv\n"
     ]
    },
    {
     "name": "stderr",
     "output_type": "stream",
     "text": [
      "C:\\Users\\rajpprit\\AppData\\Local\\Temp\\ipykernel_5372\\2931885762.py:35: DtypeWarning: Columns (5,7) have mixed types. Specify dtype option on import or set low_memory=False.\n",
      "  df = pd.read_csv(f)\n"
     ]
    },
    {
     "name": "stdout",
     "output_type": "stream",
     "text": [
      "Current memory usage: 1752.61 MB\n",
      "Reading CSV file: 202207-citibike-tripdata_4.csv\n"
     ]
    },
    {
     "name": "stderr",
     "output_type": "stream",
     "text": [
      "C:\\Users\\rajpprit\\AppData\\Local\\Temp\\ipykernel_5372\\2931885762.py:35: DtypeWarning: Columns (5,7) have mixed types. Specify dtype option on import or set low_memory=False.\n",
      "  df = pd.read_csv(f)\n"
     ]
    },
    {
     "name": "stdout",
     "output_type": "stream",
     "text": [
      "Current memory usage: 1984.46 MB\n",
      "Found nested zip file: 2022-citibike-tripdata/202211-citibike-tripdata.zip\n",
      "Reading CSV file: 202211-citibike-tripdata_3.csv\n"
     ]
    },
    {
     "name": "stderr",
     "output_type": "stream",
     "text": [
      "C:\\Users\\rajpprit\\AppData\\Local\\Temp\\ipykernel_5372\\2931885762.py:35: DtypeWarning: Columns (7) have mixed types. Specify dtype option on import or set low_memory=False.\n",
      "  df = pd.read_csv(f)\n"
     ]
    },
    {
     "name": "stdout",
     "output_type": "stream",
     "text": [
      "Current memory usage: 209.71 MB\n",
      "Reading CSV file: 202211-citibike-tripdata_2.csv\n"
     ]
    },
    {
     "name": "stderr",
     "output_type": "stream",
     "text": [
      "C:\\Users\\rajpprit\\AppData\\Local\\Temp\\ipykernel_5372\\2931885762.py:35: DtypeWarning: Columns (5,7) have mixed types. Specify dtype option on import or set low_memory=False.\n",
      "  df = pd.read_csv(f)\n"
     ]
    },
    {
     "name": "stdout",
     "output_type": "stream",
     "text": [
      "Current memory usage: 785.21 MB\n",
      "Reading CSV file: 202211-citibike-tripdata_1.csv\n"
     ]
    },
    {
     "name": "stderr",
     "output_type": "stream",
     "text": [
      "C:\\Users\\rajpprit\\AppData\\Local\\Temp\\ipykernel_5372\\2931885762.py:35: DtypeWarning: Columns (5,7) have mixed types. Specify dtype option on import or set low_memory=False.\n",
      "  df = pd.read_csv(f)\n"
     ]
    },
    {
     "name": "stdout",
     "output_type": "stream",
     "text": [
      "Current memory usage: 1372.75 MB\n",
      "Found nested zip file: 2022-citibike-tripdata/202208-citibike-tripdata.zip\n",
      "Reading CSV file: 202208-citibike-tripdata_3.csv\n"
     ]
    },
    {
     "name": "stderr",
     "output_type": "stream",
     "text": [
      "C:\\Users\\rajpprit\\AppData\\Local\\Temp\\ipykernel_5372\\2931885762.py:35: DtypeWarning: Columns (5,7) have mixed types. Specify dtype option on import or set low_memory=False.\n",
      "  df = pd.read_csv(f)\n"
     ]
    },
    {
     "name": "stdout",
     "output_type": "stream",
     "text": [
      "Current memory usage: 592.10 MB\n",
      "Reading CSV file: 202208-citibike-tripdata_2.csv\n"
     ]
    },
    {
     "name": "stderr",
     "output_type": "stream",
     "text": [
      "C:\\Users\\rajpprit\\AppData\\Local\\Temp\\ipykernel_5372\\2931885762.py:35: DtypeWarning: Columns (5,7) have mixed types. Specify dtype option on import or set low_memory=False.\n",
      "  df = pd.read_csv(f)\n"
     ]
    },
    {
     "name": "stdout",
     "output_type": "stream",
     "text": [
      "Current memory usage: 1177.25 MB\n",
      "Reading CSV file: 202208-citibike-tripdata_1.csv\n"
     ]
    },
    {
     "name": "stderr",
     "output_type": "stream",
     "text": [
      "C:\\Users\\rajpprit\\AppData\\Local\\Temp\\ipykernel_5372\\2931885762.py:35: DtypeWarning: Columns (5,7) have mixed types. Specify dtype option on import or set low_memory=False.\n",
      "  df = pd.read_csv(f)\n"
     ]
    },
    {
     "name": "stdout",
     "output_type": "stream",
     "text": [
      "Current memory usage: 1762.37 MB\n",
      "Reading CSV file: 202208-citibike-tripdata_4.csv\n"
     ]
    },
    {
     "name": "stderr",
     "output_type": "stream",
     "text": [
      "C:\\Users\\rajpprit\\AppData\\Local\\Temp\\ipykernel_5372\\2931885762.py:35: DtypeWarning: Columns (5,7) have mixed types. Specify dtype option on import or set low_memory=False.\n",
      "  df = pd.read_csv(f)\n"
     ]
    },
    {
     "name": "stdout",
     "output_type": "stream",
     "text": [
      "Current memory usage: 2098.61 MB\n",
      "Found nested zip file: 2022-citibike-tripdata/202202-citibike-tripdata.zip\n",
      "Reading CSV file: 202202-citibike-tripdata_1.csv\n"
     ]
    },
    {
     "name": "stderr",
     "output_type": "stream",
     "text": [
      "C:\\Users\\rajpprit\\AppData\\Local\\Temp\\ipykernel_5372\\2931885762.py:35: DtypeWarning: Columns (5,7) have mixed types. Specify dtype option on import or set low_memory=False.\n",
      "  df = pd.read_csv(f)\n"
     ]
    },
    {
     "name": "stdout",
     "output_type": "stream",
     "text": [
      "Current memory usage: 581.12 MB\n",
      "Reading CSV file: 202202-citibike-tripdata_2.csv\n"
     ]
    },
    {
     "name": "stderr",
     "output_type": "stream",
     "text": [
      "C:\\Users\\rajpprit\\AppData\\Local\\Temp\\ipykernel_5372\\2931885762.py:35: DtypeWarning: Columns (7) have mixed types. Specify dtype option on import or set low_memory=False.\n",
      "  df = pd.read_csv(f)\n"
     ]
    },
    {
     "name": "stdout",
     "output_type": "stream",
     "text": [
      "Current memory usage: 688.32 MB\n",
      "Found nested zip file: 2022-citibike-tripdata/202212-citibike-tripdata.zip\n",
      "Reading CSV file: 202212-citibike-tripdata_1.csv\n"
     ]
    },
    {
     "name": "stderr",
     "output_type": "stream",
     "text": [
      "C:\\Users\\rajpprit\\AppData\\Local\\Temp\\ipykernel_5372\\2931885762.py:35: DtypeWarning: Columns (5,7) have mixed types. Specify dtype option on import or set low_memory=False.\n",
      "  df = pd.read_csv(f)\n"
     ]
    },
    {
     "name": "stdout",
     "output_type": "stream",
     "text": [
      "Current memory usage: 588.85 MB\n",
      "Reading CSV file: 202212-citibike-tripdata_2.csv\n"
     ]
    },
    {
     "name": "stderr",
     "output_type": "stream",
     "text": [
      "C:\\Users\\rajpprit\\AppData\\Local\\Temp\\ipykernel_5372\\2931885762.py:35: DtypeWarning: Columns (5,7) have mixed types. Specify dtype option on import or set low_memory=False.\n",
      "  df = pd.read_csv(f)\n"
     ]
    },
    {
     "name": "stdout",
     "output_type": "stream",
     "text": [
      "Current memory usage: 930.70 MB\n",
      "Found nested zip file: 2022-citibike-tripdata/202204-citibike-tripdata.zip\n",
      "Reading CSV file: 202204-citibike-tripdata_1.csv\n"
     ]
    },
    {
     "name": "stderr",
     "output_type": "stream",
     "text": [
      "C:\\Users\\rajpprit\\AppData\\Local\\Temp\\ipykernel_5372\\2931885762.py:35: DtypeWarning: Columns (5,7) have mixed types. Specify dtype option on import or set low_memory=False.\n",
      "  df = pd.read_csv(f)\n"
     ]
    },
    {
     "name": "stdout",
     "output_type": "stream",
     "text": [
      "Current memory usage: 583.55 MB\n",
      "Reading CSV file: 202204-citibike-tripdata_2.csv\n"
     ]
    },
    {
     "name": "stderr",
     "output_type": "stream",
     "text": [
      "C:\\Users\\rajpprit\\AppData\\Local\\Temp\\ipykernel_5372\\2931885762.py:35: DtypeWarning: Columns (5,7) have mixed types. Specify dtype option on import or set low_memory=False.\n",
      "  df = pd.read_csv(f)\n"
     ]
    },
    {
     "name": "stdout",
     "output_type": "stream",
     "text": [
      "Current memory usage: 1161.46 MB\n",
      "Reading CSV file: 202204-citibike-tripdata_3.csv\n"
     ]
    },
    {
     "name": "stderr",
     "output_type": "stream",
     "text": [
      "C:\\Users\\rajpprit\\AppData\\Local\\Temp\\ipykernel_5372\\2931885762.py:35: DtypeWarning: Columns (5,7) have mixed types. Specify dtype option on import or set low_memory=False.\n",
      "  df = pd.read_csv(f)\n"
     ]
    },
    {
     "name": "stdout",
     "output_type": "stream",
     "text": [
      "Current memory usage: 1311.93 MB\n",
      "Found nested zip file: 2022-citibike-tripdata/202210-citibike-tripdata.zip\n",
      "Reading CSV file: 202210-citibike-tripdata_1.csv\n"
     ]
    },
    {
     "name": "stderr",
     "output_type": "stream",
     "text": [
      "C:\\Users\\rajpprit\\AppData\\Local\\Temp\\ipykernel_5372\\2931885762.py:35: DtypeWarning: Columns (5,7) have mixed types. Specify dtype option on import or set low_memory=False.\n",
      "  df = pd.read_csv(f)\n"
     ]
    },
    {
     "name": "stdout",
     "output_type": "stream",
     "text": [
      "Current memory usage: 579.30 MB\n",
      "Reading CSV file: 202210-citibike-tripdata_2.csv\n"
     ]
    },
    {
     "name": "stderr",
     "output_type": "stream",
     "text": [
      "C:\\Users\\rajpprit\\AppData\\Local\\Temp\\ipykernel_5372\\2931885762.py:35: DtypeWarning: Columns (5,7) have mixed types. Specify dtype option on import or set low_memory=False.\n",
      "  df = pd.read_csv(f)\n"
     ]
    },
    {
     "name": "stdout",
     "output_type": "stream",
     "text": [
      "Current memory usage: 1167.26 MB\n",
      "Reading CSV file: 202210-citibike-tripdata_3.csv\n"
     ]
    },
    {
     "name": "stderr",
     "output_type": "stream",
     "text": [
      "C:\\Users\\rajpprit\\AppData\\Local\\Temp\\ipykernel_5372\\2931885762.py:35: DtypeWarning: Columns (5,7) have mixed types. Specify dtype option on import or set low_memory=False.\n",
      "  df = pd.read_csv(f)\n"
     ]
    },
    {
     "name": "stdout",
     "output_type": "stream",
     "text": [
      "Current memory usage: 1711.66 MB\n",
      "Found nested zip file: 2022-citibike-tripdata/202206-citibike-tripdata.zip\n",
      "Reading CSV file: 202206-citibike-tripdata_4.csv\n"
     ]
    },
    {
     "name": "stderr",
     "output_type": "stream",
     "text": [
      "C:\\Users\\rajpprit\\AppData\\Local\\Temp\\ipykernel_5372\\2931885762.py:35: DtypeWarning: Columns (5,7) have mixed types. Specify dtype option on import or set low_memory=False.\n",
      "  df = pd.read_csv(f)\n"
     ]
    },
    {
     "name": "stdout",
     "output_type": "stream",
     "text": [
      "Current memory usage: 203.38 MB\n",
      "Reading CSV file: 202206-citibike-tripdata_1.csv\n"
     ]
    },
    {
     "name": "stderr",
     "output_type": "stream",
     "text": [
      "C:\\Users\\rajpprit\\AppData\\Local\\Temp\\ipykernel_5372\\2931885762.py:35: DtypeWarning: Columns (5,7) have mixed types. Specify dtype option on import or set low_memory=False.\n",
      "  df = pd.read_csv(f)\n"
     ]
    },
    {
     "name": "stdout",
     "output_type": "stream",
     "text": [
      "Current memory usage: 800.55 MB\n",
      "Reading CSV file: 202206-citibike-tripdata_3.csv\n"
     ]
    },
    {
     "name": "stderr",
     "output_type": "stream",
     "text": [
      "C:\\Users\\rajpprit\\AppData\\Local\\Temp\\ipykernel_5372\\2931885762.py:35: DtypeWarning: Columns (5,7) have mixed types. Specify dtype option on import or set low_memory=False.\n",
      "  df = pd.read_csv(f)\n"
     ]
    },
    {
     "name": "stdout",
     "output_type": "stream",
     "text": [
      "Current memory usage: 1388.29 MB\n",
      "Reading CSV file: 202206-citibike-tripdata_2.csv\n"
     ]
    },
    {
     "name": "stderr",
     "output_type": "stream",
     "text": [
      "C:\\Users\\rajpprit\\AppData\\Local\\Temp\\ipykernel_5372\\2931885762.py:35: DtypeWarning: Columns (5,7) have mixed types. Specify dtype option on import or set low_memory=False.\n",
      "  df = pd.read_csv(f)\n"
     ]
    },
    {
     "name": "stdout",
     "output_type": "stream",
     "text": [
      "Current memory usage: 1977.46 MB\n",
      "Combining all DataFrames...\n",
      "Dropping duplicates...\n",
      "Saving DataFrame to df_2022.pkl...\n",
      "Final DataFrame shape: (29838806, 13)\n",
      "Processing complete. File saved as df_2022.pkl\n",
      "Processing 2023-citibike-tripdata.zip...\n",
      "Found nested zip file: 2023-citibike-tripdata/202302-citibike-tripdata.zip\n",
      "Reading CSV file: 202302-citibike-tripdata_2.csv\n"
     ]
    },
    {
     "name": "stderr",
     "output_type": "stream",
     "text": [
      "C:\\Users\\rajpprit\\AppData\\Local\\Temp\\ipykernel_5372\\2931885762.py:35: DtypeWarning: Columns (5) have mixed types. Specify dtype option on import or set low_memory=False.\n",
      "  df = pd.read_csv(f)\n"
     ]
    },
    {
     "name": "stdout",
     "output_type": "stream",
     "text": [
      "Current memory usage: 408.98 MB\n",
      "Reading CSV file: 202302-citibike-tripdata_1.csv\n"
     ]
    },
    {
     "name": "stderr",
     "output_type": "stream",
     "text": [
      "C:\\Users\\rajpprit\\AppData\\Local\\Temp\\ipykernel_5372\\2931885762.py:35: DtypeWarning: Columns (5,7) have mixed types. Specify dtype option on import or set low_memory=False.\n",
      "  df = pd.read_csv(f)\n"
     ]
    },
    {
     "name": "stdout",
     "output_type": "stream",
     "text": [
      "Current memory usage: 998.15 MB\n",
      "Found nested zip file: 2023-citibike-tripdata/202308-citibike-tripdata.zip\n",
      "Reading CSV file: 202308-citibike-tripdata_4.csv\n"
     ]
    },
    {
     "name": "stderr",
     "output_type": "stream",
     "text": [
      "C:\\Users\\rajpprit\\AppData\\Local\\Temp\\ipykernel_5372\\2931885762.py:35: DtypeWarning: Columns (5,7) have mixed types. Specify dtype option on import or set low_memory=False.\n",
      "  df = pd.read_csv(f)\n"
     ]
    },
    {
     "name": "stdout",
     "output_type": "stream",
     "text": [
      "Current memory usage: 573.84 MB\n",
      "Reading CSV file: 202308-citibike-tripdata_1.csv\n"
     ]
    },
    {
     "name": "stderr",
     "output_type": "stream",
     "text": [
      "C:\\Users\\rajpprit\\AppData\\Local\\Temp\\ipykernel_5372\\2931885762.py:35: DtypeWarning: Columns (5,7) have mixed types. Specify dtype option on import or set low_memory=False.\n",
      "  df = pd.read_csv(f)\n"
     ]
    },
    {
     "name": "stdout",
     "output_type": "stream",
     "text": [
      "Current memory usage: 1168.85 MB\n",
      "Reading CSV file: 202308-citibike-tripdata_2.csv\n"
     ]
    },
    {
     "name": "stderr",
     "output_type": "stream",
     "text": [
      "C:\\Users\\rajpprit\\AppData\\Local\\Temp\\ipykernel_5372\\2931885762.py:35: DtypeWarning: Columns (5,7) have mixed types. Specify dtype option on import or set low_memory=False.\n",
      "  df = pd.read_csv(f)\n"
     ]
    },
    {
     "name": "stdout",
     "output_type": "stream",
     "text": [
      "Current memory usage: 1768.71 MB\n",
      "Reading CSV file: 202308-citibike-tripdata_3.csv\n"
     ]
    },
    {
     "name": "stderr",
     "output_type": "stream",
     "text": [
      "C:\\Users\\rajpprit\\AppData\\Local\\Temp\\ipykernel_5372\\2931885762.py:35: DtypeWarning: Columns (5,7) have mixed types. Specify dtype option on import or set low_memory=False.\n",
      "  df = pd.read_csv(f)\n"
     ]
    },
    {
     "name": "stdout",
     "output_type": "stream",
     "text": [
      "Current memory usage: 2356.94 MB\n",
      "Found nested zip file: 2023-citibike-tripdata/202306-citibike-tripdata.zip\n",
      "Reading CSV file: 202306-citibike-tripdata_2.csv\n"
     ]
    },
    {
     "name": "stderr",
     "output_type": "stream",
     "text": [
      "C:\\Users\\rajpprit\\AppData\\Local\\Temp\\ipykernel_5372\\2931885762.py:35: DtypeWarning: Columns (5,7) have mixed types. Specify dtype option on import or set low_memory=False.\n",
      "  df = pd.read_csv(f)\n"
     ]
    },
    {
     "name": "stdout",
     "output_type": "stream",
     "text": [
      "Current memory usage: 589.28 MB\n",
      "Reading CSV file: 202306-citibike-tripdata_3.csv\n"
     ]
    },
    {
     "name": "stderr",
     "output_type": "stream",
     "text": [
      "C:\\Users\\rajpprit\\AppData\\Local\\Temp\\ipykernel_5372\\2931885762.py:35: DtypeWarning: Columns (5,7) have mixed types. Specify dtype option on import or set low_memory=False.\n",
      "  df = pd.read_csv(f)\n"
     ]
    },
    {
     "name": "stdout",
     "output_type": "stream",
     "text": [
      "Current memory usage: 1183.88 MB\n",
      "Reading CSV file: 202306-citibike-tripdata_1.csv\n"
     ]
    },
    {
     "name": "stderr",
     "output_type": "stream",
     "text": [
      "C:\\Users\\rajpprit\\AppData\\Local\\Temp\\ipykernel_5372\\2931885762.py:35: DtypeWarning: Columns (5,7) have mixed types. Specify dtype option on import or set low_memory=False.\n",
      "  df = pd.read_csv(f)\n"
     ]
    },
    {
     "name": "stdout",
     "output_type": "stream",
     "text": [
      "Current memory usage: 1776.31 MB\n",
      "Reading CSV file: 202306-citibike-tripdata_4.csv\n"
     ]
    },
    {
     "name": "stderr",
     "output_type": "stream",
     "text": [
      "C:\\Users\\rajpprit\\AppData\\Local\\Temp\\ipykernel_5372\\2931885762.py:35: DtypeWarning: Columns (5) have mixed types. Specify dtype option on import or set low_memory=False.\n",
      "  df = pd.read_csv(f)\n"
     ]
    },
    {
     "name": "stdout",
     "output_type": "stream",
     "text": [
      "Current memory usage: 2047.55 MB\n",
      "Found nested zip file: 2023-citibike-tripdata/202310-citibike-tripdata.zip\n",
      "Reading CSV file: 202310-citibike-tripdata_3.csv\n"
     ]
    },
    {
     "name": "stderr",
     "output_type": "stream",
     "text": [
      "C:\\Users\\rajpprit\\AppData\\Local\\Temp\\ipykernel_5372\\2931885762.py:35: DtypeWarning: Columns (7) have mixed types. Specify dtype option on import or set low_memory=False.\n",
      "  df = pd.read_csv(f)\n"
     ]
    },
    {
     "name": "stdout",
     "output_type": "stream",
     "text": [
      "Current memory usage: 605.34 MB\n",
      "Reading CSV file: 202310-citibike-tripdata_2.csv\n"
     ]
    },
    {
     "name": "stderr",
     "output_type": "stream",
     "text": [
      "C:\\Users\\rajpprit\\AppData\\Local\\Temp\\ipykernel_5372\\2931885762.py:35: DtypeWarning: Columns (5,7) have mixed types. Specify dtype option on import or set low_memory=False.\n",
      "  df = pd.read_csv(f)\n"
     ]
    },
    {
     "name": "stdout",
     "output_type": "stream",
     "text": [
      "Current memory usage: 1202.81 MB\n",
      "Reading CSV file: 202310-citibike-tripdata_1.csv\n"
     ]
    },
    {
     "name": "stderr",
     "output_type": "stream",
     "text": [
      "C:\\Users\\rajpprit\\AppData\\Local\\Temp\\ipykernel_5372\\2931885762.py:35: DtypeWarning: Columns (5,7) have mixed types. Specify dtype option on import or set low_memory=False.\n",
      "  df = pd.read_csv(f)\n"
     ]
    },
    {
     "name": "stdout",
     "output_type": "stream",
     "text": [
      "Current memory usage: 1798.45 MB\n",
      "Reading CSV file: 202310-citibike-tripdata_4.csv\n"
     ]
    },
    {
     "name": "stderr",
     "output_type": "stream",
     "text": [
      "C:\\Users\\rajpprit\\AppData\\Local\\Temp\\ipykernel_5372\\2931885762.py:35: DtypeWarning: Columns (7) have mixed types. Specify dtype option on import or set low_memory=False.\n",
      "  df = pd.read_csv(f)\n"
     ]
    },
    {
     "name": "stdout",
     "output_type": "stream",
     "text": [
      "Current memory usage: 2236.04 MB\n",
      "Found nested zip file: 2023-citibike-tripdata/202304-citibike-tripdata.zip\n",
      "Reading CSV file: 202304-citibike-tripdata_3.csv\n"
     ]
    },
    {
     "name": "stderr",
     "output_type": "stream",
     "text": [
      "C:\\Users\\rajpprit\\AppData\\Local\\Temp\\ipykernel_5372\\2931885762.py:35: DtypeWarning: Columns (5,7) have mixed types. Specify dtype option on import or set low_memory=False.\n",
      "  df = pd.read_csv(f)\n"
     ]
    },
    {
     "name": "stdout",
     "output_type": "stream",
     "text": [
      "Current memory usage: 437.36 MB\n",
      "Reading CSV file: 202304-citibike-tripdata_2.csv\n"
     ]
    },
    {
     "name": "stderr",
     "output_type": "stream",
     "text": [
      "C:\\Users\\rajpprit\\AppData\\Local\\Temp\\ipykernel_5372\\2931885762.py:35: DtypeWarning: Columns (5,7) have mixed types. Specify dtype option on import or set low_memory=False.\n",
      "  df = pd.read_csv(f)\n"
     ]
    },
    {
     "name": "stdout",
     "output_type": "stream",
     "text": [
      "Current memory usage: 1025.02 MB\n",
      "Reading CSV file: 202304-citibike-tripdata_1.csv\n"
     ]
    },
    {
     "name": "stderr",
     "output_type": "stream",
     "text": [
      "C:\\Users\\rajpprit\\AppData\\Local\\Temp\\ipykernel_5372\\2931885762.py:35: DtypeWarning: Columns (5) have mixed types. Specify dtype option on import or set low_memory=False.\n",
      "  df = pd.read_csv(f)\n"
     ]
    },
    {
     "name": "stdout",
     "output_type": "stream",
     "text": [
      "Current memory usage: 1624.01 MB\n",
      "Found nested zip file: 2023-citibike-tripdata/202312-citibike-tripdata.zip\n",
      "Reading CSV file: 202312-citibike-tripdata_2.csv\n"
     ]
    },
    {
     "name": "stderr",
     "output_type": "stream",
     "text": [
      "C:\\Users\\rajpprit\\AppData\\Local\\Temp\\ipykernel_5372\\2931885762.py:35: DtypeWarning: Columns (5,7) have mixed types. Specify dtype option on import or set low_memory=False.\n",
      "  df = pd.read_csv(f)\n"
     ]
    },
    {
     "name": "stdout",
     "output_type": "stream",
     "text": [
      "Current memory usage: 596.36 MB\n",
      "Reading CSV file: 202312-citibike-tripdata_3.csv\n"
     ]
    },
    {
     "name": "stderr",
     "output_type": "stream",
     "text": [
      "C:\\Users\\rajpprit\\AppData\\Local\\Temp\\ipykernel_5372\\2931885762.py:35: DtypeWarning: Columns (7) have mixed types. Specify dtype option on import or set low_memory=False.\n",
      "  df = pd.read_csv(f)\n"
     ]
    },
    {
     "name": "stdout",
     "output_type": "stream",
     "text": [
      "Current memory usage: 709.25 MB\n",
      "Reading CSV file: 202312-citibike-tripdata_1.csv\n",
      "Current memory usage: 1316.43 MB\n",
      "Found nested zip file: 2023-citibike-tripdata/202303-citibike-tripdata.zip\n",
      "Reading CSV file: 202303-citibike-tripdata_1.csv\n"
     ]
    },
    {
     "name": "stderr",
     "output_type": "stream",
     "text": [
      "C:\\Users\\rajpprit\\AppData\\Local\\Temp\\ipykernel_5372\\2931885762.py:35: DtypeWarning: Columns (7) have mixed types. Specify dtype option on import or set low_memory=False.\n",
      "  df = pd.read_csv(f)\n"
     ]
    },
    {
     "name": "stdout",
     "output_type": "stream",
     "text": [
      "Current memory usage: 557.07 MB\n",
      "Reading CSV file: 202303-citibike-tripdata_2.csv\n"
     ]
    },
    {
     "name": "stderr",
     "output_type": "stream",
     "text": [
      "C:\\Users\\rajpprit\\AppData\\Local\\Temp\\ipykernel_5372\\2931885762.py:35: DtypeWarning: Columns (7) have mixed types. Specify dtype option on import or set low_memory=False.\n",
      "  df = pd.read_csv(f)\n"
     ]
    },
    {
     "name": "stdout",
     "output_type": "stream",
     "text": [
      "Current memory usage: 1112.37 MB\n",
      "Reading CSV file: 202303-citibike-tripdata_3.csv\n"
     ]
    },
    {
     "name": "stderr",
     "output_type": "stream",
     "text": [
      "C:\\Users\\rajpprit\\AppData\\Local\\Temp\\ipykernel_5372\\2931885762.py:35: DtypeWarning: Columns (7) have mixed types. Specify dtype option on import or set low_memory=False.\n",
      "  df = pd.read_csv(f)\n"
     ]
    },
    {
     "name": "stdout",
     "output_type": "stream",
     "text": [
      "Current memory usage: 1177.59 MB\n",
      "Found nested zip file: 2023-citibike-tripdata/202301-citibike-tripdata.zip\n",
      "Reading CSV file: 202301-citibike-tripdata_1.csv\n"
     ]
    },
    {
     "name": "stderr",
     "output_type": "stream",
     "text": [
      "C:\\Users\\rajpprit\\AppData\\Local\\Temp\\ipykernel_5372\\2931885762.py:35: DtypeWarning: Columns (5,7) have mixed types. Specify dtype option on import or set low_memory=False.\n",
      "  df = pd.read_csv(f)\n"
     ]
    },
    {
     "name": "stdout",
     "output_type": "stream",
     "text": [
      "Current memory usage: 595.08 MB\n",
      "Reading CSV file: 202301-citibike-tripdata_2.csv\n"
     ]
    },
    {
     "name": "stderr",
     "output_type": "stream",
     "text": [
      "C:\\Users\\rajpprit\\AppData\\Local\\Temp\\ipykernel_5372\\2931885762.py:35: DtypeWarning: Columns (5,7) have mixed types. Specify dtype option on import or set low_memory=False.\n",
      "  df = pd.read_csv(f)\n"
     ]
    },
    {
     "name": "stdout",
     "output_type": "stream",
     "text": [
      "Current memory usage: 1064.77 MB\n",
      "Found nested zip file: 2023-citibike-tripdata/202309-citibike-tripdata.zip\n",
      "Reading CSV file: 202309-citibike-tripdata_3.csv\n"
     ]
    },
    {
     "name": "stderr",
     "output_type": "stream",
     "text": [
      "C:\\Users\\rajpprit\\AppData\\Local\\Temp\\ipykernel_5372\\2931885762.py:35: DtypeWarning: Columns (5,7) have mixed types. Specify dtype option on import or set low_memory=False.\n",
      "  df = pd.read_csv(f)\n"
     ]
    },
    {
     "name": "stdout",
     "output_type": "stream",
     "text": [
      "Current memory usage: 597.94 MB\n",
      "Reading CSV file: 202309-citibike-tripdata_2.csv\n"
     ]
    },
    {
     "name": "stderr",
     "output_type": "stream",
     "text": [
      "C:\\Users\\rajpprit\\AppData\\Local\\Temp\\ipykernel_5372\\2931885762.py:35: DtypeWarning: Columns (5,7) have mixed types. Specify dtype option on import or set low_memory=False.\n",
      "  df = pd.read_csv(f)\n"
     ]
    },
    {
     "name": "stdout",
     "output_type": "stream",
     "text": [
      "Current memory usage: 1202.40 MB\n",
      "Reading CSV file: 202309-citibike-tripdata_1.csv\n"
     ]
    },
    {
     "name": "stderr",
     "output_type": "stream",
     "text": [
      "C:\\Users\\rajpprit\\AppData\\Local\\Temp\\ipykernel_5372\\2931885762.py:35: DtypeWarning: Columns (5,7) have mixed types. Specify dtype option on import or set low_memory=False.\n",
      "  df = pd.read_csv(f)\n"
     ]
    },
    {
     "name": "stdout",
     "output_type": "stream",
     "text": [
      "Current memory usage: 1798.99 MB\n",
      "Reading CSV file: 202309-citibike-tripdata_4.csv\n"
     ]
    },
    {
     "name": "stderr",
     "output_type": "stream",
     "text": [
      "C:\\Users\\rajpprit\\AppData\\Local\\Temp\\ipykernel_5372\\2931885762.py:35: DtypeWarning: Columns (5,7) have mixed types. Specify dtype option on import or set low_memory=False.\n",
      "  df = pd.read_csv(f)\n"
     ]
    },
    {
     "name": "stdout",
     "output_type": "stream",
     "text": [
      "Current memory usage: 2083.05 MB\n",
      "Found nested zip file: 2023-citibike-tripdata/202311-citibike-tripdata.zip\n",
      "Reading CSV file: 202311-citibike-tripdata_1.csv\n"
     ]
    },
    {
     "name": "stderr",
     "output_type": "stream",
     "text": [
      "C:\\Users\\rajpprit\\AppData\\Local\\Temp\\ipykernel_5372\\2931885762.py:35: DtypeWarning: Columns (7) have mixed types. Specify dtype option on import or set low_memory=False.\n",
      "  df = pd.read_csv(f)\n"
     ]
    },
    {
     "name": "stdout",
     "output_type": "stream",
     "text": [
      "Current memory usage: 606.60 MB\n",
      "Reading CSV file: 202311-citibike-tripdata_2.csv\n"
     ]
    },
    {
     "name": "stderr",
     "output_type": "stream",
     "text": [
      "C:\\Users\\rajpprit\\AppData\\Local\\Temp\\ipykernel_5372\\2931885762.py:35: DtypeWarning: Columns (7) have mixed types. Specify dtype option on import or set low_memory=False.\n",
      "  df = pd.read_csv(f)\n"
     ]
    },
    {
     "name": "stdout",
     "output_type": "stream",
     "text": [
      "Current memory usage: 1209.31 MB\n",
      "Reading CSV file: 202311-citibike-tripdata_3.csv\n"
     ]
    },
    {
     "name": "stderr",
     "output_type": "stream",
     "text": [
      "C:\\Users\\rajpprit\\AppData\\Local\\Temp\\ipykernel_5372\\2931885762.py:35: DtypeWarning: Columns (7) have mixed types. Specify dtype option on import or set low_memory=False.\n",
      "  df = pd.read_csv(f)\n"
     ]
    },
    {
     "name": "stdout",
     "output_type": "stream",
     "text": [
      "Current memory usage: 1702.17 MB\n",
      "Found nested zip file: 2023-citibike-tripdata/202307-citibike-tripdata.zip\n",
      "Reading CSV file: 202307-citibike-tripdata_4.csv\n"
     ]
    },
    {
     "name": "stderr",
     "output_type": "stream",
     "text": [
      "C:\\Users\\rajpprit\\AppData\\Local\\Temp\\ipykernel_5372\\2931885762.py:35: DtypeWarning: Columns (5,7) have mixed types. Specify dtype option on import or set low_memory=False.\n",
      "  df = pd.read_csv(f)\n"
     ]
    },
    {
     "name": "stdout",
     "output_type": "stream",
     "text": [
      "Current memory usage: 390.08 MB\n",
      "Reading CSV file: 202307-citibike-tripdata_1.csv\n",
      "Current memory usage: 997.58 MB\n",
      "Reading CSV file: 202307-citibike-tripdata_3.csv\n"
     ]
    },
    {
     "name": "stderr",
     "output_type": "stream",
     "text": [
      "C:\\Users\\rajpprit\\AppData\\Local\\Temp\\ipykernel_5372\\2931885762.py:35: DtypeWarning: Columns (5) have mixed types. Specify dtype option on import or set low_memory=False.\n",
      "  df = pd.read_csv(f)\n"
     ]
    },
    {
     "name": "stdout",
     "output_type": "stream",
     "text": [
      "Current memory usage: 1601.86 MB\n",
      "Reading CSV file: 202307-citibike-tripdata_2.csv\n"
     ]
    },
    {
     "name": "stderr",
     "output_type": "stream",
     "text": [
      "C:\\Users\\rajpprit\\AppData\\Local\\Temp\\ipykernel_5372\\2931885762.py:35: DtypeWarning: Columns (5,7) have mixed types. Specify dtype option on import or set low_memory=False.\n",
      "  df = pd.read_csv(f)\n"
     ]
    },
    {
     "name": "stdout",
     "output_type": "stream",
     "text": [
      "Current memory usage: 2201.62 MB\n",
      "Found nested zip file: 2023-citibike-tripdata/202305-citibike-tripdata.zip\n",
      "Reading CSV file: 202305-citibike-tripdata_4.csv\n"
     ]
    },
    {
     "name": "stderr",
     "output_type": "stream",
     "text": [
      "C:\\Users\\rajpprit\\AppData\\Local\\Temp\\ipykernel_5372\\2931885762.py:35: DtypeWarning: Columns (7) have mixed types. Specify dtype option on import or set low_memory=False.\n",
      "  df = pd.read_csv(f)\n"
     ]
    },
    {
     "name": "stdout",
     "output_type": "stream",
     "text": [
      "Current memory usage: 250.48 MB\n",
      "Reading CSV file: 202305-citibike-tripdata_1.csv\n"
     ]
    },
    {
     "name": "stderr",
     "output_type": "stream",
     "text": [
      "C:\\Users\\rajpprit\\AppData\\Local\\Temp\\ipykernel_5372\\2931885762.py:35: DtypeWarning: Columns (7) have mixed types. Specify dtype option on import or set low_memory=False.\n",
      "  df = pd.read_csv(f)\n"
     ]
    },
    {
     "name": "stdout",
     "output_type": "stream",
     "text": [
      "Current memory usage: 801.91 MB\n",
      "Reading CSV file: 202305-citibike-tripdata_2.csv\n"
     ]
    },
    {
     "name": "stderr",
     "output_type": "stream",
     "text": [
      "C:\\Users\\rajpprit\\AppData\\Local\\Temp\\ipykernel_5372\\2931885762.py:35: DtypeWarning: Columns (7) have mixed types. Specify dtype option on import or set low_memory=False.\n",
      "  df = pd.read_csv(f)\n"
     ]
    },
    {
     "name": "stdout",
     "output_type": "stream",
     "text": [
      "Current memory usage: 1361.15 MB\n",
      "Reading CSV file: 202305-citibike-tripdata_3.csv\n"
     ]
    },
    {
     "name": "stderr",
     "output_type": "stream",
     "text": [
      "C:\\Users\\rajpprit\\AppData\\Local\\Temp\\ipykernel_5372\\2931885762.py:35: DtypeWarning: Columns (5,7) have mixed types. Specify dtype option on import or set low_memory=False.\n",
      "  df = pd.read_csv(f)\n"
     ]
    },
    {
     "name": "stdout",
     "output_type": "stream",
     "text": [
      "Current memory usage: 1938.02 MB\n",
      "Combining all DataFrames...\n",
      "Dropping duplicates...\n",
      "Saving DataFrame to df_2023.pkl...\n",
      "Final DataFrame shape: (35106986, 13)\n",
      "Processing complete. File saved as df_2023.pkl\n"
     ]
    }
   ],
   "source": [
    "for i in list1:\n",
    "    pickle_file = process_citibike_data(f'{i}-citibike-tripdata.zip')"
   ]
  },
  {
   "cell_type": "code",
   "execution_count": null,
   "id": "42db839a-f904-4b5b-9005-73b2fb7e1cb5",
   "metadata": {},
   "outputs": [],
   "source": []
  },
  {
   "cell_type": "code",
   "execution_count": 22,
   "id": "069e9abb-f417-4e85-ab64-084cb833185d",
   "metadata": {},
   "outputs": [
    {
     "name": "stdout",
     "output_type": "stream",
     "text": [
      "Variable      Type         Data/Info\n",
      "------------------------------------\n",
      "df_2013       DataFrame             tripduration    <...>614888 rows x 15 columns]\n",
      "df_combined   DataFrame             tripduration    <...>614888 rows x 15 columns]\n",
      "final_df      DataFrame              tripduration   <...>229776 rows x 15 columns]\n"
     ]
    }
   ],
   "source": [
    "%whos DataFrame"
   ]
  },
  {
   "cell_type": "code",
   "execution_count": null,
   "id": "2ffc616a-0f0f-4c3a-8d29-9f22a7e823fd",
   "metadata": {},
   "outputs": [],
   "source": []
  },
  {
   "cell_type": "markdown",
   "id": "758f18ed-c79d-4ef0-ae41-e7dc49dfb916",
   "metadata": {},
   "source": [
    "##### Importing files for years 2024 and 2025"
   ]
  },
  {
   "cell_type": "code",
   "execution_count": 40,
   "id": "97111da4-f30d-4d32-b766-41067faf5d8f",
   "metadata": {},
   "outputs": [],
   "source": [
    "def process_citibike_data1(zip_filename):\n",
    "    \"\"\"\n",
    "    Process Citibike data from a zip file, combine all CSVs, drop duplicates,\n",
    "    and save as pickle file.\n",
    "    \n",
    "    Parameters:\n",
    "    zip_filename (str): Name of the zip file (should contain year and month in format YYYYMM)\n",
    "    \n",
    "    Returns:\n",
    "    str: Name of the saved pickle file\n",
    "    \"\"\"\n",
    "    def extract_all_csvs(zip_path):\n",
    "        dfs = []\n",
    "        total_size = 0\n",
    "        \n",
    "        with zipfile.ZipFile(zip_path) as z:\n",
    "            for filename in z.namelist():\n",
    "                # Skip directories and __MACOSX folders\n",
    "                if filename.endswith('/') or '__MACOSX' in filename:\n",
    "                    continue\n",
    "                    \n",
    "                _, ext = os.path.splitext(filename)\n",
    "                \n",
    "                if ext.lower() == '.csv':\n",
    "                    with z.open(filename) as f:\n",
    "                        print(f\"Reading CSV file: {filename}\")\n",
    "                        try:\n",
    "                            df = pd.read_csv(f)\n",
    "                            # Check if DataFrame is compatible\n",
    "                            if dfs and set(df.columns) != set(dfs[0].columns):\n",
    "                                print(f\"Warning: {filename} has different columns\")\n",
    "                                continue\n",
    "                            dfs.append(df)\n",
    "                            total_size += df.memory_usage(deep=True).sum() / 1e6  # Size in MB\n",
    "                            print(f\"Current memory usage: {total_size:.2f} MB\")\n",
    "                        except Exception as e:\n",
    "                            print(f\"Error reading {filename}: {e}\")\n",
    "                            \n",
    "                elif ext.lower() == '.zip':\n",
    "                    print(f\"Found nested zip file: {filename}\")\n",
    "                    with z.open(filename) as nested_zip_file:\n",
    "                        nested_zip_data = BytesIO(nested_zip_file.read())\n",
    "                        try:\n",
    "                            nested_dfs = extract_all_csvs(nested_zip_data)\n",
    "                            dfs.extend(nested_dfs)\n",
    "                        except Exception as e:\n",
    "                            print(f\"Error processing nested zip {filename}: {e}\")\n",
    "        \n",
    "        return dfs\n",
    "\n",
    "    try:\n",
    "        # Extract year and month from filename using regex\n",
    "        date_match = re.search(r'(\\d{6})', zip_filename)\n",
    "        if date_match:\n",
    "            date_str = date_match.group(1)\n",
    "        else:\n",
    "            raise ValueError(\"Could not extract year and month from filename\")\n",
    "        \n",
    "        # Get all DataFrames\n",
    "        print(f\"Processing {zip_filename}...\")\n",
    "        all_dfs = extract_all_csvs(zip_filename)\n",
    "        \n",
    "        # Combine them if any were found\n",
    "        if all_dfs:\n",
    "            # Combine all DataFrames\n",
    "            print(\"Combining all DataFrames...\")\n",
    "            df_combined = pd.concat(all_dfs, ignore_index=True)\n",
    "            \n",
    "            # Clear memory of individual DataFrames\n",
    "            del all_dfs\n",
    "            gc.collect()\n",
    "            \n",
    "            # Drop duplicates\n",
    "            print(\"Dropping duplicates...\")\n",
    "            df_combined = df_combined.drop_duplicates()\n",
    "            \n",
    "            # Create dynamic variable name and filename\n",
    "            df_name = f'df_{date_str}'\n",
    "            pickle_filename = f'{df_name}.pkl'\n",
    "            \n",
    "            # Save the DataFrame to a pickle file\n",
    "            print(f\"Saving DataFrame to {pickle_filename}...\")\n",
    "            df_combined.to_pickle(pickle_filename)\n",
    "            \n",
    "            # Print final shape\n",
    "            print(f\"Final DataFrame shape: {df_combined.shape}\")\n",
    "            \n",
    "            # Clear memory\n",
    "            del df_combined\n",
    "            gc.collect()\n",
    "            \n",
    "            print(f\"Processing complete. File saved as {pickle_filename}\")\n",
    "            return pickle_filename\n",
    "            \n",
    "        else:\n",
    "            print(\"No CSV files found\")\n",
    "            return None\n",
    "            \n",
    "    except Exception as e:\n",
    "        print(f\"Error processing main zip file: {e}\")\n",
    "        return None"
   ]
  },
  {
   "cell_type": "code",
   "execution_count": null,
   "id": "a1e877ae-ef9d-4832-a762-0c47cfe5103c",
   "metadata": {},
   "outputs": [],
   "source": []
  },
  {
   "cell_type": "code",
   "execution_count": 41,
   "id": "27a1d200-217a-4608-b880-2ef2d111d572",
   "metadata": {},
   "outputs": [
    {
     "name": "stdout",
     "output_type": "stream",
     "text": [
      "Processing 202401-citibike-tripdata.zip...\n",
      "Reading CSV file: 202401-citibike-tripdata_2.csv\n"
     ]
    },
    {
     "name": "stderr",
     "output_type": "stream",
     "text": [
      "C:\\Users\\rajpprit\\AppData\\Local\\Temp\\ipykernel_5372\\3808419965.py:28: DtypeWarning: Columns (5,7) have mixed types. Specify dtype option on import or set low_memory=False.\n",
      "  df = pd.read_csv(f)\n"
     ]
    },
    {
     "name": "stdout",
     "output_type": "stream",
     "text": [
      "Current memory usage: 527.30 MB\n",
      "Reading CSV file: 202401-citibike-tripdata_1.csv\n"
     ]
    },
    {
     "name": "stderr",
     "output_type": "stream",
     "text": [
      "C:\\Users\\rajpprit\\AppData\\Local\\Temp\\ipykernel_5372\\3808419965.py:28: DtypeWarning: Columns (5) have mixed types. Specify dtype option on import or set low_memory=False.\n",
      "  df = pd.read_csv(f)\n"
     ]
    },
    {
     "name": "stdout",
     "output_type": "stream",
     "text": [
      "Current memory usage: 1124.63 MB\n",
      "Combining all DataFrames...\n",
      "Dropping duplicates...\n",
      "Saving DataFrame to df_202401.pkl...\n",
      "Final DataFrame shape: (1888085, 13)\n",
      "Processing complete. File saved as df_202401.pkl\n"
     ]
    }
   ],
   "source": [
    "# Example usage:\n",
    "if __name__ == \"__main__\":\n",
    "    # Process single file\n",
    "    pickle_file = process_citibike_data1('202401-citibike-tripdata.zip')"
   ]
  },
  {
   "cell_type": "code",
   "execution_count": 67,
   "id": "44aba0f3-020c-422c-acb2-034e91ad778b",
   "metadata": {},
   "outputs": [],
   "source": [
    "list2 = [i for i in np.arange(202402, 202413, 1)]\n",
    "list3 = [i for i in np.arange(202501, 202508, 1)]"
   ]
  },
  {
   "cell_type": "code",
   "execution_count": 68,
   "id": "8cdb1d6a-3421-4b71-aa32-264f7e9ca5a9",
   "metadata": {},
   "outputs": [],
   "source": [
    "list4 = list2+list3\n",
    "# list4"
   ]
  },
  {
   "cell_type": "code",
   "execution_count": null,
   "id": "bf4b3ec0-a0fa-4339-b2a6-3fe8f2682c71",
   "metadata": {},
   "outputs": [],
   "source": []
  },
  {
   "cell_type": "code",
   "execution_count": 62,
   "id": "edab76f3-65a0-4f27-af02-c6f7cf5031c8",
   "metadata": {},
   "outputs": [
    {
     "name": "stdout",
     "output_type": "stream",
     "text": [
      "Processing 202402-citibike-tripdata.zip...\n",
      "Reading CSV file: 202402-citibike-tripdata_1.csv\n"
     ]
    },
    {
     "name": "stderr",
     "output_type": "stream",
     "text": [
      "C:\\Users\\rajpprit\\AppData\\Local\\Temp\\ipykernel_5372\\3808419965.py:28: DtypeWarning: Columns (5,7) have mixed types. Specify dtype option on import or set low_memory=False.\n",
      "  df = pd.read_csv(f)\n"
     ]
    },
    {
     "name": "stdout",
     "output_type": "stream",
     "text": [
      "Current memory usage: 600.62 MB\n",
      "Reading CSV file: 202402-citibike-tripdata_2.csv\n"
     ]
    },
    {
     "name": "stderr",
     "output_type": "stream",
     "text": [
      "C:\\Users\\rajpprit\\AppData\\Local\\Temp\\ipykernel_5372\\3808419965.py:28: DtypeWarning: Columns (7) have mixed types. Specify dtype option on import or set low_memory=False.\n",
      "  df = pd.read_csv(f)\n"
     ]
    },
    {
     "name": "stdout",
     "output_type": "stream",
     "text": [
      "Current memory usage: 1204.16 MB\n",
      "Reading CSV file: 202402-citibike-tripdata_3.csv\n"
     ]
    },
    {
     "name": "stderr",
     "output_type": "stream",
     "text": [
      "C:\\Users\\rajpprit\\AppData\\Local\\Temp\\ipykernel_5372\\3808419965.py:28: DtypeWarning: Columns (7) have mixed types. Specify dtype option on import or set low_memory=False.\n",
      "  df = pd.read_csv(f)\n"
     ]
    },
    {
     "name": "stdout",
     "output_type": "stream",
     "text": [
      "Current memory usage: 1276.32 MB\n",
      "Combining all DataFrames...\n",
      "Dropping duplicates...\n",
      "Saving DataFrame to df_202402.pkl...\n",
      "Final DataFrame shape: (2121501, 13)\n",
      "Processing complete. File saved as df_202402.pkl\n",
      "Processing 202403-citibike-tripdata.zip...\n",
      "Reading CSV file: 202403-citibike-tripdata_3.csv\n"
     ]
    },
    {
     "name": "stderr",
     "output_type": "stream",
     "text": [
      "C:\\Users\\rajpprit\\AppData\\Local\\Temp\\ipykernel_5372\\3808419965.py:28: DtypeWarning: Columns (5,7) have mixed types. Specify dtype option on import or set low_memory=False.\n",
      "  df = pd.read_csv(f)\n"
     ]
    },
    {
     "name": "stdout",
     "output_type": "stream",
     "text": [
      "Current memory usage: 399.63 MB\n",
      "Reading CSV file: 202403-citibike-tripdata_2.csv\n"
     ]
    },
    {
     "name": "stderr",
     "output_type": "stream",
     "text": [
      "C:\\Users\\rajpprit\\AppData\\Local\\Temp\\ipykernel_5372\\3808419965.py:28: DtypeWarning: Columns (5,7) have mixed types. Specify dtype option on import or set low_memory=False.\n",
      "  df = pd.read_csv(f)\n"
     ]
    },
    {
     "name": "stdout",
     "output_type": "stream",
     "text": [
      "Current memory usage: 995.76 MB\n",
      "Reading CSV file: 202403-citibike-tripdata_1.csv\n"
     ]
    },
    {
     "name": "stderr",
     "output_type": "stream",
     "text": [
      "C:\\Users\\rajpprit\\AppData\\Local\\Temp\\ipykernel_5372\\3808419965.py:28: DtypeWarning: Columns (5,7) have mixed types. Specify dtype option on import or set low_memory=False.\n",
      "  df = pd.read_csv(f)\n"
     ]
    },
    {
     "name": "stdout",
     "output_type": "stream",
     "text": [
      "Current memory usage: 1591.42 MB\n",
      "Combining all DataFrames...\n",
      "Dropping duplicates...\n",
      "Saving DataFrame to df_202403.pkl...\n",
      "Final DataFrame shape: (2663295, 13)\n",
      "Processing complete. File saved as df_202403.pkl\n",
      "Processing 202404-citibike-tripdata.zip...\n",
      "Reading CSV file: 202404-citibike-tripdata_4.csv\n",
      "Current memory usage: 131.92 MB\n",
      "Reading CSV file: 202404-citibike-tripdata_1.csv\n"
     ]
    },
    {
     "name": "stderr",
     "output_type": "stream",
     "text": [
      "C:\\Users\\rajpprit\\AppData\\Local\\Temp\\ipykernel_5372\\3808419965.py:28: DtypeWarning: Columns (5,7) have mixed types. Specify dtype option on import or set low_memory=False.\n",
      "  df = pd.read_csv(f)\n"
     ]
    },
    {
     "name": "stdout",
     "output_type": "stream",
     "text": [
      "Current memory usage: 725.45 MB\n",
      "Reading CSV file: 202404-citibike-tripdata_2.csv\n"
     ]
    },
    {
     "name": "stderr",
     "output_type": "stream",
     "text": [
      "C:\\Users\\rajpprit\\AppData\\Local\\Temp\\ipykernel_5372\\3808419965.py:28: DtypeWarning: Columns (5) have mixed types. Specify dtype option on import or set low_memory=False.\n",
      "  df = pd.read_csv(f)\n"
     ]
    },
    {
     "name": "stdout",
     "output_type": "stream",
     "text": [
      "Current memory usage: 1329.66 MB\n",
      "Reading CSV file: 202404-citibike-tripdata_3.csv\n"
     ]
    },
    {
     "name": "stderr",
     "output_type": "stream",
     "text": [
      "C:\\Users\\rajpprit\\AppData\\Local\\Temp\\ipykernel_5372\\3808419965.py:28: DtypeWarning: Columns (5,7) have mixed types. Specify dtype option on import or set low_memory=False.\n",
      "  df = pd.read_csv(f)\n"
     ]
    },
    {
     "name": "stdout",
     "output_type": "stream",
     "text": [
      "Current memory usage: 1928.37 MB\n",
      "Combining all DataFrames...\n",
      "Dropping duplicates...\n",
      "Saving DataFrame to df_202404.pkl...\n",
      "Final DataFrame shape: (3217063, 13)\n",
      "Processing complete. File saved as df_202404.pkl\n",
      "Processing 202405-citibike-tripdata.zip...\n",
      "Reading CSV file: 202405-citibike-tripdata_3.csv\n"
     ]
    },
    {
     "name": "stderr",
     "output_type": "stream",
     "text": [
      "C:\\Users\\rajpprit\\AppData\\Local\\Temp\\ipykernel_5372\\3808419965.py:28: DtypeWarning: Columns (5,7) have mixed types. Specify dtype option on import or set low_memory=False.\n",
      "  df = pd.read_csv(f)\n"
     ]
    },
    {
     "name": "stdout",
     "output_type": "stream",
     "text": [
      "Current memory usage: 599.14 MB\n",
      "Reading CSV file: 202405-citibike-tripdata_2.csv\n"
     ]
    },
    {
     "name": "stderr",
     "output_type": "stream",
     "text": [
      "C:\\Users\\rajpprit\\AppData\\Local\\Temp\\ipykernel_5372\\3808419965.py:28: DtypeWarning: Columns (5,7) have mixed types. Specify dtype option on import or set low_memory=False.\n",
      "  df = pd.read_csv(f)\n"
     ]
    },
    {
     "name": "stdout",
     "output_type": "stream",
     "text": [
      "Current memory usage: 1201.42 MB\n",
      "Reading CSV file: 202405-citibike-tripdata_1.csv\n"
     ]
    },
    {
     "name": "stderr",
     "output_type": "stream",
     "text": [
      "C:\\Users\\rajpprit\\AppData\\Local\\Temp\\ipykernel_5372\\3808419965.py:28: DtypeWarning: Columns (5,7) have mixed types. Specify dtype option on import or set low_memory=False.\n",
      "  df = pd.read_csv(f)\n"
     ]
    },
    {
     "name": "stdout",
     "output_type": "stream",
     "text": [
      "Current memory usage: 1802.39 MB\n",
      "Reading CSV file: 202405-citibike-tripdata_5.csv\n"
     ]
    },
    {
     "name": "stderr",
     "output_type": "stream",
     "text": [
      "C:\\Users\\rajpprit\\AppData\\Local\\Temp\\ipykernel_5372\\3808419965.py:28: DtypeWarning: Columns (5) have mixed types. Specify dtype option on import or set low_memory=False.\n",
      "  df = pd.read_csv(f)\n"
     ]
    },
    {
     "name": "stdout",
     "output_type": "stream",
     "text": [
      "Current memory usage: 1882.07 MB\n",
      "Reading CSV file: 202405-citibike-tripdata_4.csv\n"
     ]
    },
    {
     "name": "stderr",
     "output_type": "stream",
     "text": [
      "C:\\Users\\rajpprit\\AppData\\Local\\Temp\\ipykernel_5372\\3808419965.py:28: DtypeWarning: Columns (5,7) have mixed types. Specify dtype option on import or set low_memory=False.\n",
      "  df = pd.read_csv(f)\n"
     ]
    },
    {
     "name": "stdout",
     "output_type": "stream",
     "text": [
      "Current memory usage: 2483.27 MB\n",
      "Combining all DataFrames...\n",
      "Dropping duplicates...\n",
      "Saving DataFrame to df_202405.pkl...\n",
      "Final DataFrame shape: (4133961, 13)\n",
      "Processing complete. File saved as df_202405.pkl\n",
      "Processing 202406-citibike-tripdata.zip...\n",
      "Reading CSV file: 202406-citibike-tripdata_5.csv\n"
     ]
    },
    {
     "name": "stderr",
     "output_type": "stream",
     "text": [
      "C:\\Users\\rajpprit\\AppData\\Local\\Temp\\ipykernel_5372\\3808419965.py:28: DtypeWarning: Columns (5,7) have mixed types. Specify dtype option on import or set low_memory=False.\n",
      "  df = pd.read_csv(f)\n"
     ]
    },
    {
     "name": "stdout",
     "output_type": "stream",
     "text": [
      "Current memory usage: 469.89 MB\n",
      "Reading CSV file: 202406-citibike-tripdata_4.csv\n"
     ]
    },
    {
     "name": "stderr",
     "output_type": "stream",
     "text": [
      "C:\\Users\\rajpprit\\AppData\\Local\\Temp\\ipykernel_5372\\3808419965.py:28: DtypeWarning: Columns (5,7) have mixed types. Specify dtype option on import or set low_memory=False.\n",
      "  df = pd.read_csv(f)\n"
     ]
    },
    {
     "name": "stdout",
     "output_type": "stream",
     "text": [
      "Current memory usage: 1071.38 MB\n",
      "Reading CSV file: 202406-citibike-tripdata_1.csv\n"
     ]
    },
    {
     "name": "stderr",
     "output_type": "stream",
     "text": [
      "C:\\Users\\rajpprit\\AppData\\Local\\Temp\\ipykernel_5372\\3808419965.py:28: DtypeWarning: Columns (5,7) have mixed types. Specify dtype option on import or set low_memory=False.\n",
      "  df = pd.read_csv(f)\n"
     ]
    },
    {
     "name": "stdout",
     "output_type": "stream",
     "text": [
      "Current memory usage: 1674.19 MB\n",
      "Reading CSV file: 202406-citibike-tripdata_3.csv\n"
     ]
    },
    {
     "name": "stderr",
     "output_type": "stream",
     "text": [
      "C:\\Users\\rajpprit\\AppData\\Local\\Temp\\ipykernel_5372\\3808419965.py:28: DtypeWarning: Columns (5,7) have mixed types. Specify dtype option on import or set low_memory=False.\n",
      "  df = pd.read_csv(f)\n"
     ]
    },
    {
     "name": "stdout",
     "output_type": "stream",
     "text": [
      "Current memory usage: 2272.00 MB\n",
      "Reading CSV file: 202406-citibike-tripdata_2.csv\n"
     ]
    },
    {
     "name": "stderr",
     "output_type": "stream",
     "text": [
      "C:\\Users\\rajpprit\\AppData\\Local\\Temp\\ipykernel_5372\\3808419965.py:28: DtypeWarning: Columns (5,7) have mixed types. Specify dtype option on import or set low_memory=False.\n",
      "  df = pd.read_csv(f)\n"
     ]
    },
    {
     "name": "stdout",
     "output_type": "stream",
     "text": [
      "Current memory usage: 2877.33 MB\n",
      "Combining all DataFrames...\n",
      "Dropping duplicates...\n",
      "Saving DataFrame to df_202406.pkl...\n",
      "Final DataFrame shape: (4783576, 13)\n",
      "Processing complete. File saved as df_202406.pkl\n",
      "Processing 202407-citibike-tripdata.zip...\n",
      "Reading CSV file: 202407-citibike-tripdata_2.csv\n"
     ]
    },
    {
     "name": "stderr",
     "output_type": "stream",
     "text": [
      "C:\\Users\\rajpprit\\AppData\\Local\\Temp\\ipykernel_5372\\3808419965.py:28: DtypeWarning: Columns (7) have mixed types. Specify dtype option on import or set low_memory=False.\n",
      "  df = pd.read_csv(f)\n"
     ]
    },
    {
     "name": "stdout",
     "output_type": "stream",
     "text": [
      "Current memory usage: 602.64 MB\n",
      "Reading CSV file: 202407-citibike-tripdata_3.csv\n"
     ]
    },
    {
     "name": "stderr",
     "output_type": "stream",
     "text": [
      "C:\\Users\\rajpprit\\AppData\\Local\\Temp\\ipykernel_5372\\3808419965.py:28: DtypeWarning: Columns (7) have mixed types. Specify dtype option on import or set low_memory=False.\n",
      "  df = pd.read_csv(f)\n"
     ]
    },
    {
     "name": "stdout",
     "output_type": "stream",
     "text": [
      "Current memory usage: 1206.21 MB\n",
      "Reading CSV file: 202407-citibike-tripdata_1.csv\n"
     ]
    },
    {
     "name": "stderr",
     "output_type": "stream",
     "text": [
      "C:\\Users\\rajpprit\\AppData\\Local\\Temp\\ipykernel_5372\\3808419965.py:28: DtypeWarning: Columns (5,7) have mixed types. Specify dtype option on import or set low_memory=False.\n",
      "  df = pd.read_csv(f)\n"
     ]
    },
    {
     "name": "stdout",
     "output_type": "stream",
     "text": [
      "Current memory usage: 1813.80 MB\n",
      "Reading CSV file: 202407-citibike-tripdata_4.csv\n"
     ]
    },
    {
     "name": "stderr",
     "output_type": "stream",
     "text": [
      "C:\\Users\\rajpprit\\AppData\\Local\\Temp\\ipykernel_5372\\3808419965.py:28: DtypeWarning: Columns (7) have mixed types. Specify dtype option on import or set low_memory=False.\n",
      "  df = pd.read_csv(f)\n"
     ]
    },
    {
     "name": "stdout",
     "output_type": "stream",
     "text": [
      "Current memory usage: 2416.31 MB\n",
      "Reading CSV file: 202407-citibike-tripdata_5.csv\n"
     ]
    },
    {
     "name": "stderr",
     "output_type": "stream",
     "text": [
      "C:\\Users\\rajpprit\\AppData\\Local\\Temp\\ipykernel_5372\\3808419965.py:28: DtypeWarning: Columns (5,7) have mixed types. Specify dtype option on import or set low_memory=False.\n",
      "  df = pd.read_csv(f)\n"
     ]
    },
    {
     "name": "stdout",
     "output_type": "stream",
     "text": [
      "Current memory usage: 2849.17 MB\n",
      "Combining all DataFrames...\n",
      "Dropping duplicates...\n",
      "Saving DataFrame to df_202407.pkl...\n",
      "Final DataFrame shape: (4722896, 13)\n",
      "Processing complete. File saved as df_202407.pkl\n",
      "Processing 202408-citibike-tripdata.zip...\n",
      "Reading CSV file: 202408-citibike-tripdata_3.csv\n"
     ]
    },
    {
     "name": "stderr",
     "output_type": "stream",
     "text": [
      "C:\\Users\\rajpprit\\AppData\\Local\\Temp\\ipykernel_5372\\3808419965.py:28: DtypeWarning: Columns (5,7) have mixed types. Specify dtype option on import or set low_memory=False.\n",
      "  df = pd.read_csv(f)\n"
     ]
    },
    {
     "name": "stdout",
     "output_type": "stream",
     "text": [
      "Current memory usage: 604.54 MB\n",
      "Reading CSV file: 202408-citibike-tripdata_2.csv\n"
     ]
    },
    {
     "name": "stderr",
     "output_type": "stream",
     "text": [
      "C:\\Users\\rajpprit\\AppData\\Local\\Temp\\ipykernel_5372\\3808419965.py:28: DtypeWarning: Columns (5,7) have mixed types. Specify dtype option on import or set low_memory=False.\n",
      "  df = pd.read_csv(f)\n"
     ]
    },
    {
     "name": "stdout",
     "output_type": "stream",
     "text": [
      "Current memory usage: 1206.68 MB\n",
      "Reading CSV file: 202408-citibike-tripdata_1.csv\n"
     ]
    },
    {
     "name": "stderr",
     "output_type": "stream",
     "text": [
      "C:\\Users\\rajpprit\\AppData\\Local\\Temp\\ipykernel_5372\\3808419965.py:28: DtypeWarning: Columns (7) have mixed types. Specify dtype option on import or set low_memory=False.\n",
      "  df = pd.read_csv(f)\n"
     ]
    },
    {
     "name": "stdout",
     "output_type": "stream",
     "text": [
      "Current memory usage: 1813.18 MB\n",
      "Reading CSV file: 202408-citibike-tripdata_5.csv\n"
     ]
    },
    {
     "name": "stderr",
     "output_type": "stream",
     "text": [
      "C:\\Users\\rajpprit\\AppData\\Local\\Temp\\ipykernel_5372\\3808419965.py:28: DtypeWarning: Columns (5,7) have mixed types. Specify dtype option on import or set low_memory=False.\n",
      "  df = pd.read_csv(f)\n"
     ]
    },
    {
     "name": "stdout",
     "output_type": "stream",
     "text": [
      "Current memory usage: 2176.46 MB\n",
      "Reading CSV file: 202408-citibike-tripdata_4.csv\n"
     ]
    },
    {
     "name": "stderr",
     "output_type": "stream",
     "text": [
      "C:\\Users\\rajpprit\\AppData\\Local\\Temp\\ipykernel_5372\\3808419965.py:28: DtypeWarning: Columns (5,7) have mixed types. Specify dtype option on import or set low_memory=False.\n",
      "  df = pd.read_csv(f)\n"
     ]
    },
    {
     "name": "stdout",
     "output_type": "stream",
     "text": [
      "Current memory usage: 2782.05 MB\n",
      "Combining all DataFrames...\n",
      "Dropping duplicates...\n",
      "Saving DataFrame to df_202408.pkl...\n",
      "Final DataFrame shape: (4603575, 13)\n",
      "Processing complete. File saved as df_202408.pkl\n",
      "Processing 202409-citibike-tripdata.zip...\n",
      "Reading CSV file: 202409-citibike-tripdata_4.csv\n"
     ]
    },
    {
     "name": "stderr",
     "output_type": "stream",
     "text": [
      "C:\\Users\\rajpprit\\AppData\\Local\\Temp\\ipykernel_5372\\3808419965.py:28: DtypeWarning: Columns (7) have mixed types. Specify dtype option on import or set low_memory=False.\n",
      "  df = pd.read_csv(f)\n"
     ]
    },
    {
     "name": "stdout",
     "output_type": "stream",
     "text": [
      "Current memory usage: 602.63 MB\n",
      "Reading CSV file: 202409-citibike-tripdata_5.csv\n"
     ]
    },
    {
     "name": "stderr",
     "output_type": "stream",
     "text": [
      "C:\\Users\\rajpprit\\AppData\\Local\\Temp\\ipykernel_5372\\3808419965.py:28: DtypeWarning: Columns (5,7) have mixed types. Specify dtype option on import or set low_memory=False.\n",
      "  df = pd.read_csv(f)\n"
     ]
    },
    {
     "name": "stdout",
     "output_type": "stream",
     "text": [
      "Current memory usage: 1198.74 MB\n",
      "Reading CSV file: 202409-citibike-tripdata_1.csv\n"
     ]
    },
    {
     "name": "stderr",
     "output_type": "stream",
     "text": [
      "C:\\Users\\rajpprit\\AppData\\Local\\Temp\\ipykernel_5372\\3808419965.py:28: DtypeWarning: Columns (5,7) have mixed types. Specify dtype option on import or set low_memory=False.\n",
      "  df = pd.read_csv(f)\n"
     ]
    },
    {
     "name": "stdout",
     "output_type": "stream",
     "text": [
      "Current memory usage: 1798.43 MB\n",
      "Reading CSV file: 202409-citibike-tripdata_2.csv\n"
     ]
    },
    {
     "name": "stderr",
     "output_type": "stream",
     "text": [
      "C:\\Users\\rajpprit\\AppData\\Local\\Temp\\ipykernel_5372\\3808419965.py:28: DtypeWarning: Columns (7) have mixed types. Specify dtype option on import or set low_memory=False.\n",
      "  df = pd.read_csv(f)\n"
     ]
    },
    {
     "name": "stdout",
     "output_type": "stream",
     "text": [
      "Current memory usage: 2401.02 MB\n",
      "Reading CSV file: 202409-citibike-tripdata_3.csv\n"
     ]
    },
    {
     "name": "stderr",
     "output_type": "stream",
     "text": [
      "C:\\Users\\rajpprit\\AppData\\Local\\Temp\\ipykernel_5372\\3808419965.py:28: DtypeWarning: Columns (7) have mixed types. Specify dtype option on import or set low_memory=False.\n",
      "  df = pd.read_csv(f)\n"
     ]
    },
    {
     "name": "stdout",
     "output_type": "stream",
     "text": [
      "Current memory usage: 2999.85 MB\n",
      "Combining all DataFrames...\n",
      "Dropping duplicates...\n",
      "Saving DataFrame to df_202409.pkl...\n",
      "Final DataFrame shape: (4997898, 13)\n",
      "Processing complete. File saved as df_202409.pkl\n",
      "Processing 202410-citibike-tripdata.zip...\n",
      "Reading CSV file: 202410-citibike-tripdata_6.csv\n"
     ]
    },
    {
     "name": "stderr",
     "output_type": "stream",
     "text": [
      "C:\\Users\\rajpprit\\AppData\\Local\\Temp\\ipykernel_5372\\3808419965.py:28: DtypeWarning: Columns (5,7) have mixed types. Specify dtype option on import or set low_memory=False.\n",
      "  df = pd.read_csv(f)\n"
     ]
    },
    {
     "name": "stdout",
     "output_type": "stream",
     "text": [
      "Current memory usage: 90.27 MB\n",
      "Reading CSV file: 202410-citibike-tripdata_4.csv\n"
     ]
    },
    {
     "name": "stderr",
     "output_type": "stream",
     "text": [
      "C:\\Users\\rajpprit\\AppData\\Local\\Temp\\ipykernel_5372\\3808419965.py:28: DtypeWarning: Columns (7) have mixed types. Specify dtype option on import or set low_memory=False.\n",
      "  df = pd.read_csv(f)\n"
     ]
    },
    {
     "name": "stdout",
     "output_type": "stream",
     "text": [
      "Current memory usage: 695.72 MB\n",
      "Reading CSV file: 202410-citibike-tripdata_5.csv\n"
     ]
    },
    {
     "name": "stderr",
     "output_type": "stream",
     "text": [
      "C:\\Users\\rajpprit\\AppData\\Local\\Temp\\ipykernel_5372\\3808419965.py:28: DtypeWarning: Columns (5,7) have mixed types. Specify dtype option on import or set low_memory=False.\n",
      "  df = pd.read_csv(f)\n"
     ]
    },
    {
     "name": "stdout",
     "output_type": "stream",
     "text": [
      "Current memory usage: 1293.96 MB\n",
      "Reading CSV file: 202410-citibike-tripdata_1.csv\n"
     ]
    },
    {
     "name": "stderr",
     "output_type": "stream",
     "text": [
      "C:\\Users\\rajpprit\\AppData\\Local\\Temp\\ipykernel_5372\\3808419965.py:28: DtypeWarning: Columns (5) have mixed types. Specify dtype option on import or set low_memory=False.\n",
      "  df = pd.read_csv(f)\n"
     ]
    },
    {
     "name": "stdout",
     "output_type": "stream",
     "text": [
      "Current memory usage: 1900.16 MB\n",
      "Reading CSV file: 202410-citibike-tripdata_2.csv\n"
     ]
    },
    {
     "name": "stderr",
     "output_type": "stream",
     "text": [
      "C:\\Users\\rajpprit\\AppData\\Local\\Temp\\ipykernel_5372\\3808419965.py:28: DtypeWarning: Columns (5,7) have mixed types. Specify dtype option on import or set low_memory=False.\n",
      "  df = pd.read_csv(f)\n"
     ]
    },
    {
     "name": "stdout",
     "output_type": "stream",
     "text": [
      "Current memory usage: 2499.45 MB\n",
      "Reading CSV file: 202410-citibike-tripdata_3.csv\n"
     ]
    },
    {
     "name": "stderr",
     "output_type": "stream",
     "text": [
      "C:\\Users\\rajpprit\\AppData\\Local\\Temp\\ipykernel_5372\\3808419965.py:28: DtypeWarning: Columns (7) have mixed types. Specify dtype option on import or set low_memory=False.\n",
      "  df = pd.read_csv(f)\n"
     ]
    },
    {
     "name": "stdout",
     "output_type": "stream",
     "text": [
      "Current memory usage: 3100.67 MB\n",
      "Combining all DataFrames...\n",
      "Dropping duplicates...\n",
      "Saving DataFrame to df_202410.pkl...\n",
      "Final DataFrame shape: (5150054, 13)\n",
      "Processing complete. File saved as df_202410.pkl\n",
      "Processing 202411-citibike-tripdata.zip...\n",
      "Reading CSV file: 202411-citibike-tripdata_3.csv\n"
     ]
    },
    {
     "name": "stderr",
     "output_type": "stream",
     "text": [
      "C:\\Users\\rajpprit\\AppData\\Local\\Temp\\ipykernel_5372\\3808419965.py:28: DtypeWarning: Columns (5,7) have mixed types. Specify dtype option on import or set low_memory=False.\n",
      "  df = pd.read_csv(f)\n"
     ]
    },
    {
     "name": "stdout",
     "output_type": "stream",
     "text": [
      "Current memory usage: 602.47 MB\n",
      "Reading CSV file: 202411-citibike-tripdata_2.csv\n"
     ]
    },
    {
     "name": "stderr",
     "output_type": "stream",
     "text": [
      "C:\\Users\\rajpprit\\AppData\\Local\\Temp\\ipykernel_5372\\3808419965.py:28: DtypeWarning: Columns (5,7) have mixed types. Specify dtype option on import or set low_memory=False.\n",
      "  df = pd.read_csv(f)\n"
     ]
    },
    {
     "name": "stdout",
     "output_type": "stream",
     "text": [
      "Current memory usage: 1206.35 MB\n",
      "Reading CSV file: 202411-citibike-tripdata_1.csv\n"
     ]
    },
    {
     "name": "stderr",
     "output_type": "stream",
     "text": [
      "C:\\Users\\rajpprit\\AppData\\Local\\Temp\\ipykernel_5372\\3808419965.py:28: DtypeWarning: Columns (5,7) have mixed types. Specify dtype option on import or set low_memory=False.\n",
      "  df = pd.read_csv(f)\n"
     ]
    },
    {
     "name": "stdout",
     "output_type": "stream",
     "text": [
      "Current memory usage: 1804.39 MB\n",
      "Reading CSV file: 202411-citibike-tripdata_4.csv\n",
      "Current memory usage: 2235.92 MB\n",
      "Combining all DataFrames...\n",
      "Dropping duplicates...\n",
      "Saving DataFrame to df_202411.pkl...\n",
      "Final DataFrame shape: (3710134, 13)\n",
      "Processing complete. File saved as df_202411.pkl\n",
      "Processing 202412-citibike-tripdata.zip...\n",
      "Reading CSV file: 202412-citibike-tripdata_1.csv\n"
     ]
    },
    {
     "name": "stderr",
     "output_type": "stream",
     "text": [
      "C:\\Users\\rajpprit\\AppData\\Local\\Temp\\ipykernel_5372\\3808419965.py:28: DtypeWarning: Columns (7) have mixed types. Specify dtype option on import or set low_memory=False.\n",
      "  df = pd.read_csv(f)\n"
     ]
    },
    {
     "name": "stdout",
     "output_type": "stream",
     "text": [
      "Current memory usage: 605.45 MB\n",
      "Reading CSV file: 202412-citibike-tripdata_3.csv\n",
      "Current memory usage: 794.48 MB\n",
      "Reading CSV file: 202412-citibike-tripdata_2.csv\n"
     ]
    },
    {
     "name": "stderr",
     "output_type": "stream",
     "text": [
      "C:\\Users\\rajpprit\\AppData\\Local\\Temp\\ipykernel_5372\\3808419965.py:28: DtypeWarning: Columns (5,7) have mixed types. Specify dtype option on import or set low_memory=False.\n",
      "  df = pd.read_csv(f)\n"
     ]
    },
    {
     "name": "stdout",
     "output_type": "stream",
     "text": [
      "Current memory usage: 1397.83 MB\n",
      "Combining all DataFrames...\n",
      "Dropping duplicates...\n",
      "Saving DataFrame to df_202412.pkl...\n",
      "Final DataFrame shape: (2311171, 13)\n",
      "Processing complete. File saved as df_202412.pkl\n",
      "Processing 202501-citibike-tripdata.zip...\n",
      "Reading CSV file: 202501-citibike-tripdata_1.csv\n"
     ]
    },
    {
     "name": "stderr",
     "output_type": "stream",
     "text": [
      "C:\\Users\\rajpprit\\AppData\\Local\\Temp\\ipykernel_5372\\3808419965.py:28: DtypeWarning: Columns (5,7) have mixed types. Specify dtype option on import or set low_memory=False.\n",
      "  df = pd.read_csv(f)\n"
     ]
    },
    {
     "name": "stdout",
     "output_type": "stream",
     "text": [
      "Current memory usage: 603.49 MB\n",
      "Reading CSV file: 202501-citibike-tripdata_3.csv\n",
      "Current memory usage: 679.13 MB\n",
      "Reading CSV file: 202501-citibike-tripdata_2.csv\n"
     ]
    },
    {
     "name": "stderr",
     "output_type": "stream",
     "text": [
      "C:\\Users\\rajpprit\\AppData\\Local\\Temp\\ipykernel_5372\\3808419965.py:28: DtypeWarning: Columns (5,7) have mixed types. Specify dtype option on import or set low_memory=False.\n",
      "  df = pd.read_csv(f)\n"
     ]
    },
    {
     "name": "stdout",
     "output_type": "stream",
     "text": [
      "Current memory usage: 1282.28 MB\n",
      "Combining all DataFrames...\n",
      "Dropping duplicates...\n",
      "Saving DataFrame to df_202501.pkl...\n",
      "Final DataFrame shape: (2124475, 13)\n",
      "Processing complete. File saved as df_202501.pkl\n",
      "Processing 202502-citibike-tripdata.zip...\n",
      "Reading CSV file: 202502-citibike-tripdata_3.csv\n",
      "Current memory usage: 17.47 MB\n",
      "Reading CSV file: 202502-citibike-tripdata_2.csv\n"
     ]
    },
    {
     "name": "stderr",
     "output_type": "stream",
     "text": [
      "C:\\Users\\rajpprit\\AppData\\Local\\Temp\\ipykernel_5372\\3808419965.py:28: DtypeWarning: Columns (5,7) have mixed types. Specify dtype option on import or set low_memory=False.\n",
      "  df = pd.read_csv(f)\n"
     ]
    },
    {
     "name": "stdout",
     "output_type": "stream",
     "text": [
      "Current memory usage: 619.98 MB\n",
      "Reading CSV file: 202502-citibike-tripdata_1.csv\n"
     ]
    },
    {
     "name": "stderr",
     "output_type": "stream",
     "text": [
      "C:\\Users\\rajpprit\\AppData\\Local\\Temp\\ipykernel_5372\\3808419965.py:28: DtypeWarning: Columns (7) have mixed types. Specify dtype option on import or set low_memory=False.\n",
      "  df = pd.read_csv(f)\n"
     ]
    },
    {
     "name": "stdout",
     "output_type": "stream",
     "text": [
      "Current memory usage: 1223.97 MB\n",
      "Combining all DataFrames...\n",
      "Dropping duplicates...\n",
      "Saving DataFrame to df_202502.pkl...\n",
      "Final DataFrame shape: (2031257, 13)\n",
      "Processing complete. File saved as df_202502.pkl\n",
      "Processing 202503-citibike-tripdata.zip...\n",
      "Reading CSV file: 202503-citibike-tripdata_1.csv\n"
     ]
    },
    {
     "name": "stderr",
     "output_type": "stream",
     "text": [
      "C:\\Users\\rajpprit\\AppData\\Local\\Temp\\ipykernel_5372\\3808419965.py:28: DtypeWarning: Columns (5,7) have mixed types. Specify dtype option on import or set low_memory=False.\n",
      "  df = pd.read_csv(f)\n"
     ]
    },
    {
     "name": "stdout",
     "output_type": "stream",
     "text": [
      "Current memory usage: 603.53 MB\n",
      "Reading CSV file: 202503-citibike-tripdata_2.csv\n"
     ]
    },
    {
     "name": "stderr",
     "output_type": "stream",
     "text": [
      "C:\\Users\\rajpprit\\AppData\\Local\\Temp\\ipykernel_5372\\3808419965.py:28: DtypeWarning: Columns (5,7) have mixed types. Specify dtype option on import or set low_memory=False.\n",
      "  df = pd.read_csv(f)\n"
     ]
    },
    {
     "name": "stdout",
     "output_type": "stream",
     "text": [
      "Current memory usage: 1208.90 MB\n",
      "Reading CSV file: 202503-citibike-tripdata_3.csv\n"
     ]
    },
    {
     "name": "stderr",
     "output_type": "stream",
     "text": [
      "C:\\Users\\rajpprit\\AppData\\Local\\Temp\\ipykernel_5372\\3808419965.py:28: DtypeWarning: Columns (5,7) have mixed types. Specify dtype option on import or set low_memory=False.\n",
      "  df = pd.read_csv(f)\n"
     ]
    },
    {
     "name": "stdout",
     "output_type": "stream",
     "text": [
      "Current memory usage: 1807.57 MB\n",
      "Reading CSV file: 202503-citibike-tripdata_4.csv\n"
     ]
    },
    {
     "name": "stderr",
     "output_type": "stream",
     "text": [
      "C:\\Users\\rajpprit\\AppData\\Local\\Temp\\ipykernel_5372\\3808419965.py:28: DtypeWarning: Columns (7) have mixed types. Specify dtype option on import or set low_memory=False.\n",
      "  df = pd.read_csv(f)\n"
     ]
    },
    {
     "name": "stdout",
     "output_type": "stream",
     "text": [
      "Current memory usage: 1908.28 MB\n",
      "Combining all DataFrames...\n",
      "Dropping duplicates...\n",
      "Saving DataFrame to df_202503.pkl...\n",
      "Final DataFrame shape: (3168271, 13)\n",
      "Processing complete. File saved as df_202503.pkl\n",
      "Processing 202504-citibike-tripdata.zip...\n",
      "Error processing main zip file: [Errno 2] No such file or directory: '202504-citibike-tripdata.zip'\n",
      "Processing 202505-citibike-tripdata.zip...\n",
      "Reading CSV file: 202505-citibike-tripdata_4.csv\n"
     ]
    },
    {
     "name": "stderr",
     "output_type": "stream",
     "text": [
      "C:\\Users\\rajpprit\\AppData\\Local\\Temp\\ipykernel_5372\\3808419965.py:28: DtypeWarning: Columns (5,7) have mixed types. Specify dtype option on import or set low_memory=False.\n",
      "  df = pd.read_csv(f)\n"
     ]
    },
    {
     "name": "stdout",
     "output_type": "stream",
     "text": [
      "Current memory usage: 599.34 MB\n",
      "Reading CSV file: 202505-citibike-tripdata_5.csv\n"
     ]
    },
    {
     "name": "stderr",
     "output_type": "stream",
     "text": [
      "C:\\Users\\rajpprit\\AppData\\Local\\Temp\\ipykernel_5372\\3808419965.py:28: DtypeWarning: Columns (7) have mixed types. Specify dtype option on import or set low_memory=False.\n",
      "  df = pd.read_csv(f)\n"
     ]
    },
    {
     "name": "stdout",
     "output_type": "stream",
     "text": [
      "Current memory usage: 794.11 MB\n",
      "Reading CSV file: 202505-citibike-tripdata_1.csv\n"
     ]
    },
    {
     "name": "stderr",
     "output_type": "stream",
     "text": [
      "C:\\Users\\rajpprit\\AppData\\Local\\Temp\\ipykernel_5372\\3808419965.py:28: DtypeWarning: Columns (5,7) have mixed types. Specify dtype option on import or set low_memory=False.\n",
      "  df = pd.read_csv(f)\n"
     ]
    },
    {
     "name": "stdout",
     "output_type": "stream",
     "text": [
      "Current memory usage: 1397.93 MB\n",
      "Reading CSV file: 202505-citibike-tripdata_2.csv\n"
     ]
    },
    {
     "name": "stderr",
     "output_type": "stream",
     "text": [
      "C:\\Users\\rajpprit\\AppData\\Local\\Temp\\ipykernel_5372\\3808419965.py:28: DtypeWarning: Columns (7) have mixed types. Specify dtype option on import or set low_memory=False.\n",
      "  df = pd.read_csv(f)\n"
     ]
    },
    {
     "name": "stdout",
     "output_type": "stream",
     "text": [
      "Current memory usage: 2003.94 MB\n",
      "Reading CSV file: 202505-citibike-tripdata_3.csv\n"
     ]
    },
    {
     "name": "stderr",
     "output_type": "stream",
     "text": [
      "C:\\Users\\rajpprit\\AppData\\Local\\Temp\\ipykernel_5372\\3808419965.py:28: DtypeWarning: Columns (5,7) have mixed types. Specify dtype option on import or set low_memory=False.\n",
      "  df = pd.read_csv(f)\n"
     ]
    },
    {
     "name": "stdout",
     "output_type": "stream",
     "text": [
      "Current memory usage: 2603.43 MB\n",
      "Combining all DataFrames...\n",
      "Dropping duplicates...\n",
      "Saving DataFrame to df_202505.pkl...\n",
      "Final DataFrame shape: (4325553, 13)\n",
      "Processing complete. File saved as df_202505.pkl\n",
      "Processing 202506-citibike-tripdata.zip...\n",
      "Reading CSV file: 202506-citibike-tripdata_2.csv\n"
     ]
    },
    {
     "name": "stderr",
     "output_type": "stream",
     "text": [
      "C:\\Users\\rajpprit\\AppData\\Local\\Temp\\ipykernel_5372\\3808419965.py:28: DtypeWarning: Columns (5,7) have mixed types. Specify dtype option on import or set low_memory=False.\n",
      "  df = pd.read_csv(f)\n"
     ]
    },
    {
     "name": "stdout",
     "output_type": "stream",
     "text": [
      "Current memory usage: 600.58 MB\n",
      "Reading CSV file: 202506-citibike-tripdata_3.csv\n"
     ]
    },
    {
     "name": "stderr",
     "output_type": "stream",
     "text": [
      "C:\\Users\\rajpprit\\AppData\\Local\\Temp\\ipykernel_5372\\3808419965.py:28: DtypeWarning: Columns (7) have mixed types. Specify dtype option on import or set low_memory=False.\n",
      "  df = pd.read_csv(f)\n"
     ]
    },
    {
     "name": "stdout",
     "output_type": "stream",
     "text": [
      "Current memory usage: 1205.70 MB\n",
      "Reading CSV file: 202506-citibike-tripdata_1.csv\n"
     ]
    },
    {
     "name": "stderr",
     "output_type": "stream",
     "text": [
      "C:\\Users\\rajpprit\\AppData\\Local\\Temp\\ipykernel_5372\\3808419965.py:28: DtypeWarning: Columns (7) have mixed types. Specify dtype option on import or set low_memory=False.\n",
      "  df = pd.read_csv(f)\n"
     ]
    },
    {
     "name": "stdout",
     "output_type": "stream",
     "text": [
      "Current memory usage: 1808.14 MB\n",
      "Reading CSV file: 202506-citibike-tripdata_4.csv\n"
     ]
    },
    {
     "name": "stderr",
     "output_type": "stream",
     "text": [
      "C:\\Users\\rajpprit\\AppData\\Local\\Temp\\ipykernel_5372\\3808419965.py:28: DtypeWarning: Columns (7) have mixed types. Specify dtype option on import or set low_memory=False.\n",
      "  df = pd.read_csv(f)\n"
     ]
    },
    {
     "name": "stdout",
     "output_type": "stream",
     "text": [
      "Current memory usage: 2411.12 MB\n",
      "Reading CSV file: 202506-citibike-tripdata_5.csv\n"
     ]
    },
    {
     "name": "stderr",
     "output_type": "stream",
     "text": [
      "C:\\Users\\rajpprit\\AppData\\Local\\Temp\\ipykernel_5372\\3808419965.py:28: DtypeWarning: Columns (7) have mixed types. Specify dtype option on import or set low_memory=False.\n",
      "  df = pd.read_csv(f)\n"
     ]
    },
    {
     "name": "stdout",
     "output_type": "stream",
     "text": [
      "Current memory usage: 2864.06 MB\n",
      "Combining all DataFrames...\n",
      "Dropping duplicates...\n",
      "Saving DataFrame to df_202506.pkl...\n",
      "Final DataFrame shape: (4759345, 13)\n",
      "Processing complete. File saved as df_202506.pkl\n",
      "Processing 202507-citibike-tripdata.zip...\n",
      "Reading CSV file: 202507-citibike-tripdata_5.csv\n"
     ]
    },
    {
     "name": "stderr",
     "output_type": "stream",
     "text": [
      "C:\\Users\\rajpprit\\AppData\\Local\\Temp\\ipykernel_5372\\3808419965.py:28: DtypeWarning: Columns (7) have mixed types. Specify dtype option on import or set low_memory=False.\n",
      "  df = pd.read_csv(f)\n"
     ]
    },
    {
     "name": "stdout",
     "output_type": "stream",
     "text": [
      "Current memory usage: 598.74 MB\n",
      "Reading CSV file: 202507-citibike-tripdata_4.csv\n"
     ]
    },
    {
     "name": "stderr",
     "output_type": "stream",
     "text": [
      "C:\\Users\\rajpprit\\AppData\\Local\\Temp\\ipykernel_5372\\3808419965.py:28: DtypeWarning: Columns (7) have mixed types. Specify dtype option on import or set low_memory=False.\n",
      "  df = pd.read_csv(f)\n"
     ]
    },
    {
     "name": "stdout",
     "output_type": "stream",
     "text": [
      "Current memory usage: 1194.66 MB\n",
      "Reading CSV file: 202507-citibike-tripdata_1.csv\n"
     ]
    },
    {
     "name": "stderr",
     "output_type": "stream",
     "text": [
      "C:\\Users\\rajpprit\\AppData\\Local\\Temp\\ipykernel_5372\\3808419965.py:28: DtypeWarning: Columns (7) have mixed types. Specify dtype option on import or set low_memory=False.\n",
      "  df = pd.read_csv(f)\n"
     ]
    },
    {
     "name": "stdout",
     "output_type": "stream",
     "text": [
      "Current memory usage: 1795.87 MB\n",
      "Reading CSV file: 202507-citibike-tripdata_3.csv\n"
     ]
    },
    {
     "name": "stderr",
     "output_type": "stream",
     "text": [
      "C:\\Users\\rajpprit\\AppData\\Local\\Temp\\ipykernel_5372\\3808419965.py:28: DtypeWarning: Columns (7) have mixed types. Specify dtype option on import or set low_memory=False.\n",
      "  df = pd.read_csv(f)\n"
     ]
    },
    {
     "name": "stdout",
     "output_type": "stream",
     "text": [
      "Current memory usage: 2402.23 MB\n",
      "Reading CSV file: 202507-citibike-tripdata_2.csv\n"
     ]
    },
    {
     "name": "stderr",
     "output_type": "stream",
     "text": [
      "C:\\Users\\rajpprit\\AppData\\Local\\Temp\\ipykernel_5372\\3808419965.py:28: DtypeWarning: Columns (7) have mixed types. Specify dtype option on import or set low_memory=False.\n",
      "  df = pd.read_csv(f)\n"
     ]
    },
    {
     "name": "stdout",
     "output_type": "stream",
     "text": [
      "Current memory usage: 3005.30 MB\n",
      "Combining all DataFrames...\n",
      "Dropping duplicates...\n",
      "Saving DataFrame to df_202507.pkl...\n",
      "Final DataFrame shape: (4988053, 13)\n",
      "Processing complete. File saved as df_202507.pkl\n"
     ]
    }
   ],
   "source": [
    "for i in list4:\n",
    "    pickle_file = process_citibike_data1(f'{i}-citibike-tripdata.zip')"
   ]
  },
  {
   "cell_type": "code",
   "execution_count": 66,
   "id": "d044a347-98dc-444f-8026-e236c91cca76",
   "metadata": {},
   "outputs": [],
   "source": [
    "list2"
   ]
  },
  {
   "cell_type": "code",
   "execution_count": 69,
   "id": "a609cea4-825d-4dcd-b90d-223364bf1c1a",
   "metadata": {},
   "outputs": [],
   "source": [
    "list2.append(202401)"
   ]
  },
  {
   "cell_type": "code",
   "execution_count": 71,
   "id": "923f2f12-c4d3-47af-8c7c-b47cc9c702de",
   "metadata": {},
   "outputs": [
    {
     "data": {
      "text/plain": [
       "[202402,\n",
       " 202403,\n",
       " 202404,\n",
       " 202405,\n",
       " 202406,\n",
       " 202407,\n",
       " 202408,\n",
       " 202409,\n",
       " 202410,\n",
       " 202411,\n",
       " 202412,\n",
       " 202401]"
      ]
     },
     "execution_count": 71,
     "metadata": {},
     "output_type": "execute_result"
    }
   ],
   "source": [
    "list2"
   ]
  },
  {
   "cell_type": "code",
   "execution_count": 72,
   "id": "f76f63b1-5a80-482d-99e7-99186e2bf56c",
   "metadata": {},
   "outputs": [
    {
     "data": {
      "text/plain": [
       "'C:\\\\Users\\\\rajpprit\\\\Documents\\\\UK I&I\\\\Trainings\\\\Vizcon 2025\\\\New York city bike data\\\\data_raw'"
      ]
     },
     "execution_count": 72,
     "metadata": {},
     "output_type": "execute_result"
    }
   ],
   "source": [
    "os.getcwd()"
   ]
  },
  {
   "cell_type": "code",
   "execution_count": 74,
   "id": "0ebe7d2d-688b-439c-af46-208532e71c41",
   "metadata": {},
   "outputs": [
    {
     "name": "stdout",
     "output_type": "stream",
     "text": [
      "df_202402: (2121501, 13)\n",
      "df_202403: (2663295, 13)\n",
      "df_202404: (3217063, 13)\n",
      "df_202405: (4133961, 13)\n",
      "df_202406: (4783576, 13)\n",
      "df_202407: (4722896, 13)\n",
      "df_202408: (4603575, 13)\n",
      "df_202409: (4997898, 13)\n",
      "df_202410: (5150054, 13)\n",
      "df_202411: (3710134, 13)\n",
      "df_202412: (2311171, 13)\n",
      "df_202401: (1888085, 13)\n"
     ]
    },
    {
     "data": {
      "text/plain": [
       "(44303209, 13)"
      ]
     },
     "execution_count": 74,
     "metadata": {},
     "output_type": "execute_result"
    }
   ],
   "source": [
    "dfs_list = []\n",
    "for i in list2:\n",
    "    df = pd.read_pickle(f\"df_{i}.pkl\")\n",
    "    print(f\"df_{i}: {df.shape}\")\n",
    "    dfs_list.append(df)\n",
    "final_df = pd.concat(dfs_list, ignore_index = True)\n",
    "final_df.shape"
   ]
  },
  {
   "cell_type": "code",
   "execution_count": 77,
   "id": "df3a323d-af7c-4f21-b358-fd762baae52b",
   "metadata": {},
   "outputs": [
    {
     "data": {
      "text/plain": [
       "(44303209, 13)"
      ]
     },
     "execution_count": 77,
     "metadata": {},
     "output_type": "execute_result"
    }
   ],
   "source": [
    "final_df = final_df.drop_duplicates()\n",
    "final_df.shape"
   ]
  },
  {
   "cell_type": "code",
   "execution_count": 78,
   "id": "aa93ad98-c256-47a2-a527-2875654d7115",
   "metadata": {},
   "outputs": [],
   "source": [
    "final_df.to_pickle('df_2024.pkl')"
   ]
  },
  {
   "cell_type": "code",
   "execution_count": 82,
   "id": "7c4ea222-31ec-4d4f-91c1-2d409a1345db",
   "metadata": {},
   "outputs": [
    {
     "data": {
      "text/plain": [
       "[202501, 202502, 202503, 202504, 202505, 202506, 202507]"
      ]
     },
     "execution_count": 82,
     "metadata": {},
     "output_type": "execute_result"
    }
   ],
   "source": [
    "list3"
   ]
  },
  {
   "cell_type": "code",
   "execution_count": null,
   "id": "7b47e28e-e30b-4ff3-ab57-e67dd4ea05c6",
   "metadata": {},
   "outputs": [],
   "source": []
  },
  {
   "cell_type": "code",
   "execution_count": 83,
   "id": "f3185317-d745-4166-966a-0e33ba8e1948",
   "metadata": {},
   "outputs": [
    {
     "name": "stdout",
     "output_type": "stream",
     "text": [
      "df_202501: (2124475, 13)\n",
      "df_202502: (2031257, 13)\n",
      "df_202503: (3168271, 13)\n",
      "df_202504: (3724596, 13)\n",
      "df_202505: (4325553, 13)\n",
      "df_202506: (4759345, 13)\n",
      "df_202507: (4988053, 13)\n"
     ]
    },
    {
     "data": {
      "text/plain": [
       "(25121550, 13)"
      ]
     },
     "execution_count": 83,
     "metadata": {},
     "output_type": "execute_result"
    }
   ],
   "source": [
    "dfs_list = []\n",
    "for i in list3:\n",
    "    df = pd.read_pickle(f\"df_{i}.pkl\")\n",
    "    print(f\"df_{i}: {df.shape}\")\n",
    "    dfs_list.append(df)\n",
    "final_df = pd.concat(dfs_list, ignore_index = True)\n",
    "final_df.shape"
   ]
  },
  {
   "cell_type": "code",
   "execution_count": 84,
   "id": "b3590fbc-39a3-4c6d-8724-9fb0fc82fbe5",
   "metadata": {},
   "outputs": [
    {
     "data": {
      "text/plain": [
       "(25121550, 13)"
      ]
     },
     "execution_count": 84,
     "metadata": {},
     "output_type": "execute_result"
    }
   ],
   "source": [
    "final_df = final_df.drop_duplicates()\n",
    "final_df.shape"
   ]
  },
  {
   "cell_type": "code",
   "execution_count": 85,
   "id": "bd8d6497-df9a-4225-b033-06ac68f7630d",
   "metadata": {},
   "outputs": [],
   "source": [
    "final_df.to_pickle('df_2025.pkl')"
   ]
  },
  {
   "cell_type": "code",
   "execution_count": null,
   "id": "c37cb4ea-beeb-4108-8607-8c20097a068d",
   "metadata": {},
   "outputs": [],
   "source": []
  },
  {
   "cell_type": "markdown",
   "id": "a7316836-39ab-4f78-b720-42b8774ab676",
   "metadata": {},
   "source": [
    "##### Importing JC data"
   ]
  },
  {
   "cell_type": "code",
   "execution_count": 124,
   "id": "5f238a09-bc35-45d6-9284-f341134f6237",
   "metadata": {},
   "outputs": [],
   "source": [
    "list2015 = [i for i in np.arange(201509, 201513, 1)]\n",
    "list2016 = [i for i in np.arange(201601, 201613, 1)]\n",
    "list2017 = [i for i in np.arange(201701, 201713, 1)]\n",
    "list2018 = [i for i in np.arange(201801, 201813, 1)]\n",
    "list2019 = [i for i in np.arange(201901, 201913, 1)]\n",
    "list2020 = [i for i in np.arange(202001, 202013, 1)]\n",
    "list2021 = [i for i in np.arange(202101, 202113, 1)]\n",
    "list2022 = [i for i in np.arange(202201, 202213, 1)]\n",
    "list2023 = [i for i in np.arange(202301, 202313, 1)]\n",
    "list2024 = [i for i in np.arange(202401, 202413, 1)]\n",
    "list2025 = [i for i in np.arange(202501, 202508, 1)]"
   ]
  },
  {
   "cell_type": "code",
   "execution_count": 125,
   "id": "6ae13924-0b11-4e4a-879b-7772973a5adc",
   "metadata": {},
   "outputs": [],
   "source": [
    "def import_JC(list_name):\n",
    "    for i in list_name:\n",
    "        pickle_file = process_citibike_data1(f'JC-{i}-citibike-tripdata.csv.zip')"
   ]
  },
  {
   "cell_type": "code",
   "execution_count": 126,
   "id": "5829adb4-5a23-48c5-a9da-cfacb48f0393",
   "metadata": {},
   "outputs": [],
   "source": [
    "# This works\n",
    "listjc = []\n",
    "listjc = [item for year in range(2015, 2026) for item in locals()[f'list{year}']]"
   ]
  },
  {
   "cell_type": "code",
   "execution_count": 127,
   "id": "9bb1da7b-8570-4dae-9fd7-ca62ec96dae7",
   "metadata": {},
   "outputs": [
    {
     "name": "stdout",
     "output_type": "stream",
     "text": [
      "Processing JC-201509-citibike-tripdata.csv.zip...\n",
      "Reading CSV file: JC-201509-citibike-tripdata.csv\n",
      "Current memory usage: 2.65 MB\n",
      "Combining all DataFrames...\n",
      "Dropping duplicates...\n",
      "Saving DataFrame to df_201509.pkl...\n",
      "Final DataFrame shape: (6668, 15)\n",
      "Processing complete. File saved as df_201509.pkl\n",
      "Processing JC-201510-citibike-tripdata.csv.zip...\n",
      "Reading CSV file: JC-201510-citibike-tripdata.csv\n",
      "Current memory usage: 7.66 MB\n",
      "Combining all DataFrames...\n",
      "Dropping duplicates...\n",
      "Saving DataFrame to df_201510.pkl...\n",
      "Final DataFrame shape: (19264, 15)\n",
      "Processing complete. File saved as df_201510.pkl\n",
      "Processing JC-201511-citibike-tripdata.csv.zip...\n",
      "Reading CSV file: JC-201511-citibike-tripdata.csv\n",
      "Current memory usage: 6.01 MB\n",
      "Combining all DataFrames...\n",
      "Dropping duplicates...\n",
      "Saving DataFrame to df_201511.pkl...\n",
      "Final DataFrame shape: (15113, 15)\n",
      "Processing complete. File saved as df_201511.pkl\n",
      "Processing JC-201512-citibike-tripdata.csv.zip...\n",
      "Reading CSV file: JC-201512-citibike-tripdata.csv\n",
      "Current memory usage: 4.71 MB\n",
      "Combining all DataFrames...\n",
      "Dropping duplicates...\n",
      "Saving DataFrame to df_201512.pkl...\n",
      "Final DataFrame shape: (11838, 15)\n",
      "Processing complete. File saved as df_201512.pkl\n",
      "Processing JC-201601-citibike-tripdata.csv.zip...\n",
      "Reading CSV file: JC-20161-citibike-tripdata.csv\n",
      "Current memory usage: 2.98 MB\n",
      "Combining all DataFrames...\n",
      "Dropping duplicates...\n",
      "Saving DataFrame to df_201601.pkl...\n",
      "Final DataFrame shape: (7479, 15)\n",
      "Processing complete. File saved as df_201601.pkl\n",
      "Processing JC-201602-citibike-tripdata.csv.zip...\n",
      "Reading CSV file: JC-20162-citibike-tripdata.csv\n",
      "Current memory usage: 3.28 MB\n",
      "Combining all DataFrames...\n",
      "Dropping duplicates...\n",
      "Saving DataFrame to df_201602.pkl...\n",
      "Final DataFrame shape: (8250, 15)\n",
      "Processing complete. File saved as df_201602.pkl\n",
      "Processing JC-201603-citibike-tripdata.csv.zip...\n",
      "Reading CSV file: JC-20163-citibike-tripdata.csv\n",
      "Current memory usage: 5.37 MB\n",
      "Combining all DataFrames...\n",
      "Dropping duplicates...\n",
      "Saving DataFrame to df_201603.pkl...\n",
      "Final DataFrame shape: (13511, 15)\n",
      "Processing complete. File saved as df_201603.pkl\n",
      "Processing JC-201604-citibike-tripdata.csv.zip...\n",
      "Reading CSV file: JC-201604-citibike-tripdata.csv\n",
      "Current memory usage: 6.50 MB\n",
      "Combining all DataFrames...\n",
      "Dropping duplicates...\n",
      "Saving DataFrame to df_201604.pkl...\n",
      "Final DataFrame shape: (16342, 15)\n",
      "Processing complete. File saved as df_201604.pkl\n",
      "Processing JC-201605-citibike-tripdata.csv.zip...\n",
      "Reading CSV file: JC-201605-citibike-tripdata.csv\n",
      "Current memory usage: 7.76 MB\n",
      "Combining all DataFrames...\n",
      "Dropping duplicates...\n",
      "Saving DataFrame to df_201605.pkl...\n",
      "Final DataFrame shape: (19488, 15)\n",
      "Processing complete. File saved as df_201605.pkl\n",
      "Processing JC-201606-citibike-tripdata.csv.zip...\n",
      "Reading CSV file: JC-201606-citibike-tripdata.csv\n",
      "Current memory usage: 9.53 MB\n",
      "Combining all DataFrames...\n",
      "Dropping duplicates...\n",
      "Saving DataFrame to df_201606.pkl...\n",
      "Final DataFrame shape: (23947, 15)\n",
      "Processing complete. File saved as df_201606.pkl\n",
      "Processing JC-201607-citibike-tripdata.csv.zip...\n",
      "Reading CSV file: JC-201607-citibike-tripdata.csv\n",
      "Current memory usage: 9.73 MB\n",
      "Combining all DataFrames...\n",
      "Dropping duplicates...\n",
      "Saving DataFrame to df_201607.pkl...\n",
      "Final DataFrame shape: (24436, 15)\n",
      "Processing complete. File saved as df_201607.pkl\n",
      "Processing JC-201608-citibike-tripdata.csv.zip...\n",
      "Reading CSV file: JC-201608-citibike-tripdata.csv\n",
      "Current memory usage: 13.60 MB\n",
      "Combining all DataFrames...\n",
      "Dropping duplicates...\n",
      "Saving DataFrame to df_201608.pkl...\n",
      "Final DataFrame shape: (34149, 15)\n",
      "Processing complete. File saved as df_201608.pkl\n",
      "Processing JC-201609-citibike-tripdata.csv.zip...\n",
      "Reading CSV file: JC-201609-citibike-tripdata.csv\n",
      "Current memory usage: 13.31 MB\n",
      "Combining all DataFrames...\n",
      "Dropping duplicates...\n",
      "Saving DataFrame to df_201609.pkl...\n",
      "Final DataFrame shape: (33425, 15)\n",
      "Processing complete. File saved as df_201609.pkl\n",
      "Processing JC-201610-citibike-tripdata.csv.zip...\n",
      "Reading CSV file: JC-201610-citibike-tripdata.csv\n",
      "Current memory usage: 11.79 MB\n",
      "Combining all DataFrames...\n",
      "Dropping duplicates...\n",
      "Saving DataFrame to df_201610.pkl...\n",
      "Final DataFrame shape: (29611, 15)\n",
      "Processing complete. File saved as df_201610.pkl\n",
      "Processing JC-201611-citibike-tripdata.csv.zip...\n",
      "Reading CSV file: JC-201611-citibike-tripdata.csv\n",
      "Current memory usage: 8.70 MB\n",
      "Combining all DataFrames...\n",
      "Dropping duplicates...\n",
      "Saving DataFrame to df_201611.pkl...\n",
      "Final DataFrame shape: (21832, 15)\n",
      "Processing complete. File saved as df_201611.pkl\n",
      "Processing JC-201612-citibike-tripdata.csv.zip...\n",
      "Reading CSV file: JC-201612-citibike-tripdata.csv\n",
      "Current memory usage: 6.02 MB\n",
      "Combining all DataFrames...\n",
      "Dropping duplicates...\n",
      "Saving DataFrame to df_201612.pkl...\n",
      "Final DataFrame shape: (15114, 15)\n",
      "Processing complete. File saved as df_201612.pkl\n",
      "Processing JC-201701-citibike-tripdata.csv.zip...\n",
      "Reading CSV file: JC-201701-citibike-tripdata.csv\n",
      "Current memory usage: 5.15 MB\n",
      "Combining all DataFrames...\n",
      "Dropping duplicates...\n",
      "Saving DataFrame to df_201701.pkl...\n",
      "Final DataFrame shape: (12926, 15)\n",
      "Processing complete. File saved as df_201701.pkl\n",
      "Processing JC-201702-citibike-tripdata.csv.zip...\n",
      "Reading CSV file: JC-201702-citibike-tripdata.csv\n",
      "Current memory usage: 5.58 MB\n",
      "Combining all DataFrames...\n",
      "Dropping duplicates...\n",
      "Saving DataFrame to df_201702.pkl...\n",
      "Final DataFrame shape: (14026, 15)\n",
      "Processing complete. File saved as df_201702.pkl\n",
      "Processing JC-201703-citibike-tripdata.csv.zip...\n",
      "Reading CSV file: JC-201703-citibike-tripdata.csv\n",
      "Current memory usage: 4.86 MB\n",
      "Combining all DataFrames...\n",
      "Dropping duplicates...\n",
      "Saving DataFrame to df_201703.pkl...\n",
      "Final DataFrame shape: (12201, 15)\n",
      "Processing complete. File saved as df_201703.pkl\n",
      "Processing JC-201704-citibike-tripdata.csv.zip...\n",
      "Reading CSV file: JC-201704-citibike-tripdata.csv\n",
      "Current memory usage: 8.44 MB\n",
      "Combining all DataFrames...\n",
      "Dropping duplicates...\n",
      "Saving DataFrame to df_201704.pkl...\n",
      "Final DataFrame shape: (21186, 15)\n",
      "Processing complete. File saved as df_201704.pkl\n",
      "Processing JC-201705-citibike-tripdata.csv.zip...\n",
      "Reading CSV file: JC-201705-citibike-tripdata.csv\n",
      "Current memory usage: 10.35 MB\n",
      "Combining all DataFrames...\n",
      "Dropping duplicates...\n",
      "Saving DataFrame to df_201705.pkl...\n",
      "Final DataFrame shape: (25966, 15)\n",
      "Processing complete. File saved as df_201705.pkl\n",
      "Processing JC-201706-citibike-tripdata.csv.zip...\n",
      "Reading CSV file: JC-201706-citibike-tripdata.csv\n",
      "Current memory usage: 12.78 MB\n",
      "Combining all DataFrames...\n",
      "Dropping duplicates...\n",
      "Saving DataFrame to df_201706.pkl...\n",
      "Final DataFrame shape: (32060, 15)\n",
      "Processing complete. File saved as df_201706.pkl\n",
      "Processing JC-201707-citibike-tripdata.csv.zip...\n",
      "Reading CSV file: JC-201707-citibike-tripdata.csv\n",
      "Current memory usage: 13.38 MB\n",
      "Combining all DataFrames...\n",
      "Dropping duplicates...\n",
      "Saving DataFrame to df_201707.pkl...\n",
      "Final DataFrame shape: (33573, 15)\n",
      "Processing complete. File saved as df_201707.pkl\n",
      "Processing JC-201708-citibike-tripdata.csv.zip...\n",
      "Reading CSV file: JC-201708 citibike-tripdata.csv\n",
      "Current memory usage: 14.14 MB\n",
      "Combining all DataFrames...\n",
      "Dropping duplicates...\n",
      "Saving DataFrame to df_201708.pkl...\n",
      "Final DataFrame shape: (35472, 15)\n",
      "Processing complete. File saved as df_201708.pkl\n",
      "Processing JC-201709-citibike-tripdata.csv.zip...\n",
      "Reading CSV file: JC-201709-citibike-tripdata.csv\n",
      "Current memory usage: 13.20 MB\n",
      "Combining all DataFrames...\n",
      "Dropping duplicates...\n",
      "Saving DataFrame to df_201709.pkl...\n",
      "Final DataFrame shape: (33119, 15)\n",
      "Processing complete. File saved as df_201709.pkl\n",
      "Processing JC-201710-citibike-tripdata.csv.zip...\n",
      "Reading CSV file: JC-201710-citibike-tripdata.csv\n",
      "Current memory usage: 13.91 MB\n",
      "Combining all DataFrames...\n",
      "Dropping duplicates...\n",
      "Saving DataFrame to df_201710.pkl...\n",
      "Final DataFrame shape: (34919, 15)\n",
      "Processing complete. File saved as df_201710.pkl\n",
      "Processing JC-201711-citibike-tripdata.csv.zip...\n",
      "Reading CSV file: JC-201711-citibike-tripdata.csv\n",
      "Current memory usage: 9.39 MB\n",
      "Combining all DataFrames...\n",
      "Dropping duplicates...\n",
      "Saving DataFrame to df_201711.pkl...\n",
      "Final DataFrame shape: (23582, 15)\n",
      "Processing complete. File saved as df_201711.pkl\n",
      "Processing JC-201712-citibike-tripdata.csv.zip...\n",
      "Reading CSV file: JC-201712-citibike-tripdata.csv\n",
      "Current memory usage: 6.33 MB\n",
      "Combining all DataFrames...\n",
      "Dropping duplicates...\n",
      "Saving DataFrame to df_201712.pkl...\n",
      "Final DataFrame shape: (15898, 15)\n",
      "Processing complete. File saved as df_201712.pkl\n",
      "Processing JC-201801-citibike-tripdata.csv.zip...\n",
      "Reading CSV file: JC-201801-citibike-tripdata.csv\n",
      "Current memory usage: 5.18 MB\n",
      "Combining all DataFrames...\n",
      "Dropping duplicates...\n",
      "Saving DataFrame to df_201801.pkl...\n",
      "Final DataFrame shape: (12677, 15)\n",
      "Processing complete. File saved as df_201801.pkl\n",
      "Processing JC-201802-citibike-tripdata.csv.zip...\n",
      "Reading CSV file: JC-201802-citibike-tripdata.csv\n",
      "Current memory usage: 6.17 MB\n",
      "Combining all DataFrames...\n",
      "Dropping duplicates...\n",
      "Saving DataFrame to df_201802.pkl...\n",
      "Final DataFrame shape: (15104, 15)\n",
      "Processing complete. File saved as df_201802.pkl\n",
      "Processing JC-201803-citibike-tripdata.csv.zip...\n",
      "Reading CSV file: JC-201803-citibike-tripdata.csv\n",
      "Current memory usage: 6.99 MB\n",
      "Combining all DataFrames...\n",
      "Dropping duplicates...\n",
      "Saving DataFrame to df_201803.pkl...\n",
      "Final DataFrame shape: (17109, 15)\n",
      "Processing complete. File saved as df_201803.pkl\n",
      "Processing JC-201804-citibike-tripdata.csv.zip...\n",
      "Reading CSV file: JC-201804-citibike-tripdata.csv\n",
      "Current memory usage: 9.65 MB\n",
      "Combining all DataFrames...\n",
      "Dropping duplicates...\n",
      "Saving DataFrame to df_201804.pkl...\n",
      "Final DataFrame shape: (23634, 15)\n",
      "Processing complete. File saved as df_201804.pkl\n",
      "Processing JC-201805-citibike-tripdata.csv.zip...\n",
      "Reading CSV file: JC-201805-citibike-tripdata.csv\n",
      "Current memory usage: 14.06 MB\n",
      "Combining all DataFrames...\n",
      "Dropping duplicates...\n",
      "Saving DataFrame to df_201805.pkl...\n",
      "Final DataFrame shape: (34456, 15)\n",
      "Processing complete. File saved as df_201805.pkl\n",
      "Processing JC-201806-citibike-tripdata.csv.zip...\n",
      "Reading CSV file: JC-201806-citibike-tripdata.csv\n",
      "Current memory usage: 16.71 MB\n",
      "Combining all DataFrames...\n",
      "Dropping duplicates...\n",
      "Saving DataFrame to df_201806.pkl...\n",
      "Final DataFrame shape: (40937, 15)\n",
      "Processing complete. File saved as df_201806.pkl\n",
      "Processing JC-201807-citibike-tripdata.csv.zip...\n",
      "Reading CSV file: JC-201807-citibike-tripdata.csv\n",
      "Current memory usage: 17.25 MB\n",
      "Combining all DataFrames...\n",
      "Dropping duplicates...\n",
      "Saving DataFrame to df_201807.pkl...\n",
      "Final DataFrame shape: (42268, 15)\n",
      "Processing complete. File saved as df_201807.pkl\n",
      "Processing JC-201808-citibike-tripdata.csv.zip...\n",
      "Reading CSV file: JC-201808-citibike-tripdata.csv\n",
      "Current memory usage: 18.14 MB\n",
      "Combining all DataFrames...\n",
      "Dropping duplicates...\n",
      "Saving DataFrame to df_201808.pkl...\n",
      "Final DataFrame shape: (44432, 15)\n",
      "Processing complete. File saved as df_201808.pkl\n",
      "Processing JC-201809-citibike-tripdata.csv.zip...\n",
      "Reading CSV file: JC-201809-citibike-tripdata.csv\n",
      "Current memory usage: 15.92 MB\n",
      "Combining all DataFrames...\n",
      "Dropping duplicates...\n",
      "Saving DataFrame to df_201809.pkl...\n",
      "Final DataFrame shape: (39022, 15)\n",
      "Processing complete. File saved as df_201809.pkl\n",
      "Processing JC-201810-citibike-tripdata.csv.zip...\n",
      "Reading CSV file: JC-201810-citibike-tripdata.csv\n",
      "Current memory usage: 15.98 MB\n",
      "Combining all DataFrames...\n",
      "Dropping duplicates...\n",
      "Saving DataFrame to df_201810.pkl...\n",
      "Final DataFrame shape: (39138, 15)\n",
      "Processing complete. File saved as df_201810.pkl\n",
      "Processing JC-201811-citibike-tripdata.csv.zip...\n",
      "Reading CSV file: JC-201811-citibike-tripdata.csv\n",
      "Current memory usage: 10.17 MB\n",
      "Combining all DataFrames...\n",
      "Dropping duplicates...\n",
      "Saving DataFrame to df_201811.pkl...\n",
      "Final DataFrame shape: (24910, 15)\n",
      "Processing complete. File saved as df_201811.pkl\n",
      "Processing JC-201812-citibike-tripdata.csv.zip...\n",
      "Reading CSV file: JC-201812-citibike-tripdata.csv\n",
      "Current memory usage: 8.25 MB\n",
      "Combining all DataFrames...\n",
      "Dropping duplicates...\n",
      "Saving DataFrame to df_201812.pkl...\n",
      "Final DataFrame shape: (20205, 15)\n",
      "Processing complete. File saved as df_201812.pkl\n",
      "Processing JC-201901-citibike-tripdata.csv.zip...\n",
      "Reading CSV file: JC-201901-citibike-tripdata.csv\n",
      "Current memory usage: 8.03 MB\n",
      "Combining all DataFrames...\n",
      "Dropping duplicates...\n",
      "Saving DataFrame to df_201901.pkl...\n",
      "Final DataFrame shape: (19676, 15)\n",
      "Processing complete. File saved as df_201901.pkl\n",
      "Processing JC-201902-citibike-tripdata.csv.zip...\n",
      "Reading CSV file: JC-201902-citibike-tripdata.csv\n",
      "Current memory usage: 7.57 MB\n",
      "Combining all DataFrames...\n",
      "Dropping duplicates...\n",
      "Saving DataFrame to df_201902.pkl...\n",
      "Final DataFrame shape: (18565, 15)\n",
      "Processing complete. File saved as df_201902.pkl\n",
      "Processing JC-201903-citibike-tripdata.csv.zip...\n",
      "Reading CSV file: JC-201903-citibike-tripdata.csv\n",
      "Current memory usage: 9.63 MB\n",
      "Combining all DataFrames...\n",
      "Dropping duplicates...\n",
      "Saving DataFrame to df_201903.pkl...\n",
      "Final DataFrame shape: (23606, 15)\n",
      "Processing complete. File saved as df_201903.pkl\n",
      "Processing JC-201904-citibike-tripdata.csv.zip...\n",
      "Reading CSV file: JC-201904-citibike-tripdata.csv\n",
      "Current memory usage: 13.49 MB\n",
      "Combining all DataFrames...\n",
      "Dropping duplicates...\n",
      "Saving DataFrame to df_201904.pkl...\n",
      "Final DataFrame shape: (33056, 15)\n",
      "Processing complete. File saved as df_201904.pkl\n",
      "Processing JC-201905-citibike-tripdata.csv.zip...\n",
      "Reading CSV file: JC-201905-citibike-tripdata.csv\n",
      "Current memory usage: 14.75 MB\n",
      "Combining all DataFrames...\n",
      "Dropping duplicates...\n",
      "Saving DataFrame to df_201905.pkl...\n",
      "Final DataFrame shape: (36135, 15)\n",
      "Processing complete. File saved as df_201905.pkl\n",
      "Processing JC-201906-citibike-tripdata.csv.zip...\n",
      "Reading CSV file: JC-201906-citibike-tripdata.csv\n",
      "Current memory usage: 16.09 MB\n",
      "Combining all DataFrames...\n",
      "Dropping duplicates...\n",
      "Saving DataFrame to df_201906.pkl...\n",
      "Final DataFrame shape: (39430, 15)\n",
      "Processing complete. File saved as df_201906.pkl\n",
      "Processing JC-201907-citibike-tripdata.csv.zip...\n",
      "Reading CSV file: JC-201907-citibike-tripdata.csv\n",
      "Current memory usage: 17.88 MB\n",
      "Combining all DataFrames...\n",
      "Dropping duplicates...\n",
      "Saving DataFrame to df_201907.pkl...\n",
      "Final DataFrame shape: (43746, 15)\n",
      "Processing complete. File saved as df_201907.pkl\n",
      "Processing JC-201908-citibike-tripdata.csv.zip...\n",
      "Reading CSV file: JC-201908-citibike-tripdata.csv\n",
      "Current memory usage: 19.94 MB\n",
      "Combining all DataFrames...\n",
      "Dropping duplicates...\n",
      "Saving DataFrame to df_201908.pkl...\n",
      "Final DataFrame shape: (48711, 15)\n",
      "Processing complete. File saved as df_201908.pkl\n",
      "Processing JC-201909-citibike-tripdata.csv.zip...\n",
      "Reading CSV file: JC-201909-citibike-tripdata.csv\n",
      "Current memory usage: 20.16 MB\n",
      "Combining all DataFrames...\n",
      "Dropping duplicates...\n",
      "Saving DataFrame to df_201909.pkl...\n",
      "Final DataFrame shape: (49244, 15)\n",
      "Processing complete. File saved as df_201909.pkl\n",
      "Processing JC-201910-citibike-tripdata.csv.zip...\n",
      "Reading CSV file: JC-201910-citibike-tripdata.csv\n",
      "Current memory usage: 17.30 MB\n",
      "Combining all DataFrames...\n",
      "Dropping duplicates...\n",
      "Saving DataFrame to df_201910.pkl...\n",
      "Final DataFrame shape: (42253, 15)\n",
      "Processing complete. File saved as df_201910.pkl\n",
      "Processing JC-201911-citibike-tripdata.csv.zip...\n",
      "Reading CSV file: JC-201911-citibike-tripdata.csv\n",
      "Current memory usage: 12.60 MB\n",
      "Combining all DataFrames...\n",
      "Dropping duplicates...\n",
      "Saving DataFrame to df_201911.pkl...\n",
      "Final DataFrame shape: (30797, 15)\n",
      "Processing complete. File saved as df_201911.pkl\n",
      "Processing JC-201912-citibike-tripdata.csv.zip...\n",
      "Reading CSV file: JC-201912-citibike-tripdata.csv\n",
      "Current memory usage: 8.07 MB\n",
      "Combining all DataFrames...\n",
      "Dropping duplicates...\n",
      "Saving DataFrame to df_201912.pkl...\n",
      "Final DataFrame shape: (19728, 15)\n",
      "Processing complete. File saved as df_201912.pkl\n",
      "Processing JC-202001-citibike-tripdata.csv.zip...\n",
      "Reading CSV file: JC-202001-citibike-tripdata.csv\n",
      "Current memory usage: 10.65 MB\n",
      "Combining all DataFrames...\n",
      "Dropping duplicates...\n",
      "Saving DataFrame to df_202001.pkl...\n",
      "Final DataFrame shape: (26020, 15)\n",
      "Processing complete. File saved as df_202001.pkl\n",
      "Processing JC-202002-citibike-tripdata.csv.zip...\n",
      "Reading CSV file: JC-202002-citibike-tripdata.csv\n",
      "Current memory usage: 9.39 MB\n",
      "Combining all DataFrames...\n",
      "Dropping duplicates...\n",
      "Saving DataFrame to df_202002.pkl...\n",
      "Final DataFrame shape: (22962, 15)\n",
      "Processing complete. File saved as df_202002.pkl\n",
      "Processing JC-202003-citibike-tripdata.csv.zip...\n",
      "Reading CSV file: JC-202003-citibike-tripdata.csv\n",
      "Current memory usage: 7.25 MB\n",
      "Combining all DataFrames...\n",
      "Dropping duplicates...\n",
      "Saving DataFrame to df_202003.pkl...\n",
      "Final DataFrame shape: (17719, 15)\n",
      "Processing complete. File saved as df_202003.pkl\n",
      "Processing JC-202004-citibike-tripdata.csv.zip...\n",
      "Reading CSV file: JC-202004-citibike-tripdata.csv\n",
      "Current memory usage: 3.79 MB\n",
      "Combining all DataFrames...\n",
      "Dropping duplicates...\n",
      "Saving DataFrame to df_202004.pkl...\n",
      "Final DataFrame shape: (9268, 15)\n",
      "Processing complete. File saved as df_202004.pkl\n",
      "Processing JC-202005-citibike-tripdata.csv.zip...\n",
      "Reading CSV file: JC-202005-citibike-tripdata.csv\n",
      "Current memory usage: 10.27 MB\n",
      "Combining all DataFrames...\n",
      "Dropping duplicates...\n",
      "Saving DataFrame to df_202005.pkl...\n",
      "Final DataFrame shape: (25077, 15)\n",
      "Processing complete. File saved as df_202005.pkl\n",
      "Processing JC-202006-citibike-tripdata.csv.zip...\n",
      "Reading CSV file: JC-202006-citibike-tripdata.csv\n",
      "Current memory usage: 15.12 MB\n",
      "Combining all DataFrames...\n",
      "Dropping duplicates...\n",
      "Saving DataFrame to df_202006.pkl...\n",
      "Final DataFrame shape: (36921, 15)\n",
      "Processing complete. File saved as df_202006.pkl\n",
      "Processing JC-202007-citibike-tripdata.csv.zip...\n",
      "Reading CSV file: JC-202007-citibike-tripdata.csv\n",
      "Current memory usage: 15.83 MB\n",
      "Combining all DataFrames...\n",
      "Dropping duplicates...\n",
      "Saving DataFrame to df_202007.pkl...\n",
      "Final DataFrame shape: (38680, 15)\n",
      "Processing complete. File saved as df_202007.pkl\n",
      "Processing JC-202008-citibike-tripdata.csv.zip...\n",
      "Reading CSV file: JC-202008-citibike-tripdata.csv\n",
      "Current memory usage: 17.71 MB\n",
      "Combining all DataFrames...\n",
      "Dropping duplicates...\n",
      "Saving DataFrame to df_202008.pkl...\n",
      "Final DataFrame shape: (43267, 15)\n",
      "Processing complete. File saved as df_202008.pkl\n",
      "Processing JC-202009-citibike-tripdata.csv.zip...\n",
      "Reading CSV file: JC-202009-citibike-tripdata.csv\n",
      "Current memory usage: 22.03 MB\n",
      "Combining all DataFrames...\n",
      "Dropping duplicates...\n",
      "Saving DataFrame to df_202009.pkl...\n",
      "Final DataFrame shape: (53833, 15)\n",
      "Processing complete. File saved as df_202009.pkl\n",
      "Processing JC-202010-citibike-tripdata.csv.zip...\n",
      "Reading CSV file: JC-202010-citibike-tripdata.csv\n",
      "Current memory usage: 12.31 MB\n",
      "Combining all DataFrames...\n",
      "Dropping duplicates...\n",
      "Saving DataFrame to df_202010.pkl...\n",
      "Final DataFrame shape: (30086, 15)\n",
      "Processing complete. File saved as df_202010.pkl\n",
      "Processing JC-202011-citibike-tripdata.csv.zip...\n",
      "Reading CSV file: JC-202011-citibike-tripdata.csv\n",
      "Current memory usage: 8.70 MB\n",
      "Combining all DataFrames...\n",
      "Dropping duplicates...\n",
      "Saving DataFrame to df_202011.pkl...\n",
      "Final DataFrame shape: (21275, 15)\n",
      "Processing complete. File saved as df_202011.pkl\n",
      "Processing JC-202012-citibike-tripdata.csv.zip...\n",
      "Reading CSV file: JC-202012-citibike-tripdata.csv\n",
      "Current memory usage: 4.78 MB\n",
      "Combining all DataFrames...\n",
      "Dropping duplicates...\n",
      "Saving DataFrame to df_202012.pkl...\n",
      "Final DataFrame shape: (11694, 15)\n",
      "Processing complete. File saved as df_202012.pkl\n",
      "Processing JC-202101-citibike-tripdata.csv.zip...\n",
      "Reading CSV file: JC-202101-citibike-tripdata.csv\n",
      "Current memory usage: 4.75 MB\n",
      "Combining all DataFrames...\n",
      "Dropping duplicates...\n",
      "Saving DataFrame to df_202101.pkl...\n",
      "Final DataFrame shape: (11624, 15)\n",
      "Processing complete. File saved as df_202101.pkl\n",
      "Processing JC-202102-citibike-tripdata.csv.zip...\n",
      "Reading CSV file: JC-202102-citibike-tripdata.csv\n",
      "Current memory usage: 2.83 MB\n",
      "Combining all DataFrames...\n",
      "Dropping duplicates...\n",
      "Saving DataFrame to df_202102.pkl...\n",
      "Final DataFrame shape: (4881, 13)\n",
      "Processing complete. File saved as df_202102.pkl\n",
      "Processing JC-202103-citibike-tripdata.csv.zip...\n",
      "Reading CSV file: JC-202103-citibike-tripdata.csv\n",
      "Current memory usage: 9.94 MB\n",
      "Combining all DataFrames...\n",
      "Dropping duplicates...\n",
      "Saving DataFrame to df_202103.pkl...\n",
      "Final DataFrame shape: (17123, 13)\n",
      "Processing complete. File saved as df_202103.pkl\n",
      "Processing JC-202104-citibike-tripdata.csv.zip...\n",
      "Reading CSV file: JC-202104-citibike-tripdata.csv\n",
      "Current memory usage: 13.81 MB\n",
      "Combining all DataFrames...\n",
      "Dropping duplicates...\n",
      "Saving DataFrame to df_202104.pkl...\n",
      "Final DataFrame shape: (23774, 13)\n",
      "Processing complete. File saved as df_202104.pkl\n",
      "Processing JC-202105-citibike-tripdata.csv.zip...\n",
      "Reading CSV file: JC-202105-citibike-tripdata.csv\n",
      "Current memory usage: 26.55 MB\n",
      "Combining all DataFrames...\n",
      "Dropping duplicates...\n",
      "Saving DataFrame to df_202105.pkl...\n",
      "Final DataFrame shape: (45043, 13)\n",
      "Processing complete. File saved as df_202105.pkl\n",
      "Processing JC-202106-citibike-tripdata.csv.zip...\n",
      "Reading CSV file: JC-202106-citibike-tripdata.csv\n",
      "Current memory usage: 42.34 MB\n",
      "Combining all DataFrames...\n",
      "Dropping duplicates...\n",
      "Saving DataFrame to df_202106.pkl...\n",
      "Final DataFrame shape: (71442, 13)\n",
      "Processing complete. File saved as df_202106.pkl\n",
      "Processing JC-202107-citibike-tripdata.csv.zip...\n",
      "Reading CSV file: JC-202107-citibike-tripdata.csv\n",
      "Current memory usage: 49.02 MB\n",
      "Combining all DataFrames...\n",
      "Dropping duplicates...\n",
      "Saving DataFrame to df_202107.pkl...\n",
      "Final DataFrame shape: (82578, 13)\n",
      "Processing complete. File saved as df_202107.pkl\n",
      "Processing JC-202108-citibike-tripdata.csv.zip...\n",
      "Reading CSV file: JC-202108-citibike-tripdata.csv\n",
      "Current memory usage: 55.78 MB\n",
      "Combining all DataFrames...\n",
      "Dropping duplicates...\n",
      "Saving DataFrame to df_202108.pkl...\n",
      "Final DataFrame shape: (93821, 13)\n",
      "Processing complete. File saved as df_202108.pkl\n",
      "Processing JC-202109-citibike-tripdata.csv.zip...\n",
      "Reading CSV file: JC-202109-citibike-tripdata.csv\n",
      "Current memory usage: 57.87 MB\n",
      "Combining all DataFrames...\n",
      "Dropping duplicates...\n",
      "Saving DataFrame to df_202109.pkl...\n",
      "Final DataFrame shape: (97313, 13)\n",
      "Processing complete. File saved as df_202109.pkl\n",
      "Processing JC-202110-citibike-tripdata.csv.zip...\n",
      "Reading CSV file: JC-202110-citibike-tripdata.csv\n",
      "Current memory usage: 52.77 MB\n",
      "Combining all DataFrames...\n",
      "Dropping duplicates...\n",
      "Saving DataFrame to df_202110.pkl...\n",
      "Final DataFrame shape: (88762, 13)\n",
      "Processing complete. File saved as df_202110.pkl\n",
      "Processing JC-202111-citibike-tripdata.csv.zip...\n",
      "Reading CSV file: JC-202111-citibike-tripdata.csv\n",
      "Current memory usage: 35.67 MB\n",
      "Combining all DataFrames...\n",
      "Dropping duplicates...\n",
      "Saving DataFrame to df_202111.pkl...\n",
      "Final DataFrame shape: (60061, 13)\n",
      "Processing complete. File saved as df_202111.pkl\n",
      "Processing JC-202112-citibike-tripdata.csv.zip...\n",
      "Reading CSV file: JC-202112-citibike-tripdata.csv\n",
      "Current memory usage: 28.47 MB\n",
      "Combining all DataFrames...\n",
      "Dropping duplicates...\n",
      "Saving DataFrame to df_202112.pkl...\n",
      "Final DataFrame shape: (48021, 13)\n",
      "Processing complete. File saved as df_202112.pkl\n",
      "Processing JC-202201-citibike-tripdata.csv.zip...\n",
      "Reading CSV file: JC-202201-citibike-tripdata.csv\n",
      "Current memory usage: 15.83 MB\n",
      "Combining all DataFrames...\n",
      "Dropping duplicates...\n",
      "Saving DataFrame to df_202201.pkl...\n",
      "Final DataFrame shape: (26762, 13)\n",
      "Processing complete. File saved as df_202201.pkl\n",
      "Processing JC-202202-citibike-tripdata.csv.zip...\n",
      "Reading CSV file: JC-202202-citibike-tripdata.csv\n",
      "Current memory usage: 18.93 MB\n",
      "Combining all DataFrames...\n",
      "Dropping duplicates...\n",
      "Saving DataFrame to df_202202.pkl...\n",
      "Final DataFrame shape: (31911, 13)\n",
      "Processing complete. File saved as df_202202.pkl\n",
      "Processing JC-202203-citibike-tripdata.csv.zip...\n",
      "Reading CSV file: JC-202203-citibike-tripdata.csv\n",
      "Current memory usage: 30.69 MB\n",
      "Combining all DataFrames...\n",
      "Dropping duplicates...\n",
      "Saving DataFrame to df_202203.pkl...\n",
      "Final DataFrame shape: (51671, 13)\n",
      "Processing complete. File saved as df_202203.pkl\n",
      "Processing JC-202204-citibike-tripdata.csv.zip...\n",
      "Reading CSV file: JC-202204-citibike-tripdata.csv\n",
      "Current memory usage: 37.16 MB\n",
      "Combining all DataFrames...\n",
      "Dropping duplicates...\n",
      "Saving DataFrame to df_202204.pkl...\n",
      "Final DataFrame shape: (62528, 13)\n",
      "Processing complete. File saved as df_202204.pkl\n",
      "Processing JC-202205-citibike-tripdata.csv.zip...\n",
      "Reading CSV file: JC-202205-citibike-tripdata.csv\n",
      "Current memory usage: 47.84 MB\n",
      "Combining all DataFrames...\n",
      "Dropping duplicates...\n",
      "Saving DataFrame to df_202205.pkl...\n",
      "Final DataFrame shape: (80482, 13)\n",
      "Processing complete. File saved as df_202205.pkl\n",
      "Processing JC-202206-citibike-tripdata.csv.zip...\n",
      "Reading CSV file: JC-202206-citibike-tripdata.csv\n",
      "Current memory usage: 61.44 MB\n",
      "Combining all DataFrames...\n",
      "Dropping duplicates...\n",
      "Saving DataFrame to df_202206.pkl...\n",
      "Final DataFrame shape: (103299, 13)\n",
      "Processing complete. File saved as df_202206.pkl\n",
      "Processing JC-202207-citibike-tripdata.csv.zip...\n",
      "Reading CSV file: JC-202207-citbike-tripdata.csv\n",
      "Current memory usage: 64.56 MB\n",
      "Combining all DataFrames...\n",
      "Dropping duplicates...\n",
      "Saving DataFrame to df_202207.pkl...\n",
      "Final DataFrame shape: (108502, 13)\n",
      "Processing complete. File saved as df_202207.pkl\n",
      "Processing JC-202208-citibike-tripdata.csv.zip...\n",
      "Reading CSV file: JC-202208-citibike-tripdata.csv\n",
      "Current memory usage: 68.58 MB\n",
      "Combining all DataFrames...\n",
      "Dropping duplicates...\n",
      "Saving DataFrame to df_202208.pkl...\n",
      "Final DataFrame shape: (115231, 13)\n",
      "Processing complete. File saved as df_202208.pkl\n",
      "Processing JC-202209-citibike-tripdata.csv.zip...\n",
      "Reading CSV file: JC-202209-citibike-tripdata.csv\n",
      "Current memory usage: 62.11 MB\n",
      "Combining all DataFrames...\n",
      "Dropping duplicates...\n",
      "Saving DataFrame to df_202209.pkl...\n",
      "Final DataFrame shape: (104247, 13)\n",
      "Processing complete. File saved as df_202209.pkl\n",
      "Processing JC-202210-citibike-tripdata.csv.zip...\n",
      "Reading CSV file: JC-202210-citibike-tripdata.csv\n",
      "Current memory usage: 53.33 MB\n",
      "Combining all DataFrames...\n",
      "Dropping duplicates...\n",
      "Saving DataFrame to df_202210.pkl...\n",
      "Final DataFrame shape: (89558, 13)\n",
      "Processing complete. File saved as df_202210.pkl\n",
      "Processing JC-202211-citibike-tripdata.csv.zip...\n",
      "Reading CSV file: JC-202211-citibike-tripdata.csv\n",
      "Current memory usage: 43.27 MB\n",
      "Combining all DataFrames...\n",
      "Dropping duplicates...\n",
      "Saving DataFrame to df_202211.pkl...\n",
      "Final DataFrame shape: (72709, 13)\n",
      "Processing complete. File saved as df_202211.pkl\n",
      "Processing JC-202212-citibike-tripdata.csv.zip...\n",
      "Reading CSV file: JC-202212-citibike-tripdata.csv\n",
      "Current memory usage: 28.91 MB\n",
      "Combining all DataFrames...\n",
      "Dropping duplicates...\n",
      "Saving DataFrame to df_202212.pkl...\n",
      "Final DataFrame shape: (48585, 13)\n",
      "Processing complete. File saved as df_202212.pkl\n",
      "Processing JC-202301-citibike-tripdata.csv.zip...\n",
      "Reading CSV file: JC-202301-citibike-tripdata.csv\n",
      "Current memory usage: 33.36 MB\n",
      "Combining all DataFrames...\n",
      "Dropping duplicates...\n",
      "Saving DataFrame to df_202301.pkl...\n",
      "Final DataFrame shape: (56075, 13)\n",
      "Processing complete. File saved as df_202301.pkl\n",
      "Processing JC-202302-citibike-tripdata.csv.zip...\n",
      "Reading CSV file: JC-202302-citibike-tripdata.csv\n",
      "Current memory usage: 30.47 MB\n",
      "Combining all DataFrames...\n",
      "Dropping duplicates...\n",
      "Saving DataFrame to df_202302.pkl...\n",
      "Final DataFrame shape: (51213, 13)\n",
      "Processing complete. File saved as df_202302.pkl\n",
      "Processing JC-202303-citibike-tripdata.csv.zip...\n",
      "Reading CSV file: JC-202303-citibike-tripdata.csv\n",
      "Current memory usage: 37.50 MB\n",
      "Combining all DataFrames...\n",
      "Dropping duplicates...\n",
      "Saving DataFrame to df_202303.pkl...\n",
      "Final DataFrame shape: (63072, 13)\n",
      "Processing complete. File saved as df_202303.pkl\n",
      "Processing JC-202304-citibike-tripdata.csv.zip...\n",
      "Reading CSV file: JC-202304-citibike-tripdata.csv\n",
      "Current memory usage: 47.98 MB\n",
      "Combining all DataFrames...\n",
      "Dropping duplicates...\n",
      "Saving DataFrame to df_202304.pkl...\n",
      "Final DataFrame shape: (80688, 13)\n",
      "Processing complete. File saved as df_202304.pkl\n",
      "Processing JC-202305-citibike-tripdata.csv.zip...\n",
      "Reading CSV file: JC-202305-citibike-tripdata.csv\n",
      "Current memory usage: 57.08 MB\n",
      "Combining all DataFrames...\n",
      "Dropping duplicates...\n",
      "Saving DataFrame to df_202305.pkl...\n",
      "Final DataFrame shape: (96002, 13)\n",
      "Processing complete. File saved as df_202305.pkl\n",
      "Processing JC-202306-citibike-tripdata.csv.zip...\n",
      "Reading CSV file: JC-202306-citibike-tripdata.csv\n",
      "Current memory usage: 57.66 MB\n",
      "Combining all DataFrames...\n",
      "Dropping duplicates...\n",
      "Saving DataFrame to df_202306.pkl...\n",
      "Final DataFrame shape: (97023, 13)\n",
      "Processing complete. File saved as df_202306.pkl\n",
      "Processing JC-202307-citibike-tripdata.csv.zip...\n",
      "Reading CSV file: JC-202307-citibike-tripdata.csv\n",
      "Current memory usage: 63.33 MB\n",
      "Combining all DataFrames...\n",
      "Dropping duplicates...\n",
      "Saving DataFrame to df_202307.pkl...\n",
      "Final DataFrame shape: (106608, 13)\n",
      "Processing complete. File saved as df_202307.pkl\n",
      "Processing JC-202308-citibike-tripdata.csv.zip...\n",
      "Reading CSV file: JC-202308-citibike-tripdata.csv\n",
      "Current memory usage: 66.52 MB\n",
      "Combining all DataFrames...\n",
      "Dropping duplicates...\n",
      "Saving DataFrame to df_202308.pkl...\n",
      "Final DataFrame shape: (112027, 13)\n",
      "Processing complete. File saved as df_202308.pkl\n",
      "Processing JC-202309-citibike-tripdata.csv.zip...\n",
      "Reading CSV file: JC-202309-citibike-tripdata.csv\n",
      "Current memory usage: 56.01 MB\n",
      "Combining all DataFrames...\n",
      "Dropping duplicates...\n",
      "Saving DataFrame to df_202309.pkl...\n",
      "Final DataFrame shape: (94233, 13)\n",
      "Processing complete. File saved as df_202309.pkl\n",
      "Processing JC-202310-citibike-tripdata.csv.zip...\n",
      "Reading CSV file: JC-202310-citibike-tripdata.csv\n",
      "Current memory usage: 58.01 MB\n",
      "Combining all DataFrames...\n",
      "Dropping duplicates...\n",
      "Saving DataFrame to df_202310.pkl...\n",
      "Final DataFrame shape: (97584, 13)\n",
      "Processing complete. File saved as df_202310.pkl\n",
      "Processing JC-202311-citibike-tripdata.csv.zip...\n",
      "Reading CSV file: JC-202311-citibike-tripdata.csv\n",
      "Current memory usage: 44.93 MB\n",
      "Combining all DataFrames...\n",
      "Dropping duplicates...\n",
      "Saving DataFrame to df_202311.pkl...\n",
      "Final DataFrame shape: (75646, 13)\n",
      "Processing complete. File saved as df_202311.pkl\n",
      "Processing JC-202312-citibike-tripdata.csv.zip...\n",
      "Reading CSV file: JC-202312-citibike-tripdata.csv\n",
      "Current memory usage: 34.87 MB\n",
      "Combining all DataFrames...\n",
      "Dropping duplicates...\n",
      "Saving DataFrame to df_202312.pkl...\n",
      "Final DataFrame shape: (58680, 13)\n",
      "Processing complete. File saved as df_202312.pkl\n",
      "Processing JC-202401-citibike-tripdata.csv.zip...\n",
      "Reading CSV file: JC-202401-citibike-tripdata.csv\n",
      "Current memory usage: 30.10 MB\n",
      "Combining all DataFrames...\n",
      "Dropping duplicates...\n",
      "Saving DataFrame to df_202401.pkl...\n",
      "Final DataFrame shape: (50661, 13)\n",
      "Processing complete. File saved as df_202401.pkl\n",
      "Processing JC-202402-citibike-tripdata.csv.zip...\n",
      "Reading CSV file: JC-202402-citibike-tripdata.csv\n",
      "Current memory usage: 33.05 MB\n",
      "Combining all DataFrames...\n",
      "Dropping duplicates...\n",
      "Saving DataFrame to df_202402.pkl...\n",
      "Final DataFrame shape: (55613, 13)\n",
      "Processing complete. File saved as df_202402.pkl\n",
      "Processing JC-202403-citibike-tripdata.csv.zip...\n",
      "Reading CSV file: JC-202403-citibike-tripdata.csv\n",
      "Current memory usage: 38.98 MB\n",
      "Combining all DataFrames...\n",
      "Dropping duplicates...\n",
      "Saving DataFrame to df_202403.pkl...\n",
      "Final DataFrame shape: (65581, 13)\n",
      "Processing complete. File saved as df_202403.pkl\n",
      "Processing JC-202404-citibike-tripdata.csv.zip...\n",
      "Reading CSV file: JC-202404-citibike-tripdata.csv\n",
      "Current memory usage: 47.03 MB\n",
      "Combining all DataFrames...\n",
      "Dropping duplicates...\n",
      "Saving DataFrame to df_202404.pkl...\n",
      "Final DataFrame shape: (79116, 13)\n",
      "Processing complete. File saved as df_202404.pkl\n",
      "Processing JC-202405-citibike-tripdata.csv.zip...\n",
      "Reading CSV file: JC-202405-citibike-tripdata.csv\n",
      "Current memory usage: 57.92 MB\n",
      "Combining all DataFrames...\n",
      "Dropping duplicates...\n",
      "Saving DataFrame to df_202405.pkl...\n",
      "Final DataFrame shape: (97479, 13)\n",
      "Processing complete. File saved as df_202405.pkl\n",
      "Processing JC-202406-citibike-tripdata.csv.zip...\n",
      "Reading CSV file: JC-202406-citibike-tripdata.csv\n",
      "Current memory usage: 66.92 MB\n",
      "Combining all DataFrames...\n",
      "Dropping duplicates...\n",
      "Saving DataFrame to df_202406.pkl...\n",
      "Final DataFrame shape: (111115, 13)\n",
      "Processing complete. File saved as df_202406.pkl\n",
      "Processing JC-202407-citibike-tripdata.csv.zip...\n",
      "Reading CSV file: JC-202407-citibike-tripdata.csv\n",
      "Current memory usage: 67.72 MB\n",
      "Combining all DataFrames...\n",
      "Dropping duplicates...\n",
      "Saving DataFrame to df_202407.pkl...\n",
      "Final DataFrame shape: (112443, 13)\n",
      "Processing complete. File saved as df_202407.pkl\n",
      "Processing JC-202408-citibike-tripdata.csv.zip...\n",
      "Reading CSV file: JC-202408-citibike-tripdata.csv\n",
      "Current memory usage: 64.11 MB\n",
      "Combining all DataFrames...\n",
      "Dropping duplicates...\n",
      "Saving DataFrame to df_202408.pkl...\n",
      "Final DataFrame shape: (106451, 13)\n",
      "Processing complete. File saved as df_202408.pkl\n",
      "Processing JC-202409-citibike-tripdata.csv.zip...\n",
      "Reading CSV file: JC-202409-citibike-tripdata.csv\n",
      "Current memory usage: 69.67 MB\n",
      "Combining all DataFrames...\n",
      "Dropping duplicates...\n",
      "Saving DataFrame to df_202409.pkl...\n",
      "Final DataFrame shape: (115558, 13)\n",
      "Processing complete. File saved as df_202409.pkl\n",
      "Processing JC-202410-citibike-tripdata.csv.zip...\n",
      "Reading CSV file: JC-202410-citibike-tripdata.csv\n",
      "Current memory usage: 71.37 MB\n",
      "Combining all DataFrames...\n",
      "Dropping duplicates...\n",
      "Saving DataFrame to df_202410.pkl...\n",
      "Final DataFrame shape: (118307, 13)\n",
      "Processing complete. File saved as df_202410.pkl\n",
      "Processing JC-202411-citibike-tripdata.csv.zip...\n",
      "Reading CSV file: JC-202411-citibike-tripdata.csv\n",
      "Current memory usage: 51.44 MB\n",
      "Combining all DataFrames...\n",
      "Dropping duplicates...\n",
      "Saving DataFrame to df_202411.pkl...\n",
      "Final DataFrame shape: (85294, 13)\n",
      "Processing complete. File saved as df_202411.pkl\n",
      "Processing JC-202412-citibike-tripdata.csv.zip...\n",
      "Reading CSV file: JC-202412-citibike-tripdata.csv\n",
      "Current memory usage: 33.07 MB\n",
      "Combining all DataFrames...\n",
      "Dropping duplicates...\n",
      "Saving DataFrame to df_202412.pkl...\n",
      "Final DataFrame shape: (54833, 13)\n",
      "Processing complete. File saved as df_202412.pkl\n",
      "Processing JC-202501-citibike-tripdata.csv.zip...\n",
      "Reading CSV file: JC-202501-citibike-tripdata.csv\n",
      "Current memory usage: 30.51 MB\n",
      "Combining all DataFrames...\n",
      "Dropping duplicates...\n",
      "Saving DataFrame to df_202501.pkl...\n",
      "Final DataFrame shape: (50611, 13)\n",
      "Processing complete. File saved as df_202501.pkl\n",
      "Processing JC-202502-citibike-tripdata.csv.zip...\n",
      "Reading CSV file: JC-202502-citibike-tripdata.csv\n",
      "Current memory usage: 27.17 MB\n",
      "Combining all DataFrames...\n",
      "Dropping duplicates...\n",
      "Saving DataFrame to df_202502.pkl...\n",
      "Final DataFrame shape: (45255, 13)\n",
      "Processing complete. File saved as df_202502.pkl\n",
      "Processing JC-202503-citibike-tripdata.csv.zip...\n",
      "Reading CSV file: JC-202503-citibike-tripdata.csv\n",
      "Current memory usage: 44.16 MB\n",
      "Combining all DataFrames...\n",
      "Dropping duplicates...\n",
      "Saving DataFrame to df_202503.pkl...\n",
      "Final DataFrame shape: (73293, 13)\n",
      "Processing complete. File saved as df_202503.pkl\n",
      "Processing JC-202504-citibike-tripdata.csv.zip...\n",
      "Reading CSV file: JC-202504-citibike-tripdata.csv\n",
      "Current memory usage: 49.13 MB\n",
      "Combining all DataFrames...\n",
      "Dropping duplicates...\n",
      "Saving DataFrame to df_202504.pkl...\n",
      "Final DataFrame shape: (81553, 13)\n",
      "Processing complete. File saved as df_202504.pkl\n",
      "Processing JC-202505-citibike-tripdata.csv.zip...\n",
      "Reading CSV file: JC-202505-citibike-tripdata.csv\n",
      "Current memory usage: 56.17 MB\n",
      "Combining all DataFrames...\n",
      "Dropping duplicates...\n",
      "Saving DataFrame to df_202505.pkl...\n",
      "Final DataFrame shape: (93227, 13)\n",
      "Processing complete. File saved as df_202505.pkl\n",
      "Processing JC-202506-citibike-tripdata.csv.zip...\n",
      "Reading CSV file: JC-202506-citibike-tripdata.csv\n",
      "Current memory usage: 58.35 MB\n",
      "Combining all DataFrames...\n",
      "Dropping duplicates...\n",
      "Saving DataFrame to df_202506.pkl...\n",
      "Final DataFrame shape: (97124, 13)\n",
      "Processing complete. File saved as df_202506.pkl\n",
      "Processing JC-202507-citibike-tripdata.csv.zip...\n",
      "Reading CSV file: JC-202507-citibike-tripdata.csv\n",
      "Current memory usage: 64.67 MB\n",
      "Combining all DataFrames...\n",
      "Dropping duplicates...\n",
      "Saving DataFrame to df_202507.pkl...\n",
      "Final DataFrame shape: (107726, 13)\n",
      "Processing complete. File saved as df_202507.pkl\n"
     ]
    }
   ],
   "source": [
    "import_JC(listjc)"
   ]
  },
  {
   "cell_type": "code",
   "execution_count": null,
   "id": "2c389a5a-fcac-41ad-8792-f9f6bc0b062c",
   "metadata": {},
   "outputs": [],
   "source": []
  },
  {
   "cell_type": "code",
   "execution_count": 128,
   "id": "da276119-0486-42f5-8ed5-b34814c30c31",
   "metadata": {},
   "outputs": [
    {
     "data": {
      "text/plain": [
       "[201509, 201510, 201511, 201512]"
      ]
     },
     "execution_count": 128,
     "metadata": {},
     "output_type": "execute_result"
    }
   ],
   "source": [
    "list2015"
   ]
  },
  {
   "cell_type": "code",
   "execution_count": null,
   "id": "47cadf49-d3af-4a05-a210-7b42b282095a",
   "metadata": {},
   "outputs": [],
   "source": []
  },
  {
   "cell_type": "code",
   "execution_count": null,
   "id": "7775ffbf-98e3-45c5-91e7-7883a04ba215",
   "metadata": {},
   "outputs": [],
   "source": []
  },
  {
   "cell_type": "code",
   "execution_count": 129,
   "id": "4d4a086b-c53f-4dd5-9e18-c90f39b33748",
   "metadata": {},
   "outputs": [
    {
     "name": "stdout",
     "output_type": "stream",
     "text": [
      "df_201509: (6668, 15)\n",
      "df_201510: (19264, 15)\n",
      "df_201511: (15113, 15)\n",
      "df_201512: (11838, 15)\n",
      "Final shape:(52883, 15)\n",
      "Final shape after removing duplicates:(52883, 15)\n",
      "df_201601: (7479, 15)\n",
      "df_201602: (8250, 15)\n",
      "df_201603: (13511, 15)\n",
      "df_201604: (16342, 15)\n",
      "df_201605: (19488, 15)\n",
      "df_201606: (23947, 15)\n",
      "df_201607: (24436, 15)\n",
      "df_201608: (34149, 15)\n",
      "df_201609: (33425, 15)\n",
      "df_201610: (29611, 15)\n",
      "df_201611: (21832, 15)\n",
      "df_201612: (15114, 15)\n",
      "Final shape:(247584, 15)\n",
      "Final shape after removing duplicates:(247584, 15)\n",
      "df_201701: (12926, 15)\n",
      "df_201702: (14026, 15)\n",
      "df_201703: (12201, 15)\n",
      "df_201704: (21186, 15)\n",
      "df_201705: (25966, 15)\n",
      "df_201706: (32060, 15)\n",
      "df_201707: (33573, 15)\n",
      "df_201708: (35472, 15)\n",
      "df_201709: (33119, 15)\n",
      "df_201710: (34919, 15)\n",
      "df_201711: (23582, 15)\n",
      "df_201712: (15898, 15)\n",
      "Final shape:(294928, 30)\n",
      "Final shape after removing duplicates:(294928, 30)\n",
      "df_201801: (12677, 15)\n",
      "df_201802: (15104, 15)\n",
      "df_201803: (17109, 15)\n",
      "df_201804: (23634, 15)\n",
      "df_201805: (34456, 15)\n",
      "df_201806: (40937, 15)\n",
      "df_201807: (42268, 15)\n",
      "df_201808: (44432, 15)\n",
      "df_201809: (39022, 15)\n",
      "df_201810: (39138, 15)\n",
      "df_201811: (24910, 15)\n",
      "df_201812: (20205, 15)\n",
      "Final shape:(353892, 15)\n",
      "Final shape after removing duplicates:(353892, 15)\n",
      "df_201901: (19676, 15)\n",
      "df_201902: (18565, 15)\n",
      "df_201903: (23606, 15)\n",
      "df_201904: (33056, 15)\n",
      "df_201905: (36135, 15)\n",
      "df_201906: (39430, 15)\n",
      "df_201907: (43746, 15)\n",
      "df_201908: (48711, 15)\n",
      "df_201909: (49244, 15)\n",
      "df_201910: (42253, 15)\n",
      "df_201911: (30797, 15)\n",
      "df_201912: (19728, 15)\n",
      "Final shape:(404947, 15)\n",
      "Final shape after removing duplicates:(404947, 15)\n",
      "df_202001: (26020, 15)\n",
      "df_202002: (22962, 15)\n",
      "df_202003: (17719, 15)\n",
      "df_202004: (9268, 15)\n",
      "df_202005: (25077, 15)\n",
      "df_202006: (36921, 15)\n",
      "df_202007: (38680, 15)\n",
      "df_202008: (43267, 15)\n",
      "df_202009: (53833, 15)\n",
      "df_202010: (30086, 15)\n",
      "df_202011: (21275, 15)\n",
      "df_202012: (11694, 15)\n",
      "Final shape:(336802, 15)\n",
      "Final shape after removing duplicates:(323351, 15)\n",
      "df_202101: (11624, 15)\n",
      "df_202102: (4881, 13)\n",
      "df_202103: (17123, 13)\n",
      "df_202104: (23774, 13)\n",
      "df_202105: (45043, 13)\n",
      "df_202106: (71442, 13)\n",
      "df_202107: (82578, 13)\n",
      "df_202108: (93821, 13)\n",
      "df_202109: (97313, 13)\n",
      "df_202110: (88762, 13)\n",
      "df_202111: (60061, 13)\n",
      "df_202112: (48021, 13)\n",
      "Final shape:(644443, 28)\n",
      "Final shape after removing duplicates:(644443, 28)\n",
      "df_202201: (26762, 13)\n",
      "df_202202: (31911, 13)\n",
      "df_202203: (51671, 13)\n",
      "df_202204: (62528, 13)\n",
      "df_202205: (80482, 13)\n",
      "df_202206: (103299, 13)\n",
      "df_202207: (108502, 13)\n",
      "df_202208: (115231, 13)\n",
      "df_202209: (104247, 13)\n",
      "df_202210: (89558, 13)\n",
      "df_202211: (72709, 13)\n",
      "df_202212: (48585, 13)\n",
      "Final shape:(895485, 13)\n",
      "Final shape after removing duplicates:(895485, 13)\n",
      "df_202301: (56075, 13)\n",
      "df_202302: (51213, 13)\n",
      "df_202303: (63072, 13)\n",
      "df_202304: (80688, 13)\n",
      "df_202305: (96002, 13)\n",
      "df_202306: (97023, 13)\n",
      "df_202307: (106608, 13)\n",
      "df_202308: (112027, 13)\n",
      "df_202309: (94233, 13)\n",
      "df_202310: (97584, 13)\n",
      "df_202311: (75646, 13)\n",
      "df_202312: (58680, 13)\n",
      "Final shape:(988851, 13)\n",
      "Final shape after removing duplicates:(988851, 13)\n",
      "df_202401: (50661, 13)\n",
      "df_202402: (55613, 13)\n",
      "df_202403: (65581, 13)\n",
      "df_202404: (79116, 13)\n",
      "df_202405: (97479, 13)\n",
      "df_202406: (111115, 13)\n",
      "df_202407: (112443, 13)\n",
      "df_202408: (106451, 13)\n",
      "df_202409: (115558, 13)\n",
      "df_202410: (118307, 13)\n",
      "df_202411: (85294, 13)\n",
      "df_202412: (54833, 13)\n",
      "Final shape:(1052451, 13)\n",
      "Final shape after removing duplicates:(1052451, 13)\n",
      "df_202501: (50611, 13)\n",
      "df_202502: (45255, 13)\n",
      "df_202503: (73293, 13)\n",
      "df_202504: (81553, 13)\n",
      "df_202505: (93227, 13)\n",
      "df_202506: (97124, 13)\n",
      "df_202507: (107726, 13)\n",
      "Final shape:(548789, 13)\n",
      "Final shape after removing duplicates:(548789, 13)\n"
     ]
    }
   ],
   "source": [
    "for i in range(2015, 2025 + 1):\n",
    "    dfs_list = []\n",
    "    current_list = locals()[f\"list{i}\"] \n",
    "    for j in current_list:\n",
    "        df = pd.read_pickle(f\"df_{j}.pkl\")\n",
    "        print(f\"df_{j}: {df.shape}\")\n",
    "        dfs_list.append(df)\n",
    "    final_df = pd.concat(dfs_list, ignore_index = True)\n",
    "    print(f\"Final shape:{final_df.shape}\")\n",
    "    final_df = final_df.drop_duplicates()\n",
    "    print(f\"Final shape after removing duplicates:{final_df.shape}\")\n",
    "    final_df.to_pickle(f'JC_df_{i}.pkl')"
   ]
  },
  {
   "cell_type": "code",
   "execution_count": null,
   "id": "d6fb1e57-5db7-4650-9cf8-c59cba14bd91",
   "metadata": {},
   "outputs": [],
   "source": []
  },
  {
   "cell_type": "code",
   "execution_count": null,
   "id": "56ac717f-1f4e-4431-ad57-ff192673489f",
   "metadata": {},
   "outputs": [],
   "source": []
  },
  {
   "cell_type": "code",
   "execution_count": null,
   "id": "bac64f1c-e02a-4748-bc0e-1b0ec14ae172",
   "metadata": {},
   "outputs": [],
   "source": []
  },
  {
   "cell_type": "code",
   "execution_count": null,
   "id": "cfc84562-c7fa-47a3-bd9a-b3288eda4499",
   "metadata": {},
   "outputs": [],
   "source": []
  },
  {
   "cell_type": "code",
   "execution_count": null,
   "id": "2fee12eb-4ed7-4dd2-a55a-188a01563cfe",
   "metadata": {},
   "outputs": [],
   "source": []
  },
  {
   "cell_type": "code",
   "execution_count": null,
   "id": "5ba4dc69-f9ea-489f-a9d4-a88191b7cc84",
   "metadata": {},
   "outputs": [],
   "source": []
  }
 ],
 "metadata": {
  "kernelspec": {
   "display_name": "Python 3 (ipykernel)",
   "language": "python",
   "name": "python3"
  },
  "language_info": {
   "codemirror_mode": {
    "name": "ipython",
    "version": 3
   },
   "file_extension": ".py",
   "mimetype": "text/x-python",
   "name": "python",
   "nbconvert_exporter": "python",
   "pygments_lexer": "ipython3",
   "version": "3.12.7"
  }
 },
 "nbformat": 4,
 "nbformat_minor": 5
}
