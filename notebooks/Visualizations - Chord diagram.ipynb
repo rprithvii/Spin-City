{
 "cells": [
  {
   "cell_type": "code",
   "execution_count": 1,
   "id": "13981ee6-aa8b-4aa8-8a6b-a98430d5d67b",
   "metadata": {},
   "outputs": [],
   "source": [
    "%reset -f"
   ]
  },
  {
   "cell_type": "code",
   "execution_count": 2,
   "id": "f3cf6294-8177-4add-87cd-88c5dca8abdc",
   "metadata": {},
   "outputs": [],
   "source": [
    "import pandas as pd\n",
    "import numpy as np\n",
    "import os\n",
    "import sys"
   ]
  },
  {
   "cell_type": "code",
   "execution_count": 3,
   "id": "3efea2bb-5ceb-4cfa-a422-7f4c969dc2cb",
   "metadata": {},
   "outputs": [],
   "source": [
    "# Set display options\n",
    "pd.set_option('display.max_columns', None)\n",
    "pd.set_option('display.max_rows', None)\n",
    "pd.set_option('display.width', None)\n",
    "pd.set_option('display.max_colwidth', None)"
   ]
  },
  {
   "cell_type": "code",
   "execution_count": 4,
   "id": "0dc8e220-1128-414f-8d72-4adeef080722",
   "metadata": {},
   "outputs": [
    {
     "data": {
      "text/plain": [
       "'C:\\\\Users\\\\rajpprit\\\\Documents\\\\UK I&I\\\\Trainings\\\\Vizcon 2025\\\\New York city bike data\\\\notebooks'"
      ]
     },
     "execution_count": 4,
     "metadata": {},
     "output_type": "execute_result"
    }
   ],
   "source": [
    "os.getcwd()"
   ]
  },
  {
   "cell_type": "code",
   "execution_count": 5,
   "id": "86fdd5dd-68ba-48a7-ae51-3ffb677f2c5d",
   "metadata": {},
   "outputs": [
    {
     "data": {
      "text/plain": [
       "['.ipynb_checkpoints',\n",
       " 'EDA.ipynb',\n",
       " 'prep_data.ipynb',\n",
       " 'prep_data1.ipynb',\n",
       " 'Visualizations - Bubble chart-Copy1.ipynb',\n",
       " 'Visualizations - Bubble chart-Copy2.ipynb',\n",
       " 'Visualizations - Bubble chart.ipynb',\n",
       " 'Visualizations - Chord diagram.ipynb',\n",
       " 'Visualizations - Delta on map.ipynb',\n",
       " 'Visualizations - line chart.ipynb',\n",
       " 'Visualizations - Main routes.ipynb',\n",
       " 'Visualizations - Map and Sankey.ipynb',\n",
       " 'Visualizations - Sales forecast.ipynb']"
      ]
     },
     "execution_count": 5,
     "metadata": {},
     "output_type": "execute_result"
    }
   ],
   "source": [
    "os.listdir()"
   ]
  },
  {
   "cell_type": "code",
   "execution_count": null,
   "id": "71615240-e848-410d-931c-76ea8b1e31a2",
   "metadata": {},
   "outputs": [],
   "source": []
  },
  {
   "cell_type": "code",
   "execution_count": null,
   "id": "f977d841-7ca0-463c-bb90-eb782b0a977b",
   "metadata": {},
   "outputs": [],
   "source": []
  },
  {
   "cell_type": "code",
   "execution_count": null,
   "id": "01089162-bf81-4214-bc9f-666065a7fbc4",
   "metadata": {},
   "outputs": [],
   "source": []
  },
  {
   "cell_type": "code",
   "execution_count": null,
   "id": "6fb4b69f-c145-4503-9561-3092b750dcf8",
   "metadata": {},
   "outputs": [],
   "source": []
  },
  {
   "cell_type": "code",
   "execution_count": 6,
   "id": "e745f7d1-48ae-4eba-9c46-3f918d32b06f",
   "metadata": {},
   "outputs": [
    {
     "data": {
      "text/plain": [
       "'C:\\\\Users\\\\rajpprit\\\\Documents\\\\UK I&I\\\\Trainings\\\\Vizcon 2025\\\\New York city bike data\\\\notebooks'"
      ]
     },
     "execution_count": 6,
     "metadata": {},
     "output_type": "execute_result"
    }
   ],
   "source": [
    "os.getcwd()"
   ]
  },
  {
   "cell_type": "code",
   "execution_count": null,
   "id": "3b438a8d-2b3a-4db6-b557-e06c90b89c9b",
   "metadata": {},
   "outputs": [],
   "source": []
  },
  {
   "cell_type": "code",
   "execution_count": 7,
   "id": "0df990e7-5854-4ee3-b887-dc6fe008212c",
   "metadata": {},
   "outputs": [],
   "source": [
    "# -----------------------------\n",
    "# 2. Sample Data Preparation\n",
    "# -----------------------------\n",
    "os.chdir(\"C:\\\\Users\\\\rajpprit\\\\Documents\\\\UK I&I\\\\Trainings\\\\Vizcon 2025\\\\New York city bike data\\\\data_processed\\\\Pickel files\")\n",
    "# df_2020_2025 = pd.read_pickle(\"df_2020_2025.pkl\")\n",
    "df_2024 = pd.read_pickle(\"df_2024.pkl\")"
   ]
  },
  {
   "cell_type": "code",
   "execution_count": 8,
   "id": "2ee421ef-ded5-4b5a-80aa-8fa3a5698728",
   "metadata": {},
   "outputs": [],
   "source": [
    "# df = df_2020_2025.copy()  # your 60% sampled dataframe\n",
    "df = df_2024.copy()  # your 60% sampled dataframe"
   ]
  },
  {
   "cell_type": "code",
   "execution_count": 9,
   "id": "15d364d8-6621-4079-a6a6-f7c88d142624",
   "metadata": {},
   "outputs": [
    {
     "data": {
      "text/plain": [
       "(44303209, 13)"
      ]
     },
     "execution_count": 9,
     "metadata": {},
     "output_type": "execute_result"
    }
   ],
   "source": [
    "df.shape"
   ]
  },
  {
   "cell_type": "code",
   "execution_count": 12,
   "id": "9555ee3f-1405-4d39-8e4e-d8829ef3afb5",
   "metadata": {},
   "outputs": [
    {
     "data": {
      "text/html": [
       "<div>\n",
       "<style scoped>\n",
       "    .dataframe tbody tr th:only-of-type {\n",
       "        vertical-align: middle;\n",
       "    }\n",
       "\n",
       "    .dataframe tbody tr th {\n",
       "        vertical-align: top;\n",
       "    }\n",
       "\n",
       "    .dataframe thead th {\n",
       "        text-align: right;\n",
       "    }\n",
       "</style>\n",
       "<table border=\"1\" class=\"dataframe\">\n",
       "  <thead>\n",
       "    <tr style=\"text-align: right;\">\n",
       "      <th></th>\n",
       "      <th>ride_id</th>\n",
       "      <th>rideable_type</th>\n",
       "      <th>started_at</th>\n",
       "      <th>ended_at</th>\n",
       "      <th>start_station_name</th>\n",
       "      <th>start_station_id</th>\n",
       "      <th>end_station_name</th>\n",
       "      <th>end_station_id</th>\n",
       "      <th>start_lat</th>\n",
       "      <th>start_lng</th>\n",
       "      <th>end_lat</th>\n",
       "      <th>end_lng</th>\n",
       "      <th>member_casual</th>\n",
       "    </tr>\n",
       "  </thead>\n",
       "  <tbody>\n",
       "    <tr>\n",
       "      <th>0</th>\n",
       "      <td>5748E600F27FCE57</td>\n",
       "      <td>classic_bike</td>\n",
       "      <td>2024-02-04 16:20:38.709</td>\n",
       "      <td>2024-02-04 16:35:35.291</td>\n",
       "      <td>W 20 St &amp; 10 Ave</td>\n",
       "      <td>6306.01</td>\n",
       "      <td>1 Ave &amp; E 18 St</td>\n",
       "      <td>5854.09</td>\n",
       "      <td>40.745686</td>\n",
       "      <td>-74.005141</td>\n",
       "      <td>40.733812</td>\n",
       "      <td>-73.980544</td>\n",
       "      <td>member</td>\n",
       "    </tr>\n",
       "    <tr>\n",
       "      <th>1</th>\n",
       "      <td>D24A7073979DC95B</td>\n",
       "      <td>electric_bike</td>\n",
       "      <td>2024-02-07 15:41:36.819</td>\n",
       "      <td>2024-02-07 16:01:12.394</td>\n",
       "      <td>Washington St &amp; Gansevoort St</td>\n",
       "      <td>6039.06</td>\n",
       "      <td>Schermerhorn St &amp; Hoyt St</td>\n",
       "      <td>4479.10</td>\n",
       "      <td>40.739323</td>\n",
       "      <td>-74.008119</td>\n",
       "      <td>40.688626</td>\n",
       "      <td>-73.985191</td>\n",
       "      <td>member</td>\n",
       "    </tr>\n",
       "  </tbody>\n",
       "</table>\n",
       "</div>"
      ],
      "text/plain": [
       "            ride_id  rideable_type               started_at  \\\n",
       "0  5748E600F27FCE57   classic_bike  2024-02-04 16:20:38.709   \n",
       "1  D24A7073979DC95B  electric_bike  2024-02-07 15:41:36.819   \n",
       "\n",
       "                  ended_at             start_station_name start_station_id  \\\n",
       "0  2024-02-04 16:35:35.291               W 20 St & 10 Ave          6306.01   \n",
       "1  2024-02-07 16:01:12.394  Washington St & Gansevoort St          6039.06   \n",
       "\n",
       "            end_station_name end_station_id  start_lat  start_lng    end_lat  \\\n",
       "0            1 Ave & E 18 St        5854.09  40.745686 -74.005141  40.733812   \n",
       "1  Schermerhorn St & Hoyt St        4479.10  40.739323 -74.008119  40.688626   \n",
       "\n",
       "     end_lng member_casual  \n",
       "0 -73.980544        member  \n",
       "1 -73.985191        member  "
      ]
     },
     "execution_count": 12,
     "metadata": {},
     "output_type": "execute_result"
    }
   ],
   "source": [
    "df.head(2)"
   ]
  },
  {
   "cell_type": "code",
   "execution_count": null,
   "id": "792d131b-16ed-496d-9c75-7bf05de3ec82",
   "metadata": {},
   "outputs": [],
   "source": []
  },
  {
   "cell_type": "markdown",
   "id": "78371ab2-e840-4dbe-afe5-048c038fdc14",
   "metadata": {},
   "source": [
    "#### 0. Data import"
   ]
  },
  {
   "cell_type": "code",
   "execution_count": 13,
   "id": "979a88f7-c396-45f6-a99e-131aa994a971",
   "metadata": {},
   "outputs": [],
   "source": [
    "import pandas as pd\n",
    "import plotly.express as px\n",
    "import plotly.graph_objects as go\n",
    "from plotly.subplots import make_subplots\n",
    "import numpy as np\n",
    "from datetime import datetime"
   ]
  },
  {
   "cell_type": "code",
   "execution_count": null,
   "id": "a97053a9-ee16-49ec-bd80-d799d7f9bc2d",
   "metadata": {},
   "outputs": [],
   "source": []
  },
  {
   "cell_type": "markdown",
   "id": "fd467a54-c53b-443b-a07a-31605780af92",
   "metadata": {},
   "source": [
    "#### 1. Chord diagram "
   ]
  },
  {
   "cell_type": "code",
   "execution_count": 14,
   "id": "3b1b0331-4068-4355-a688-7a68f52dc063",
   "metadata": {},
   "outputs": [
    {
     "data": {
      "text/plain": [
       "'C:\\\\Users\\\\rajpprit\\\\Documents\\\\UK I&I\\\\Trainings\\\\Vizcon 2025\\\\New York city bike data\\\\data_processed\\\\Pickel files'"
      ]
     },
     "execution_count": 14,
     "metadata": {},
     "output_type": "execute_result"
    }
   ],
   "source": [
    "os.getcwd()"
   ]
  },
  {
   "cell_type": "code",
   "execution_count": 15,
   "id": "1ca008bc-d5e1-42b2-8460-c522ad0cfabf",
   "metadata": {},
   "outputs": [],
   "source": [
    "os.chdir(\"C:\\\\Users\\\\rajpprit\\\\Documents\\\\UK I&I\\\\Trainings\\\\Vizcon 2025\\\\New York city bike data\")"
   ]
  },
  {
   "cell_type": "code",
   "execution_count": 16,
   "id": "4df25be4-8c6f-4cbb-bfb3-7407ed156301",
   "metadata": {},
   "outputs": [
    {
     "data": {
      "text/plain": [
       "'C:\\\\Users\\\\rajpprit\\\\Documents\\\\UK I&I\\\\Trainings\\\\Vizcon 2025\\\\New York city bike data'"
      ]
     },
     "execution_count": 16,
     "metadata": {},
     "output_type": "execute_result"
    }
   ],
   "source": [
    "os.getcwd()"
   ]
  },
  {
   "cell_type": "code",
   "execution_count": null,
   "id": "2f943725-0dbc-4b93-9da2-3af5d3cb8397",
   "metadata": {},
   "outputs": [],
   "source": []
  },
  {
   "cell_type": "code",
   "execution_count": 23,
   "id": "e2e362ba-5bb4-42c7-b660-3c6ef5bd842c",
   "metadata": {},
   "outputs": [],
   "source": [
    "import pandas as pd\n",
    "import numpy as np\n",
    "import json\n",
    "import colorsys\n",
    "\n",
    "# def clean_station_names(df):\n",
    "#     df['start_station_name'] = df['start_station_name'].str.replace('&', 'and')\n",
    "#     df['end_station_name'] = df['end_station_name'].str.replace('&', 'and')\n",
    "#     df['start_station_name'] = df['start_station_name'].str.replace(r'[^\\w\\s-]', '', regex=True)\n",
    "#     df['end_station_name'] = df['end_station_name'].str.replace(r'[^\\w\\s-]', '', regex=True)\n",
    "#     df['start_station_name'] = df['start_station_name'].str[:20]\n",
    "#     df['end_station_name'] = df['end_station_name'].str[:20]\n",
    "#     return df\n",
    "\n",
    "def clean_station_names(df):\n",
    "    df = df.copy()  # Create a copy to avoid modifying the original DataFrame\n",
    "    df.loc[:, 'start_station_name'] = df['start_station_name'].str.replace('&', 'and')\n",
    "    df.loc[:, 'end_station_name'] = df['end_station_name'].str.replace('&', 'and')\n",
    "    df.loc[:, 'start_station_name'] = df['start_station_name'].str.replace(r'[^\\w\\s-]', '', regex=True)\n",
    "    df.loc[:, 'end_station_name'] = df['end_station_name'].str.replace(r'[^\\w\\s-]', '', regex=True)\n",
    "    # df.loc[:, 'start_station_name'] = df['start_station_name'].str[:20]\n",
    "    # df.loc[:, 'end_station_name'] = df['end_station_name'].str[:20]\n",
    "    return df\n",
    "\n",
    "    \n",
    "\n",
    "def get_top_stations(df, n=15):\n",
    "    start_station_counts = df['start_station_name'].value_counts()\n",
    "    end_station_counts = df['end_station_name'].value_counts()\n",
    "    total_counts = pd.concat([start_station_counts, end_station_counts])\n",
    "    top_stations = total_counts.groupby(level=0).sum().nlargest(n).index.tolist()\n",
    "    return top_stations\n",
    "\n",
    "def generate_colors(n):\n",
    "    \"\"\"Generate n distinct colors\"\"\"\n",
    "    HSV_tuples = [(x/n, 0.8, 0.9) for x in range(n)]\n",
    "    return ['#%02x%02x%02x' % tuple(int(x*255) for x in colorsys.hsv_to_rgb(*hsv)) for hsv in HSV_tuples]\n",
    "\n",
    "def create_chord_data(df, top_stations):\n",
    "    # Filter for top stations\n",
    "    df_filtered = df[\n",
    "        (df['start_station_name'].isin(top_stations)) & \n",
    "        (df['end_station_name'].isin(top_stations))\n",
    "    ]\n",
    "    \n",
    "    # Create matrix of flows between stations\n",
    "    matrix = pd.crosstab(\n",
    "        df_filtered['start_station_name'],\n",
    "        df_filtered['end_station_name']\n",
    "    ).reindex(index=top_stations, columns=top_stations).fillna(0)\n",
    "    \n",
    "    return matrix.values.tolist(), top_stations\n",
    "\n",
    "def create_chord_diagram(matrix, names, output_path):\n",
    "    # Generate colors for stations\n",
    "    colors = generate_colors(len(names))\n",
    "    \n",
    "    # Create the HTML content\n",
    "    html_content = f\"\"\"\n",
    "    <!DOCTYPE html>\n",
    "    <html>\n",
    "    <head>\n",
    "        <meta charset=\"utf-8\">\n",
    "        <title>NYC Bike Share Flows</title>\n",
    "        <script src=\"https://d3js.org/d3.v7.min.js\"></script>\n",
    "        <style>\n",
    "            .container {{\n",
    "                width: 800px;\n",
    "                height: 500px;\n",
    "                background-color: rgba(26, 31, 53, 0.0);\n",
    "            }}\n",
    "            #chord {{\n",
    "                width: 800px;\n",
    "                height: 500px;\n",
    "                display: flex;\n",
    "                justify-content: center;\n",
    "                align-items: center;\n",
    "            }}\n",
    "            .tooltip {{\n",
    "                position: absolute;\n",
    "                background-color: rgba(26, 31, 53, 0.9);\n",
    "                color: white;\n",
    "                padding: 10px;\n",
    "                border-radius: 5px;\n",
    "                font-size: 12px;\n",
    "                pointer-events: none;\n",
    "            }}\n",
    "            .station-label {{\n",
    "                font-family: Arial, sans-serif;\n",
    "                font-weight: 500;\n",
    "            }}\n",
    "        </style>\n",
    "    </head>\n",
    "    <body style=\"margin:0; background-color: transparent;\">\n",
    "        <div class=\"container\">\n",
    "            <div id=\"chord\"></div>\n",
    "        </div>\n",
    "        <script>\n",
    "            const width = 800;\n",
    "            const height = 500;\n",
    "            const radius = Math.min(width, height) * 0.4;  // Increased radius\n",
    "            const names = {json.dumps(names)};\n",
    "            const matrix = {json.dumps(matrix)};\n",
    "            const colors = {json.dumps(colors)};\n",
    "\n",
    "            // Create the chord diagram\n",
    "            const svg = d3.select(\"#chord\")\n",
    "                .append(\"svg\")\n",
    "                .attr(\"width\", width)\n",
    "                .attr(\"height\", height)\n",
    "                .append(\"g\")\n",
    "                .attr(\"transform\", `translate(${{width/2}},${{height/2}})`);\n",
    "\n",
    "            // Create a tooltip\n",
    "            const tooltip = d3.select(\"body\")\n",
    "                .append(\"div\")\n",
    "                .attr(\"class\", \"tooltip\")\n",
    "                .style(\"opacity\", 0);\n",
    "\n",
    "            // Create the chord layout\n",
    "            const chord = d3.chordDirected()\n",
    "                .padAngle(0.07)  // Increased pad angle for better separation\n",
    "                .sortSubgroups(d3.descending)\n",
    "                (matrix);\n",
    "\n",
    "            // Add the groups\n",
    "            const group = svg.append(\"g\")\n",
    "                .selectAll(\"g\")\n",
    "                .data(chord.groups)\n",
    "                .join(\"g\");\n",
    "\n",
    "            // Add the outer arcs\n",
    "            group.append(\"path\")\n",
    "                .attr(\"fill\", d => colors[d.index])\n",
    "                .attr(\"d\", d3.arc()\n",
    "                    .innerRadius(radius)\n",
    "                    .outerRadius(radius + 12)  // Increased arc thickness\n",
    "                );\n",
    "\n",
    "            // Add station names\n",
    "            group.append(\"text\")\n",
    "                .each(d => {{\n",
    "                    d.angle = (d.startAngle + d.endAngle) / 2;\n",
    "                    d.name = names[d.index];\n",
    "                }})\n",
    "                .attr(\"dy\", \".35em\")\n",
    "                .attr(\"class\", \"station-label\")\n",
    "                .attr(\"transform\", d => {{\n",
    "                    const rotation = (d.angle * 180 / Math.PI - 90);\n",
    "                    const translation = radius + 30;  // Increased distance for labels\n",
    "                    return `\n",
    "                        rotate(${{rotation}})\n",
    "                        translate(${{translation}})\n",
    "                        ${{d.angle > Math.PI ? \"rotate(180)\" : \"\"}}\n",
    "                    `;\n",
    "                }})\n",
    "                .attr(\"text-anchor\", d => d.angle > Math.PI ? \"end\" : \"start\")\n",
    "                .text(d => d.name)\n",
    "                .style(\"font-size\", \"12px\")  // Slightly larger font\n",
    "                .style(\"fill\", \"white\")\n",
    "                .style(\"font-weight\", \"bold\");\n",
    "\n",
    "            // Add the chords\n",
    "            svg.append(\"g\")\n",
    "                .attr(\"fill-opacity\", 0.8)  // Increased opacity\n",
    "                .selectAll(\"path\")\n",
    "                .data(chord)\n",
    "                .join(\"path\")\n",
    "                .attr(\"d\", d3.ribbon()\n",
    "                    .radius(radius)\n",
    "                )\n",
    "                .attr(\"fill\", d => colors[d.source.index])\n",
    "                .attr(\"stroke\", \"none\")\n",
    "                .on(\"mouseover\", function(event, d) {{\n",
    "                    d3.selectAll(\".station-label\")\n",
    "                        .style(\"font-size\", text => {{\n",
    "                            if (text.index === d.source.index || text.index === d.target.index) {{\n",
    "                                return \"14px\";  // Larger highlight font\n",
    "                            }}\n",
    "                            return \"12px\";\n",
    "                        }})\n",
    "                        .style(\"fill\", text => {{\n",
    "                            if (text.index === d.source.index || text.index === d.target.index) {{\n",
    "                                return \"#00fff2\";\n",
    "                            }}\n",
    "                            return \"white\";\n",
    "                        }});\n",
    "                    \n",
    "                    tooltip.transition()\n",
    "                        .duration(200)\n",
    "                        .style(\"opacity\", .9);\n",
    "                    tooltip.html(`\n",
    "                        <b>From:</b> ${{names[d.source.index]}}<br/>\n",
    "                        <b>To:</b> ${{names[d.target.index]}}<br/>\n",
    "                        <b>Rides:</b> ${{d.source.value.toLocaleString()}}\n",
    "                    `)\n",
    "                        .style(\"left\", (event.pageX + 10) + \"px\")\n",
    "                        .style(\"top\", (event.pageY - 28) + \"px\");\n",
    "                }})\n",
    "                .on(\"mouseout\", function(d) {{\n",
    "                    d3.selectAll(\".station-label\")\n",
    "                        .style(\"font-size\", \"12px\")\n",
    "                        .style(\"fill\", \"white\");\n",
    "                    \n",
    "                    tooltip.transition()\n",
    "                        .duration(500)\n",
    "                        .style(\"opacity\", 0);\n",
    "                }});\n",
    "        </script>\n",
    "    </body>\n",
    "    </html>\n",
    "    \"\"\"\n",
    "    \n",
    "    # Save the HTML file\n",
    "    with open(output_path, 'w', encoding='utf-8') as f:\n",
    "        f.write(html_content)"
   ]
  },
  {
   "cell_type": "code",
   "execution_count": 24,
   "id": "08bf037a-63bf-4c6d-8ab4-dcd60251410f",
   "metadata": {},
   "outputs": [
    {
     "data": {
      "text/plain": [
       "'C:\\\\Users\\\\rajpprit\\\\Documents\\\\UK I&I\\\\Trainings\\\\Vizcon 2025\\\\New York city bike data'"
      ]
     },
     "execution_count": 24,
     "metadata": {},
     "output_type": "execute_result"
    }
   ],
   "source": [
    "os.getcwd()"
   ]
  },
  {
   "cell_type": "code",
   "execution_count": 25,
   "id": "a1e1cbde-f4cc-4387-b62e-93a4a82285d6",
   "metadata": {},
   "outputs": [],
   "source": [
    "os.chdir(\"C:\\\\Users\\\\rajpprit\\\\Documents\\\\UK I&I\\\\Trainings\\\\Vizcon 2025\\\\New York city bike data\")"
   ]
  },
  {
   "cell_type": "code",
   "execution_count": 26,
   "id": "a61401d2-ed75-474d-a5db-74063d15fc6d",
   "metadata": {},
   "outputs": [
    {
     "data": {
      "text/plain": [
       "'C:\\\\Users\\\\rajpprit\\\\Documents\\\\UK I&I\\\\Trainings\\\\Vizcon 2025\\\\New York city bike data'"
      ]
     },
     "execution_count": 26,
     "metadata": {},
     "output_type": "execute_result"
    }
   ],
   "source": [
    "os.getcwd()"
   ]
  },
  {
   "cell_type": "code",
   "execution_count": null,
   "id": "0cc91102-b6d2-4d7a-a1a5-99cb4a0bd680",
   "metadata": {},
   "outputs": [],
   "source": []
  },
  {
   "cell_type": "code",
   "execution_count": 21,
   "id": "6ac504b8-f492-4018-97a9-5a3de7c763b7",
   "metadata": {},
   "outputs": [
    {
     "name": "stdout",
     "output_type": "stream",
     "text": [
      "Cleaning data...\n",
      "Getting top stations...\n",
      "Creating chord diagram data...\n"
     ]
    }
   ],
   "source": [
    "charts_dir = os.path.join('site', 'charts')\n",
    "os.makedirs(charts_dir, exist_ok=True)\n",
    "\n",
    "# Clean the data\n",
    "print(\"Cleaning data...\")\n",
    "df_clean = df.dropna(subset=['start_station_name', 'end_station_name'])\n",
    "df_cleaned = clean_station_names(df_clean)\n",
    "\n",
    "# Get top stations\n",
    "print(\"Getting top stations...\")\n",
    "top_stations = get_top_stations(df_cleaned, n=15)\n",
    "\n",
    "# Create chord diagram data\n",
    "print(\"Creating chord diagram data...\")\n",
    "matrix, names = create_chord_data(df_cleaned, top_stations)\n",
    "\n"
   ]
  },
  {
   "cell_type": "code",
   "execution_count": 27,
   "id": "edee4fb6-69ba-4c15-8c34-8f8efe162b08",
   "metadata": {},
   "outputs": [
    {
     "name": "stdout",
     "output_type": "stream",
     "text": [
      "Creating chord diagram...\n",
      "Chord diagram saved successfully at site\\charts\\bike_trips_chord4.html!\n"
     ]
    }
   ],
   "source": [
    "# Create and save the visualization\n",
    "print(\"Creating chord diagram...\")\n",
    "html_path = os.path.join(charts_dir, 'bike_trips_chord4.html')\n",
    "create_chord_diagram(matrix, names, html_path)\n",
    "\n",
    "print(f\"Chord diagram saved successfully at {html_path}!\")"
   ]
  },
  {
   "cell_type": "code",
   "execution_count": null,
   "id": "87c73543-5c33-4111-9b18-6c6e5b49abd1",
   "metadata": {},
   "outputs": [],
   "source": []
  },
  {
   "cell_type": "code",
   "execution_count": null,
   "id": "4b3a9b56-8658-4230-a4fb-471a33d56bde",
   "metadata": {},
   "outputs": [],
   "source": []
  },
  {
   "cell_type": "code",
   "execution_count": null,
   "id": "8ed6533b-015e-4aae-9b40-cf28aa3d5cf4",
   "metadata": {},
   "outputs": [],
   "source": []
  },
  {
   "cell_type": "code",
   "execution_count": null,
   "id": "9f4fcd74-4663-48dc-b056-daf23d4abc7c",
   "metadata": {},
   "outputs": [],
   "source": []
  },
  {
   "cell_type": "code",
   "execution_count": null,
   "id": "2c3eeb07-1985-4550-95c3-6a6f2e692d1a",
   "metadata": {},
   "outputs": [],
   "source": []
  },
  {
   "cell_type": "code",
   "execution_count": null,
   "id": "d0eb0a78-819c-41ec-9fff-bc0fa6e7e59e",
   "metadata": {},
   "outputs": [],
   "source": []
  },
  {
   "cell_type": "code",
   "execution_count": null,
   "id": "e53b8120-5eb8-45ed-bd2e-63da34ee334f",
   "metadata": {},
   "outputs": [],
   "source": []
  },
  {
   "cell_type": "code",
   "execution_count": null,
   "id": "00ecaa8c-2349-4984-96c3-423efd1693ce",
   "metadata": {},
   "outputs": [],
   "source": []
  }
 ],
 "metadata": {
  "kernelspec": {
   "display_name": "Python 3 (ipykernel)",
   "language": "python",
   "name": "python3"
  },
  "language_info": {
   "codemirror_mode": {
    "name": "ipython",
    "version": 3
   },
   "file_extension": ".py",
   "mimetype": "text/x-python",
   "name": "python",
   "nbconvert_exporter": "python",
   "pygments_lexer": "ipython3",
   "version": "3.12.7"
  }
 },
 "nbformat": 4,
 "nbformat_minor": 5
}
