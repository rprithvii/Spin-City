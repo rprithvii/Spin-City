{
 "cells": [
  {
   "cell_type": "code",
   "execution_count": 1,
   "id": "13981ee6-aa8b-4aa8-8a6b-a98430d5d67b",
   "metadata": {},
   "outputs": [],
   "source": [
    "%reset -f"
   ]
  },
  {
   "cell_type": "code",
   "execution_count": 2,
   "id": "f3cf6294-8177-4add-87cd-88c5dca8abdc",
   "metadata": {},
   "outputs": [],
   "source": [
    "import pandas as pd\n",
    "import numpy as np\n",
    "import os\n",
    "import sys"
   ]
  },
  {
   "cell_type": "code",
   "execution_count": 3,
   "id": "3efea2bb-5ceb-4cfa-a422-7f4c969dc2cb",
   "metadata": {},
   "outputs": [],
   "source": [
    "# Set display options\n",
    "pd.set_option('display.max_columns', None)\n",
    "pd.set_option('display.max_rows', None)\n",
    "pd.set_option('display.width', None)\n",
    "pd.set_option('display.max_colwidth', None)"
   ]
  },
  {
   "cell_type": "code",
   "execution_count": 4,
   "id": "0dc8e220-1128-414f-8d72-4adeef080722",
   "metadata": {},
   "outputs": [
    {
     "data": {
      "text/plain": [
       "'C:\\\\Users\\\\rajpprit\\\\Documents\\\\UK I&I\\\\Trainings\\\\Vizcon 2025\\\\New York city bike data\\\\notebooks'"
      ]
     },
     "execution_count": 4,
     "metadata": {},
     "output_type": "execute_result"
    }
   ],
   "source": [
    "os.getcwd()"
   ]
  },
  {
   "cell_type": "code",
   "execution_count": 5,
   "id": "28a15de4-46e5-47f3-a401-893bd000c8b1",
   "metadata": {},
   "outputs": [],
   "source": [
    "os.chdir(\"..\")"
   ]
  },
  {
   "cell_type": "code",
   "execution_count": 6,
   "id": "a524f5e3-3bae-48e2-acce-69794c393286",
   "metadata": {},
   "outputs": [
    {
     "data": {
      "text/plain": [
       "'C:\\\\Users\\\\rajpprit\\\\Documents\\\\UK I&I\\\\Trainings\\\\Vizcon 2025\\\\New York city bike data'"
      ]
     },
     "execution_count": 6,
     "metadata": {},
     "output_type": "execute_result"
    }
   ],
   "source": [
    "os.getcwd()"
   ]
  },
  {
   "cell_type": "code",
   "execution_count": 7,
   "id": "86fdd5dd-68ba-48a7-ae51-3ffb677f2c5d",
   "metadata": {},
   "outputs": [
    {
     "data": {
      "text/plain": [
       "['.env',\n",
       " '.git',\n",
       " '.gitignore',\n",
       " '.virtual_documents',\n",
       " 'Community',\n",
       " 'data_processed',\n",
       " 'data_raw',\n",
       " 'desktop.ini',\n",
       " 'docs',\n",
       " 'notebooks',\n",
       " 'site']"
      ]
     },
     "execution_count": 7,
     "metadata": {},
     "output_type": "execute_result"
    }
   ],
   "source": [
    "os.listdir()"
   ]
  },
  {
   "cell_type": "code",
   "execution_count": null,
   "id": "71615240-e848-410d-931c-76ea8b1e31a2",
   "metadata": {},
   "outputs": [],
   "source": []
  },
  {
   "cell_type": "code",
   "execution_count": null,
   "id": "f977d841-7ca0-463c-bb90-eb782b0a977b",
   "metadata": {},
   "outputs": [],
   "source": []
  },
  {
   "cell_type": "code",
   "execution_count": null,
   "id": "01089162-bf81-4214-bc9f-666065a7fbc4",
   "metadata": {},
   "outputs": [],
   "source": []
  },
  {
   "cell_type": "code",
   "execution_count": null,
   "id": "6fb4b69f-c145-4503-9561-3092b750dcf8",
   "metadata": {},
   "outputs": [],
   "source": []
  },
  {
   "cell_type": "code",
   "execution_count": 8,
   "id": "e745f7d1-48ae-4eba-9c46-3f918d32b06f",
   "metadata": {},
   "outputs": [
    {
     "data": {
      "text/plain": [
       "'C:\\\\Users\\\\rajpprit\\\\Documents\\\\UK I&I\\\\Trainings\\\\Vizcon 2025\\\\New York city bike data'"
      ]
     },
     "execution_count": 8,
     "metadata": {},
     "output_type": "execute_result"
    }
   ],
   "source": [
    "os.getcwd()"
   ]
  },
  {
   "cell_type": "code",
   "execution_count": null,
   "id": "3b438a8d-2b3a-4db6-b557-e06c90b89c9b",
   "metadata": {},
   "outputs": [],
   "source": []
  },
  {
   "cell_type": "code",
   "execution_count": 9,
   "id": "0df990e7-5854-4ee3-b887-dc6fe008212c",
   "metadata": {},
   "outputs": [],
   "source": [
    "# -----------------------------\n",
    "# 2. Sample Data Preparation\n",
    "# -----------------------------\n",
    "os.chdir(\"C:\\\\Users\\\\rajpprit\\\\Documents\\\\UK I&I\\\\Trainings\\\\Vizcon 2025\\\\New York city bike data\\\\data_processed\\\\Pickel files\")\n",
    "df_2020_2025 = pd.read_pickle(\"df_2020_2025.pkl\")\n",
    "df = df_2020_2025.copy()  # your 60% sampled dataframe"
   ]
  },
  {
   "cell_type": "code",
   "execution_count": 10,
   "id": "e1cccfaf-b2f6-427e-91d2-3cea9f391a1c",
   "metadata": {},
   "outputs": [
    {
     "data": {
      "text/plain": [
       "(36212597, 13)"
      ]
     },
     "execution_count": 10,
     "metadata": {},
     "output_type": "execute_result"
    }
   ],
   "source": [
    "df.shape"
   ]
  },
  {
   "cell_type": "code",
   "execution_count": 11,
   "id": "152a0b18-6674-4adb-8520-48c3bddd3d58",
   "metadata": {
    "scrolled": true
   },
   "outputs": [
    {
     "data": {
      "text/html": [
       "<div>\n",
       "<style scoped>\n",
       "    .dataframe tbody tr th:only-of-type {\n",
       "        vertical-align: middle;\n",
       "    }\n",
       "\n",
       "    .dataframe tbody tr th {\n",
       "        vertical-align: top;\n",
       "    }\n",
       "\n",
       "    .dataframe thead th {\n",
       "        text-align: right;\n",
       "    }\n",
       "</style>\n",
       "<table border=\"1\" class=\"dataframe\">\n",
       "  <thead>\n",
       "    <tr style=\"text-align: right;\">\n",
       "      <th></th>\n",
       "      <th>ride_id</th>\n",
       "      <th>rideable_type</th>\n",
       "      <th>started_at</th>\n",
       "      <th>ended_at</th>\n",
       "      <th>start_station_name</th>\n",
       "      <th>start_station_id</th>\n",
       "      <th>end_station_name</th>\n",
       "      <th>end_station_id</th>\n",
       "      <th>start_lat</th>\n",
       "      <th>start_lng</th>\n",
       "      <th>end_lat</th>\n",
       "      <th>end_lng</th>\n",
       "      <th>member_casual</th>\n",
       "    </tr>\n",
       "  </thead>\n",
       "  <tbody>\n",
       "    <tr>\n",
       "      <th>0</th>\n",
       "      <td>A955EE529EC6DF27</td>\n",
       "      <td>classic_bike</td>\n",
       "      <td>2020-12-23 16:31:04.165</td>\n",
       "      <td>2020-12-23 16:45:28.611</td>\n",
       "      <td>Forsyth St &amp; Broome St</td>\n",
       "      <td>5453.05</td>\n",
       "      <td>E 33 St &amp; 1 Ave</td>\n",
       "      <td>6197.08</td>\n",
       "      <td>40.718939</td>\n",
       "      <td>-73.992663</td>\n",
       "      <td>40.743227</td>\n",
       "      <td>-73.974498</td>\n",
       "      <td>member</td>\n",
       "    </tr>\n",
       "    <tr>\n",
       "      <th>1</th>\n",
       "      <td>E42C1EDE5F256E87</td>\n",
       "      <td>classic_bike</td>\n",
       "      <td>2020-09-14 18:34:08.324</td>\n",
       "      <td>2020-09-14 18:36:07.759</td>\n",
       "      <td>1 Ave &amp; E 18 St</td>\n",
       "      <td>5854.09</td>\n",
       "      <td>E 20 St &amp; FDR Drive</td>\n",
       "      <td>5886.02</td>\n",
       "      <td>40.733812</td>\n",
       "      <td>-73.980544</td>\n",
       "      <td>40.733143</td>\n",
       "      <td>-73.975739</td>\n",
       "      <td>member</td>\n",
       "    </tr>\n",
       "  </tbody>\n",
       "</table>\n",
       "</div>"
      ],
      "text/plain": [
       "            ride_id rideable_type               started_at  \\\n",
       "0  A955EE529EC6DF27  classic_bike  2020-12-23 16:31:04.165   \n",
       "1  E42C1EDE5F256E87  classic_bike  2020-09-14 18:34:08.324   \n",
       "\n",
       "                  ended_at      start_station_name start_station_id  \\\n",
       "0  2020-12-23 16:45:28.611  Forsyth St & Broome St          5453.05   \n",
       "1  2020-09-14 18:36:07.759         1 Ave & E 18 St          5854.09   \n",
       "\n",
       "      end_station_name end_station_id  start_lat  start_lng    end_lat  \\\n",
       "0      E 33 St & 1 Ave        6197.08  40.718939 -73.992663  40.743227   \n",
       "1  E 20 St & FDR Drive        5886.02  40.733812 -73.980544  40.733143   \n",
       "\n",
       "     end_lng member_casual  \n",
       "0 -73.974498        member  \n",
       "1 -73.975739        member  "
      ]
     },
     "execution_count": 11,
     "metadata": {},
     "output_type": "execute_result"
    }
   ],
   "source": [
    "df.head(2)"
   ]
  },
  {
   "cell_type": "code",
   "execution_count": null,
   "id": "2ee421ef-ded5-4b5a-80aa-8fa3a5698728",
   "metadata": {},
   "outputs": [],
   "source": []
  },
  {
   "cell_type": "markdown",
   "id": "78371ab2-e840-4dbe-afe5-048c038fdc14",
   "metadata": {},
   "source": [
    "#### 0. Data import"
   ]
  },
  {
   "cell_type": "code",
   "execution_count": 12,
   "id": "979a88f7-c396-45f6-a99e-131aa994a971",
   "metadata": {},
   "outputs": [],
   "source": [
    "import pandas as pd\n",
    "import plotly.express as px\n",
    "import plotly.graph_objects as go\n",
    "from plotly.subplots import make_subplots\n",
    "import numpy as np\n",
    "from datetime import datetime"
   ]
  },
  {
   "cell_type": "code",
   "execution_count": 13,
   "id": "56d53b32-5fff-4b3f-b05d-e2b1effcbe3d",
   "metadata": {},
   "outputs": [],
   "source": [
    "\n",
    "# Data preprocessing\n",
    "df['started_at'] = pd.to_datetime(df['started_at'])\n",
    "df['ended_at'] = pd.to_datetime(df['ended_at'])\n",
    "\n",
    "# Add derived time columns\n",
    "df['year'] = df['started_at'].dt.year\n",
    "df['month'] = df['started_at'].dt.month\n",
    "df['hour'] = df['started_at'].dt.hour\n",
    "df['day_of_week'] = df['started_at'].dt.day_name()\n",
    "df['ride_duration'] = (df['ended_at'] - df['started_at']).dt.total_seconds() / 60"
   ]
  },
  {
   "cell_type": "code",
   "execution_count": null,
   "id": "ab0eef1c-1545-48b6-95a0-c7d507d79216",
   "metadata": {},
   "outputs": [],
   "source": []
  },
  {
   "cell_type": "code",
   "execution_count": 14,
   "id": "049a8f7b-9771-44dc-a550-3049a8cd704a",
   "metadata": {},
   "outputs": [
    {
     "data": {
      "text/html": [
       "<div>\n",
       "<style scoped>\n",
       "    .dataframe tbody tr th:only-of-type {\n",
       "        vertical-align: middle;\n",
       "    }\n",
       "\n",
       "    .dataframe tbody tr th {\n",
       "        vertical-align: top;\n",
       "    }\n",
       "\n",
       "    .dataframe thead th {\n",
       "        text-align: right;\n",
       "    }\n",
       "</style>\n",
       "<table border=\"1\" class=\"dataframe\">\n",
       "  <thead>\n",
       "    <tr style=\"text-align: right;\">\n",
       "      <th></th>\n",
       "      <th>ride_id</th>\n",
       "      <th>rideable_type</th>\n",
       "      <th>started_at</th>\n",
       "      <th>ended_at</th>\n",
       "      <th>start_station_name</th>\n",
       "      <th>start_station_id</th>\n",
       "      <th>end_station_name</th>\n",
       "      <th>end_station_id</th>\n",
       "      <th>start_lat</th>\n",
       "      <th>start_lng</th>\n",
       "      <th>end_lat</th>\n",
       "      <th>end_lng</th>\n",
       "      <th>member_casual</th>\n",
       "      <th>year</th>\n",
       "      <th>month</th>\n",
       "      <th>hour</th>\n",
       "      <th>day_of_week</th>\n",
       "      <th>ride_duration</th>\n",
       "    </tr>\n",
       "  </thead>\n",
       "  <tbody>\n",
       "    <tr>\n",
       "      <th>0</th>\n",
       "      <td>A955EE529EC6DF27</td>\n",
       "      <td>classic_bike</td>\n",
       "      <td>2020-12-23 16:31:04.165</td>\n",
       "      <td>2020-12-23 16:45:28.611</td>\n",
       "      <td>Forsyth St &amp; Broome St</td>\n",
       "      <td>5453.05</td>\n",
       "      <td>E 33 St &amp; 1 Ave</td>\n",
       "      <td>6197.08</td>\n",
       "      <td>40.718939</td>\n",
       "      <td>-73.992663</td>\n",
       "      <td>40.743227</td>\n",
       "      <td>-73.974498</td>\n",
       "      <td>member</td>\n",
       "      <td>2020</td>\n",
       "      <td>12</td>\n",
       "      <td>16</td>\n",
       "      <td>Wednesday</td>\n",
       "      <td>14.407433</td>\n",
       "    </tr>\n",
       "    <tr>\n",
       "      <th>1</th>\n",
       "      <td>E42C1EDE5F256E87</td>\n",
       "      <td>classic_bike</td>\n",
       "      <td>2020-09-14 18:34:08.324</td>\n",
       "      <td>2020-09-14 18:36:07.759</td>\n",
       "      <td>1 Ave &amp; E 18 St</td>\n",
       "      <td>5854.09</td>\n",
       "      <td>E 20 St &amp; FDR Drive</td>\n",
       "      <td>5886.02</td>\n",
       "      <td>40.733812</td>\n",
       "      <td>-73.980544</td>\n",
       "      <td>40.733143</td>\n",
       "      <td>-73.975739</td>\n",
       "      <td>member</td>\n",
       "      <td>2020</td>\n",
       "      <td>9</td>\n",
       "      <td>18</td>\n",
       "      <td>Monday</td>\n",
       "      <td>1.990583</td>\n",
       "    </tr>\n",
       "  </tbody>\n",
       "</table>\n",
       "</div>"
      ],
      "text/plain": [
       "            ride_id rideable_type              started_at  \\\n",
       "0  A955EE529EC6DF27  classic_bike 2020-12-23 16:31:04.165   \n",
       "1  E42C1EDE5F256E87  classic_bike 2020-09-14 18:34:08.324   \n",
       "\n",
       "                 ended_at      start_station_name start_station_id  \\\n",
       "0 2020-12-23 16:45:28.611  Forsyth St & Broome St          5453.05   \n",
       "1 2020-09-14 18:36:07.759         1 Ave & E 18 St          5854.09   \n",
       "\n",
       "      end_station_name end_station_id  start_lat  start_lng    end_lat  \\\n",
       "0      E 33 St & 1 Ave        6197.08  40.718939 -73.992663  40.743227   \n",
       "1  E 20 St & FDR Drive        5886.02  40.733812 -73.980544  40.733143   \n",
       "\n",
       "     end_lng member_casual  year  month  hour day_of_week  ride_duration  \n",
       "0 -73.974498        member  2020     12    16   Wednesday      14.407433  \n",
       "1 -73.975739        member  2020      9    18      Monday       1.990583  "
      ]
     },
     "execution_count": 14,
     "metadata": {},
     "output_type": "execute_result"
    }
   ],
   "source": [
    "df.head(2)"
   ]
  },
  {
   "cell_type": "code",
   "execution_count": null,
   "id": "28cd9259-47a7-4f53-b675-5e2862b5423b",
   "metadata": {},
   "outputs": [],
   "source": []
  },
  {
   "cell_type": "code",
   "execution_count": null,
   "id": "2526ef7d-fb9b-490f-bc6b-5bf80b1b7f1c",
   "metadata": {},
   "outputs": [],
   "source": []
  },
  {
   "cell_type": "code",
   "execution_count": null,
   "id": "a97053a9-ee16-49ec-bd80-d799d7f9bc2d",
   "metadata": {},
   "outputs": [],
   "source": []
  },
  {
   "cell_type": "markdown",
   "id": "fd467a54-c53b-443b-a07a-31605780af92",
   "metadata": {},
   "source": [
    "#### General charts"
   ]
  },
  {
   "cell_type": "code",
   "execution_count": 82,
   "id": "2ce8e527-5f63-41c3-a593-0fa862ff7ac0",
   "metadata": {},
   "outputs": [],
   "source": [
    "# 1. Member Type Distribution Over Years\n",
    "member_yearly = df.groupby(['year', 'member_casual']).size().unstack()\n",
    "fig1 = px.bar(member_yearly, \n",
    "              title='Yearly Distribution of Member Types',\n",
    "              barmode='group',\n",
    "              template='plotly_dark',\n",
    "              color_discrete_sequence=['#0072CE', '#9BE564'])\n",
    "fig1.update_layout(\n",
    "    xaxis_title=\"Year\",\n",
    "    yaxis_title=\"Number of Rides\",\n",
    "    legend_title=\"Member Type\"\n",
    ")\n",
    "fig1.write_html(\"site/charts/yearly_distribution.html\")\n",
    "\n",
    "# 2. Hourly Distribution\n",
    "hourly_dist = df.groupby(['hour', 'member_casual']).size().unstack()\n",
    "fig2 = px.line(hourly_dist, \n",
    "               title='Hourly Distribution of Rides',\n",
    "               template='plotly_dark',\n",
    "               color_discrete_sequence=['#0072CE', '#9BE564'])\n",
    "fig2.update_layout(\n",
    "    xaxis_title=\"Hour of Day\",\n",
    "    yaxis_title=\"Number of Rides\",\n",
    "    legend_title=\"Member Type\"\n",
    ")\n",
    "fig2.write_html(\"site/charts/hourly_distribution.html\")\n",
    "\n",
    "\n",
    "\n",
    "# 4. Monthly Patterns\n",
    "monthly_dist = df.groupby(['month', 'member_casual']).size().unstack()\n",
    "fig4 = px.line(monthly_dist, \n",
    "               title='Monthly Distribution of Rides',\n",
    "               template='plotly_dark',\n",
    "               color_discrete_sequence=['#0072CE', '#9BE564'])\n",
    "fig4.update_layout(\n",
    "    xaxis_title=\"Month\",\n",
    "    yaxis_title=\"Number of Rides\",\n",
    "    legend_title=\"Member Type\"\n",
    ")\n",
    "fig4.write_html(\"site/charts/monthly_distribution.html\")\n",
    "\n",
    "# 5. Average Ride Duration by User Type\n",
    "avg_duration = df.groupby('member_casual')['ride_duration'].mean().round(2)\n",
    "fig5 = px.bar(avg_duration,\n",
    "              title='Average Ride Duration by Member Type',\n",
    "              template='plotly_dark',\n",
    "              color_discrete_sequence=['#0072CE', '#9BE564'])\n",
    "fig5.update_layout(\n",
    "    xaxis_title=\"Member Type\",\n",
    "    yaxis_title=\"Average Duration (minutes)\"\n",
    ")\n",
    "fig5.write_html(\"site/charts/avg_duration.html\")\n"
   ]
  },
  {
   "cell_type": "code",
   "execution_count": null,
   "id": "192e3a3e-6d87-4536-bbff-00261371e793",
   "metadata": {},
   "outputs": [],
   "source": []
  },
  {
   "cell_type": "code",
   "execution_count": 20,
   "id": "5d83d84a-1254-4904-9394-bcd80ac90615",
   "metadata": {},
   "outputs": [
    {
     "data": {
      "text/plain": [
       "'C:\\\\Users\\\\rajpprit\\\\Documents\\\\UK I&I\\\\Trainings\\\\Vizcon 2025\\\\New York city bike data\\\\data_processed\\\\Pickel files'"
      ]
     },
     "execution_count": 20,
     "metadata": {},
     "output_type": "execute_result"
    }
   ],
   "source": [
    "os.getcwd()"
   ]
  },
  {
   "cell_type": "code",
   "execution_count": 21,
   "id": "69108760-68a7-4a5c-a917-e3b0fdbd837b",
   "metadata": {},
   "outputs": [],
   "source": [
    "os.chdir(\"C:\\\\Users\\\\rajpprit\\\\Documents\\\\UK I&I\\\\Trainings\\\\Vizcon 2025\\\\New York city bike data\")"
   ]
  },
  {
   "cell_type": "code",
   "execution_count": 22,
   "id": "577cdb3e-d50d-43cd-890a-0b74e59c9eb2",
   "metadata": {},
   "outputs": [
    {
     "data": {
      "text/plain": [
       "'C:\\\\Users\\\\rajpprit\\\\Documents\\\\UK I&I\\\\Trainings\\\\Vizcon 2025\\\\New York city bike data'"
      ]
     },
     "execution_count": 22,
     "metadata": {},
     "output_type": "execute_result"
    }
   ],
   "source": [
    "os.getcwd()"
   ]
  },
  {
   "cell_type": "code",
   "execution_count": null,
   "id": "5fa8ea63-678d-4896-b8ef-57d229cb5671",
   "metadata": {},
   "outputs": [],
   "source": []
  },
  {
   "cell_type": "markdown",
   "id": "9c983f09-566a-449c-adbb-5802b87a1b20",
   "metadata": {},
   "source": [
    "#### 1. Location of stations on map - Option 1"
   ]
  },
  {
   "cell_type": "code",
   "execution_count": 23,
   "id": "55879cd9-c2bf-45d0-b1bb-60d06d5ec5d3",
   "metadata": {},
   "outputs": [],
   "source": [
    "# Combine start and end station data\n",
    "start_counts = df.groupby('start_station_name').agg({\n",
    "    'start_lat': 'first',\n",
    "    'start_lng': 'first',\n",
    "    'ride_id': 'count'\n",
    "}).rename(columns={'start_lat': 'lat', 'start_lng': 'lng', 'ride_id': 'count'})\n",
    "\n",
    "end_counts = df.groupby('end_station_name').agg({\n",
    "    'end_lat': 'first',\n",
    "    'end_lng': 'first',\n",
    "    'ride_id': 'count'\n",
    "}).rename(columns={'end_lat': 'lat', 'end_lng': 'lng', 'ride_id': 'count'})\n",
    "\n",
    "# Combine and sum the counts\n",
    "combined_stations = pd.concat([start_counts, end_counts]).groupby(level=0).agg({\n",
    "    'lat': 'first',\n",
    "    'lng': 'first',\n",
    "    'count': 'sum'\n",
    "})\n",
    "\n",
    "# Get top 200 stations\n",
    "top_stations = combined_stations.nlargest(4000, 'count').reset_index()\n",
    "top_stations = top_stations.rename(columns={'index': 'station_name'})\n",
    "\n",
    "# Scale up the counts to represent full dataset (5x for 20% sample)\n",
    "top_stations['estimated_total'] = top_stations['count'] * 5\n",
    "\n",
    "# Custom size scaling function - reduced multiplier for smaller bubbles\n",
    "def size_scaling(x):\n",
    "    return np.log(x) * 0.7  # Reduced from 2 to 1.2\n",
    "\n",
    "# Create figure\n",
    "fig = go.Figure()\n",
    "\n",
    "# Add stations with color gradient based on count\n",
    "fig.add_trace(go.Scattermapbox(\n",
    "    lat=top_stations['lat'],\n",
    "    lon=top_stations['lng'],\n",
    "    mode='markers',\n",
    "    marker=go.scattermapbox.Marker(\n",
    "        size=top_stations['count'].apply(size_scaling),\n",
    "        color=top_stations['estimated_total'],\n",
    "        colorscale='Viridis',\n",
    "        opacity=0.7,\n",
    "        colorbar=dict(\n",
    "            title='Estimated Total Rides',\n",
    "            titleside='right',\n",
    "            tickformat=',d'  # Format with thousand separators\n",
    "        )\n",
    "    ),\n",
    "    text=top_stations.apply(\n",
    "        lambda x: f\"Station: {x['station_name']}<br>Estimated Total Rides: {int(x['estimated_total']):,}\", \n",
    "        axis=1\n",
    "    ),\n",
    "    name='Stations',\n",
    "    hovertemplate=\"%{text}<br><extra></extra>\"\n",
    "))\n",
    "\n",
    "# Update layout\n",
    "fig.update_layout(\n",
    "    mapbox_style=\"carto-darkmatter\",\n",
    "    mapbox=dict(\n",
    "        center=dict(lat=40.7505, lon=-73.9934),  # Manhattan center\n",
    "        zoom=11.5\n",
    "    ),\n",
    "    margin={\"r\":0,\"t\":50,\"l\":0,\"b\":0},\n",
    "    title={\n",
    "        'text': \"Top 200 Most Used Stations (2023 Estimated Total)\",\n",
    "        'y':0.98,\n",
    "        'x':0.5,\n",
    "        'xanchor': 'center',\n",
    "        'yanchor': 'top',\n",
    "        'font': dict(color='white')\n",
    "    },\n",
    "    paper_bgcolor='#1a1f35',\n",
    "    plot_bgcolor='#1a1f35',\n",
    "    showlegend=False\n",
    ")\n",
    "\n",
    "# Save the map\n",
    "fig.write_html(\"site/charts/station_map.html\", config={\n",
    "    'displayModeBar': True,\n",
    "    'modeBarButtonsToAdd': ['drawrect', 'eraseshape'],\n",
    "    'modeBarButtonsToRemove': ['lasso2d']\n",
    "})\n"
   ]
  },
  {
   "cell_type": "code",
   "execution_count": null,
   "id": "6b70bc74-a81d-4629-860a-db34cbfd675f",
   "metadata": {},
   "outputs": [],
   "source": []
  },
  {
   "cell_type": "markdown",
   "id": "e40736e0-8924-45f8-af05-4fc336240150",
   "metadata": {},
   "source": [
    "#### 2. Location of stations on map - Option 2 - borough boundaries"
   ]
  },
  {
   "cell_type": "code",
   "execution_count": 15,
   "id": "3b1b0331-4068-4355-a688-7a68f52dc063",
   "metadata": {},
   "outputs": [
    {
     "data": {
      "text/plain": [
       "'C:\\\\Users\\\\rajpprit\\\\Documents\\\\UK I&I\\\\Trainings\\\\Vizcon 2025\\\\New York city bike data\\\\data_processed\\\\Pickel files'"
      ]
     },
     "execution_count": 15,
     "metadata": {},
     "output_type": "execute_result"
    }
   ],
   "source": [
    "os.getcwd()"
   ]
  },
  {
   "cell_type": "code",
   "execution_count": 16,
   "id": "1ca008bc-d5e1-42b2-8460-c522ad0cfabf",
   "metadata": {},
   "outputs": [],
   "source": [
    "os.chdir(\"C:\\\\Users\\\\rajpprit\\\\Documents\\\\UK I&I\\\\Trainings\\\\Vizcon 2025\\\\New York city bike data\")"
   ]
  },
  {
   "cell_type": "code",
   "execution_count": 17,
   "id": "4df25be4-8c6f-4cbb-bfb3-7407ed156301",
   "metadata": {},
   "outputs": [
    {
     "data": {
      "text/plain": [
       "'C:\\\\Users\\\\rajpprit\\\\Documents\\\\UK I&I\\\\Trainings\\\\Vizcon 2025\\\\New York city bike data'"
      ]
     },
     "execution_count": 17,
     "metadata": {},
     "output_type": "execute_result"
    }
   ],
   "source": [
    "os.getcwd()"
   ]
  },
  {
   "cell_type": "code",
   "execution_count": null,
   "id": "8c285378-1b16-4578-a4dc-510a7e2170cd",
   "metadata": {},
   "outputs": [],
   "source": []
  },
  {
   "cell_type": "code",
   "execution_count": 23,
   "id": "8107c02e-b55c-4124-9bc9-4094be7f8e81",
   "metadata": {},
   "outputs": [],
   "source": [
    "import pandas as pd\n",
    "import numpy as np\n",
    "import plotly.graph_objects as go\n",
    "import requests\n",
    "\n",
    "# Combine start and end station data\n",
    "start_counts = df.groupby('start_station_name').agg({\n",
    "    'start_lat': 'first',\n",
    "    'start_lng': 'first',\n",
    "    'ride_id': 'count'\n",
    "}).rename(columns={'start_lat': 'lat', 'start_lng': 'lng', 'ride_id': 'count'})\n",
    "\n",
    "end_counts = df.groupby('end_station_name').agg({\n",
    "    'end_lat': 'first',\n",
    "    'end_lng': 'first',\n",
    "    'ride_id': 'count'\n",
    "}).rename(columns={'end_lat': 'lat', 'end_lng': 'lng', 'ride_id': 'count'})\n",
    "\n",
    "# Combine and sum the counts\n",
    "combined_stations = pd.concat([start_counts, end_counts]).groupby(level=0).agg({\n",
    "    'lat': 'first',\n",
    "    'lng': 'first',\n",
    "    'count': 'sum'\n",
    "})\n",
    "\n",
    "# Combine start and end station data\n",
    "start_counts = df.groupby('start_station_name').agg({\n",
    "    'start_lat': 'first',\n",
    "    'start_lng': 'first',\n",
    "    'ride_id': 'count'\n",
    "}).rename(columns={'start_lat': 'lat', 'start_lng': 'lng', 'ride_id': 'count'})\n",
    "\n",
    "end_counts = df.groupby('end_station_name').agg({\n",
    "    'end_lat': 'first',\n",
    "    'end_lng': 'first',\n",
    "    'ride_id': 'count'\n",
    "}).rename(columns={'end_lat': 'lat', 'end_lng': 'lng', 'ride_id': 'count'})\n",
    "\n",
    "# Combine and sum the counts\n",
    "combined_stations = pd.concat([start_counts, end_counts]).groupby(level=0).agg({\n",
    "    'lat': 'first',\n",
    "    'lng': 'first',\n",
    "    'count': 'sum'\n",
    "})\n",
    "\n",
    "# Get top 200 stations\n",
    "top_stations = combined_stations.nlargest(4000, 'count').reset_index()\n",
    "top_stations = top_stations.rename(columns={'index': 'station_name'})\n",
    "\n",
    "# Scale up the counts to represent full dataset (5x for 20% sample)\n",
    "top_stations['estimated_total'] = top_stations['count'] * 5\n",
    "\n",
    "# Custom size scaling function - reduced multiplier for smaller bubbles\n",
    "def size_scaling(x):\n",
    "    return np.log(x) * 0.7  # Reduced from 2 to 1.2\n",
    "\n",
    "# Create figure\n",
    "fig = go.Figure()"
   ]
  },
  {
   "cell_type": "code",
   "execution_count": null,
   "id": "78f0acfd-2fa0-46f3-8ea6-fa6b33b90f86",
   "metadata": {},
   "outputs": [],
   "source": []
  },
  {
   "cell_type": "code",
   "execution_count": 24,
   "id": "098031a1-e579-43b8-9288-f809def947cf",
   "metadata": {},
   "outputs": [],
   "source": [
    "import pandas as pd\n",
    "import numpy as np\n",
    "import plotly.graph_objects as go\n",
    "import requests\n",
    "\n",
    "# Add this dictionary near the top of the code, after the imports and before the data processing\n",
    "borough_positions = {\n",
    "    'Manhattan': (40.772063, -74.022821),\n",
    "    'Brooklyn': (40.666290, -73.885454),\n",
    "    'Queens': (40.730996, -73.871644),\n",
    "    'Bronx': (40.8448, -73.8648),\n",
    "    'Staten Island': (40.649264, -74.063331)\n",
    "}\n",
    "\n",
    "# Get NYC Borough Boundaries GeoJSON\n",
    "url = \"https://raw.githubusercontent.com/dwillis/nyc-maps/master/boroughs.geojson\"\n",
    "response = requests.get(url)\n",
    "nyc_boroughs = response.json()\n",
    "\n",
    "# Create figure\n",
    "fig = go.Figure()\n",
    "\n",
    "# Add borough boundaries and names\n",
    "for feature in nyc_boroughs['features']:\n",
    "    borough = feature['properties']['BoroName']\n",
    "    if feature['geometry']['type'] == 'MultiPolygon':\n",
    "        for polygon in feature['geometry']['coordinates']:\n",
    "            lons, lats = zip(*[(coord[0], coord[1]) for coord in polygon[0]])\n",
    "            fig.add_trace(go.Scattermapbox(\n",
    "                lon=list(lons),\n",
    "                lat=list(lats),\n",
    "                mode='lines',\n",
    "                line=dict(width=1, color='rgba(255,255,255,0.3)'),\n",
    "                name=borough,\n",
    "                hoverinfo='name',\n",
    "                showlegend=False\n",
    "            ))\n",
    "    else:\n",
    "        lons, lats = zip(*[(coord[0], coord[1]) for coord in feature['geometry']['coordinates'][0]])\n",
    "        fig.add_trace(go.Scattermapbox(\n",
    "            lon=list(lons),\n",
    "            lat=list(lats),\n",
    "            mode='lines',\n",
    "            line=dict(width=1, color='rgba(255,255,255,0.3)'),\n",
    "            name=borough,\n",
    "            hoverinfo='name',\n",
    "            showlegend=False\n",
    "        ))\n",
    "    \n",
    "    # Add borough name using the predefined positions\n",
    "    if borough in borough_positions:\n",
    "        center_lat, center_lon = borough_positions[borough]\n",
    "        fig.add_trace(go.Scattermapbox(\n",
    "            lat=[center_lat],\n",
    "            lon=[center_lon],\n",
    "            mode='text',\n",
    "            text=[borough],\n",
    "            textfont=dict(size=14, color='rgba(255,255,255,0.8)'),\n",
    "            showlegend=False\n",
    "        ))\n",
    "\n",
    "# Add stations with color gradient based on count\n",
    "fig.add_trace(go.Scattermapbox(\n",
    "    lat=top_stations['lat'],\n",
    "    lon=top_stations['lng'],\n",
    "    mode='markers',\n",
    "    marker=go.scattermapbox.Marker(\n",
    "        size=top_stations['count'].apply(size_scaling),\n",
    "        color=top_stations['estimated_total'],\n",
    "        colorscale='Viridis',\n",
    "        opacity=0.7,\n",
    "        colorbar=dict(\n",
    "            title='Estimated Total Rides',\n",
    "            titleside='right',\n",
    "            tickformat=',d',\n",
    "            title_font=dict(color='#1e3d59'),\n",
    "            tickfont=dict(color='#1e3d59')\n",
    "        )\n",
    "    ),\n",
    "    text=top_stations.apply(\n",
    "        lambda x: f\"Station: {x['station_name']}<br>Estimated Total Rides: {int(x['estimated_total']):,}\", \n",
    "        axis=1\n",
    "    ),\n",
    "    name='Stations',\n",
    "    hovertemplate=\"%{text}<br><extra></extra>\"\n",
    "))\n",
    "\n",
    "# ... (previous code remains same until layout) ...\n",
    "\n",
    "# Update layout\n",
    "fig.update_layout(\n",
    "    mapbox_style=\"carto-darkmatter\",\n",
    "    mapbox=dict(\n",
    "        center=dict(lat=40.7505, lon=-73.9934),  # Manhattan center\n",
    "        zoom=10.5\n",
    "    ),\n",
    "    margin={\"r\":0,\"t\":50,\"l\":0,\"b\":0},\n",
    "    title={\n",
    "        'text': \"Location of Bike Stations in NY\",\n",
    "        'y':0.98,\n",
    "        'x':0.5,\n",
    "        'xanchor': 'center',\n",
    "        'yanchor': 'top',\n",
    "        'font': dict(\n",
    "            color='#00fff2',  # Changed to cyan\n",
    "            size=24,\n",
    "            family='Arial, sans-serif'\n",
    "        )\n",
    "    },\n",
    "    paper_bgcolor='rgba(0,0,0,0)',  # Changed to transparent\n",
    "    plot_bgcolor='rgba(0,0,0,0)',   # Changed to transparent\n",
    "    showlegend=False\n",
    ")\n",
    "\n",
    "# Update colorbar styling to match theme\n",
    "fig.update_traces(\n",
    "    selector=dict(type='scattermapbox'),\n",
    "    marker=dict(\n",
    "        colorbar=dict(\n",
    "            title='Estimated Total Rides',\n",
    "            titleside='right',\n",
    "            tickformat=',d',\n",
    "            title_font=dict(color='#00fff2'),  # Changed to cyan\n",
    "            tickfont=dict(color='white'),\n",
    "            bgcolor='rgba(0,0,0,0)',  # Transparent background\n",
    "            outlinecolor='rgba(0,0,0,0)'  # Transparent outline\n",
    "        )\n",
    "    )\n",
    ")\n",
    "\n",
    "# Save the map\n",
    "fig.write_html(\"site/charts/station_map1.html\", \n",
    "    config={\n",
    "        'displayModeBar': True,\n",
    "        'modeBarButtonsToAdd': ['drawrect', 'eraseshape'],\n",
    "        'modeBarButtonsToRemove': ['lasso2d']\n",
    "    },\n",
    "    full_html=False,  # Added this to make it easier to embed\n",
    "    include_plotlyjs='cdn'  # Added this to use CDN version of plotly\n",
    ")"
   ]
  },
  {
   "cell_type": "code",
   "execution_count": null,
   "id": "a0e17a53-8ebb-4dbd-8fb8-617ddc639a4a",
   "metadata": {},
   "outputs": [],
   "source": []
  },
  {
   "cell_type": "code",
   "execution_count": null,
   "id": "d0e6d2bd-1e2d-4576-a086-f051f74417c8",
   "metadata": {},
   "outputs": [],
   "source": []
  },
  {
   "cell_type": "code",
   "execution_count": null,
   "id": "2f943725-0dbc-4b93-9da2-3af5d3cb8397",
   "metadata": {},
   "outputs": [],
   "source": []
  },
  {
   "cell_type": "code",
   "execution_count": null,
   "id": "e2e362ba-5bb4-42c7-b660-3c6ef5bd842c",
   "metadata": {},
   "outputs": [],
   "source": []
  },
  {
   "cell_type": "code",
   "execution_count": null,
   "id": "08bf037a-63bf-4c6d-8ab4-dcd60251410f",
   "metadata": {},
   "outputs": [],
   "source": []
  },
  {
   "cell_type": "code",
   "execution_count": null,
   "id": "6ac504b8-f492-4018-97a9-5a3de7c763b7",
   "metadata": {},
   "outputs": [],
   "source": []
  },
  {
   "cell_type": "code",
   "execution_count": null,
   "id": "edee4fb6-69ba-4c15-8c34-8f8efe162b08",
   "metadata": {},
   "outputs": [],
   "source": []
  },
  {
   "cell_type": "code",
   "execution_count": null,
   "id": "87c73543-5c33-4111-9b18-6c6e5b49abd1",
   "metadata": {},
   "outputs": [],
   "source": []
  },
  {
   "cell_type": "code",
   "execution_count": null,
   "id": "4b3a9b56-8658-4230-a4fb-471a33d56bde",
   "metadata": {},
   "outputs": [],
   "source": []
  },
  {
   "cell_type": "code",
   "execution_count": null,
   "id": "8ed6533b-015e-4aae-9b40-cf28aa3d5cf4",
   "metadata": {},
   "outputs": [],
   "source": []
  },
  {
   "cell_type": "code",
   "execution_count": 16,
   "id": "dfed43ee-bf96-41cf-8420-b87b60fa3e76",
   "metadata": {},
   "outputs": [
    {
     "data": {
      "text/plain": [
       "(36212597, 18)"
      ]
     },
     "execution_count": 16,
     "metadata": {},
     "output_type": "execute_result"
    }
   ],
   "source": [
    "df.shape"
   ]
  },
  {
   "cell_type": "code",
   "execution_count": 17,
   "id": "d3b0fdb0-15d6-456c-8de4-56da7e993162",
   "metadata": {},
   "outputs": [
    {
     "data": {
      "text/html": [
       "<div>\n",
       "<style scoped>\n",
       "    .dataframe tbody tr th:only-of-type {\n",
       "        vertical-align: middle;\n",
       "    }\n",
       "\n",
       "    .dataframe tbody tr th {\n",
       "        vertical-align: top;\n",
       "    }\n",
       "\n",
       "    .dataframe thead th {\n",
       "        text-align: right;\n",
       "    }\n",
       "</style>\n",
       "<table border=\"1\" class=\"dataframe\">\n",
       "  <thead>\n",
       "    <tr style=\"text-align: right;\">\n",
       "      <th></th>\n",
       "      <th>ride_id</th>\n",
       "      <th>rideable_type</th>\n",
       "      <th>started_at</th>\n",
       "      <th>ended_at</th>\n",
       "      <th>start_station_name</th>\n",
       "      <th>start_station_id</th>\n",
       "      <th>end_station_name</th>\n",
       "      <th>end_station_id</th>\n",
       "      <th>start_lat</th>\n",
       "      <th>start_lng</th>\n",
       "      <th>end_lat</th>\n",
       "      <th>end_lng</th>\n",
       "      <th>member_casual</th>\n",
       "      <th>year</th>\n",
       "      <th>month</th>\n",
       "      <th>hour</th>\n",
       "      <th>day_of_week</th>\n",
       "      <th>ride_duration</th>\n",
       "    </tr>\n",
       "  </thead>\n",
       "  <tbody>\n",
       "    <tr>\n",
       "      <th>0</th>\n",
       "      <td>A955EE529EC6DF27</td>\n",
       "      <td>classic_bike</td>\n",
       "      <td>2020-12-23 16:31:04.165</td>\n",
       "      <td>2020-12-23 16:45:28.611</td>\n",
       "      <td>Forsyth St &amp; Broome St</td>\n",
       "      <td>5453.05</td>\n",
       "      <td>E 33 St &amp; 1 Ave</td>\n",
       "      <td>6197.08</td>\n",
       "      <td>40.718939</td>\n",
       "      <td>-73.992663</td>\n",
       "      <td>40.743227</td>\n",
       "      <td>-73.974498</td>\n",
       "      <td>member</td>\n",
       "      <td>2020</td>\n",
       "      <td>12</td>\n",
       "      <td>16</td>\n",
       "      <td>Wednesday</td>\n",
       "      <td>14.407433</td>\n",
       "    </tr>\n",
       "    <tr>\n",
       "      <th>1</th>\n",
       "      <td>E42C1EDE5F256E87</td>\n",
       "      <td>classic_bike</td>\n",
       "      <td>2020-09-14 18:34:08.324</td>\n",
       "      <td>2020-09-14 18:36:07.759</td>\n",
       "      <td>1 Ave &amp; E 18 St</td>\n",
       "      <td>5854.09</td>\n",
       "      <td>E 20 St &amp; FDR Drive</td>\n",
       "      <td>5886.02</td>\n",
       "      <td>40.733812</td>\n",
       "      <td>-73.980544</td>\n",
       "      <td>40.733143</td>\n",
       "      <td>-73.975739</td>\n",
       "      <td>member</td>\n",
       "      <td>2020</td>\n",
       "      <td>9</td>\n",
       "      <td>18</td>\n",
       "      <td>Monday</td>\n",
       "      <td>1.990583</td>\n",
       "    </tr>\n",
       "  </tbody>\n",
       "</table>\n",
       "</div>"
      ],
      "text/plain": [
       "            ride_id rideable_type              started_at  \\\n",
       "0  A955EE529EC6DF27  classic_bike 2020-12-23 16:31:04.165   \n",
       "1  E42C1EDE5F256E87  classic_bike 2020-09-14 18:34:08.324   \n",
       "\n",
       "                 ended_at      start_station_name start_station_id  \\\n",
       "0 2020-12-23 16:45:28.611  Forsyth St & Broome St          5453.05   \n",
       "1 2020-09-14 18:36:07.759         1 Ave & E 18 St          5854.09   \n",
       "\n",
       "      end_station_name end_station_id  start_lat  start_lng    end_lat  \\\n",
       "0      E 33 St & 1 Ave        6197.08  40.718939 -73.992663  40.743227   \n",
       "1  E 20 St & FDR Drive        5886.02  40.733812 -73.980544  40.733143   \n",
       "\n",
       "     end_lng member_casual  year  month  hour day_of_week  ride_duration  \n",
       "0 -73.974498        member  2020     12    16   Wednesday      14.407433  \n",
       "1 -73.975739        member  2020      9    18      Monday       1.990583  "
      ]
     },
     "execution_count": 17,
     "metadata": {},
     "output_type": "execute_result"
    }
   ],
   "source": [
    "df.head(2)"
   ]
  },
  {
   "cell_type": "code",
   "execution_count": 18,
   "id": "4e1b2cc5-19c6-432b-bc66-d46100ecd4e8",
   "metadata": {},
   "outputs": [
    {
     "data": {
      "text/plain": [
       "'C:\\\\Users\\\\rajpprit\\\\Documents\\\\UK I&I\\\\Trainings\\\\Vizcon 2025\\\\New York city bike data\\\\data_processed\\\\Pickel files'"
      ]
     },
     "execution_count": 18,
     "metadata": {},
     "output_type": "execute_result"
    }
   ],
   "source": [
    "os.getcwd()"
   ]
  },
  {
   "cell_type": "markdown",
   "id": "5a947050-3ad3-46c4-8633-ef037a65563c",
   "metadata": {},
   "source": [
    "#### Chord map"
   ]
  },
  {
   "cell_type": "code",
   "execution_count": 19,
   "id": "475738ee-f3e6-4e31-bdb2-5932cdddbb6a",
   "metadata": {},
   "outputs": [],
   "source": [
    "os.chdir(\"C:\\\\Users\\\\rajpprit\\\\Documents\\\\UK I&I\\\\Trainings\\\\Vizcon 2025\\\\New York city bike data\")"
   ]
  },
  {
   "cell_type": "code",
   "execution_count": 20,
   "id": "0387c2a9-d32b-45bd-86ca-4ec8fd5c7ac5",
   "metadata": {},
   "outputs": [
    {
     "data": {
      "text/plain": [
       "(36212597, 18)"
      ]
     },
     "execution_count": 20,
     "metadata": {},
     "output_type": "execute_result"
    }
   ],
   "source": [
    "df.shape"
   ]
  },
  {
   "cell_type": "code",
   "execution_count": null,
   "id": "8358845d-be09-4f83-8d30-18e62f1a4176",
   "metadata": {},
   "outputs": [],
   "source": []
  },
  {
   "cell_type": "markdown",
   "id": "949b6cfb-80eb-4d2e-b371-129d4d0894b5",
   "metadata": {},
   "source": [
    "#### Snakey diagram - Option 1"
   ]
  },
  {
   "cell_type": "code",
   "execution_count": 24,
   "id": "7d339e77-2db9-486a-ad5d-024ef82e4b3e",
   "metadata": {},
   "outputs": [
    {
     "name": "stdout",
     "output_type": "stream",
     "text": [
      "Cleaning data...\n"
     ]
    },
    {
     "name": "stderr",
     "output_type": "stream",
     "text": [
      "C:\\Users\\rajpprit\\AppData\\Local\\Temp\\ipykernel_24192\\1458288875.py:7: SettingWithCopyWarning:\n",
      "\n",
      "\n",
      "A value is trying to be set on a copy of a slice from a DataFrame.\n",
      "Try using .loc[row_indexer,col_indexer] = value instead\n",
      "\n",
      "See the caveats in the documentation: https://pandas.pydata.org/pandas-docs/stable/user_guide/indexing.html#returning-a-view-versus-a-copy\n",
      "\n",
      "C:\\Users\\rajpprit\\AppData\\Local\\Temp\\ipykernel_24192\\1458288875.py:8: SettingWithCopyWarning:\n",
      "\n",
      "\n",
      "A value is trying to be set on a copy of a slice from a DataFrame.\n",
      "Try using .loc[row_indexer,col_indexer] = value instead\n",
      "\n",
      "See the caveats in the documentation: https://pandas.pydata.org/pandas-docs/stable/user_guide/indexing.html#returning-a-view-versus-a-copy\n",
      "\n",
      "C:\\Users\\rajpprit\\AppData\\Local\\Temp\\ipykernel_24192\\1458288875.py:9: SettingWithCopyWarning:\n",
      "\n",
      "\n",
      "A value is trying to be set on a copy of a slice from a DataFrame.\n",
      "Try using .loc[row_indexer,col_indexer] = value instead\n",
      "\n",
      "See the caveats in the documentation: https://pandas.pydata.org/pandas-docs/stable/user_guide/indexing.html#returning-a-view-versus-a-copy\n",
      "\n",
      "C:\\Users\\rajpprit\\AppData\\Local\\Temp\\ipykernel_24192\\1458288875.py:10: SettingWithCopyWarning:\n",
      "\n",
      "\n",
      "A value is trying to be set on a copy of a slice from a DataFrame.\n",
      "Try using .loc[row_indexer,col_indexer] = value instead\n",
      "\n",
      "See the caveats in the documentation: https://pandas.pydata.org/pandas-docs/stable/user_guide/indexing.html#returning-a-view-versus-a-copy\n",
      "\n",
      "C:\\Users\\rajpprit\\AppData\\Local\\Temp\\ipykernel_24192\\1458288875.py:11: SettingWithCopyWarning:\n",
      "\n",
      "\n",
      "A value is trying to be set on a copy of a slice from a DataFrame.\n",
      "Try using .loc[row_indexer,col_indexer] = value instead\n",
      "\n",
      "See the caveats in the documentation: https://pandas.pydata.org/pandas-docs/stable/user_guide/indexing.html#returning-a-view-versus-a-copy\n",
      "\n",
      "C:\\Users\\rajpprit\\AppData\\Local\\Temp\\ipykernel_24192\\1458288875.py:12: SettingWithCopyWarning:\n",
      "\n",
      "\n",
      "A value is trying to be set on a copy of a slice from a DataFrame.\n",
      "Try using .loc[row_indexer,col_indexer] = value instead\n",
      "\n",
      "See the caveats in the documentation: https://pandas.pydata.org/pandas-docs/stable/user_guide/indexing.html#returning-a-view-versus-a-copy\n",
      "\n"
     ]
    },
    {
     "name": "stdout",
     "output_type": "stream",
     "text": [
      "Getting top stations...\n",
      "Creating Sankey data...\n",
      "Creating Sankey diagram...\n",
      "Sankey diagram saved successfully at site\\charts\\bike_trips_sankey.html!\n"
     ]
    },
    {
     "data": {
      "application/vnd.plotly.v1+json": {
       "config": {
        "plotlyServerURL": "https://plot.ly"
       },
       "data": [
        {
         "link": {
          "color": [
           "rgba(67, 112, 113, 0.3)",
           "rgba(66, 214, 213, 0.3)",
           "rgba(196, 119, 209, 0.3)",
           "rgba(31, 103, 27, 0.3)",
           "rgba(6, 109, 157, 0.3)",
           "rgba(24, 237, 219, 0.3)",
           "rgba(202, 163, 41, 0.3)",
           "rgba(94, 2, 188, 0.3)",
           "rgba(53, 253, 61, 0.3)",
           "rgba(177, 147, 206, 0.3)",
           "rgba(22, 249, 147, 0.3)",
           "rgba(72, 181, 219, 0.3)",
           "rgba(85, 225, 73, 0.3)",
           "rgba(158, 140, 198, 0.3)",
           "rgba(143, 29, 242, 0.3)",
           "rgba(26, 156, 7, 0.3)",
           "rgba(215, 101, 254, 0.3)",
           "rgba(145, 132, 3, 0.3)",
           "rgba(82, 70, 136, 0.3)",
           "rgba(26, 243, 6, 0.3)",
           "rgba(241, 25, 84, 0.3)",
           "rgba(226, 151, 230, 0.3)",
           "rgba(32, 186, 186, 0.3)",
           "rgba(95, 145, 130, 0.3)",
           "rgba(92, 125, 229, 0.3)",
           "rgba(188, 134, 94, 0.3)",
           "rgba(95, 57, 224, 0.3)",
           "rgba(129, 136, 142, 0.3)",
           "rgba(95, 52, 46, 0.3)",
           "rgba(182, 13, 15, 0.3)",
           "rgba(183, 134, 116, 0.3)",
           "rgba(71, 178, 240, 0.3)",
           "rgba(71, 73, 250, 0.3)",
           "rgba(34, 31, 39, 0.3)",
           "rgba(163, 15, 46, 0.3)",
           "rgba(195, 155, 28, 0.3)",
           "rgba(186, 174, 212, 0.3)",
           "rgba(36, 194, 182, 0.3)",
           "rgba(104, 127, 233, 0.3)",
           "rgba(68, 153, 199, 0.3)",
           "rgba(47, 188, 50, 0.3)",
           "rgba(221, 132, 75, 0.3)",
           "rgba(217, 238, 67, 0.3)",
           "rgba(73, 124, 55, 0.3)",
           "rgba(91, 85, 126, 0.3)",
           "rgba(72, 182, 211, 0.3)",
           "rgba(251, 127, 29, 0.3)",
           "rgba(80, 164, 167, 0.3)",
           "rgba(195, 164, 63, 0.3)",
           "rgba(0, 82, 52, 0.3)",
           "rgba(184, 190, 109, 0.3)",
           "rgba(63, 61, 60, 0.3)",
           "rgba(166, 118, 240, 0.3)",
           "rgba(241, 155, 31, 0.3)",
           "rgba(180, 223, 194, 0.3)",
           "rgba(164, 37, 86, 0.3)",
           "rgba(38, 130, 10, 0.3)",
           "rgba(137, 96, 109, 0.3)",
           "rgba(172, 42, 148, 0.3)",
           "rgba(73, 6, 156, 0.3)",
           "rgba(154, 190, 131, 0.3)",
           "rgba(91, 3, 166, 0.3)",
           "rgba(219, 16, 125, 0.3)",
           "rgba(184, 226, 140, 0.3)",
           "rgba(177, 246, 193, 0.3)",
           "rgba(212, 111, 242, 0.3)",
           "rgba(173, 123, 180, 0.3)",
           "rgba(235, 233, 13, 0.3)",
           "rgba(172, 133, 77, 0.3)",
           "rgba(23, 97, 124, 0.3)",
           "rgba(151, 96, 122, 0.3)",
           "rgba(80, 167, 176, 0.3)",
           "rgba(240, 24, 62, 0.3)",
           "rgba(233, 127, 26, 0.3)",
           "rgba(122, 120, 198, 0.3)",
           "rgba(59, 5, 155, 0.3)",
           "rgba(41, 195, 92, 0.3)",
           "rgba(10, 221, 124, 0.3)",
           "rgba(83, 73, 204, 0.3)",
           "rgba(35, 133, 220, 0.3)",
           "rgba(235, 139, 213, 0.3)",
           "rgba(19, 125, 237, 0.3)",
           "rgba(133, 85, 184, 0.3)",
           "rgba(24, 5, 94, 0.3)",
           "rgba(232, 169, 44, 0.3)",
           "rgba(135, 146, 125, 0.3)",
           "rgba(7, 192, 213, 0.3)",
           "rgba(227, 183, 117, 0.3)",
           "rgba(139, 32, 181, 0.3)",
           "rgba(105, 110, 254, 0.3)",
           "rgba(203, 138, 226, 0.3)",
           "rgba(85, 52, 178, 0.3)",
           "rgba(5, 223, 122, 0.3)",
           "rgba(253, 208, 211, 0.3)",
           "rgba(145, 240, 56, 0.3)",
           "rgba(204, 138, 126, 0.3)",
           "rgba(246, 44, 179, 0.3)",
           "rgba(27, 140, 149, 0.3)",
           "rgba(146, 214, 250, 0.3)",
           "rgba(21, 25, 107, 0.3)"
          ],
          "source": [
           7,
           7,
           7,
           7,
           7,
           7,
           7,
           7,
           7,
           7,
           0,
           0,
           0,
           0,
           0,
           0,
           0,
           0,
           0,
           0,
           4,
           4,
           4,
           4,
           4,
           4,
           4,
           4,
           4,
           4,
           2,
           2,
           2,
           2,
           2,
           2,
           2,
           2,
           2,
           2,
           6,
           6,
           6,
           6,
           6,
           6,
           6,
           6,
           6,
           6,
           1,
           1,
           1,
           1,
           1,
           1,
           1,
           1,
           1,
           1,
           9,
           9,
           9,
           9,
           9,
           9,
           9,
           9,
           9,
           9,
           3,
           3,
           3,
           3,
           3,
           3,
           3,
           3,
           3,
           3,
           5,
           5,
           5,
           5,
           5,
           5,
           5,
           5,
           5,
           5,
           8,
           8,
           8,
           8,
           8,
           8,
           8,
           8,
           8,
           8
          ],
          "target": [
           17,
           10,
           14,
           12,
           16,
           11,
           19,
           13,
           15,
           18,
           17,
           10,
           14,
           12,
           16,
           11,
           19,
           13,
           15,
           18,
           17,
           10,
           14,
           12,
           16,
           11,
           19,
           13,
           15,
           18,
           17,
           10,
           14,
           12,
           16,
           11,
           19,
           13,
           15,
           18,
           17,
           10,
           14,
           12,
           16,
           11,
           19,
           13,
           15,
           18,
           17,
           10,
           14,
           12,
           16,
           11,
           19,
           13,
           15,
           18,
           17,
           10,
           14,
           12,
           16,
           11,
           19,
           13,
           15,
           18,
           17,
           10,
           14,
           12,
           16,
           11,
           19,
           13,
           15,
           18,
           17,
           10,
           14,
           12,
           16,
           11,
           19,
           13,
           15,
           18,
           17,
           10,
           14,
           12,
           16,
           11,
           19,
           13,
           15,
           18
          ],
          "value": [
           24065,
           3231,
           1665,
           1168,
           8935,
           2072,
           5,
           55,
           20,
           35,
           3571,
           33585,
           4495,
           5694,
           4315,
           1139,
           19,
           257,
           217,
           552,
           1986,
           4621,
           16028,
           7479,
           4395,
           648,
           16,
           130,
           106,
           136,
           1506,
           5889,
           9383,
           30985,
           3900,
           751,
           14,
           252,
           175,
           348,
           9175,
           3742,
           3566,
           2668,
           17472,
           1415,
           4,
           71,
           52,
           38,
           2004,
           919,
           479,
           755,
           1428,
           12175,
           101,
           1895,
           2032,
           458,
           7,
           17,
           6,
           12,
           7,
           78,
           5320,
           60,
           56,
           32,
           45,
           270,
           87,
           265,
           47,
           1600,
           108,
           8006,
           1818,
           672,
           64,
           302,
           143,
           336,
           97,
           1426,
           37,
           1225,
           1783,
           639,
           18,
           418,
           69,
           247,
           39,
           382,
           23,
           722,
           791,
           4619
          ]
         },
         "node": {
          "color": [
           "rgb(5.0, 200.0, 200.0)",
           "rgb(26.666666666666668, 178.88888888888889, 178.88888888888889)",
           "rgb(48.333333333333336, 157.77777777777777, 157.77777777777777)",
           "rgb(70.0, 136.66666666666669, 136.66666666666669)",
           "rgb(91.66666666666667, 115.55555555555556, 115.55555555555556)",
           "rgb(113.33333333333334, 94.44444444444444, 94.44444444444444)",
           "rgb(135.0, 73.33333333333334, 73.33333333333334)",
           "rgb(156.66666666666669, 52.22222222222223, 52.22222222222223)",
           "rgb(178.33333333333334, 31.111111111111114, 31.111111111111114)",
           "rgb(200.0, 10.0, 10.0)",
           "rgb(5.0, 200.0, 200.0)",
           "rgb(26.666666666666668, 178.88888888888889, 178.88888888888889)",
           "rgb(48.333333333333336, 157.77777777777777, 157.77777777777777)",
           "rgb(70.0, 136.66666666666669, 136.66666666666669)",
           "rgb(91.66666666666667, 115.55555555555556, 115.55555555555556)",
           "rgb(113.33333333333334, 94.44444444444444, 94.44444444444444)",
           "rgb(135.0, 73.33333333333334, 73.33333333333334)",
           "rgb(156.66666666666669, 52.22222222222223, 52.22222222222223)",
           "rgb(178.33333333333334, 31.111111111111114, 31.111111111111114)",
           "rgb(200.0, 10.0, 10.0)"
          ],
          "label": [
           "Amsterdam Ave and W ",
           "Lexington Ave and E ",
           "Central Park West an",
           "University Pl and E ",
           "Central Park W and W",
           "W 21 St and 6 Ave",
           "Frederick Douglass B",
           "Adam Clayton Powell ",
           "West St and Chambers",
           "Metropolitan Ave and",
           "Amsterdam Ave and W ",
           "Lexington Ave and E ",
           "Central Park West an",
           "University Pl and E ",
           "Central Park W and W",
           "W 21 St and 6 Ave",
           "Frederick Douglass B",
           "Adam Clayton Powell ",
           "West St and Chambers",
           "Metropolitan Ave and"
          ],
          "line": {
           "color": "black",
           "width": 0.5
          },
          "pad": 15,
          "thickness": 20,
          "x": [
           0,
           0,
           0,
           0,
           0,
           0,
           0,
           0,
           0,
           0,
           1,
           1,
           1,
           1,
           1,
           1,
           1,
           1,
           1,
           1
          ],
          "y": [
           0,
           0.1111111111111111,
           0.2222222222222222,
           0.3333333333333333,
           0.4444444444444444,
           0.5555555555555556,
           0.6666666666666666,
           0.7777777777777777,
           0.8888888888888888,
           1,
           0,
           0.1111111111111111,
           0.2222222222222222,
           0.3333333333333333,
           0.4444444444444444,
           0.5555555555555556,
           0.6666666666666666,
           0.7777777777777777,
           0.8888888888888888,
           1
          ]
         },
         "type": "sankey"
        }
       ],
       "layout": {
        "font": {
         "size": 10
        },
        "height": 1000,
        "margin": {
         "b": 50,
         "l": 50,
         "r": 50,
         "t": 50
        },
        "paper_bgcolor": "white",
        "plot_bgcolor": "white",
        "template": {
         "data": {
          "bar": [
           {
            "error_x": {
             "color": "#2a3f5f"
            },
            "error_y": {
             "color": "#2a3f5f"
            },
            "marker": {
             "line": {
              "color": "#E5ECF6",
              "width": 0.5
             },
             "pattern": {
              "fillmode": "overlay",
              "size": 10,
              "solidity": 0.2
             }
            },
            "type": "bar"
           }
          ],
          "barpolar": [
           {
            "marker": {
             "line": {
              "color": "#E5ECF6",
              "width": 0.5
             },
             "pattern": {
              "fillmode": "overlay",
              "size": 10,
              "solidity": 0.2
             }
            },
            "type": "barpolar"
           }
          ],
          "carpet": [
           {
            "aaxis": {
             "endlinecolor": "#2a3f5f",
             "gridcolor": "white",
             "linecolor": "white",
             "minorgridcolor": "white",
             "startlinecolor": "#2a3f5f"
            },
            "baxis": {
             "endlinecolor": "#2a3f5f",
             "gridcolor": "white",
             "linecolor": "white",
             "minorgridcolor": "white",
             "startlinecolor": "#2a3f5f"
            },
            "type": "carpet"
           }
          ],
          "choropleth": [
           {
            "colorbar": {
             "outlinewidth": 0,
             "ticks": ""
            },
            "type": "choropleth"
           }
          ],
          "contour": [
           {
            "colorbar": {
             "outlinewidth": 0,
             "ticks": ""
            },
            "colorscale": [
             [
              0,
              "#0d0887"
             ],
             [
              0.1111111111111111,
              "#46039f"
             ],
             [
              0.2222222222222222,
              "#7201a8"
             ],
             [
              0.3333333333333333,
              "#9c179e"
             ],
             [
              0.4444444444444444,
              "#bd3786"
             ],
             [
              0.5555555555555556,
              "#d8576b"
             ],
             [
              0.6666666666666666,
              "#ed7953"
             ],
             [
              0.7777777777777778,
              "#fb9f3a"
             ],
             [
              0.8888888888888888,
              "#fdca26"
             ],
             [
              1,
              "#f0f921"
             ]
            ],
            "type": "contour"
           }
          ],
          "contourcarpet": [
           {
            "colorbar": {
             "outlinewidth": 0,
             "ticks": ""
            },
            "type": "contourcarpet"
           }
          ],
          "heatmap": [
           {
            "colorbar": {
             "outlinewidth": 0,
             "ticks": ""
            },
            "colorscale": [
             [
              0,
              "#0d0887"
             ],
             [
              0.1111111111111111,
              "#46039f"
             ],
             [
              0.2222222222222222,
              "#7201a8"
             ],
             [
              0.3333333333333333,
              "#9c179e"
             ],
             [
              0.4444444444444444,
              "#bd3786"
             ],
             [
              0.5555555555555556,
              "#d8576b"
             ],
             [
              0.6666666666666666,
              "#ed7953"
             ],
             [
              0.7777777777777778,
              "#fb9f3a"
             ],
             [
              0.8888888888888888,
              "#fdca26"
             ],
             [
              1,
              "#f0f921"
             ]
            ],
            "type": "heatmap"
           }
          ],
          "heatmapgl": [
           {
            "colorbar": {
             "outlinewidth": 0,
             "ticks": ""
            },
            "colorscale": [
             [
              0,
              "#0d0887"
             ],
             [
              0.1111111111111111,
              "#46039f"
             ],
             [
              0.2222222222222222,
              "#7201a8"
             ],
             [
              0.3333333333333333,
              "#9c179e"
             ],
             [
              0.4444444444444444,
              "#bd3786"
             ],
             [
              0.5555555555555556,
              "#d8576b"
             ],
             [
              0.6666666666666666,
              "#ed7953"
             ],
             [
              0.7777777777777778,
              "#fb9f3a"
             ],
             [
              0.8888888888888888,
              "#fdca26"
             ],
             [
              1,
              "#f0f921"
             ]
            ],
            "type": "heatmapgl"
           }
          ],
          "histogram": [
           {
            "marker": {
             "pattern": {
              "fillmode": "overlay",
              "size": 10,
              "solidity": 0.2
             }
            },
            "type": "histogram"
           }
          ],
          "histogram2d": [
           {
            "colorbar": {
             "outlinewidth": 0,
             "ticks": ""
            },
            "colorscale": [
             [
              0,
              "#0d0887"
             ],
             [
              0.1111111111111111,
              "#46039f"
             ],
             [
              0.2222222222222222,
              "#7201a8"
             ],
             [
              0.3333333333333333,
              "#9c179e"
             ],
             [
              0.4444444444444444,
              "#bd3786"
             ],
             [
              0.5555555555555556,
              "#d8576b"
             ],
             [
              0.6666666666666666,
              "#ed7953"
             ],
             [
              0.7777777777777778,
              "#fb9f3a"
             ],
             [
              0.8888888888888888,
              "#fdca26"
             ],
             [
              1,
              "#f0f921"
             ]
            ],
            "type": "histogram2d"
           }
          ],
          "histogram2dcontour": [
           {
            "colorbar": {
             "outlinewidth": 0,
             "ticks": ""
            },
            "colorscale": [
             [
              0,
              "#0d0887"
             ],
             [
              0.1111111111111111,
              "#46039f"
             ],
             [
              0.2222222222222222,
              "#7201a8"
             ],
             [
              0.3333333333333333,
              "#9c179e"
             ],
             [
              0.4444444444444444,
              "#bd3786"
             ],
             [
              0.5555555555555556,
              "#d8576b"
             ],
             [
              0.6666666666666666,
              "#ed7953"
             ],
             [
              0.7777777777777778,
              "#fb9f3a"
             ],
             [
              0.8888888888888888,
              "#fdca26"
             ],
             [
              1,
              "#f0f921"
             ]
            ],
            "type": "histogram2dcontour"
           }
          ],
          "mesh3d": [
           {
            "colorbar": {
             "outlinewidth": 0,
             "ticks": ""
            },
            "type": "mesh3d"
           }
          ],
          "parcoords": [
           {
            "line": {
             "colorbar": {
              "outlinewidth": 0,
              "ticks": ""
             }
            },
            "type": "parcoords"
           }
          ],
          "pie": [
           {
            "automargin": true,
            "type": "pie"
           }
          ],
          "scatter": [
           {
            "fillpattern": {
             "fillmode": "overlay",
             "size": 10,
             "solidity": 0.2
            },
            "type": "scatter"
           }
          ],
          "scatter3d": [
           {
            "line": {
             "colorbar": {
              "outlinewidth": 0,
              "ticks": ""
             }
            },
            "marker": {
             "colorbar": {
              "outlinewidth": 0,
              "ticks": ""
             }
            },
            "type": "scatter3d"
           }
          ],
          "scattercarpet": [
           {
            "marker": {
             "colorbar": {
              "outlinewidth": 0,
              "ticks": ""
             }
            },
            "type": "scattercarpet"
           }
          ],
          "scattergeo": [
           {
            "marker": {
             "colorbar": {
              "outlinewidth": 0,
              "ticks": ""
             }
            },
            "type": "scattergeo"
           }
          ],
          "scattergl": [
           {
            "marker": {
             "colorbar": {
              "outlinewidth": 0,
              "ticks": ""
             }
            },
            "type": "scattergl"
           }
          ],
          "scattermapbox": [
           {
            "marker": {
             "colorbar": {
              "outlinewidth": 0,
              "ticks": ""
             }
            },
            "type": "scattermapbox"
           }
          ],
          "scatterpolar": [
           {
            "marker": {
             "colorbar": {
              "outlinewidth": 0,
              "ticks": ""
             }
            },
            "type": "scatterpolar"
           }
          ],
          "scatterpolargl": [
           {
            "marker": {
             "colorbar": {
              "outlinewidth": 0,
              "ticks": ""
             }
            },
            "type": "scatterpolargl"
           }
          ],
          "scatterternary": [
           {
            "marker": {
             "colorbar": {
              "outlinewidth": 0,
              "ticks": ""
             }
            },
            "type": "scatterternary"
           }
          ],
          "surface": [
           {
            "colorbar": {
             "outlinewidth": 0,
             "ticks": ""
            },
            "colorscale": [
             [
              0,
              "#0d0887"
             ],
             [
              0.1111111111111111,
              "#46039f"
             ],
             [
              0.2222222222222222,
              "#7201a8"
             ],
             [
              0.3333333333333333,
              "#9c179e"
             ],
             [
              0.4444444444444444,
              "#bd3786"
             ],
             [
              0.5555555555555556,
              "#d8576b"
             ],
             [
              0.6666666666666666,
              "#ed7953"
             ],
             [
              0.7777777777777778,
              "#fb9f3a"
             ],
             [
              0.8888888888888888,
              "#fdca26"
             ],
             [
              1,
              "#f0f921"
             ]
            ],
            "type": "surface"
           }
          ],
          "table": [
           {
            "cells": {
             "fill": {
              "color": "#EBF0F8"
             },
             "line": {
              "color": "white"
             }
            },
            "header": {
             "fill": {
              "color": "#C8D4E3"
             },
             "line": {
              "color": "white"
             }
            },
            "type": "table"
           }
          ]
         },
         "layout": {
          "annotationdefaults": {
           "arrowcolor": "#2a3f5f",
           "arrowhead": 0,
           "arrowwidth": 1
          },
          "autotypenumbers": "strict",
          "coloraxis": {
           "colorbar": {
            "outlinewidth": 0,
            "ticks": ""
           }
          },
          "colorscale": {
           "diverging": [
            [
             0,
             "#8e0152"
            ],
            [
             0.1,
             "#c51b7d"
            ],
            [
             0.2,
             "#de77ae"
            ],
            [
             0.3,
             "#f1b6da"
            ],
            [
             0.4,
             "#fde0ef"
            ],
            [
             0.5,
             "#f7f7f7"
            ],
            [
             0.6,
             "#e6f5d0"
            ],
            [
             0.7,
             "#b8e186"
            ],
            [
             0.8,
             "#7fbc41"
            ],
            [
             0.9,
             "#4d9221"
            ],
            [
             1,
             "#276419"
            ]
           ],
           "sequential": [
            [
             0,
             "#0d0887"
            ],
            [
             0.1111111111111111,
             "#46039f"
            ],
            [
             0.2222222222222222,
             "#7201a8"
            ],
            [
             0.3333333333333333,
             "#9c179e"
            ],
            [
             0.4444444444444444,
             "#bd3786"
            ],
            [
             0.5555555555555556,
             "#d8576b"
            ],
            [
             0.6666666666666666,
             "#ed7953"
            ],
            [
             0.7777777777777778,
             "#fb9f3a"
            ],
            [
             0.8888888888888888,
             "#fdca26"
            ],
            [
             1,
             "#f0f921"
            ]
           ],
           "sequentialminus": [
            [
             0,
             "#0d0887"
            ],
            [
             0.1111111111111111,
             "#46039f"
            ],
            [
             0.2222222222222222,
             "#7201a8"
            ],
            [
             0.3333333333333333,
             "#9c179e"
            ],
            [
             0.4444444444444444,
             "#bd3786"
            ],
            [
             0.5555555555555556,
             "#d8576b"
            ],
            [
             0.6666666666666666,
             "#ed7953"
            ],
            [
             0.7777777777777778,
             "#fb9f3a"
            ],
            [
             0.8888888888888888,
             "#fdca26"
            ],
            [
             1,
             "#f0f921"
            ]
           ]
          },
          "colorway": [
           "#636efa",
           "#EF553B",
           "#00cc96",
           "#ab63fa",
           "#FFA15A",
           "#19d3f3",
           "#FF6692",
           "#B6E880",
           "#FF97FF",
           "#FECB52"
          ],
          "font": {
           "color": "#2a3f5f"
          },
          "geo": {
           "bgcolor": "white",
           "lakecolor": "white",
           "landcolor": "#E5ECF6",
           "showlakes": true,
           "showland": true,
           "subunitcolor": "white"
          },
          "hoverlabel": {
           "align": "left"
          },
          "hovermode": "closest",
          "mapbox": {
           "style": "light"
          },
          "paper_bgcolor": "white",
          "plot_bgcolor": "#E5ECF6",
          "polar": {
           "angularaxis": {
            "gridcolor": "white",
            "linecolor": "white",
            "ticks": ""
           },
           "bgcolor": "#E5ECF6",
           "radialaxis": {
            "gridcolor": "white",
            "linecolor": "white",
            "ticks": ""
           }
          },
          "scene": {
           "xaxis": {
            "backgroundcolor": "#E5ECF6",
            "gridcolor": "white",
            "gridwidth": 2,
            "linecolor": "white",
            "showbackground": true,
            "ticks": "",
            "zerolinecolor": "white"
           },
           "yaxis": {
            "backgroundcolor": "#E5ECF6",
            "gridcolor": "white",
            "gridwidth": 2,
            "linecolor": "white",
            "showbackground": true,
            "ticks": "",
            "zerolinecolor": "white"
           },
           "zaxis": {
            "backgroundcolor": "#E5ECF6",
            "gridcolor": "white",
            "gridwidth": 2,
            "linecolor": "white",
            "showbackground": true,
            "ticks": "",
            "zerolinecolor": "white"
           }
          },
          "shapedefaults": {
           "line": {
            "color": "#2a3f5f"
           }
          },
          "ternary": {
           "aaxis": {
            "gridcolor": "white",
            "linecolor": "white",
            "ticks": ""
           },
           "baxis": {
            "gridcolor": "white",
            "linecolor": "white",
            "ticks": ""
           },
           "bgcolor": "#E5ECF6",
           "caxis": {
            "gridcolor": "white",
            "linecolor": "white",
            "ticks": ""
           }
          },
          "title": {
           "x": 0.05
          },
          "xaxis": {
           "automargin": true,
           "gridcolor": "white",
           "linecolor": "white",
           "ticks": "",
           "title": {
            "standoff": 15
           },
           "zerolinecolor": "white",
           "zerolinewidth": 2
          },
          "yaxis": {
           "automargin": true,
           "gridcolor": "white",
           "linecolor": "white",
           "ticks": "",
           "title": {
            "standoff": 15
           },
           "zerolinecolor": "white",
           "zerolinewidth": 2
          }
         }
        },
        "title": {
         "text": "NYC Bike Share Trips Between Top Stations"
        },
        "width": 1500
       }
      },
      "text/html": [
       "<div>                            <div id=\"310d647a-f44a-4516-baf7-fe91a37546d3\" class=\"plotly-graph-div\" style=\"height:1000px; width:1500px;\"></div>            <script type=\"text/javascript\">                require([\"plotly\"], function(Plotly) {                    window.PLOTLYENV=window.PLOTLYENV || {};                                    if (document.getElementById(\"310d647a-f44a-4516-baf7-fe91a37546d3\")) {                    Plotly.newPlot(                        \"310d647a-f44a-4516-baf7-fe91a37546d3\",                        [{\"link\":{\"color\":[\"rgba(67, 112, 113, 0.3)\",\"rgba(66, 214, 213, 0.3)\",\"rgba(196, 119, 209, 0.3)\",\"rgba(31, 103, 27, 0.3)\",\"rgba(6, 109, 157, 0.3)\",\"rgba(24, 237, 219, 0.3)\",\"rgba(202, 163, 41, 0.3)\",\"rgba(94, 2, 188, 0.3)\",\"rgba(53, 253, 61, 0.3)\",\"rgba(177, 147, 206, 0.3)\",\"rgba(22, 249, 147, 0.3)\",\"rgba(72, 181, 219, 0.3)\",\"rgba(85, 225, 73, 0.3)\",\"rgba(158, 140, 198, 0.3)\",\"rgba(143, 29, 242, 0.3)\",\"rgba(26, 156, 7, 0.3)\",\"rgba(215, 101, 254, 0.3)\",\"rgba(145, 132, 3, 0.3)\",\"rgba(82, 70, 136, 0.3)\",\"rgba(26, 243, 6, 0.3)\",\"rgba(241, 25, 84, 0.3)\",\"rgba(226, 151, 230, 0.3)\",\"rgba(32, 186, 186, 0.3)\",\"rgba(95, 145, 130, 0.3)\",\"rgba(92, 125, 229, 0.3)\",\"rgba(188, 134, 94, 0.3)\",\"rgba(95, 57, 224, 0.3)\",\"rgba(129, 136, 142, 0.3)\",\"rgba(95, 52, 46, 0.3)\",\"rgba(182, 13, 15, 0.3)\",\"rgba(183, 134, 116, 0.3)\",\"rgba(71, 178, 240, 0.3)\",\"rgba(71, 73, 250, 0.3)\",\"rgba(34, 31, 39, 0.3)\",\"rgba(163, 15, 46, 0.3)\",\"rgba(195, 155, 28, 0.3)\",\"rgba(186, 174, 212, 0.3)\",\"rgba(36, 194, 182, 0.3)\",\"rgba(104, 127, 233, 0.3)\",\"rgba(68, 153, 199, 0.3)\",\"rgba(47, 188, 50, 0.3)\",\"rgba(221, 132, 75, 0.3)\",\"rgba(217, 238, 67, 0.3)\",\"rgba(73, 124, 55, 0.3)\",\"rgba(91, 85, 126, 0.3)\",\"rgba(72, 182, 211, 0.3)\",\"rgba(251, 127, 29, 0.3)\",\"rgba(80, 164, 167, 0.3)\",\"rgba(195, 164, 63, 0.3)\",\"rgba(0, 82, 52, 0.3)\",\"rgba(184, 190, 109, 0.3)\",\"rgba(63, 61, 60, 0.3)\",\"rgba(166, 118, 240, 0.3)\",\"rgba(241, 155, 31, 0.3)\",\"rgba(180, 223, 194, 0.3)\",\"rgba(164, 37, 86, 0.3)\",\"rgba(38, 130, 10, 0.3)\",\"rgba(137, 96, 109, 0.3)\",\"rgba(172, 42, 148, 0.3)\",\"rgba(73, 6, 156, 0.3)\",\"rgba(154, 190, 131, 0.3)\",\"rgba(91, 3, 166, 0.3)\",\"rgba(219, 16, 125, 0.3)\",\"rgba(184, 226, 140, 0.3)\",\"rgba(177, 246, 193, 0.3)\",\"rgba(212, 111, 242, 0.3)\",\"rgba(173, 123, 180, 0.3)\",\"rgba(235, 233, 13, 0.3)\",\"rgba(172, 133, 77, 0.3)\",\"rgba(23, 97, 124, 0.3)\",\"rgba(151, 96, 122, 0.3)\",\"rgba(80, 167, 176, 0.3)\",\"rgba(240, 24, 62, 0.3)\",\"rgba(233, 127, 26, 0.3)\",\"rgba(122, 120, 198, 0.3)\",\"rgba(59, 5, 155, 0.3)\",\"rgba(41, 195, 92, 0.3)\",\"rgba(10, 221, 124, 0.3)\",\"rgba(83, 73, 204, 0.3)\",\"rgba(35, 133, 220, 0.3)\",\"rgba(235, 139, 213, 0.3)\",\"rgba(19, 125, 237, 0.3)\",\"rgba(133, 85, 184, 0.3)\",\"rgba(24, 5, 94, 0.3)\",\"rgba(232, 169, 44, 0.3)\",\"rgba(135, 146, 125, 0.3)\",\"rgba(7, 192, 213, 0.3)\",\"rgba(227, 183, 117, 0.3)\",\"rgba(139, 32, 181, 0.3)\",\"rgba(105, 110, 254, 0.3)\",\"rgba(203, 138, 226, 0.3)\",\"rgba(85, 52, 178, 0.3)\",\"rgba(5, 223, 122, 0.3)\",\"rgba(253, 208, 211, 0.3)\",\"rgba(145, 240, 56, 0.3)\",\"rgba(204, 138, 126, 0.3)\",\"rgba(246, 44, 179, 0.3)\",\"rgba(27, 140, 149, 0.3)\",\"rgba(146, 214, 250, 0.3)\",\"rgba(21, 25, 107, 0.3)\"],\"source\":[7,7,7,7,7,7,7,7,7,7,0,0,0,0,0,0,0,0,0,0,4,4,4,4,4,4,4,4,4,4,2,2,2,2,2,2,2,2,2,2,6,6,6,6,6,6,6,6,6,6,1,1,1,1,1,1,1,1,1,1,9,9,9,9,9,9,9,9,9,9,3,3,3,3,3,3,3,3,3,3,5,5,5,5,5,5,5,5,5,5,8,8,8,8,8,8,8,8,8,8],\"target\":[17,10,14,12,16,11,19,13,15,18,17,10,14,12,16,11,19,13,15,18,17,10,14,12,16,11,19,13,15,18,17,10,14,12,16,11,19,13,15,18,17,10,14,12,16,11,19,13,15,18,17,10,14,12,16,11,19,13,15,18,17,10,14,12,16,11,19,13,15,18,17,10,14,12,16,11,19,13,15,18,17,10,14,12,16,11,19,13,15,18,17,10,14,12,16,11,19,13,15,18],\"value\":[24065,3231,1665,1168,8935,2072,5,55,20,35,3571,33585,4495,5694,4315,1139,19,257,217,552,1986,4621,16028,7479,4395,648,16,130,106,136,1506,5889,9383,30985,3900,751,14,252,175,348,9175,3742,3566,2668,17472,1415,4,71,52,38,2004,919,479,755,1428,12175,101,1895,2032,458,7,17,6,12,7,78,5320,60,56,32,45,270,87,265,47,1600,108,8006,1818,672,64,302,143,336,97,1426,37,1225,1783,639,18,418,69,247,39,382,23,722,791,4619]},\"node\":{\"color\":[\"rgb(5.0, 200.0, 200.0)\",\"rgb(26.666666666666668, 178.88888888888889, 178.88888888888889)\",\"rgb(48.333333333333336, 157.77777777777777, 157.77777777777777)\",\"rgb(70.0, 136.66666666666669, 136.66666666666669)\",\"rgb(91.66666666666667, 115.55555555555556, 115.55555555555556)\",\"rgb(113.33333333333334, 94.44444444444444, 94.44444444444444)\",\"rgb(135.0, 73.33333333333334, 73.33333333333334)\",\"rgb(156.66666666666669, 52.22222222222223, 52.22222222222223)\",\"rgb(178.33333333333334, 31.111111111111114, 31.111111111111114)\",\"rgb(200.0, 10.0, 10.0)\",\"rgb(5.0, 200.0, 200.0)\",\"rgb(26.666666666666668, 178.88888888888889, 178.88888888888889)\",\"rgb(48.333333333333336, 157.77777777777777, 157.77777777777777)\",\"rgb(70.0, 136.66666666666669, 136.66666666666669)\",\"rgb(91.66666666666667, 115.55555555555556, 115.55555555555556)\",\"rgb(113.33333333333334, 94.44444444444444, 94.44444444444444)\",\"rgb(135.0, 73.33333333333334, 73.33333333333334)\",\"rgb(156.66666666666669, 52.22222222222223, 52.22222222222223)\",\"rgb(178.33333333333334, 31.111111111111114, 31.111111111111114)\",\"rgb(200.0, 10.0, 10.0)\"],\"label\":[\"Amsterdam Ave and W \",\"Lexington Ave and E \",\"Central Park West an\",\"University Pl and E \",\"Central Park W and W\",\"W 21 St and 6 Ave\",\"Frederick Douglass B\",\"Adam Clayton Powell \",\"West St and Chambers\",\"Metropolitan Ave and\",\"Amsterdam Ave and W \",\"Lexington Ave and E \",\"Central Park West an\",\"University Pl and E \",\"Central Park W and W\",\"W 21 St and 6 Ave\",\"Frederick Douglass B\",\"Adam Clayton Powell \",\"West St and Chambers\",\"Metropolitan Ave and\"],\"line\":{\"color\":\"black\",\"width\":0.5},\"pad\":15,\"thickness\":20,\"x\":[0,0,0,0,0,0,0,0,0,0,1,1,1,1,1,1,1,1,1,1],\"y\":[0.0,0.1111111111111111,0.2222222222222222,0.3333333333333333,0.4444444444444444,0.5555555555555556,0.6666666666666666,0.7777777777777777,0.8888888888888888,1.0,0.0,0.1111111111111111,0.2222222222222222,0.3333333333333333,0.4444444444444444,0.5555555555555556,0.6666666666666666,0.7777777777777777,0.8888888888888888,1.0]},\"type\":\"sankey\"}],                        {\"template\":{\"data\":{\"histogram2dcontour\":[{\"type\":\"histogram2dcontour\",\"colorbar\":{\"outlinewidth\":0,\"ticks\":\"\"},\"colorscale\":[[0.0,\"#0d0887\"],[0.1111111111111111,\"#46039f\"],[0.2222222222222222,\"#7201a8\"],[0.3333333333333333,\"#9c179e\"],[0.4444444444444444,\"#bd3786\"],[0.5555555555555556,\"#d8576b\"],[0.6666666666666666,\"#ed7953\"],[0.7777777777777778,\"#fb9f3a\"],[0.8888888888888888,\"#fdca26\"],[1.0,\"#f0f921\"]]}],\"choropleth\":[{\"type\":\"choropleth\",\"colorbar\":{\"outlinewidth\":0,\"ticks\":\"\"}}],\"histogram2d\":[{\"type\":\"histogram2d\",\"colorbar\":{\"outlinewidth\":0,\"ticks\":\"\"},\"colorscale\":[[0.0,\"#0d0887\"],[0.1111111111111111,\"#46039f\"],[0.2222222222222222,\"#7201a8\"],[0.3333333333333333,\"#9c179e\"],[0.4444444444444444,\"#bd3786\"],[0.5555555555555556,\"#d8576b\"],[0.6666666666666666,\"#ed7953\"],[0.7777777777777778,\"#fb9f3a\"],[0.8888888888888888,\"#fdca26\"],[1.0,\"#f0f921\"]]}],\"heatmap\":[{\"type\":\"heatmap\",\"colorbar\":{\"outlinewidth\":0,\"ticks\":\"\"},\"colorscale\":[[0.0,\"#0d0887\"],[0.1111111111111111,\"#46039f\"],[0.2222222222222222,\"#7201a8\"],[0.3333333333333333,\"#9c179e\"],[0.4444444444444444,\"#bd3786\"],[0.5555555555555556,\"#d8576b\"],[0.6666666666666666,\"#ed7953\"],[0.7777777777777778,\"#fb9f3a\"],[0.8888888888888888,\"#fdca26\"],[1.0,\"#f0f921\"]]}],\"heatmapgl\":[{\"type\":\"heatmapgl\",\"colorbar\":{\"outlinewidth\":0,\"ticks\":\"\"},\"colorscale\":[[0.0,\"#0d0887\"],[0.1111111111111111,\"#46039f\"],[0.2222222222222222,\"#7201a8\"],[0.3333333333333333,\"#9c179e\"],[0.4444444444444444,\"#bd3786\"],[0.5555555555555556,\"#d8576b\"],[0.6666666666666666,\"#ed7953\"],[0.7777777777777778,\"#fb9f3a\"],[0.8888888888888888,\"#fdca26\"],[1.0,\"#f0f921\"]]}],\"contourcarpet\":[{\"type\":\"contourcarpet\",\"colorbar\":{\"outlinewidth\":0,\"ticks\":\"\"}}],\"contour\":[{\"type\":\"contour\",\"colorbar\":{\"outlinewidth\":0,\"ticks\":\"\"},\"colorscale\":[[0.0,\"#0d0887\"],[0.1111111111111111,\"#46039f\"],[0.2222222222222222,\"#7201a8\"],[0.3333333333333333,\"#9c179e\"],[0.4444444444444444,\"#bd3786\"],[0.5555555555555556,\"#d8576b\"],[0.6666666666666666,\"#ed7953\"],[0.7777777777777778,\"#fb9f3a\"],[0.8888888888888888,\"#fdca26\"],[1.0,\"#f0f921\"]]}],\"surface\":[{\"type\":\"surface\",\"colorbar\":{\"outlinewidth\":0,\"ticks\":\"\"},\"colorscale\":[[0.0,\"#0d0887\"],[0.1111111111111111,\"#46039f\"],[0.2222222222222222,\"#7201a8\"],[0.3333333333333333,\"#9c179e\"],[0.4444444444444444,\"#bd3786\"],[0.5555555555555556,\"#d8576b\"],[0.6666666666666666,\"#ed7953\"],[0.7777777777777778,\"#fb9f3a\"],[0.8888888888888888,\"#fdca26\"],[1.0,\"#f0f921\"]]}],\"mesh3d\":[{\"type\":\"mesh3d\",\"colorbar\":{\"outlinewidth\":0,\"ticks\":\"\"}}],\"scatter\":[{\"fillpattern\":{\"fillmode\":\"overlay\",\"size\":10,\"solidity\":0.2},\"type\":\"scatter\"}],\"parcoords\":[{\"type\":\"parcoords\",\"line\":{\"colorbar\":{\"outlinewidth\":0,\"ticks\":\"\"}}}],\"scatterpolargl\":[{\"type\":\"scatterpolargl\",\"marker\":{\"colorbar\":{\"outlinewidth\":0,\"ticks\":\"\"}}}],\"bar\":[{\"error_x\":{\"color\":\"#2a3f5f\"},\"error_y\":{\"color\":\"#2a3f5f\"},\"marker\":{\"line\":{\"color\":\"#E5ECF6\",\"width\":0.5},\"pattern\":{\"fillmode\":\"overlay\",\"size\":10,\"solidity\":0.2}},\"type\":\"bar\"}],\"scattergeo\":[{\"type\":\"scattergeo\",\"marker\":{\"colorbar\":{\"outlinewidth\":0,\"ticks\":\"\"}}}],\"scatterpolar\":[{\"type\":\"scatterpolar\",\"marker\":{\"colorbar\":{\"outlinewidth\":0,\"ticks\":\"\"}}}],\"histogram\":[{\"marker\":{\"pattern\":{\"fillmode\":\"overlay\",\"size\":10,\"solidity\":0.2}},\"type\":\"histogram\"}],\"scattergl\":[{\"type\":\"scattergl\",\"marker\":{\"colorbar\":{\"outlinewidth\":0,\"ticks\":\"\"}}}],\"scatter3d\":[{\"type\":\"scatter3d\",\"line\":{\"colorbar\":{\"outlinewidth\":0,\"ticks\":\"\"}},\"marker\":{\"colorbar\":{\"outlinewidth\":0,\"ticks\":\"\"}}}],\"scattermapbox\":[{\"type\":\"scattermapbox\",\"marker\":{\"colorbar\":{\"outlinewidth\":0,\"ticks\":\"\"}}}],\"scatterternary\":[{\"type\":\"scatterternary\",\"marker\":{\"colorbar\":{\"outlinewidth\":0,\"ticks\":\"\"}}}],\"scattercarpet\":[{\"type\":\"scattercarpet\",\"marker\":{\"colorbar\":{\"outlinewidth\":0,\"ticks\":\"\"}}}],\"carpet\":[{\"aaxis\":{\"endlinecolor\":\"#2a3f5f\",\"gridcolor\":\"white\",\"linecolor\":\"white\",\"minorgridcolor\":\"white\",\"startlinecolor\":\"#2a3f5f\"},\"baxis\":{\"endlinecolor\":\"#2a3f5f\",\"gridcolor\":\"white\",\"linecolor\":\"white\",\"minorgridcolor\":\"white\",\"startlinecolor\":\"#2a3f5f\"},\"type\":\"carpet\"}],\"table\":[{\"cells\":{\"fill\":{\"color\":\"#EBF0F8\"},\"line\":{\"color\":\"white\"}},\"header\":{\"fill\":{\"color\":\"#C8D4E3\"},\"line\":{\"color\":\"white\"}},\"type\":\"table\"}],\"barpolar\":[{\"marker\":{\"line\":{\"color\":\"#E5ECF6\",\"width\":0.5},\"pattern\":{\"fillmode\":\"overlay\",\"size\":10,\"solidity\":0.2}},\"type\":\"barpolar\"}],\"pie\":[{\"automargin\":true,\"type\":\"pie\"}]},\"layout\":{\"autotypenumbers\":\"strict\",\"colorway\":[\"#636efa\",\"#EF553B\",\"#00cc96\",\"#ab63fa\",\"#FFA15A\",\"#19d3f3\",\"#FF6692\",\"#B6E880\",\"#FF97FF\",\"#FECB52\"],\"font\":{\"color\":\"#2a3f5f\"},\"hovermode\":\"closest\",\"hoverlabel\":{\"align\":\"left\"},\"paper_bgcolor\":\"white\",\"plot_bgcolor\":\"#E5ECF6\",\"polar\":{\"bgcolor\":\"#E5ECF6\",\"angularaxis\":{\"gridcolor\":\"white\",\"linecolor\":\"white\",\"ticks\":\"\"},\"radialaxis\":{\"gridcolor\":\"white\",\"linecolor\":\"white\",\"ticks\":\"\"}},\"ternary\":{\"bgcolor\":\"#E5ECF6\",\"aaxis\":{\"gridcolor\":\"white\",\"linecolor\":\"white\",\"ticks\":\"\"},\"baxis\":{\"gridcolor\":\"white\",\"linecolor\":\"white\",\"ticks\":\"\"},\"caxis\":{\"gridcolor\":\"white\",\"linecolor\":\"white\",\"ticks\":\"\"}},\"coloraxis\":{\"colorbar\":{\"outlinewidth\":0,\"ticks\":\"\"}},\"colorscale\":{\"sequential\":[[0.0,\"#0d0887\"],[0.1111111111111111,\"#46039f\"],[0.2222222222222222,\"#7201a8\"],[0.3333333333333333,\"#9c179e\"],[0.4444444444444444,\"#bd3786\"],[0.5555555555555556,\"#d8576b\"],[0.6666666666666666,\"#ed7953\"],[0.7777777777777778,\"#fb9f3a\"],[0.8888888888888888,\"#fdca26\"],[1.0,\"#f0f921\"]],\"sequentialminus\":[[0.0,\"#0d0887\"],[0.1111111111111111,\"#46039f\"],[0.2222222222222222,\"#7201a8\"],[0.3333333333333333,\"#9c179e\"],[0.4444444444444444,\"#bd3786\"],[0.5555555555555556,\"#d8576b\"],[0.6666666666666666,\"#ed7953\"],[0.7777777777777778,\"#fb9f3a\"],[0.8888888888888888,\"#fdca26\"],[1.0,\"#f0f921\"]],\"diverging\":[[0,\"#8e0152\"],[0.1,\"#c51b7d\"],[0.2,\"#de77ae\"],[0.3,\"#f1b6da\"],[0.4,\"#fde0ef\"],[0.5,\"#f7f7f7\"],[0.6,\"#e6f5d0\"],[0.7,\"#b8e186\"],[0.8,\"#7fbc41\"],[0.9,\"#4d9221\"],[1,\"#276419\"]]},\"xaxis\":{\"gridcolor\":\"white\",\"linecolor\":\"white\",\"ticks\":\"\",\"title\":{\"standoff\":15},\"zerolinecolor\":\"white\",\"automargin\":true,\"zerolinewidth\":2},\"yaxis\":{\"gridcolor\":\"white\",\"linecolor\":\"white\",\"ticks\":\"\",\"title\":{\"standoff\":15},\"zerolinecolor\":\"white\",\"automargin\":true,\"zerolinewidth\":2},\"scene\":{\"xaxis\":{\"backgroundcolor\":\"#E5ECF6\",\"gridcolor\":\"white\",\"linecolor\":\"white\",\"showbackground\":true,\"ticks\":\"\",\"zerolinecolor\":\"white\",\"gridwidth\":2},\"yaxis\":{\"backgroundcolor\":\"#E5ECF6\",\"gridcolor\":\"white\",\"linecolor\":\"white\",\"showbackground\":true,\"ticks\":\"\",\"zerolinecolor\":\"white\",\"gridwidth\":2},\"zaxis\":{\"backgroundcolor\":\"#E5ECF6\",\"gridcolor\":\"white\",\"linecolor\":\"white\",\"showbackground\":true,\"ticks\":\"\",\"zerolinecolor\":\"white\",\"gridwidth\":2}},\"shapedefaults\":{\"line\":{\"color\":\"#2a3f5f\"}},\"annotationdefaults\":{\"arrowcolor\":\"#2a3f5f\",\"arrowhead\":0,\"arrowwidth\":1},\"geo\":{\"bgcolor\":\"white\",\"landcolor\":\"#E5ECF6\",\"subunitcolor\":\"white\",\"showland\":true,\"showlakes\":true,\"lakecolor\":\"white\"},\"title\":{\"x\":0.05},\"mapbox\":{\"style\":\"light\"}}},\"title\":{\"text\":\"NYC Bike Share Trips Between Top Stations\"},\"font\":{\"size\":10},\"height\":1000,\"width\":1500,\"plot_bgcolor\":\"white\",\"paper_bgcolor\":\"white\",\"margin\":{\"l\":50,\"r\":50,\"t\":50,\"b\":50}},                        {\"responsive\": true}                    ).then(function(){\n",
       "                            \n",
       "var gd = document.getElementById('310d647a-f44a-4516-baf7-fe91a37546d3');\n",
       "var x = new MutationObserver(function (mutations, observer) {{\n",
       "        var display = window.getComputedStyle(gd).display;\n",
       "        if (!display || display === 'none') {{\n",
       "            console.log([gd, 'removed!']);\n",
       "            Plotly.purge(gd);\n",
       "            observer.disconnect();\n",
       "        }}\n",
       "}});\n",
       "\n",
       "// Listen for the removal of the full notebook cells\n",
       "var notebookContainer = gd.closest('#notebook-container');\n",
       "if (notebookContainer) {{\n",
       "    x.observe(notebookContainer, {childList: true});\n",
       "}}\n",
       "\n",
       "// Listen for the clearing of the current output cell\n",
       "var outputEl = gd.closest('.output');\n",
       "if (outputEl) {{\n",
       "    x.observe(outputEl, {childList: true});\n",
       "}}\n",
       "\n",
       "                        })                };                });            </script>        </div>"
      ]
     },
     "metadata": {},
     "output_type": "display_data"
    }
   ],
   "source": [
    "import pandas as pd\n",
    "import numpy as np\n",
    "import plotly.graph_objects as go\n",
    "import os\n",
    "\n",
    "def clean_station_names(df):\n",
    "    df['start_station_name'] = df['start_station_name'].str.replace('&', 'and')\n",
    "    df['end_station_name'] = df['end_station_name'].str.replace('&', 'and')\n",
    "    df['start_station_name'] = df['start_station_name'].str.replace(r'[^\\w\\s-]', '', regex=True)\n",
    "    df['end_station_name'] = df['end_station_name'].str.replace(r'[^\\w\\s-]', '', regex=True)\n",
    "    df['start_station_name'] = df['start_station_name'].str[:20]\n",
    "    df['end_station_name'] = df['end_station_name'].str[:20]\n",
    "    return df\n",
    "\n",
    "def get_top_stations(df, n=10):\n",
    "    start_station_counts = df['start_station_name'].value_counts()\n",
    "    end_station_counts = df['end_station_name'].value_counts()\n",
    "    total_counts = pd.concat([start_station_counts, end_station_counts])\n",
    "    top_stations = total_counts.groupby(level=0).sum().nlargest(n).index.tolist()\n",
    "    return top_stations\n",
    "\n",
    "def create_sankey_data(df, top_stations):\n",
    "    # Filter data for top stations\n",
    "    df_filtered = df[\n",
    "        (df['start_station_name'].isin(top_stations)) & \n",
    "        (df['end_station_name'].isin(top_stations))\n",
    "    ]\n",
    "    \n",
    "    # Count trips between stations\n",
    "    flow_data = df_filtered.groupby(['start_station_name', 'end_station_name']).size().reset_index()\n",
    "    flow_data.columns = ['source', 'target', 'value']\n",
    "    \n",
    "    # Create indices for stations (left side and right side)\n",
    "    n_stations = len(top_stations)\n",
    "    station_to_idx_left = {station: idx for idx, station in enumerate(top_stations)}\n",
    "    station_to_idx_right = {station: idx + n_stations for idx, station in enumerate(top_stations)}\n",
    "    \n",
    "    # Convert source stations to left-side indices and target stations to right-side indices\n",
    "    flow_data['source_idx'] = flow_data['source'].map(station_to_idx_left)\n",
    "    flow_data['target_idx'] = flow_data['target'].map(station_to_idx_right)\n",
    "    \n",
    "    return flow_data, top_stations\n",
    "\n",
    "def create_sankey_diagram(flow_data, station_names, output_path):\n",
    "    n_stations = len(station_names)\n",
    "    \n",
    "    # Create node labels (left and right sides)\n",
    "    node_labels = station_names + station_names\n",
    "    \n",
    "    # Create node x-coordinates (0 for left side, 1 for right side)\n",
    "    node_x = [0]*n_stations + [1]*n_stations\n",
    "    \n",
    "    # Create color scale for stations\n",
    "    colors = [f'hsl({h},80%,50%)' for h in np.linspace(0, 360, n_stations)]\n",
    "    # For more muted colors:\n",
    "    colors = [f'hsl({h},60%,70%)' for h in np.linspace(0, 360, n_stations)]\n",
    "    \n",
    "    # Or for a specific color palette:\n",
    "    from plotly.colors import n_colors\n",
    "    colors = n_colors('rgb(5, 200, 200)', 'rgb(200, 10, 10)', n_stations, colortype='rgb')\n",
    "    node_colors = colors * 2  # Same colors for both sides\n",
    "\n",
    "    \n",
    "    # Create Sankey diagram\n",
    "    fig = go.Figure(data=[go.Sankey(\n",
    "        node = dict(\n",
    "            pad = 15,\n",
    "            thickness = 20,\n",
    "            line = dict(color = \"black\", width = 0.5),\n",
    "            label = node_labels,\n",
    "            color = node_colors,\n",
    "            x = node_x,  # Set x-coordinates\n",
    "            y = [y for y in np.linspace(0, 1, n_stations)]*2  # Evenly space nodes vertically\n",
    "        ),\n",
    "        link = dict(\n",
    "            source = flow_data['source_idx'],\n",
    "            target = flow_data['target_idx'],\n",
    "            value = flow_data['value'],\n",
    "            color = [f'rgba({np.random.randint(0,255)}, {np.random.randint(0,255)}, {np.random.randint(0,255)}, 0.3)' \n",
    "                    for _ in range(len(flow_data))]\n",
    "        )\n",
    "    )])\n",
    "\n",
    "    # Update layout\n",
    "    fig.update_layout(\n",
    "        title_text=\"NYC Bike Share Trips Between Top Stations\",\n",
    "        font_size=10,\n",
    "        height=800,\n",
    "        width=1200,\n",
    "        plot_bgcolor='white',\n",
    "        paper_bgcolor='white'\n",
    "    )\n",
    "    fig.update_layout(\n",
    "    height=1000,\n",
    "    width=1500,\n",
    "    margin=dict(l=50, r=50, t=50, b=50)\n",
    "    )\n",
    "\n",
    "    \n",
    "    # Save the figure\n",
    "    fig.write_html(output_path)\n",
    "    \n",
    "    return fig\n",
    "\n",
    "def main():\n",
    "    try:\n",
    "        # Create charts directory if it doesn't exist\n",
    "        charts_dir = os.path.join('site', 'charts')\n",
    "        os.makedirs(charts_dir, exist_ok=True)\n",
    "        \n",
    "        # Clean the data\n",
    "        print(\"Cleaning data...\")\n",
    "        df_clean = df.dropna(subset=['start_station_name', 'end_station_name'])\n",
    "        df_cleaned = clean_station_names(df_clean)\n",
    "        \n",
    "        # Get top stations\n",
    "        print(\"Getting top stations...\")\n",
    "        top_stations = get_top_stations(df_cleaned, n=10)  # Adjust n for more/fewer stations\n",
    "        \n",
    "        # Create Sankey data\n",
    "        print(\"Creating Sankey data...\")\n",
    "        flow_data, station_names = create_sankey_data(df_cleaned, top_stations)\n",
    "        \n",
    "        # Create and save the visualization\n",
    "        print(\"Creating Sankey diagram...\")\n",
    "        html_path = os.path.join(charts_dir, 'bike_trips_sankey.html')\n",
    "        fig = create_sankey_diagram(flow_data, station_names, html_path)\n",
    "        \n",
    "        print(f\"Sankey diagram saved successfully at {html_path}!\")\n",
    "        \n",
    "        # Display the figure in notebook (if you're using Jupyter)\n",
    "        fig.show()\n",
    "        \n",
    "    except Exception as e:\n",
    "        print(f\"Error in main execution: {str(e)}\")\n",
    "        raise e\n",
    "\n",
    "if __name__ == \"__main__\":\n",
    "    main()"
   ]
  },
  {
   "cell_type": "code",
   "execution_count": null,
   "id": "25e90f47-167e-4324-81b5-b0b63bb3972b",
   "metadata": {},
   "outputs": [],
   "source": []
  },
  {
   "cell_type": "code",
   "execution_count": null,
   "id": "09564394-3b4c-4b68-b470-f23ea8df05b5",
   "metadata": {},
   "outputs": [],
   "source": []
  },
  {
   "cell_type": "code",
   "execution_count": null,
   "id": "4c1c468d-509f-42b3-81a2-71a62ada2eb4",
   "metadata": {},
   "outputs": [],
   "source": []
  },
  {
   "cell_type": "code",
   "execution_count": null,
   "id": "ac7cf648-6fa3-4752-b22a-85cd36aff03b",
   "metadata": {},
   "outputs": [],
   "source": []
  },
  {
   "cell_type": "code",
   "execution_count": null,
   "id": "65e9be85-6f20-4f37-865c-c25313f5a833",
   "metadata": {},
   "outputs": [],
   "source": []
  },
  {
   "cell_type": "code",
   "execution_count": null,
   "id": "a72ec675-5edd-47b0-9ca5-508139138e50",
   "metadata": {},
   "outputs": [],
   "source": []
  },
  {
   "cell_type": "code",
   "execution_count": null,
   "id": "45f0c837-516c-4002-93e5-9fee48a694ee",
   "metadata": {},
   "outputs": [],
   "source": []
  },
  {
   "cell_type": "code",
   "execution_count": null,
   "id": "6a5e6466-45f9-4fa0-975e-db704c6662e1",
   "metadata": {},
   "outputs": [],
   "source": []
  },
  {
   "cell_type": "code",
   "execution_count": null,
   "id": "7778adef-9f15-498b-a240-0e51867a7b5e",
   "metadata": {},
   "outputs": [],
   "source": []
  },
  {
   "cell_type": "code",
   "execution_count": null,
   "id": "9109e959-81e5-4e82-ad5e-b112ed8c096a",
   "metadata": {},
   "outputs": [],
   "source": []
  },
  {
   "cell_type": "code",
   "execution_count": null,
   "id": "cd166aa1-2af8-4ac2-a479-ee6af1cfa34e",
   "metadata": {},
   "outputs": [],
   "source": []
  },
  {
   "cell_type": "markdown",
   "id": "d6c0a6bb-b2d4-4fef-8fad-9763695f6823",
   "metadata": {},
   "source": [
    "\n",
    "#### Sankey diagram option 2"
   ]
  },
  {
   "cell_type": "code",
   "execution_count": 27,
   "id": "759703fd-96db-42d9-a189-43181921d59a",
   "metadata": {},
   "outputs": [
    {
     "name": "stdout",
     "output_type": "stream",
     "text": [
      "Cleaning data...\n"
     ]
    },
    {
     "name": "stderr",
     "output_type": "stream",
     "text": [
      "C:\\Users\\rajpprit\\AppData\\Local\\Temp\\ipykernel_24192\\1458288875.py:7: SettingWithCopyWarning:\n",
      "\n",
      "\n",
      "A value is trying to be set on a copy of a slice from a DataFrame.\n",
      "Try using .loc[row_indexer,col_indexer] = value instead\n",
      "\n",
      "See the caveats in the documentation: https://pandas.pydata.org/pandas-docs/stable/user_guide/indexing.html#returning-a-view-versus-a-copy\n",
      "\n",
      "C:\\Users\\rajpprit\\AppData\\Local\\Temp\\ipykernel_24192\\1458288875.py:8: SettingWithCopyWarning:\n",
      "\n",
      "\n",
      "A value is trying to be set on a copy of a slice from a DataFrame.\n",
      "Try using .loc[row_indexer,col_indexer] = value instead\n",
      "\n",
      "See the caveats in the documentation: https://pandas.pydata.org/pandas-docs/stable/user_guide/indexing.html#returning-a-view-versus-a-copy\n",
      "\n",
      "C:\\Users\\rajpprit\\AppData\\Local\\Temp\\ipykernel_24192\\1458288875.py:9: SettingWithCopyWarning:\n",
      "\n",
      "\n",
      "A value is trying to be set on a copy of a slice from a DataFrame.\n",
      "Try using .loc[row_indexer,col_indexer] = value instead\n",
      "\n",
      "See the caveats in the documentation: https://pandas.pydata.org/pandas-docs/stable/user_guide/indexing.html#returning-a-view-versus-a-copy\n",
      "\n",
      "C:\\Users\\rajpprit\\AppData\\Local\\Temp\\ipykernel_24192\\1458288875.py:10: SettingWithCopyWarning:\n",
      "\n",
      "\n",
      "A value is trying to be set on a copy of a slice from a DataFrame.\n",
      "Try using .loc[row_indexer,col_indexer] = value instead\n",
      "\n",
      "See the caveats in the documentation: https://pandas.pydata.org/pandas-docs/stable/user_guide/indexing.html#returning-a-view-versus-a-copy\n",
      "\n",
      "C:\\Users\\rajpprit\\AppData\\Local\\Temp\\ipykernel_24192\\1458288875.py:11: SettingWithCopyWarning:\n",
      "\n",
      "\n",
      "A value is trying to be set on a copy of a slice from a DataFrame.\n",
      "Try using .loc[row_indexer,col_indexer] = value instead\n",
      "\n",
      "See the caveats in the documentation: https://pandas.pydata.org/pandas-docs/stable/user_guide/indexing.html#returning-a-view-versus-a-copy\n",
      "\n",
      "C:\\Users\\rajpprit\\AppData\\Local\\Temp\\ipykernel_24192\\1458288875.py:12: SettingWithCopyWarning:\n",
      "\n",
      "\n",
      "A value is trying to be set on a copy of a slice from a DataFrame.\n",
      "Try using .loc[row_indexer,col_indexer] = value instead\n",
      "\n",
      "See the caveats in the documentation: https://pandas.pydata.org/pandas-docs/stable/user_guide/indexing.html#returning-a-view-versus-a-copy\n",
      "\n"
     ]
    },
    {
     "name": "stdout",
     "output_type": "stream",
     "text": [
      "Getting top stations...\n",
      "Creating Sankey data...\n",
      "Creating Sankey diagram...\n",
      "Sankey diagram saved successfully at site\\charts\\bike_trips_sankey.html!\n"
     ]
    },
    {
     "data": {
      "application/vnd.plotly.v1+json": {
       "config": {
        "plotlyServerURL": "https://plot.ly"
       },
       "data": [
        {
         "link": {
          "color": [
           "rgba(79, 193, 106, 0.3)",
           "rgba(71, 35, 115, 0.3)",
           "rgba(70, 18, 100, 0.3)",
           "rgba(69, 13, 95, 0.3)",
           "rgba(57, 85, 139, 0.3)",
           "rgba(70, 23, 104, 0.3)",
           "rgba(68, 1, 84, 0.3)",
           "rgba(68, 2, 84, 0.3)",
           "rgba(68, 1, 84, 0.3)",
           "rgba(68, 1, 84, 0.3)",
           "rgba(72, 38, 118, 0.3)",
           "rgba(253, 231, 37, 0.3)",
           "rgba(70, 47, 123, 0.3)",
           "rgba(67, 57, 129, 0.3)",
           "rgba(70, 45, 123, 0.3)",
           "rgba(69, 13, 95, 0.3)",
           "rgba(68, 1, 84, 0.3)",
           "rgba(68, 4, 86, 0.3)",
           "rgba(68, 3, 86, 0.3)",
           "rgba(69, 7, 89, 0.3)",
           "rgba(70, 22, 103, 0.3)",
           "rgba(70, 48, 124, 0.3)",
           "rgba(36, 138, 141, 0.3)",
           "rgba(62, 73, 137, 0.3)",
           "rgba(70, 46, 123, 0.3)",
           "rgba(69, 8, 90, 0.3)",
           "rgba(68, 1, 84, 0.3)",
           "rgba(68, 2, 85, 0.3)",
           "rgba(68, 2, 85, 0.3)",
           "rgba(68, 2, 85, 0.3)",
           "rgba(70, 17, 98, 0.3)",
           "rgba(66, 59, 130, 0.3)",
           "rgba(55, 89, 140, 0.3)",
           "rgba(203, 225, 41, 0.3)",
           "rgba(72, 41, 121, 0.3)",
           "rgba(69, 9, 91, 0.3)",
           "rgba(68, 1, 84, 0.3)",
           "rgba(68, 4, 86, 0.3)",
           "rgba(68, 3, 86, 0.3)",
           "rgba(68, 5, 87, 0.3)",
           "rgba(56, 87, 139, 0.3)",
           "rgba(72, 40, 120, 0.3)",
           "rgba(72, 38, 118, 0.3)",
           "rgba(71, 29, 110, 0.3)",
           "rgba(33, 149, 139, 0.3)",
           "rgba(70, 16, 98, 0.3)",
           "rgba(68, 1, 84, 0.3)",
           "rgba(68, 2, 85, 0.3)",
           "rgba(68, 2, 84, 0.3)",
           "rgba(68, 1, 84, 0.3)",
           "rgba(70, 22, 103, 0.3)",
           "rgba(69, 11, 93, 0.3)",
           "rgba(69, 6, 89, 0.3)",
           "rgba(69, 9, 91, 0.3)",
           "rgba(70, 16, 98, 0.3)",
           "rgba(46, 111, 142, 0.3)",
           "rgba(68, 2, 85, 0.3)",
           "rgba(70, 21, 102, 0.3)",
           "rgba(70, 22, 104, 0.3)",
           "rgba(68, 6, 88, 0.3)",
           "rgba(68, 1, 84, 0.3)",
           "rgba(68, 1, 84, 0.3)",
           "rgba(68, 1, 84, 0.3)",
           "rgba(68, 1, 84, 0.3)",
           "rgba(68, 1, 84, 0.3)",
           "rgba(68, 2, 85, 0.3)",
           "rgba(68, 54, 127, 0.3)",
           "rgba(68, 2, 85, 0.3)",
           "rgba(68, 2, 85, 0.3)",
           "rgba(68, 1, 84, 0.3)",
           "rgba(68, 1, 84, 0.3)",
           "rgba(68, 4, 87, 0.3)",
           "rgba(68, 2, 85, 0.3)",
           "rgba(68, 4, 87, 0.3)",
           "rgba(68, 1, 84, 0.3)",
           "rgba(70, 18, 99, 0.3)",
           "rgba(68, 2, 85, 0.3)",
           "rgba(60, 77, 138, 0.3)",
           "rgba(70, 20, 102, 0.3)",
           "rgba(69, 8, 90, 0.3)",
           "rgba(68, 2, 85, 0.3)",
           "rgba(68, 4, 87, 0.3)",
           "rgba(68, 2, 85, 0.3)",
           "rgba(68, 4, 87, 0.3)",
           "rgba(68, 2, 85, 0.3)",
           "rgba(70, 16, 98, 0.3)",
           "rgba(68, 1, 84, 0.3)",
           "rgba(69, 14, 96, 0.3)",
           "rgba(70, 20, 101, 0.3)",
           "rgba(69, 8, 90, 0.3)",
           "rgba(68, 1, 84, 0.3)",
           "rgba(68, 5, 88, 0.3)",
           "rgba(68, 2, 85, 0.3)",
           "rgba(68, 4, 86, 0.3)",
           "rgba(68, 1, 84, 0.3)",
           "rgba(68, 5, 88, 0.3)",
           "rgba(68, 1, 84, 0.3)",
           "rgba(69, 9, 91, 0.3)",
           "rgba(69, 9, 92, 0.3)",
           "rgba(70, 48, 124, 0.3)"
          ],
          "source": [
           7,
           7,
           7,
           7,
           7,
           7,
           7,
           7,
           7,
           7,
           0,
           0,
           0,
           0,
           0,
           0,
           0,
           0,
           0,
           0,
           4,
           4,
           4,
           4,
           4,
           4,
           4,
           4,
           4,
           4,
           2,
           2,
           2,
           2,
           2,
           2,
           2,
           2,
           2,
           2,
           6,
           6,
           6,
           6,
           6,
           6,
           6,
           6,
           6,
           6,
           1,
           1,
           1,
           1,
           1,
           1,
           1,
           1,
           1,
           1,
           9,
           9,
           9,
           9,
           9,
           9,
           9,
           9,
           9,
           9,
           3,
           3,
           3,
           3,
           3,
           3,
           3,
           3,
           3,
           3,
           5,
           5,
           5,
           5,
           5,
           5,
           5,
           5,
           5,
           5,
           8,
           8,
           8,
           8,
           8,
           8,
           8,
           8,
           8,
           8
          ],
          "target": [
           17,
           10,
           14,
           12,
           16,
           11,
           19,
           13,
           15,
           18,
           17,
           10,
           14,
           12,
           16,
           11,
           19,
           13,
           15,
           18,
           17,
           10,
           14,
           12,
           16,
           11,
           19,
           13,
           15,
           18,
           17,
           10,
           14,
           12,
           16,
           11,
           19,
           13,
           15,
           18,
           17,
           10,
           14,
           12,
           16,
           11,
           19,
           13,
           15,
           18,
           17,
           10,
           14,
           12,
           16,
           11,
           19,
           13,
           15,
           18,
           17,
           10,
           14,
           12,
           16,
           11,
           19,
           13,
           15,
           18,
           17,
           10,
           14,
           12,
           16,
           11,
           19,
           13,
           15,
           18,
           17,
           10,
           14,
           12,
           16,
           11,
           19,
           13,
           15,
           18,
           17,
           10,
           14,
           12,
           16,
           11,
           19,
           13,
           15,
           18
          ],
          "value": [
           24065,
           3231,
           1665,
           1168,
           8935,
           2072,
           5,
           55,
           20,
           35,
           3571,
           33585,
           4495,
           5694,
           4315,
           1139,
           19,
           257,
           217,
           552,
           1986,
           4621,
           16028,
           7479,
           4395,
           648,
           16,
           130,
           106,
           136,
           1506,
           5889,
           9383,
           30985,
           3900,
           751,
           14,
           252,
           175,
           348,
           9175,
           3742,
           3566,
           2668,
           17472,
           1415,
           4,
           71,
           52,
           38,
           2004,
           919,
           479,
           755,
           1428,
           12175,
           101,
           1895,
           2032,
           458,
           7,
           17,
           6,
           12,
           7,
           78,
           5320,
           60,
           56,
           32,
           45,
           270,
           87,
           265,
           47,
           1600,
           108,
           8006,
           1818,
           672,
           64,
           302,
           143,
           336,
           97,
           1426,
           37,
           1225,
           1783,
           639,
           18,
           418,
           69,
           247,
           39,
           382,
           23,
           722,
           791,
           4619
          ]
         },
         "node": {
          "color": [
           "#440154",
           "#482878",
           "#3e4989",
           "#31688e",
           "#26828e",
           "#1f9e89",
           "#35b779",
           "#6ece58",
           "#b5de2b",
           "#fde725",
           "#440154",
           "#482878",
           "#3e4989",
           "#31688e",
           "#26828e",
           "#1f9e89",
           "#35b779",
           "#6ece58",
           "#b5de2b",
           "#fde725"
          ],
          "label": [
           "Amsterdam Ave and W ",
           "Lexington Ave and E ",
           "Central Park West an",
           "University Pl and E ",
           "Central Park W and W",
           "W 21 St and 6 Ave",
           "Frederick Douglass B",
           "Adam Clayton Powell ",
           "West St and Chambers",
           "Metropolitan Ave and",
           "Amsterdam Ave and W ",
           "Lexington Ave and E ",
           "Central Park West an",
           "University Pl and E ",
           "Central Park W and W",
           "W 21 St and 6 Ave",
           "Frederick Douglass B",
           "Adam Clayton Powell ",
           "West St and Chambers",
           "Metropolitan Ave and"
          ],
          "line": {
           "color": "white",
           "width": 0.5
          },
          "pad": 15,
          "thickness": 20,
          "x": [
           0,
           0,
           0,
           0,
           0,
           0,
           0,
           0,
           0,
           0,
           1,
           1,
           1,
           1,
           1,
           1,
           1,
           1,
           1,
           1
          ],
          "y": [
           0,
           0.1111111111111111,
           0.2222222222222222,
           0.3333333333333333,
           0.4444444444444444,
           0.5555555555555556,
           0.6666666666666666,
           0.7777777777777777,
           0.8888888888888888,
           1,
           0,
           0.1111111111111111,
           0.2222222222222222,
           0.3333333333333333,
           0.4444444444444444,
           0.5555555555555556,
           0.6666666666666666,
           0.7777777777777777,
           0.8888888888888888,
           1
          ]
         },
         "type": "sankey"
        }
       ],
       "layout": {
        "font": {
         "color": "white",
         "size": 12
        },
        "height": 800,
        "margin": {
         "b": 50,
         "l": 50,
         "r": 50,
         "t": 50
        },
        "paper_bgcolor": "#1a1f35",
        "plot_bgcolor": "#1a1f35",
        "template": {
         "data": {
          "bar": [
           {
            "error_x": {
             "color": "#2a3f5f"
            },
            "error_y": {
             "color": "#2a3f5f"
            },
            "marker": {
             "line": {
              "color": "#E5ECF6",
              "width": 0.5
             },
             "pattern": {
              "fillmode": "overlay",
              "size": 10,
              "solidity": 0.2
             }
            },
            "type": "bar"
           }
          ],
          "barpolar": [
           {
            "marker": {
             "line": {
              "color": "#E5ECF6",
              "width": 0.5
             },
             "pattern": {
              "fillmode": "overlay",
              "size": 10,
              "solidity": 0.2
             }
            },
            "type": "barpolar"
           }
          ],
          "carpet": [
           {
            "aaxis": {
             "endlinecolor": "#2a3f5f",
             "gridcolor": "white",
             "linecolor": "white",
             "minorgridcolor": "white",
             "startlinecolor": "#2a3f5f"
            },
            "baxis": {
             "endlinecolor": "#2a3f5f",
             "gridcolor": "white",
             "linecolor": "white",
             "minorgridcolor": "white",
             "startlinecolor": "#2a3f5f"
            },
            "type": "carpet"
           }
          ],
          "choropleth": [
           {
            "colorbar": {
             "outlinewidth": 0,
             "ticks": ""
            },
            "type": "choropleth"
           }
          ],
          "contour": [
           {
            "colorbar": {
             "outlinewidth": 0,
             "ticks": ""
            },
            "colorscale": [
             [
              0,
              "#0d0887"
             ],
             [
              0.1111111111111111,
              "#46039f"
             ],
             [
              0.2222222222222222,
              "#7201a8"
             ],
             [
              0.3333333333333333,
              "#9c179e"
             ],
             [
              0.4444444444444444,
              "#bd3786"
             ],
             [
              0.5555555555555556,
              "#d8576b"
             ],
             [
              0.6666666666666666,
              "#ed7953"
             ],
             [
              0.7777777777777778,
              "#fb9f3a"
             ],
             [
              0.8888888888888888,
              "#fdca26"
             ],
             [
              1,
              "#f0f921"
             ]
            ],
            "type": "contour"
           }
          ],
          "contourcarpet": [
           {
            "colorbar": {
             "outlinewidth": 0,
             "ticks": ""
            },
            "type": "contourcarpet"
           }
          ],
          "heatmap": [
           {
            "colorbar": {
             "outlinewidth": 0,
             "ticks": ""
            },
            "colorscale": [
             [
              0,
              "#0d0887"
             ],
             [
              0.1111111111111111,
              "#46039f"
             ],
             [
              0.2222222222222222,
              "#7201a8"
             ],
             [
              0.3333333333333333,
              "#9c179e"
             ],
             [
              0.4444444444444444,
              "#bd3786"
             ],
             [
              0.5555555555555556,
              "#d8576b"
             ],
             [
              0.6666666666666666,
              "#ed7953"
             ],
             [
              0.7777777777777778,
              "#fb9f3a"
             ],
             [
              0.8888888888888888,
              "#fdca26"
             ],
             [
              1,
              "#f0f921"
             ]
            ],
            "type": "heatmap"
           }
          ],
          "heatmapgl": [
           {
            "colorbar": {
             "outlinewidth": 0,
             "ticks": ""
            },
            "colorscale": [
             [
              0,
              "#0d0887"
             ],
             [
              0.1111111111111111,
              "#46039f"
             ],
             [
              0.2222222222222222,
              "#7201a8"
             ],
             [
              0.3333333333333333,
              "#9c179e"
             ],
             [
              0.4444444444444444,
              "#bd3786"
             ],
             [
              0.5555555555555556,
              "#d8576b"
             ],
             [
              0.6666666666666666,
              "#ed7953"
             ],
             [
              0.7777777777777778,
              "#fb9f3a"
             ],
             [
              0.8888888888888888,
              "#fdca26"
             ],
             [
              1,
              "#f0f921"
             ]
            ],
            "type": "heatmapgl"
           }
          ],
          "histogram": [
           {
            "marker": {
             "pattern": {
              "fillmode": "overlay",
              "size": 10,
              "solidity": 0.2
             }
            },
            "type": "histogram"
           }
          ],
          "histogram2d": [
           {
            "colorbar": {
             "outlinewidth": 0,
             "ticks": ""
            },
            "colorscale": [
             [
              0,
              "#0d0887"
             ],
             [
              0.1111111111111111,
              "#46039f"
             ],
             [
              0.2222222222222222,
              "#7201a8"
             ],
             [
              0.3333333333333333,
              "#9c179e"
             ],
             [
              0.4444444444444444,
              "#bd3786"
             ],
             [
              0.5555555555555556,
              "#d8576b"
             ],
             [
              0.6666666666666666,
              "#ed7953"
             ],
             [
              0.7777777777777778,
              "#fb9f3a"
             ],
             [
              0.8888888888888888,
              "#fdca26"
             ],
             [
              1,
              "#f0f921"
             ]
            ],
            "type": "histogram2d"
           }
          ],
          "histogram2dcontour": [
           {
            "colorbar": {
             "outlinewidth": 0,
             "ticks": ""
            },
            "colorscale": [
             [
              0,
              "#0d0887"
             ],
             [
              0.1111111111111111,
              "#46039f"
             ],
             [
              0.2222222222222222,
              "#7201a8"
             ],
             [
              0.3333333333333333,
              "#9c179e"
             ],
             [
              0.4444444444444444,
              "#bd3786"
             ],
             [
              0.5555555555555556,
              "#d8576b"
             ],
             [
              0.6666666666666666,
              "#ed7953"
             ],
             [
              0.7777777777777778,
              "#fb9f3a"
             ],
             [
              0.8888888888888888,
              "#fdca26"
             ],
             [
              1,
              "#f0f921"
             ]
            ],
            "type": "histogram2dcontour"
           }
          ],
          "mesh3d": [
           {
            "colorbar": {
             "outlinewidth": 0,
             "ticks": ""
            },
            "type": "mesh3d"
           }
          ],
          "parcoords": [
           {
            "line": {
             "colorbar": {
              "outlinewidth": 0,
              "ticks": ""
             }
            },
            "type": "parcoords"
           }
          ],
          "pie": [
           {
            "automargin": true,
            "type": "pie"
           }
          ],
          "scatter": [
           {
            "fillpattern": {
             "fillmode": "overlay",
             "size": 10,
             "solidity": 0.2
            },
            "type": "scatter"
           }
          ],
          "scatter3d": [
           {
            "line": {
             "colorbar": {
              "outlinewidth": 0,
              "ticks": ""
             }
            },
            "marker": {
             "colorbar": {
              "outlinewidth": 0,
              "ticks": ""
             }
            },
            "type": "scatter3d"
           }
          ],
          "scattercarpet": [
           {
            "marker": {
             "colorbar": {
              "outlinewidth": 0,
              "ticks": ""
             }
            },
            "type": "scattercarpet"
           }
          ],
          "scattergeo": [
           {
            "marker": {
             "colorbar": {
              "outlinewidth": 0,
              "ticks": ""
             }
            },
            "type": "scattergeo"
           }
          ],
          "scattergl": [
           {
            "marker": {
             "colorbar": {
              "outlinewidth": 0,
              "ticks": ""
             }
            },
            "type": "scattergl"
           }
          ],
          "scattermapbox": [
           {
            "marker": {
             "colorbar": {
              "outlinewidth": 0,
              "ticks": ""
             }
            },
            "type": "scattermapbox"
           }
          ],
          "scatterpolar": [
           {
            "marker": {
             "colorbar": {
              "outlinewidth": 0,
              "ticks": ""
             }
            },
            "type": "scatterpolar"
           }
          ],
          "scatterpolargl": [
           {
            "marker": {
             "colorbar": {
              "outlinewidth": 0,
              "ticks": ""
             }
            },
            "type": "scatterpolargl"
           }
          ],
          "scatterternary": [
           {
            "marker": {
             "colorbar": {
              "outlinewidth": 0,
              "ticks": ""
             }
            },
            "type": "scatterternary"
           }
          ],
          "surface": [
           {
            "colorbar": {
             "outlinewidth": 0,
             "ticks": ""
            },
            "colorscale": [
             [
              0,
              "#0d0887"
             ],
             [
              0.1111111111111111,
              "#46039f"
             ],
             [
              0.2222222222222222,
              "#7201a8"
             ],
             [
              0.3333333333333333,
              "#9c179e"
             ],
             [
              0.4444444444444444,
              "#bd3786"
             ],
             [
              0.5555555555555556,
              "#d8576b"
             ],
             [
              0.6666666666666666,
              "#ed7953"
             ],
             [
              0.7777777777777778,
              "#fb9f3a"
             ],
             [
              0.8888888888888888,
              "#fdca26"
             ],
             [
              1,
              "#f0f921"
             ]
            ],
            "type": "surface"
           }
          ],
          "table": [
           {
            "cells": {
             "fill": {
              "color": "#EBF0F8"
             },
             "line": {
              "color": "white"
             }
            },
            "header": {
             "fill": {
              "color": "#C8D4E3"
             },
             "line": {
              "color": "white"
             }
            },
            "type": "table"
           }
          ]
         },
         "layout": {
          "annotationdefaults": {
           "arrowcolor": "#2a3f5f",
           "arrowhead": 0,
           "arrowwidth": 1
          },
          "autotypenumbers": "strict",
          "coloraxis": {
           "colorbar": {
            "outlinewidth": 0,
            "ticks": ""
           }
          },
          "colorscale": {
           "diverging": [
            [
             0,
             "#8e0152"
            ],
            [
             0.1,
             "#c51b7d"
            ],
            [
             0.2,
             "#de77ae"
            ],
            [
             0.3,
             "#f1b6da"
            ],
            [
             0.4,
             "#fde0ef"
            ],
            [
             0.5,
             "#f7f7f7"
            ],
            [
             0.6,
             "#e6f5d0"
            ],
            [
             0.7,
             "#b8e186"
            ],
            [
             0.8,
             "#7fbc41"
            ],
            [
             0.9,
             "#4d9221"
            ],
            [
             1,
             "#276419"
            ]
           ],
           "sequential": [
            [
             0,
             "#0d0887"
            ],
            [
             0.1111111111111111,
             "#46039f"
            ],
            [
             0.2222222222222222,
             "#7201a8"
            ],
            [
             0.3333333333333333,
             "#9c179e"
            ],
            [
             0.4444444444444444,
             "#bd3786"
            ],
            [
             0.5555555555555556,
             "#d8576b"
            ],
            [
             0.6666666666666666,
             "#ed7953"
            ],
            [
             0.7777777777777778,
             "#fb9f3a"
            ],
            [
             0.8888888888888888,
             "#fdca26"
            ],
            [
             1,
             "#f0f921"
            ]
           ],
           "sequentialminus": [
            [
             0,
             "#0d0887"
            ],
            [
             0.1111111111111111,
             "#46039f"
            ],
            [
             0.2222222222222222,
             "#7201a8"
            ],
            [
             0.3333333333333333,
             "#9c179e"
            ],
            [
             0.4444444444444444,
             "#bd3786"
            ],
            [
             0.5555555555555556,
             "#d8576b"
            ],
            [
             0.6666666666666666,
             "#ed7953"
            ],
            [
             0.7777777777777778,
             "#fb9f3a"
            ],
            [
             0.8888888888888888,
             "#fdca26"
            ],
            [
             1,
             "#f0f921"
            ]
           ]
          },
          "colorway": [
           "#636efa",
           "#EF553B",
           "#00cc96",
           "#ab63fa",
           "#FFA15A",
           "#19d3f3",
           "#FF6692",
           "#B6E880",
           "#FF97FF",
           "#FECB52"
          ],
          "font": {
           "color": "#2a3f5f"
          },
          "geo": {
           "bgcolor": "white",
           "lakecolor": "white",
           "landcolor": "#E5ECF6",
           "showlakes": true,
           "showland": true,
           "subunitcolor": "white"
          },
          "hoverlabel": {
           "align": "left"
          },
          "hovermode": "closest",
          "mapbox": {
           "style": "light"
          },
          "paper_bgcolor": "white",
          "plot_bgcolor": "#E5ECF6",
          "polar": {
           "angularaxis": {
            "gridcolor": "white",
            "linecolor": "white",
            "ticks": ""
           },
           "bgcolor": "#E5ECF6",
           "radialaxis": {
            "gridcolor": "white",
            "linecolor": "white",
            "ticks": ""
           }
          },
          "scene": {
           "xaxis": {
            "backgroundcolor": "#E5ECF6",
            "gridcolor": "white",
            "gridwidth": 2,
            "linecolor": "white",
            "showbackground": true,
            "ticks": "",
            "zerolinecolor": "white"
           },
           "yaxis": {
            "backgroundcolor": "#E5ECF6",
            "gridcolor": "white",
            "gridwidth": 2,
            "linecolor": "white",
            "showbackground": true,
            "ticks": "",
            "zerolinecolor": "white"
           },
           "zaxis": {
            "backgroundcolor": "#E5ECF6",
            "gridcolor": "white",
            "gridwidth": 2,
            "linecolor": "white",
            "showbackground": true,
            "ticks": "",
            "zerolinecolor": "white"
           }
          },
          "shapedefaults": {
           "line": {
            "color": "#2a3f5f"
           }
          },
          "ternary": {
           "aaxis": {
            "gridcolor": "white",
            "linecolor": "white",
            "ticks": ""
           },
           "baxis": {
            "gridcolor": "white",
            "linecolor": "white",
            "ticks": ""
           },
           "bgcolor": "#E5ECF6",
           "caxis": {
            "gridcolor": "white",
            "linecolor": "white",
            "ticks": ""
           }
          },
          "title": {
           "x": 0.05
          },
          "xaxis": {
           "automargin": true,
           "gridcolor": "white",
           "linecolor": "white",
           "ticks": "",
           "title": {
            "standoff": 15
           },
           "zerolinecolor": "white",
           "zerolinewidth": 2
          },
          "yaxis": {
           "automargin": true,
           "gridcolor": "white",
           "linecolor": "white",
           "ticks": "",
           "title": {
            "standoff": 15
           },
           "zerolinecolor": "white",
           "zerolinewidth": 2
          }
         }
        },
        "title": {
         "font": {
          "color": "white",
          "size": 20
         },
         "text": "Bike Share Trips Between Top Stations",
         "x": 0.5,
         "xanchor": "center",
         "y": 0.98,
         "yanchor": "top"
        },
        "width": 1200
       }
      },
      "text/html": [
       "<div>                            <div id=\"1b5325f7-af89-4165-aef8-0879be590fa2\" class=\"plotly-graph-div\" style=\"height:800px; width:1200px;\"></div>            <script type=\"text/javascript\">                require([\"plotly\"], function(Plotly) {                    window.PLOTLYENV=window.PLOTLYENV || {};                                    if (document.getElementById(\"1b5325f7-af89-4165-aef8-0879be590fa2\")) {                    Plotly.newPlot(                        \"1b5325f7-af89-4165-aef8-0879be590fa2\",                        [{\"link\":{\"color\":[\"rgba(79, 193, 106, 0.3)\",\"rgba(71, 35, 115, 0.3)\",\"rgba(70, 18, 100, 0.3)\",\"rgba(69, 13, 95, 0.3)\",\"rgba(57, 85, 139, 0.3)\",\"rgba(70, 23, 104, 0.3)\",\"rgba(68, 1, 84, 0.3)\",\"rgba(68, 2, 84, 0.3)\",\"rgba(68, 1, 84, 0.3)\",\"rgba(68, 1, 84, 0.3)\",\"rgba(72, 38, 118, 0.3)\",\"rgba(253, 231, 37, 0.3)\",\"rgba(70, 47, 123, 0.3)\",\"rgba(67, 57, 129, 0.3)\",\"rgba(70, 45, 123, 0.3)\",\"rgba(69, 13, 95, 0.3)\",\"rgba(68, 1, 84, 0.3)\",\"rgba(68, 4, 86, 0.3)\",\"rgba(68, 3, 86, 0.3)\",\"rgba(69, 7, 89, 0.3)\",\"rgba(70, 22, 103, 0.3)\",\"rgba(70, 48, 124, 0.3)\",\"rgba(36, 138, 141, 0.3)\",\"rgba(62, 73, 137, 0.3)\",\"rgba(70, 46, 123, 0.3)\",\"rgba(69, 8, 90, 0.3)\",\"rgba(68, 1, 84, 0.3)\",\"rgba(68, 2, 85, 0.3)\",\"rgba(68, 2, 85, 0.3)\",\"rgba(68, 2, 85, 0.3)\",\"rgba(70, 17, 98, 0.3)\",\"rgba(66, 59, 130, 0.3)\",\"rgba(55, 89, 140, 0.3)\",\"rgba(203, 225, 41, 0.3)\",\"rgba(72, 41, 121, 0.3)\",\"rgba(69, 9, 91, 0.3)\",\"rgba(68, 1, 84, 0.3)\",\"rgba(68, 4, 86, 0.3)\",\"rgba(68, 3, 86, 0.3)\",\"rgba(68, 5, 87, 0.3)\",\"rgba(56, 87, 139, 0.3)\",\"rgba(72, 40, 120, 0.3)\",\"rgba(72, 38, 118, 0.3)\",\"rgba(71, 29, 110, 0.3)\",\"rgba(33, 149, 139, 0.3)\",\"rgba(70, 16, 98, 0.3)\",\"rgba(68, 1, 84, 0.3)\",\"rgba(68, 2, 85, 0.3)\",\"rgba(68, 2, 84, 0.3)\",\"rgba(68, 1, 84, 0.3)\",\"rgba(70, 22, 103, 0.3)\",\"rgba(69, 11, 93, 0.3)\",\"rgba(69, 6, 89, 0.3)\",\"rgba(69, 9, 91, 0.3)\",\"rgba(70, 16, 98, 0.3)\",\"rgba(46, 111, 142, 0.3)\",\"rgba(68, 2, 85, 0.3)\",\"rgba(70, 21, 102, 0.3)\",\"rgba(70, 22, 104, 0.3)\",\"rgba(68, 6, 88, 0.3)\",\"rgba(68, 1, 84, 0.3)\",\"rgba(68, 1, 84, 0.3)\",\"rgba(68, 1, 84, 0.3)\",\"rgba(68, 1, 84, 0.3)\",\"rgba(68, 1, 84, 0.3)\",\"rgba(68, 2, 85, 0.3)\",\"rgba(68, 54, 127, 0.3)\",\"rgba(68, 2, 85, 0.3)\",\"rgba(68, 2, 85, 0.3)\",\"rgba(68, 1, 84, 0.3)\",\"rgba(68, 1, 84, 0.3)\",\"rgba(68, 4, 87, 0.3)\",\"rgba(68, 2, 85, 0.3)\",\"rgba(68, 4, 87, 0.3)\",\"rgba(68, 1, 84, 0.3)\",\"rgba(70, 18, 99, 0.3)\",\"rgba(68, 2, 85, 0.3)\",\"rgba(60, 77, 138, 0.3)\",\"rgba(70, 20, 102, 0.3)\",\"rgba(69, 8, 90, 0.3)\",\"rgba(68, 2, 85, 0.3)\",\"rgba(68, 4, 87, 0.3)\",\"rgba(68, 2, 85, 0.3)\",\"rgba(68, 4, 87, 0.3)\",\"rgba(68, 2, 85, 0.3)\",\"rgba(70, 16, 98, 0.3)\",\"rgba(68, 1, 84, 0.3)\",\"rgba(69, 14, 96, 0.3)\",\"rgba(70, 20, 101, 0.3)\",\"rgba(69, 8, 90, 0.3)\",\"rgba(68, 1, 84, 0.3)\",\"rgba(68, 5, 88, 0.3)\",\"rgba(68, 2, 85, 0.3)\",\"rgba(68, 4, 86, 0.3)\",\"rgba(68, 1, 84, 0.3)\",\"rgba(68, 5, 88, 0.3)\",\"rgba(68, 1, 84, 0.3)\",\"rgba(69, 9, 91, 0.3)\",\"rgba(69, 9, 92, 0.3)\",\"rgba(70, 48, 124, 0.3)\"],\"source\":[7,7,7,7,7,7,7,7,7,7,0,0,0,0,0,0,0,0,0,0,4,4,4,4,4,4,4,4,4,4,2,2,2,2,2,2,2,2,2,2,6,6,6,6,6,6,6,6,6,6,1,1,1,1,1,1,1,1,1,1,9,9,9,9,9,9,9,9,9,9,3,3,3,3,3,3,3,3,3,3,5,5,5,5,5,5,5,5,5,5,8,8,8,8,8,8,8,8,8,8],\"target\":[17,10,14,12,16,11,19,13,15,18,17,10,14,12,16,11,19,13,15,18,17,10,14,12,16,11,19,13,15,18,17,10,14,12,16,11,19,13,15,18,17,10,14,12,16,11,19,13,15,18,17,10,14,12,16,11,19,13,15,18,17,10,14,12,16,11,19,13,15,18,17,10,14,12,16,11,19,13,15,18,17,10,14,12,16,11,19,13,15,18,17,10,14,12,16,11,19,13,15,18],\"value\":[24065,3231,1665,1168,8935,2072,5,55,20,35,3571,33585,4495,5694,4315,1139,19,257,217,552,1986,4621,16028,7479,4395,648,16,130,106,136,1506,5889,9383,30985,3900,751,14,252,175,348,9175,3742,3566,2668,17472,1415,4,71,52,38,2004,919,479,755,1428,12175,101,1895,2032,458,7,17,6,12,7,78,5320,60,56,32,45,270,87,265,47,1600,108,8006,1818,672,64,302,143,336,97,1426,37,1225,1783,639,18,418,69,247,39,382,23,722,791,4619]},\"node\":{\"color\":[\"#440154\",\"#482878\",\"#3e4989\",\"#31688e\",\"#26828e\",\"#1f9e89\",\"#35b779\",\"#6ece58\",\"#b5de2b\",\"#fde725\",\"#440154\",\"#482878\",\"#3e4989\",\"#31688e\",\"#26828e\",\"#1f9e89\",\"#35b779\",\"#6ece58\",\"#b5de2b\",\"#fde725\"],\"label\":[\"Amsterdam Ave and W \",\"Lexington Ave and E \",\"Central Park West an\",\"University Pl and E \",\"Central Park W and W\",\"W 21 St and 6 Ave\",\"Frederick Douglass B\",\"Adam Clayton Powell \",\"West St and Chambers\",\"Metropolitan Ave and\",\"Amsterdam Ave and W \",\"Lexington Ave and E \",\"Central Park West an\",\"University Pl and E \",\"Central Park W and W\",\"W 21 St and 6 Ave\",\"Frederick Douglass B\",\"Adam Clayton Powell \",\"West St and Chambers\",\"Metropolitan Ave and\"],\"line\":{\"color\":\"white\",\"width\":0.5},\"pad\":15,\"thickness\":20,\"x\":[0,0,0,0,0,0,0,0,0,0,1,1,1,1,1,1,1,1,1,1],\"y\":[0.0,0.1111111111111111,0.2222222222222222,0.3333333333333333,0.4444444444444444,0.5555555555555556,0.6666666666666666,0.7777777777777777,0.8888888888888888,1.0,0.0,0.1111111111111111,0.2222222222222222,0.3333333333333333,0.4444444444444444,0.5555555555555556,0.6666666666666666,0.7777777777777777,0.8888888888888888,1.0]},\"type\":\"sankey\"}],                        {\"template\":{\"data\":{\"histogram2dcontour\":[{\"type\":\"histogram2dcontour\",\"colorbar\":{\"outlinewidth\":0,\"ticks\":\"\"},\"colorscale\":[[0.0,\"#0d0887\"],[0.1111111111111111,\"#46039f\"],[0.2222222222222222,\"#7201a8\"],[0.3333333333333333,\"#9c179e\"],[0.4444444444444444,\"#bd3786\"],[0.5555555555555556,\"#d8576b\"],[0.6666666666666666,\"#ed7953\"],[0.7777777777777778,\"#fb9f3a\"],[0.8888888888888888,\"#fdca26\"],[1.0,\"#f0f921\"]]}],\"choropleth\":[{\"type\":\"choropleth\",\"colorbar\":{\"outlinewidth\":0,\"ticks\":\"\"}}],\"histogram2d\":[{\"type\":\"histogram2d\",\"colorbar\":{\"outlinewidth\":0,\"ticks\":\"\"},\"colorscale\":[[0.0,\"#0d0887\"],[0.1111111111111111,\"#46039f\"],[0.2222222222222222,\"#7201a8\"],[0.3333333333333333,\"#9c179e\"],[0.4444444444444444,\"#bd3786\"],[0.5555555555555556,\"#d8576b\"],[0.6666666666666666,\"#ed7953\"],[0.7777777777777778,\"#fb9f3a\"],[0.8888888888888888,\"#fdca26\"],[1.0,\"#f0f921\"]]}],\"heatmap\":[{\"type\":\"heatmap\",\"colorbar\":{\"outlinewidth\":0,\"ticks\":\"\"},\"colorscale\":[[0.0,\"#0d0887\"],[0.1111111111111111,\"#46039f\"],[0.2222222222222222,\"#7201a8\"],[0.3333333333333333,\"#9c179e\"],[0.4444444444444444,\"#bd3786\"],[0.5555555555555556,\"#d8576b\"],[0.6666666666666666,\"#ed7953\"],[0.7777777777777778,\"#fb9f3a\"],[0.8888888888888888,\"#fdca26\"],[1.0,\"#f0f921\"]]}],\"heatmapgl\":[{\"type\":\"heatmapgl\",\"colorbar\":{\"outlinewidth\":0,\"ticks\":\"\"},\"colorscale\":[[0.0,\"#0d0887\"],[0.1111111111111111,\"#46039f\"],[0.2222222222222222,\"#7201a8\"],[0.3333333333333333,\"#9c179e\"],[0.4444444444444444,\"#bd3786\"],[0.5555555555555556,\"#d8576b\"],[0.6666666666666666,\"#ed7953\"],[0.7777777777777778,\"#fb9f3a\"],[0.8888888888888888,\"#fdca26\"],[1.0,\"#f0f921\"]]}],\"contourcarpet\":[{\"type\":\"contourcarpet\",\"colorbar\":{\"outlinewidth\":0,\"ticks\":\"\"}}],\"contour\":[{\"type\":\"contour\",\"colorbar\":{\"outlinewidth\":0,\"ticks\":\"\"},\"colorscale\":[[0.0,\"#0d0887\"],[0.1111111111111111,\"#46039f\"],[0.2222222222222222,\"#7201a8\"],[0.3333333333333333,\"#9c179e\"],[0.4444444444444444,\"#bd3786\"],[0.5555555555555556,\"#d8576b\"],[0.6666666666666666,\"#ed7953\"],[0.7777777777777778,\"#fb9f3a\"],[0.8888888888888888,\"#fdca26\"],[1.0,\"#f0f921\"]]}],\"surface\":[{\"type\":\"surface\",\"colorbar\":{\"outlinewidth\":0,\"ticks\":\"\"},\"colorscale\":[[0.0,\"#0d0887\"],[0.1111111111111111,\"#46039f\"],[0.2222222222222222,\"#7201a8\"],[0.3333333333333333,\"#9c179e\"],[0.4444444444444444,\"#bd3786\"],[0.5555555555555556,\"#d8576b\"],[0.6666666666666666,\"#ed7953\"],[0.7777777777777778,\"#fb9f3a\"],[0.8888888888888888,\"#fdca26\"],[1.0,\"#f0f921\"]]}],\"mesh3d\":[{\"type\":\"mesh3d\",\"colorbar\":{\"outlinewidth\":0,\"ticks\":\"\"}}],\"scatter\":[{\"fillpattern\":{\"fillmode\":\"overlay\",\"size\":10,\"solidity\":0.2},\"type\":\"scatter\"}],\"parcoords\":[{\"type\":\"parcoords\",\"line\":{\"colorbar\":{\"outlinewidth\":0,\"ticks\":\"\"}}}],\"scatterpolargl\":[{\"type\":\"scatterpolargl\",\"marker\":{\"colorbar\":{\"outlinewidth\":0,\"ticks\":\"\"}}}],\"bar\":[{\"error_x\":{\"color\":\"#2a3f5f\"},\"error_y\":{\"color\":\"#2a3f5f\"},\"marker\":{\"line\":{\"color\":\"#E5ECF6\",\"width\":0.5},\"pattern\":{\"fillmode\":\"overlay\",\"size\":10,\"solidity\":0.2}},\"type\":\"bar\"}],\"scattergeo\":[{\"type\":\"scattergeo\",\"marker\":{\"colorbar\":{\"outlinewidth\":0,\"ticks\":\"\"}}}],\"scatterpolar\":[{\"type\":\"scatterpolar\",\"marker\":{\"colorbar\":{\"outlinewidth\":0,\"ticks\":\"\"}}}],\"histogram\":[{\"marker\":{\"pattern\":{\"fillmode\":\"overlay\",\"size\":10,\"solidity\":0.2}},\"type\":\"histogram\"}],\"scattergl\":[{\"type\":\"scattergl\",\"marker\":{\"colorbar\":{\"outlinewidth\":0,\"ticks\":\"\"}}}],\"scatter3d\":[{\"type\":\"scatter3d\",\"line\":{\"colorbar\":{\"outlinewidth\":0,\"ticks\":\"\"}},\"marker\":{\"colorbar\":{\"outlinewidth\":0,\"ticks\":\"\"}}}],\"scattermapbox\":[{\"type\":\"scattermapbox\",\"marker\":{\"colorbar\":{\"outlinewidth\":0,\"ticks\":\"\"}}}],\"scatterternary\":[{\"type\":\"scatterternary\",\"marker\":{\"colorbar\":{\"outlinewidth\":0,\"ticks\":\"\"}}}],\"scattercarpet\":[{\"type\":\"scattercarpet\",\"marker\":{\"colorbar\":{\"outlinewidth\":0,\"ticks\":\"\"}}}],\"carpet\":[{\"aaxis\":{\"endlinecolor\":\"#2a3f5f\",\"gridcolor\":\"white\",\"linecolor\":\"white\",\"minorgridcolor\":\"white\",\"startlinecolor\":\"#2a3f5f\"},\"baxis\":{\"endlinecolor\":\"#2a3f5f\",\"gridcolor\":\"white\",\"linecolor\":\"white\",\"minorgridcolor\":\"white\",\"startlinecolor\":\"#2a3f5f\"},\"type\":\"carpet\"}],\"table\":[{\"cells\":{\"fill\":{\"color\":\"#EBF0F8\"},\"line\":{\"color\":\"white\"}},\"header\":{\"fill\":{\"color\":\"#C8D4E3\"},\"line\":{\"color\":\"white\"}},\"type\":\"table\"}],\"barpolar\":[{\"marker\":{\"line\":{\"color\":\"#E5ECF6\",\"width\":0.5},\"pattern\":{\"fillmode\":\"overlay\",\"size\":10,\"solidity\":0.2}},\"type\":\"barpolar\"}],\"pie\":[{\"automargin\":true,\"type\":\"pie\"}]},\"layout\":{\"autotypenumbers\":\"strict\",\"colorway\":[\"#636efa\",\"#EF553B\",\"#00cc96\",\"#ab63fa\",\"#FFA15A\",\"#19d3f3\",\"#FF6692\",\"#B6E880\",\"#FF97FF\",\"#FECB52\"],\"font\":{\"color\":\"#2a3f5f\"},\"hovermode\":\"closest\",\"hoverlabel\":{\"align\":\"left\"},\"paper_bgcolor\":\"white\",\"plot_bgcolor\":\"#E5ECF6\",\"polar\":{\"bgcolor\":\"#E5ECF6\",\"angularaxis\":{\"gridcolor\":\"white\",\"linecolor\":\"white\",\"ticks\":\"\"},\"radialaxis\":{\"gridcolor\":\"white\",\"linecolor\":\"white\",\"ticks\":\"\"}},\"ternary\":{\"bgcolor\":\"#E5ECF6\",\"aaxis\":{\"gridcolor\":\"white\",\"linecolor\":\"white\",\"ticks\":\"\"},\"baxis\":{\"gridcolor\":\"white\",\"linecolor\":\"white\",\"ticks\":\"\"},\"caxis\":{\"gridcolor\":\"white\",\"linecolor\":\"white\",\"ticks\":\"\"}},\"coloraxis\":{\"colorbar\":{\"outlinewidth\":0,\"ticks\":\"\"}},\"colorscale\":{\"sequential\":[[0.0,\"#0d0887\"],[0.1111111111111111,\"#46039f\"],[0.2222222222222222,\"#7201a8\"],[0.3333333333333333,\"#9c179e\"],[0.4444444444444444,\"#bd3786\"],[0.5555555555555556,\"#d8576b\"],[0.6666666666666666,\"#ed7953\"],[0.7777777777777778,\"#fb9f3a\"],[0.8888888888888888,\"#fdca26\"],[1.0,\"#f0f921\"]],\"sequentialminus\":[[0.0,\"#0d0887\"],[0.1111111111111111,\"#46039f\"],[0.2222222222222222,\"#7201a8\"],[0.3333333333333333,\"#9c179e\"],[0.4444444444444444,\"#bd3786\"],[0.5555555555555556,\"#d8576b\"],[0.6666666666666666,\"#ed7953\"],[0.7777777777777778,\"#fb9f3a\"],[0.8888888888888888,\"#fdca26\"],[1.0,\"#f0f921\"]],\"diverging\":[[0,\"#8e0152\"],[0.1,\"#c51b7d\"],[0.2,\"#de77ae\"],[0.3,\"#f1b6da\"],[0.4,\"#fde0ef\"],[0.5,\"#f7f7f7\"],[0.6,\"#e6f5d0\"],[0.7,\"#b8e186\"],[0.8,\"#7fbc41\"],[0.9,\"#4d9221\"],[1,\"#276419\"]]},\"xaxis\":{\"gridcolor\":\"white\",\"linecolor\":\"white\",\"ticks\":\"\",\"title\":{\"standoff\":15},\"zerolinecolor\":\"white\",\"automargin\":true,\"zerolinewidth\":2},\"yaxis\":{\"gridcolor\":\"white\",\"linecolor\":\"white\",\"ticks\":\"\",\"title\":{\"standoff\":15},\"zerolinecolor\":\"white\",\"automargin\":true,\"zerolinewidth\":2},\"scene\":{\"xaxis\":{\"backgroundcolor\":\"#E5ECF6\",\"gridcolor\":\"white\",\"linecolor\":\"white\",\"showbackground\":true,\"ticks\":\"\",\"zerolinecolor\":\"white\",\"gridwidth\":2},\"yaxis\":{\"backgroundcolor\":\"#E5ECF6\",\"gridcolor\":\"white\",\"linecolor\":\"white\",\"showbackground\":true,\"ticks\":\"\",\"zerolinecolor\":\"white\",\"gridwidth\":2},\"zaxis\":{\"backgroundcolor\":\"#E5ECF6\",\"gridcolor\":\"white\",\"linecolor\":\"white\",\"showbackground\":true,\"ticks\":\"\",\"zerolinecolor\":\"white\",\"gridwidth\":2}},\"shapedefaults\":{\"line\":{\"color\":\"#2a3f5f\"}},\"annotationdefaults\":{\"arrowcolor\":\"#2a3f5f\",\"arrowhead\":0,\"arrowwidth\":1},\"geo\":{\"bgcolor\":\"white\",\"landcolor\":\"#E5ECF6\",\"subunitcolor\":\"white\",\"showland\":true,\"showlakes\":true,\"lakecolor\":\"white\"},\"title\":{\"x\":0.05},\"mapbox\":{\"style\":\"light\"}}},\"title\":{\"font\":{\"color\":\"white\",\"size\":20},\"text\":\"Bike Share Trips Between Top Stations\",\"y\":0.98,\"x\":0.5,\"xanchor\":\"center\",\"yanchor\":\"top\"},\"font\":{\"color\":\"white\",\"size\":12},\"margin\":{\"t\":50,\"l\":50,\"r\":50,\"b\":50},\"height\":800,\"width\":1200,\"paper_bgcolor\":\"#1a1f35\",\"plot_bgcolor\":\"#1a1f35\"},                        {\"responsive\": true}                    ).then(function(){\n",
       "                            \n",
       "var gd = document.getElementById('1b5325f7-af89-4165-aef8-0879be590fa2');\n",
       "var x = new MutationObserver(function (mutations, observer) {{\n",
       "        var display = window.getComputedStyle(gd).display;\n",
       "        if (!display || display === 'none') {{\n",
       "            console.log([gd, 'removed!']);\n",
       "            Plotly.purge(gd);\n",
       "            observer.disconnect();\n",
       "        }}\n",
       "}});\n",
       "\n",
       "// Listen for the removal of the full notebook cells\n",
       "var notebookContainer = gd.closest('#notebook-container');\n",
       "if (notebookContainer) {{\n",
       "    x.observe(notebookContainer, {childList: true});\n",
       "}}\n",
       "\n",
       "// Listen for the clearing of the current output cell\n",
       "var outputEl = gd.closest('.output');\n",
       "if (outputEl) {{\n",
       "    x.observe(outputEl, {childList: true});\n",
       "}}\n",
       "\n",
       "                        })                };                });            </script>        </div>"
      ]
     },
     "metadata": {},
     "output_type": "display_data"
    }
   ],
   "source": [
    "import pandas as pd\n",
    "import numpy as np\n",
    "import plotly.graph_objects as go\n",
    "import plotly.express as px\n",
    "import os\n",
    "\n",
    "# [Previous helper functions remain the same until create_sankey_diagram]\n",
    "\n",
    "def create_sankey_diagram(flow_data, station_names, output_path):\n",
    "    n_stations = len(station_names)\n",
    "    \n",
    "    # Create node labels (left and right sides)\n",
    "    node_labels = station_names + station_names\n",
    "    \n",
    "    # Create node x-coordinates (0 for left side, 1 for right side)\n",
    "    node_x = [0]*n_stations + [1]*n_stations\n",
    "    \n",
    "    # Create color scale using Viridis\n",
    "    viridis_colors = px.colors.sequential.Viridis\n",
    "    # Get colors evenly spaced across the Viridis colorscale\n",
    "    colors = [viridis_colors[int(i)] for i in np.linspace(0, len(viridis_colors)-1, n_stations)]\n",
    "    node_colors = colors * 2  # Same colors for both sides\n",
    "    \n",
    "    # Calculate link colors based on value\n",
    "    max_value = flow_data['value'].max()\n",
    "    min_value = flow_data['value'].min()\n",
    "    \n",
    "    # Create properly formatted rgba colors for links\n",
    "    link_colors = []\n",
    "    for val in flow_data['value']:\n",
    "        # Get color from Viridis scale\n",
    "        norm_val = (val - min_value) / (max_value - min_value)\n",
    "        rgb_color = px.colors.sample_colorscale('Viridis', norm_val)[0]\n",
    "        # Convert to rgba with transparency\n",
    "        rgba_color = rgb_color.replace('rgb', 'rgba').replace(')', ', 0.3)')\n",
    "        link_colors.append(rgba_color)\n",
    "    \n",
    "    # Create Sankey diagram\n",
    "    fig = go.Figure(data=[go.Sankey(\n",
    "        node = dict(\n",
    "            pad = 15,\n",
    "            thickness = 20,\n",
    "            line = dict(color = \"white\", width = 0.5),\n",
    "            label = node_labels,\n",
    "            color = node_colors,\n",
    "            x = node_x,\n",
    "            y = [y for y in np.linspace(0, 1, n_stations)]*2\n",
    "        ),\n",
    "        link = dict(\n",
    "            source = flow_data['source_idx'],\n",
    "            target = flow_data['target_idx'],\n",
    "            value = flow_data['value'],\n",
    "            color = link_colors\n",
    "        )\n",
    "    )])\n",
    "\n",
    "    # Update layout with dark theme\n",
    "    fig.update_layout(\n",
    "        title={\n",
    "            'text': \"Bike Share Trips Between Top Stations\",\n",
    "            'y':0.98,\n",
    "            'x':0.5,\n",
    "            'xanchor': 'center',\n",
    "            'yanchor': 'top',\n",
    "            'font': dict(color='white', size=20)\n",
    "        },\n",
    "        font=dict(\n",
    "            color='white',\n",
    "            size=12\n",
    "        ),\n",
    "        height=800,\n",
    "        width=1200,\n",
    "        paper_bgcolor='#1a1f35',\n",
    "        plot_bgcolor='#1a1f35',\n",
    "        margin=dict(t=50, l=50, r=50, b=50)\n",
    "    )\n",
    "    \n",
    "    # Save the figure\n",
    "    fig.write_html(output_path)\n",
    "    \n",
    "    return fig\n",
    "\n",
    "# [Rest of the code remains the same]\n",
    "\n",
    "\n",
    "def main():\n",
    "    try:\n",
    "        # Create charts directory if it doesn't exist\n",
    "        charts_dir = os.path.join('site', 'charts')\n",
    "        os.makedirs(charts_dir, exist_ok=True)\n",
    "        \n",
    "        # Clean the data\n",
    "        print(\"Cleaning data...\")\n",
    "        df_clean = df.dropna(subset=['start_station_name', 'end_station_name'])\n",
    "        df_cleaned = clean_station_names(df_clean)\n",
    "        \n",
    "        # Get top stations\n",
    "        print(\"Getting top stations...\")\n",
    "        top_stations = get_top_stations(df_cleaned, n=10)  # Adjust n for more/fewer stations\n",
    "        \n",
    "        # Create Sankey data\n",
    "        print(\"Creating Sankey data...\")\n",
    "        flow_data, station_names = create_sankey_data(df_cleaned, top_stations)\n",
    "        \n",
    "        # Create and save the visualization\n",
    "        print(\"Creating Sankey diagram...\")\n",
    "        html_path = os.path.join(charts_dir, 'bike_trips_sankey.html')\n",
    "        fig = create_sankey_diagram(flow_data, station_names, html_path)\n",
    "        \n",
    "        print(f\"Sankey diagram saved successfully at {html_path}!\")\n",
    "        \n",
    "        # Display the figure in notebook (if you're using Jupyter)\n",
    "        fig.show()\n",
    "        \n",
    "    except Exception as e:\n",
    "        print(f\"Error in main execution: {str(e)}\")\n",
    "        raise e\n",
    "\n",
    "if __name__ == \"__main__\":\n",
    "    main()\n"
   ]
  },
  {
   "cell_type": "code",
   "execution_count": null,
   "id": "5ab2790e-7874-48ab-a0ac-ceca61556361",
   "metadata": {},
   "outputs": [],
   "source": []
  },
  {
   "cell_type": "code",
   "execution_count": null,
   "id": "9f4fcd74-4663-48dc-b056-daf23d4abc7c",
   "metadata": {},
   "outputs": [],
   "source": []
  },
  {
   "cell_type": "code",
   "execution_count": null,
   "id": "2c3eeb07-1985-4550-95c3-6a6f2e692d1a",
   "metadata": {},
   "outputs": [],
   "source": []
  },
  {
   "cell_type": "code",
   "execution_count": null,
   "id": "d0eb0a78-819c-41ec-9fff-bc0fa6e7e59e",
   "metadata": {},
   "outputs": [],
   "source": []
  },
  {
   "cell_type": "code",
   "execution_count": null,
   "id": "6bbf8fd3-e345-481c-98ec-33c14c7e1731",
   "metadata": {},
   "outputs": [],
   "source": []
  },
  {
   "cell_type": "markdown",
   "id": "13b68cba-7226-4ebd-8d6c-d7e5a11c41d7",
   "metadata": {},
   "source": [
    "#### 3. Sankey diagram option 4"
   ]
  },
  {
   "cell_type": "code",
   "execution_count": 17,
   "id": "c17a85a7-a532-4e91-9521-103881a1ed7c",
   "metadata": {},
   "outputs": [
    {
     "data": {
      "text/plain": [
       "(36212597, 18)"
      ]
     },
     "execution_count": 17,
     "metadata": {},
     "output_type": "execute_result"
    }
   ],
   "source": [
    "df.shape"
   ]
  },
  {
   "cell_type": "code",
   "execution_count": null,
   "id": "e3da18e6-a425-42d3-94ef-ef254c42cdd9",
   "metadata": {},
   "outputs": [],
   "source": []
  },
  {
   "cell_type": "code",
   "execution_count": 20,
   "id": "ece6023c-d403-4b0e-acec-cbb50dff35c5",
   "metadata": {},
   "outputs": [],
   "source": [
    "import pandas as pd\n",
    "import numpy as np\n",
    "import plotly.graph_objects as go\n",
    "import os\n",
    "\n",
    "def clean_station_names(df):\n",
    "    df['start_station_name'] = df['start_station_name'].str.replace('&', 'and')\n",
    "    df['end_station_name'] = df['end_station_name'].str.replace('&', 'and')\n",
    "    df['start_station_name'] = df['start_station_name'].str.replace(r'[^\\w\\s-]', '', regex=True)\n",
    "    df['end_station_name'] = df['end_station_name'].str.replace(r'[^\\w\\s-]', '', regex=True)\n",
    "    df['start_station_name'] = df['start_station_name'].str[:20]\n",
    "    df['end_station_name'] = df['end_station_name'].str[:20]\n",
    "    return df\n",
    "\n",
    "def get_top_stations(df, n=10):\n",
    "    start_station_counts = df['start_station_name'].value_counts()\n",
    "    end_station_counts = df['end_station_name'].value_counts()\n",
    "    total_counts = pd.concat([start_station_counts, end_station_counts])\n",
    "    top_stations = total_counts.groupby(level=0).sum().nlargest(n).index.tolist()\n",
    "    return top_stations\n",
    "\n",
    "def create_sankey_data(df, top_stations):\n",
    "    df_filtered = df[\n",
    "        (df['start_station_name'].isin(top_stations)) & \n",
    "        (df['end_station_name'].isin(top_stations))\n",
    "    ]\n",
    "    flow_data = df_filtered.groupby(['start_station_name', 'end_station_name']).size().reset_index()\n",
    "    flow_data.columns = ['source', 'target', 'value']\n",
    "    n_stations = len(top_stations)\n",
    "    station_to_idx_left = {station: idx for idx, station in enumerate(top_stations)}\n",
    "    station_to_idx_right = {station: idx + n_stations for idx, station in enumerate(top_stations)}\n",
    "    flow_data['source_idx'] = flow_data['source'].map(station_to_idx_left)\n",
    "    flow_data['target_idx'] = flow_data['target'].map(station_to_idx_right)\n",
    "    return flow_data, top_stations\n",
    "\n",
    "def create_sankey_diagram(flow_data, station_names, output_path):\n",
    "    n_stations = len(station_names)\n",
    "    node_labels = station_names + station_names\n",
    "    node_x = [0]*n_stations + [1]*n_stations\n",
    "    colors = [f'rgba(0,114,206,0.7)' for _ in range(n_stations)]\n",
    "    node_colors = colors * 2\n",
    "\n",
    "    fig = go.Figure(data=[go.Sankey(\n",
    "        node = dict(\n",
    "            pad = 15,\n",
    "            thickness = 20,\n",
    "            line = dict(color = \"white\", width = 0.5),\n",
    "            label = node_labels,\n",
    "            color = node_colors,\n",
    "            x = node_x,\n",
    "            y = [y for y in np.linspace(0, 1, n_stations)]*2\n",
    "        ),\n",
    "        link = dict(\n",
    "            source = flow_data['source_idx'],\n",
    "            target = flow_data['target_idx'],\n",
    "            value = flow_data['value'],\n",
    "            color = ['rgba(155,229,100,0.3)' for _ in range(len(flow_data))]\n",
    "        )\n",
    "    )])\n",
    "\n",
    "    fig.update_layout(\n",
    "        title={\n",
    "            'text': \"NYC Bike Share Trips Between Top Stations\",\n",
    "            'y': 0.95,\n",
    "            'x': 0.5,\n",
    "            'xanchor': 'center',\n",
    "            'yanchor': 'top',\n",
    "            'font': dict(color='#00fff2', size=24)\n",
    "        },\n",
    "        font=dict(\n",
    "            color='white',\n",
    "            size=12\n",
    "        ),\n",
    "        width=800,\n",
    "        height=500,\n",
    "        paper_bgcolor='rgba(0,0,0,0)',\n",
    "        plot_bgcolor='rgba(0,0,0,0)',\n",
    "        hoverlabel=dict(\n",
    "            bgcolor='rgba(26, 31, 53, 0.9)',\n",
    "            bordercolor='rgba(255, 255, 255, 0.3)',\n",
    "            font=dict(size=14, color='white')\n",
    "        ),\n",
    "        margin=dict(l=80, r=40, t=80, b=40)\n",
    "    )\n",
    "    \n",
    "    fig.write_html(output_path,\n",
    "                   full_html=False,\n",
    "                   include_plotlyjs='cdn')\n",
    "    \n",
    "    return fig"
   ]
  },
  {
   "cell_type": "code",
   "execution_count": null,
   "id": "489eaa61-b8ab-4402-a5d8-13a6bfebee81",
   "metadata": {},
   "outputs": [],
   "source": []
  },
  {
   "cell_type": "code",
   "execution_count": 26,
   "id": "54c10152-c622-4754-aa33-d1402b081d76",
   "metadata": {},
   "outputs": [
    {
     "data": {
      "text/plain": [
       "'C:\\\\Users\\\\rajpprit\\\\Documents\\\\UK I&I\\\\Trainings\\\\Vizcon 2025\\\\New York city bike data\\\\data_processed\\\\Pickel files'"
      ]
     },
     "execution_count": 26,
     "metadata": {},
     "output_type": "execute_result"
    }
   ],
   "source": [
    "os.getcwd()"
   ]
  },
  {
   "cell_type": "code",
   "execution_count": 27,
   "id": "fcae260a-7824-40ab-bb14-f1483ded8744",
   "metadata": {},
   "outputs": [],
   "source": [
    "os.chdir(\"C:\\\\Users\\\\rajpprit\\\\Documents\\\\UK I&I\\\\Trainings\\\\Vizcon 2025\\\\New York city bike data\")"
   ]
  },
  {
   "cell_type": "code",
   "execution_count": 28,
   "id": "16384df9-7eed-45de-8e61-991a36523b16",
   "metadata": {},
   "outputs": [
    {
     "data": {
      "text/plain": [
       "'C:\\\\Users\\\\rajpprit\\\\Documents\\\\UK I&I\\\\Trainings\\\\Vizcon 2025\\\\New York city bike data'"
      ]
     },
     "execution_count": 28,
     "metadata": {},
     "output_type": "execute_result"
    }
   ],
   "source": [
    "os.getcwd()"
   ]
  },
  {
   "cell_type": "code",
   "execution_count": null,
   "id": "3b6271d0-f758-4b55-b151-4943236f0efc",
   "metadata": {},
   "outputs": [],
   "source": []
  },
  {
   "cell_type": "code",
   "execution_count": 23,
   "id": "c0493b87-b557-43c6-8b21-429c488310c7",
   "metadata": {},
   "outputs": [],
   "source": [
    "def main():\n",
    "    try:\n",
    "        charts_dir = os.path.join('site', 'charts')\n",
    "        os.makedirs(charts_dir, exist_ok=True)\n",
    "        \n",
    "        print(\"Cleaning data...\")\n",
    "        df_clean = df.dropna(subset=['start_station_name', 'end_station_name'])\n",
    "        df_cleaned = clean_station_names(df_clean)\n",
    "        \n",
    "        print(\"Getting top stations...\")\n",
    "        top_stations = get_top_stations(df_cleaned, n=10)\n",
    "        \n",
    "        print(\"Creating Sankey data...\")\n",
    "        flow_data, station_names = create_sankey_data(df_cleaned, top_stations)\n",
    "        \n",
    "        print(\"Creating Sankey diagram...\")\n",
    "        html_path = os.path.join(charts_dir, 'bike_trips_sankey3.html')\n",
    "        fig = create_sankey_diagram(flow_data, station_names, html_path)\n",
    "        \n",
    "        print(f\"Sankey diagram saved successfully at {html_path}!\")\n",
    "        \n",
    "    except Exception as e:\n",
    "        print(f\"Error in main execution: {str(e)}\")\n",
    "        raise e"
   ]
  },
  {
   "cell_type": "code",
   "execution_count": null,
   "id": "37b66506-3eb7-46b6-b7db-d2bc174a4c35",
   "metadata": {},
   "outputs": [],
   "source": []
  },
  {
   "cell_type": "code",
   "execution_count": 24,
   "id": "a88c0f8c-e4c0-4509-9090-0d1f6ffe85f7",
   "metadata": {},
   "outputs": [
    {
     "name": "stdout",
     "output_type": "stream",
     "text": [
      "Cleaning data...\n"
     ]
    },
    {
     "name": "stderr",
     "output_type": "stream",
     "text": [
      "C:\\Users\\rajpprit\\AppData\\Local\\Temp\\ipykernel_43248\\2933562228.py:7: SettingWithCopyWarning: \n",
      "A value is trying to be set on a copy of a slice from a DataFrame.\n",
      "Try using .loc[row_indexer,col_indexer] = value instead\n",
      "\n",
      "See the caveats in the documentation: https://pandas.pydata.org/pandas-docs/stable/user_guide/indexing.html#returning-a-view-versus-a-copy\n",
      "  df['start_station_name'] = df['start_station_name'].str.replace('&', 'and')\n",
      "C:\\Users\\rajpprit\\AppData\\Local\\Temp\\ipykernel_43248\\2933562228.py:8: SettingWithCopyWarning: \n",
      "A value is trying to be set on a copy of a slice from a DataFrame.\n",
      "Try using .loc[row_indexer,col_indexer] = value instead\n",
      "\n",
      "See the caveats in the documentation: https://pandas.pydata.org/pandas-docs/stable/user_guide/indexing.html#returning-a-view-versus-a-copy\n",
      "  df['end_station_name'] = df['end_station_name'].str.replace('&', 'and')\n",
      "C:\\Users\\rajpprit\\AppData\\Local\\Temp\\ipykernel_43248\\2933562228.py:9: SettingWithCopyWarning: \n",
      "A value is trying to be set on a copy of a slice from a DataFrame.\n",
      "Try using .loc[row_indexer,col_indexer] = value instead\n",
      "\n",
      "See the caveats in the documentation: https://pandas.pydata.org/pandas-docs/stable/user_guide/indexing.html#returning-a-view-versus-a-copy\n",
      "  df['start_station_name'] = df['start_station_name'].str.replace(r'[^\\w\\s-]', '', regex=True)\n",
      "C:\\Users\\rajpprit\\AppData\\Local\\Temp\\ipykernel_43248\\2933562228.py:10: SettingWithCopyWarning: \n",
      "A value is trying to be set on a copy of a slice from a DataFrame.\n",
      "Try using .loc[row_indexer,col_indexer] = value instead\n",
      "\n",
      "See the caveats in the documentation: https://pandas.pydata.org/pandas-docs/stable/user_guide/indexing.html#returning-a-view-versus-a-copy\n",
      "  df['end_station_name'] = df['end_station_name'].str.replace(r'[^\\w\\s-]', '', regex=True)\n",
      "C:\\Users\\rajpprit\\AppData\\Local\\Temp\\ipykernel_43248\\2933562228.py:11: SettingWithCopyWarning: \n",
      "A value is trying to be set on a copy of a slice from a DataFrame.\n",
      "Try using .loc[row_indexer,col_indexer] = value instead\n",
      "\n",
      "See the caveats in the documentation: https://pandas.pydata.org/pandas-docs/stable/user_guide/indexing.html#returning-a-view-versus-a-copy\n",
      "  df['start_station_name'] = df['start_station_name'].str[:20]\n",
      "C:\\Users\\rajpprit\\AppData\\Local\\Temp\\ipykernel_43248\\2933562228.py:12: SettingWithCopyWarning: \n",
      "A value is trying to be set on a copy of a slice from a DataFrame.\n",
      "Try using .loc[row_indexer,col_indexer] = value instead\n",
      "\n",
      "See the caveats in the documentation: https://pandas.pydata.org/pandas-docs/stable/user_guide/indexing.html#returning-a-view-versus-a-copy\n",
      "  df['end_station_name'] = df['end_station_name'].str[:20]\n"
     ]
    },
    {
     "name": "stdout",
     "output_type": "stream",
     "text": [
      "Getting top stations...\n",
      "Creating Sankey data...\n",
      "Creating Sankey diagram...\n",
      "Sankey diagram saved successfully at site\\charts\\bike_trips_sankey3.html!\n"
     ]
    }
   ],
   "source": [
    "if __name__ == \"__main__\":\n",
    "    main()"
   ]
  },
  {
   "cell_type": "code",
   "execution_count": 25,
   "id": "14e00a9c-5b58-4f17-8bbf-0f5b76e63984",
   "metadata": {},
   "outputs": [
    {
     "data": {
      "text/plain": [
       "'C:\\\\Users\\\\rajpprit\\\\Documents\\\\UK I&I\\\\Trainings\\\\Vizcon 2025\\\\New York city bike data\\\\data_processed\\\\Pickel files'"
      ]
     },
     "execution_count": 25,
     "metadata": {},
     "output_type": "execute_result"
    }
   ],
   "source": [
    "os.getcwd()"
   ]
  },
  {
   "cell_type": "code",
   "execution_count": null,
   "id": "e53b8120-5eb8-45ed-bd2e-63da34ee334f",
   "metadata": {},
   "outputs": [],
   "source": []
  },
  {
   "cell_type": "code",
   "execution_count": null,
   "id": "00ecaa8c-2349-4984-96c3-423efd1693ce",
   "metadata": {},
   "outputs": [],
   "source": []
  }
 ],
 "metadata": {
  "kernelspec": {
   "display_name": "Python 3 (ipykernel)",
   "language": "python",
   "name": "python3"
  },
  "language_info": {
   "codemirror_mode": {
    "name": "ipython",
    "version": 3
   },
   "file_extension": ".py",
   "mimetype": "text/x-python",
   "name": "python",
   "nbconvert_exporter": "python",
   "pygments_lexer": "ipython3",
   "version": "3.12.7"
  }
 },
 "nbformat": 4,
 "nbformat_minor": 5
}
