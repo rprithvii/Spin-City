{
 "cells": [
  {
   "cell_type": "code",
   "execution_count": 1,
   "id": "13981ee6-aa8b-4aa8-8a6b-a98430d5d67b",
   "metadata": {},
   "outputs": [],
   "source": [
    "%reset -f"
   ]
  },
  {
   "cell_type": "code",
   "execution_count": 2,
   "id": "f3cf6294-8177-4add-87cd-88c5dca8abdc",
   "metadata": {},
   "outputs": [],
   "source": [
    "import pandas as pd\n",
    "import numpy as np\n",
    "import os\n",
    "import sys"
   ]
  },
  {
   "cell_type": "code",
   "execution_count": null,
   "id": "354331ee-b695-439c-b12e-d6bca5720ee4",
   "metadata": {},
   "outputs": [],
   "source": []
  },
  {
   "cell_type": "code",
   "execution_count": 3,
   "id": "3efea2bb-5ceb-4cfa-a422-7f4c969dc2cb",
   "metadata": {},
   "outputs": [],
   "source": [
    "# Set display options\n",
    "pd.set_option('display.max_columns', None)\n",
    "pd.set_option('display.max_rows', None)\n",
    "pd.set_option('display.width', None)\n",
    "pd.set_option('display.max_colwidth', None)"
   ]
  },
  {
   "cell_type": "code",
   "execution_count": 4,
   "id": "0dc8e220-1128-414f-8d72-4adeef080722",
   "metadata": {},
   "outputs": [
    {
     "data": {
      "text/plain": [
       "'C:\\\\Users\\\\rajpprit\\\\Documents\\\\UK I&I\\\\Trainings\\\\Vizcon 2025\\\\New York city bike data\\\\notebooks'"
      ]
     },
     "execution_count": 4,
     "metadata": {},
     "output_type": "execute_result"
    }
   ],
   "source": [
    "os.getcwd()"
   ]
  },
  {
   "cell_type": "code",
   "execution_count": 5,
   "id": "28a15de4-46e5-47f3-a401-893bd000c8b1",
   "metadata": {},
   "outputs": [],
   "source": [
    "os.chdir(\"..\")"
   ]
  },
  {
   "cell_type": "code",
   "execution_count": 6,
   "id": "a524f5e3-3bae-48e2-acce-69794c393286",
   "metadata": {},
   "outputs": [
    {
     "data": {
      "text/plain": [
       "'C:\\\\Users\\\\rajpprit\\\\Documents\\\\UK I&I\\\\Trainings\\\\Vizcon 2025\\\\New York city bike data'"
      ]
     },
     "execution_count": 6,
     "metadata": {},
     "output_type": "execute_result"
    }
   ],
   "source": [
    "os.getcwd()"
   ]
  },
  {
   "cell_type": "code",
   "execution_count": 7,
   "id": "86fdd5dd-68ba-48a7-ae51-3ffb677f2c5d",
   "metadata": {},
   "outputs": [
    {
     "data": {
      "text/plain": [
       "['.virtual_documents',\n",
       " 'Community',\n",
       " 'data_processed',\n",
       " 'data_raw',\n",
       " 'desktop.ini',\n",
       " 'notebooks',\n",
       " 'site']"
      ]
     },
     "execution_count": 7,
     "metadata": {},
     "output_type": "execute_result"
    }
   ],
   "source": [
    "os.listdir()"
   ]
  },
  {
   "cell_type": "code",
   "execution_count": null,
   "id": "71615240-e848-410d-931c-76ea8b1e31a2",
   "metadata": {},
   "outputs": [],
   "source": []
  },
  {
   "cell_type": "code",
   "execution_count": null,
   "id": "f977d841-7ca0-463c-bb90-eb782b0a977b",
   "metadata": {},
   "outputs": [],
   "source": []
  },
  {
   "cell_type": "code",
   "execution_count": null,
   "id": "01089162-bf81-4214-bc9f-666065a7fbc4",
   "metadata": {},
   "outputs": [],
   "source": []
  },
  {
   "cell_type": "code",
   "execution_count": null,
   "id": "6fb4b69f-c145-4503-9561-3092b750dcf8",
   "metadata": {},
   "outputs": [],
   "source": []
  },
  {
   "cell_type": "code",
   "execution_count": 8,
   "id": "e745f7d1-48ae-4eba-9c46-3f918d32b06f",
   "metadata": {},
   "outputs": [
    {
     "data": {
      "text/plain": [
       "'C:\\\\Users\\\\rajpprit\\\\Documents\\\\UK I&I\\\\Trainings\\\\Vizcon 2025\\\\New York city bike data'"
      ]
     },
     "execution_count": 8,
     "metadata": {},
     "output_type": "execute_result"
    }
   ],
   "source": [
    "os.getcwd()"
   ]
  },
  {
   "cell_type": "code",
   "execution_count": null,
   "id": "3b438a8d-2b3a-4db6-b557-e06c90b89c9b",
   "metadata": {},
   "outputs": [],
   "source": []
  },
  {
   "cell_type": "code",
   "execution_count": 9,
   "id": "0df990e7-5854-4ee3-b887-dc6fe008212c",
   "metadata": {},
   "outputs": [],
   "source": [
    "# -----------------------------\n",
    "# 2. Sample Data Preparation\n",
    "# -----------------------------\n",
    "os.chdir(\"C:\\\\Users\\\\rajpprit\\\\Documents\\\\UK I&I\\\\Trainings\\\\Vizcon 2025\\\\New York city bike data\\\\data_processed\\\\Pickel files\")\n",
    "df_2020_2025 = pd.read_pickle(\"df_2020_2025.pkl\")"
   ]
  },
  {
   "cell_type": "code",
   "execution_count": null,
   "id": "2ee421ef-ded5-4b5a-80aa-8fa3a5698728",
   "metadata": {},
   "outputs": [],
   "source": []
  },
  {
   "cell_type": "code",
   "execution_count": 10,
   "id": "821ef571-d9d1-4f32-a182-ba0c8580762e",
   "metadata": {},
   "outputs": [],
   "source": [
    "os.chdir(\"C:\\\\Users\\\\rajpprit\\\\Documents\\\\UK I&I\\\\Trainings\\\\Vizcon 2025\\\\New York city bike data\")"
   ]
  },
  {
   "cell_type": "code",
   "execution_count": 11,
   "id": "2383c1e5-08b3-4358-be61-051cc3452383",
   "metadata": {},
   "outputs": [
    {
     "data": {
      "text/plain": [
       "'C:\\\\Users\\\\rajpprit\\\\Documents\\\\UK I&I\\\\Trainings\\\\Vizcon 2025\\\\New York city bike data'"
      ]
     },
     "execution_count": 11,
     "metadata": {},
     "output_type": "execute_result"
    }
   ],
   "source": [
    "os.getcwd()"
   ]
  },
  {
   "cell_type": "code",
   "execution_count": null,
   "id": "286f4f7e-0e66-4db0-9453-3583b0b8e8d7",
   "metadata": {},
   "outputs": [],
   "source": []
  },
  {
   "cell_type": "markdown",
   "id": "78371ab2-e840-4dbe-afe5-048c038fdc14",
   "metadata": {},
   "source": [
    "#### Data import"
   ]
  },
  {
   "cell_type": "code",
   "execution_count": 12,
   "id": "979a88f7-c396-45f6-a99e-131aa994a971",
   "metadata": {},
   "outputs": [],
   "source": [
    "import pandas as pd\n",
    "import plotly.express as px\n",
    "import plotly.graph_objects as go\n",
    "from plotly.subplots import make_subplots\n",
    "import numpy as np\n",
    "from datetime import datetime"
   ]
  },
  {
   "cell_type": "code",
   "execution_count": null,
   "id": "2526ef7d-fb9b-490f-bc6b-5bf80b1b7f1c",
   "metadata": {},
   "outputs": [],
   "source": []
  },
  {
   "cell_type": "code",
   "execution_count": 13,
   "id": "029beb33-f25f-466b-ae74-7aa4d29b76fc",
   "metadata": {},
   "outputs": [
    {
     "data": {
      "text/plain": [
       "(36212597, 13)"
      ]
     },
     "execution_count": 13,
     "metadata": {},
     "output_type": "execute_result"
    }
   ],
   "source": [
    "df_2020_2025.shape"
   ]
  },
  {
   "cell_type": "code",
   "execution_count": 14,
   "id": "1dde7aa7-002b-4bcd-968b-0ff66ac1ba9f",
   "metadata": {},
   "outputs": [
    {
     "data": {
      "text/html": [
       "<div>\n",
       "<style scoped>\n",
       "    .dataframe tbody tr th:only-of-type {\n",
       "        vertical-align: middle;\n",
       "    }\n",
       "\n",
       "    .dataframe tbody tr th {\n",
       "        vertical-align: top;\n",
       "    }\n",
       "\n",
       "    .dataframe thead th {\n",
       "        text-align: right;\n",
       "    }\n",
       "</style>\n",
       "<table border=\"1\" class=\"dataframe\">\n",
       "  <thead>\n",
       "    <tr style=\"text-align: right;\">\n",
       "      <th></th>\n",
       "      <th>ride_id</th>\n",
       "      <th>rideable_type</th>\n",
       "      <th>started_at</th>\n",
       "      <th>ended_at</th>\n",
       "      <th>start_station_name</th>\n",
       "      <th>start_station_id</th>\n",
       "      <th>end_station_name</th>\n",
       "      <th>end_station_id</th>\n",
       "      <th>start_lat</th>\n",
       "      <th>start_lng</th>\n",
       "      <th>end_lat</th>\n",
       "      <th>end_lng</th>\n",
       "      <th>member_casual</th>\n",
       "    </tr>\n",
       "  </thead>\n",
       "  <tbody>\n",
       "    <tr>\n",
       "      <th>0</th>\n",
       "      <td>A955EE529EC6DF27</td>\n",
       "      <td>classic_bike</td>\n",
       "      <td>2020-12-23 16:31:04.165</td>\n",
       "      <td>2020-12-23 16:45:28.611</td>\n",
       "      <td>Forsyth St &amp; Broome St</td>\n",
       "      <td>5453.05</td>\n",
       "      <td>E 33 St &amp; 1 Ave</td>\n",
       "      <td>6197.08</td>\n",
       "      <td>40.718939</td>\n",
       "      <td>-73.992663</td>\n",
       "      <td>40.743227</td>\n",
       "      <td>-73.974498</td>\n",
       "      <td>member</td>\n",
       "    </tr>\n",
       "    <tr>\n",
       "      <th>1</th>\n",
       "      <td>E42C1EDE5F256E87</td>\n",
       "      <td>classic_bike</td>\n",
       "      <td>2020-09-14 18:34:08.324</td>\n",
       "      <td>2020-09-14 18:36:07.759</td>\n",
       "      <td>1 Ave &amp; E 18 St</td>\n",
       "      <td>5854.09</td>\n",
       "      <td>E 20 St &amp; FDR Drive</td>\n",
       "      <td>5886.02</td>\n",
       "      <td>40.733812</td>\n",
       "      <td>-73.980544</td>\n",
       "      <td>40.733143</td>\n",
       "      <td>-73.975739</td>\n",
       "      <td>member</td>\n",
       "    </tr>\n",
       "  </tbody>\n",
       "</table>\n",
       "</div>"
      ],
      "text/plain": [
       "            ride_id rideable_type               started_at  \\\n",
       "0  A955EE529EC6DF27  classic_bike  2020-12-23 16:31:04.165   \n",
       "1  E42C1EDE5F256E87  classic_bike  2020-09-14 18:34:08.324   \n",
       "\n",
       "                  ended_at      start_station_name start_station_id  \\\n",
       "0  2020-12-23 16:45:28.611  Forsyth St & Broome St          5453.05   \n",
       "1  2020-09-14 18:36:07.759         1 Ave & E 18 St          5854.09   \n",
       "\n",
       "      end_station_name end_station_id  start_lat  start_lng    end_lat  \\\n",
       "0      E 33 St & 1 Ave        6197.08  40.718939 -73.992663  40.743227   \n",
       "1  E 20 St & FDR Drive        5886.02  40.733812 -73.980544  40.733143   \n",
       "\n",
       "     end_lng member_casual  \n",
       "0 -73.974498        member  \n",
       "1 -73.975739        member  "
      ]
     },
     "execution_count": 14,
     "metadata": {},
     "output_type": "execute_result"
    }
   ],
   "source": [
    "df_2020_2025.head(2)"
   ]
  },
  {
   "cell_type": "code",
   "execution_count": null,
   "id": "fea9f85b-e314-4f87-b576-4dd55f6364a3",
   "metadata": {},
   "outputs": [],
   "source": []
  },
  {
   "cell_type": "markdown",
   "id": "7b52dd75-528f-452d-b862-094ab1e77aa5",
   "metadata": {},
   "source": [
    "#### 0. Packed bubble chart"
   ]
  },
  {
   "cell_type": "code",
   "execution_count": 15,
   "id": "db3bd77c-7a7c-4c7b-96fd-0c13c703a805",
   "metadata": {},
   "outputs": [
    {
     "data": {
      "text/plain": [
       "'C:\\\\Users\\\\rajpprit\\\\Documents\\\\UK I&I\\\\Trainings\\\\Vizcon 2025\\\\New York city bike data'"
      ]
     },
     "execution_count": 15,
     "metadata": {},
     "output_type": "execute_result"
    }
   ],
   "source": [
    "os.getcwd()"
   ]
  },
  {
   "cell_type": "code",
   "execution_count": null,
   "id": "dcda87b0-de15-4b62-95ab-b85a2a8070d0",
   "metadata": {},
   "outputs": [],
   "source": []
  },
  {
   "cell_type": "code",
   "execution_count": 16,
   "id": "e0ca9b93-6ae2-400c-a7a8-67b72bda7f08",
   "metadata": {},
   "outputs": [],
   "source": [
    "# df_2020_2025 = df_2020_2025[:1000]"
   ]
  },
  {
   "cell_type": "code",
   "execution_count": 17,
   "id": "d81c990c-df30-441b-a9bf-fafa6f214e24",
   "metadata": {},
   "outputs": [
    {
     "data": {
      "text/plain": [
       "(36212597, 13)"
      ]
     },
     "execution_count": 17,
     "metadata": {},
     "output_type": "execute_result"
    }
   ],
   "source": [
    "df_2020_2025.shape"
   ]
  },
  {
   "cell_type": "code",
   "execution_count": 18,
   "id": "3f780437-9a9f-4dad-abe3-824a6fd769e2",
   "metadata": {},
   "outputs": [
    {
     "data": {
      "text/plain": [
       "'C:\\\\Users\\\\rajpprit\\\\Documents\\\\UK I&I\\\\Trainings\\\\Vizcon 2025\\\\New York city bike data'"
      ]
     },
     "execution_count": 18,
     "metadata": {},
     "output_type": "execute_result"
    }
   ],
   "source": [
    "os.getcwd()"
   ]
  },
  {
   "cell_type": "code",
   "execution_count": 19,
   "id": "254760d3-ea38-469e-bc6f-2b341ec9f4f2",
   "metadata": {},
   "outputs": [],
   "source": [
    "os.chdir(\"C:\\\\Users\\\\rajpprit\\\\Documents\\\\UK I&I\\\\Trainings\\\\Vizcon 2025\\\\New York city bike data\")"
   ]
  },
  {
   "cell_type": "code",
   "execution_count": null,
   "id": "2e682bf5-d7cc-49ae-a909-8bdd31d9deb4",
   "metadata": {},
   "outputs": [],
   "source": [
    "os.getcwd()"
   ]
  },
  {
   "cell_type": "code",
   "execution_count": null,
   "id": "e52eeb11-59af-4d50-b7a2-85004732a448",
   "metadata": {},
   "outputs": [],
   "source": []
  },
  {
   "cell_type": "code",
   "execution_count": null,
   "id": "e859f943-be14-4e23-b759-dc19c111073a",
   "metadata": {},
   "outputs": [],
   "source": []
  },
  {
   "cell_type": "code",
   "execution_count": null,
   "id": "4d76ac57-374e-4b99-91c7-bb38f878b9dc",
   "metadata": {},
   "outputs": [],
   "source": []
  },
  {
   "cell_type": "code",
   "execution_count": 24,
   "id": "b531d752-8a88-4852-abfe-dc434aea2979",
   "metadata": {},
   "outputs": [
    {
     "name": "stdout",
     "output_type": "stream",
     "text": [
      "Unique years in original data: [np.int64(2019), np.int64(2020), np.int64(2021), np.int64(2022), np.int64(2023), np.int64(2024), np.int64(2025)]\n",
      "Unique years after groupby: [np.int64(2019), np.int64(2020), np.int64(2021), np.int64(2022), np.int64(2023), np.int64(2024), np.int64(2025)]\n",
      "Year-color mapping: {np.int64(2019): 'rgba(76, 114, 176, 0.8)', np.int64(2020): 'rgba(221, 132, 82, 0.8)', np.int64(2021): 'rgba(85, 168, 104, 0.8)', np.int64(2022): 'rgba(129, 114, 179, 0.8)', np.int64(2023): 'rgba(147, 120, 96, 0.8)', np.int64(2024): 'rgba(180, 151, 231, 0.8)', np.int64(2025): 'rgba(76, 114, 176, 0.8)'}\n"
     ]
    }
   ],
   "source": [
    "import pandas as pd\n",
    "import plotly.graph_objects as go\n",
    "import numpy as np\n",
    "import math\n",
    "\n",
    "# Convert started_at to datetime first\n",
    "df_2020_2025['started_at'] = pd.to_datetime(df_2020_2025['started_at'])\n",
    "\n",
    "# Create year and month columns\n",
    "df_2020_2025['year'] = df_2020_2025['started_at'].dt.year.astype(int)\n",
    "df_2020_2025['month'] = df_2020_2025['started_at'].dt.month.astype(int)\n",
    "\n",
    "# Print unique years to debug\n",
    "print(\"Unique years in original data:\", sorted(df_2020_2025['year'].unique()))\n",
    "\n",
    "# Perform the groupby operation\n",
    "monthly_counts = df_2020_2025.groupby(['year', 'month']).size().reset_index(name='count')\n",
    "\n",
    "# Print unique years after groupby\n",
    "print(\"Unique years after groupby:\", sorted(monthly_counts['year'].unique()))\n",
    "\n",
    "# Create month names for labels\n",
    "month_names = {\n",
    "    1: 'Jan', 2: 'Feb', 3: 'Mar', 4: 'Apr', 5: 'May', 6: 'Jun',\n",
    "    7: 'Jul', 8: 'Aug', 9: 'Sep', 10: 'Oct', 11: 'Nov', 12: 'Dec'\n",
    "}\n",
    "monthly_counts['month_name'] = monthly_counts['month'].map(month_names)\n",
    "monthly_counts['label'] = monthly_counts['month_name'] + ' ' + monthly_counts['year'].astype(str)\n",
    "\n",
    "# Create color mapping for years with colors matching the map theme\n",
    "unique_years = sorted(monthly_counts['year'].unique())\n",
    "colors = [\n",
    "    'rgba(76, 114, 176, 0.8)',   # Subtle blue\n",
    "    'rgba(221, 132, 82, 0.8)',   # Subtle orange\n",
    "    'rgba(85, 168, 104, 0.8)',   # Subtle green\n",
    "    'rgba(129, 114, 179, 0.8)',  # Subtle purple\n",
    "    'rgba(147, 120, 96, 0.8)',   # Subtle brown\n",
    "    'rgba(180, 151, 231, 0.8)'   # Subtle lavender\n",
    "]\n",
    "\n",
    "# Ensure we have enough colors\n",
    "while len(colors) < len(unique_years):\n",
    "    colors.extend(colors)\n",
    "\n",
    "# Create year_colors dictionary\n",
    "year_colors = dict(zip(unique_years, colors[:len(unique_years)]))\n",
    "\n",
    "print(\"Year-color mapping:\", year_colors)\n",
    "\n",
    "# Function to calculate bubble positions in a spiral layout\n",
    "def get_spiral_positions(n, spacing=0.5):\n",
    "    positions = []\n",
    "    a = spacing  # Controls spacing between points\n",
    "    b = spacing  # Controls spacing between rings\n",
    "    for i in range(n):\n",
    "        t = np.sqrt(i) * 2 * np.pi\n",
    "        x = (a * t) * np.cos(t)\n",
    "        y = (b * t) * np.sin(t)\n",
    "        positions.append((x, y))\n",
    "    return positions\n",
    "\n",
    "# Create figure\n",
    "fig = go.Figure()\n",
    "\n",
    "# Sort data by count to place larger bubbles first\n",
    "monthly_counts = monthly_counts.sort_values('count', ascending=False)\n",
    "\n",
    "# Calculate positions for all bubbles\n",
    "all_positions = get_spiral_positions(len(monthly_counts))\n",
    "position_index = 0\n",
    "\n",
    "for year in unique_years:\n",
    "    year_data = monthly_counts[monthly_counts['year'] == year]\n",
    "    \n",
    "    # Calculate scaling factor based on counts\n",
    "    max_count = monthly_counts['count'].max()\n",
    "    scale_factor = 50 / np.sqrt(max_count)  # Adjust this value to change bubble sizes\n",
    "    \n",
    "    for _, row in year_data.iterrows():\n",
    "        x, y = all_positions[position_index]\n",
    "        position_index += 1\n",
    "        \n",
    "        fig.add_trace(go.Scatter(\n",
    "            x=[x],\n",
    "            y=[y],\n",
    "            mode='markers+text',\n",
    "            marker=dict(\n",
    "                size=np.sqrt(row['count']) * scale_factor,\n",
    "                color=year_colors[row['year']],\n",
    "                line=dict(color='rgba(255,255,255,0.3)', width=1)\n",
    "            ),\n",
    "            text=f\"{row['month_name']} {row['year']}<br>{row['count']:,} rides\",\n",
    "            textposition=\"middle center\",\n",
    "            name=str(year),\n",
    "            hovertemplate=\"%{text}<extra></extra>\",\n",
    "            showlegend=True if row.name == year_data.index[0] else False\n",
    "        ))\n",
    "\n",
    "# Update layout\n",
    "fig.update_layout(\n",
    "    title={\n",
    "        'text': \"Monthly Bike Rides Distribution (2020-2025)\",\n",
    "        'y':0.95,\n",
    "        'x':0.5,\n",
    "        'xanchor': 'center',\n",
    "        'yanchor': 'top',\n",
    "        'font': dict(color='white', size=24)\n",
    "    },\n",
    "    showlegend=True,\n",
    "    legend_title_text=\"Year\",\n",
    "    legend=dict(\n",
    "        yanchor=\"top\",\n",
    "        y=0.99,\n",
    "        xanchor=\"right\",\n",
    "        x=0.99,\n",
    "        font=dict(color='white'),\n",
    "        title=dict(font=dict(color='white'))\n",
    "    ),\n",
    "    paper_bgcolor='#1a1f35',\n",
    "    plot_bgcolor='#1a1f35',\n",
    "    xaxis=dict(\n",
    "        showgrid=False,\n",
    "        showticklabels=False,\n",
    "        zeroline=False,\n",
    "    ),\n",
    "    yaxis=dict(\n",
    "        showgrid=False,\n",
    "        showticklabels=False,\n",
    "        zeroline=False,\n",
    "        scaleanchor=\"x\",\n",
    "        scaleratio=1\n",
    "    ),\n",
    "    width=1000,\n",
    "    height=800\n",
    ")\n",
    "\n",
    "# Save the figure\n",
    "fig.write_html(\"monthly_packed_bubbles.html\")\n"
   ]
  },
  {
   "cell_type": "code",
   "execution_count": null,
   "id": "b221c2d5-4571-4561-bf55-3021d96b60a1",
   "metadata": {},
   "outputs": [],
   "source": []
  },
  {
   "cell_type": "code",
   "execution_count": null,
   "id": "54680c16-7c00-4282-9f9c-a7e465aa2af9",
   "metadata": {},
   "outputs": [],
   "source": []
  },
  {
   "cell_type": "code",
   "execution_count": null,
   "id": "75981c62-53ae-4b3b-8956-3cf2353dfd7e",
   "metadata": {},
   "outputs": [],
   "source": []
  },
  {
   "cell_type": "code",
   "execution_count": null,
   "id": "2b6a1fa0-c72c-4966-ab6a-e0947e8da2a9",
   "metadata": {},
   "outputs": [],
   "source": []
  },
  {
   "cell_type": "code",
   "execution_count": null,
   "id": "6aceff04-e803-4ffb-8559-1df880f2666b",
   "metadata": {},
   "outputs": [],
   "source": []
  },
  {
   "cell_type": "code",
   "execution_count": null,
   "id": "d5aebe8e-99e2-4924-a6a6-eea8dd2697cf",
   "metadata": {},
   "outputs": [],
   "source": []
  },
  {
   "cell_type": "code",
   "execution_count": null,
   "id": "80852a56-d6c8-4a9e-9b35-d02564b060c1",
   "metadata": {},
   "outputs": [],
   "source": []
  },
  {
   "cell_type": "code",
   "execution_count": null,
   "id": "61273c4e-40ce-41e2-9281-243022eb17c6",
   "metadata": {},
   "outputs": [],
   "source": []
  },
  {
   "cell_type": "code",
   "execution_count": null,
   "id": "716c33e8-cd7d-44f6-aad8-8f5078f763b4",
   "metadata": {},
   "outputs": [],
   "source": []
  },
  {
   "cell_type": "code",
   "execution_count": null,
   "id": "5c34512d-7120-48d9-b218-3c642059cb1b",
   "metadata": {},
   "outputs": [],
   "source": []
  },
  {
   "cell_type": "code",
   "execution_count": null,
   "id": "48698055-a658-4f84-b115-e4286b1521bc",
   "metadata": {},
   "outputs": [],
   "source": []
  },
  {
   "cell_type": "code",
   "execution_count": null,
   "id": "00ecaa8c-2349-4984-96c3-423efd1693ce",
   "metadata": {},
   "outputs": [],
   "source": []
  }
 ],
 "metadata": {
  "kernelspec": {
   "display_name": "Python 3 (ipykernel)",
   "language": "python",
   "name": "python3"
  },
  "language_info": {
   "codemirror_mode": {
    "name": "ipython",
    "version": 3
   },
   "file_extension": ".py",
   "mimetype": "text/x-python",
   "name": "python",
   "nbconvert_exporter": "python",
   "pygments_lexer": "ipython3",
   "version": "3.12.7"
  }
 },
 "nbformat": 4,
 "nbformat_minor": 5
}
