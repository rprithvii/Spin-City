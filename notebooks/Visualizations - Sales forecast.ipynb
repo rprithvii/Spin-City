{
 "cells": [
  {
   "cell_type": "code",
   "execution_count": 1,
   "id": "13981ee6-aa8b-4aa8-8a6b-a98430d5d67b",
   "metadata": {},
   "outputs": [],
   "source": [
    "%reset -f"
   ]
  },
  {
   "cell_type": "code",
   "execution_count": 2,
   "id": "f3cf6294-8177-4add-87cd-88c5dca8abdc",
   "metadata": {},
   "outputs": [],
   "source": [
    "import pandas as pd\n",
    "import numpy as np\n",
    "import os\n",
    "import sys"
   ]
  },
  {
   "cell_type": "code",
   "execution_count": 3,
   "id": "3efea2bb-5ceb-4cfa-a422-7f4c969dc2cb",
   "metadata": {},
   "outputs": [],
   "source": [
    "# Set display options\n",
    "pd.set_option('display.max_columns', None)\n",
    "pd.set_option('display.max_rows', None)\n",
    "pd.set_option('display.width', None)\n",
    "pd.set_option('display.max_colwidth', None)"
   ]
  },
  {
   "cell_type": "code",
   "execution_count": 4,
   "id": "0dc8e220-1128-414f-8d72-4adeef080722",
   "metadata": {},
   "outputs": [
    {
     "data": {
      "text/plain": [
       "'C:\\\\Users\\\\rajpprit\\\\Documents\\\\UK I&I\\\\Trainings\\\\Vizcon 2025\\\\New York city bike data\\\\notebooks'"
      ]
     },
     "execution_count": 4,
     "metadata": {},
     "output_type": "execute_result"
    }
   ],
   "source": [
    "os.getcwd()"
   ]
  },
  {
   "cell_type": "code",
   "execution_count": 5,
   "id": "86fdd5dd-68ba-48a7-ae51-3ffb677f2c5d",
   "metadata": {},
   "outputs": [
    {
     "data": {
      "text/plain": [
       "['.ipynb_checkpoints',\n",
       " 'EDA.ipynb',\n",
       " 'prep_data.ipynb',\n",
       " 'prep_data1.ipynb',\n",
       " 'Visualizations - Bubble chart-Copy1.ipynb',\n",
       " 'Visualizations - Bubble chart-Copy2.ipynb',\n",
       " 'Visualizations - Bubble chart.ipynb',\n",
       " 'Visualizations - Chord diagram.ipynb',\n",
       " 'Visualizations - Delta on map.ipynb',\n",
       " 'Visualizations - line chart.ipynb',\n",
       " 'Visualizations - Main routes.ipynb',\n",
       " 'Visualizations - Map and Sankey.ipynb',\n",
       " 'Visualizations - Sales forecast.ipynb']"
      ]
     },
     "execution_count": 5,
     "metadata": {},
     "output_type": "execute_result"
    }
   ],
   "source": [
    "os.listdir()"
   ]
  },
  {
   "cell_type": "code",
   "execution_count": null,
   "id": "71615240-e848-410d-931c-76ea8b1e31a2",
   "metadata": {},
   "outputs": [],
   "source": []
  },
  {
   "cell_type": "code",
   "execution_count": null,
   "id": "f977d841-7ca0-463c-bb90-eb782b0a977b",
   "metadata": {},
   "outputs": [],
   "source": []
  },
  {
   "cell_type": "code",
   "execution_count": null,
   "id": "01089162-bf81-4214-bc9f-666065a7fbc4",
   "metadata": {},
   "outputs": [],
   "source": []
  },
  {
   "cell_type": "code",
   "execution_count": null,
   "id": "6fb4b69f-c145-4503-9561-3092b750dcf8",
   "metadata": {},
   "outputs": [],
   "source": []
  },
  {
   "cell_type": "code",
   "execution_count": 6,
   "id": "e745f7d1-48ae-4eba-9c46-3f918d32b06f",
   "metadata": {},
   "outputs": [
    {
     "data": {
      "text/plain": [
       "'C:\\\\Users\\\\rajpprit\\\\Documents\\\\UK I&I\\\\Trainings\\\\Vizcon 2025\\\\New York city bike data\\\\notebooks'"
      ]
     },
     "execution_count": 6,
     "metadata": {},
     "output_type": "execute_result"
    }
   ],
   "source": [
    "os.getcwd()"
   ]
  },
  {
   "cell_type": "code",
   "execution_count": null,
   "id": "3b438a8d-2b3a-4db6-b557-e06c90b89c9b",
   "metadata": {},
   "outputs": [],
   "source": []
  },
  {
   "cell_type": "code",
   "execution_count": 7,
   "id": "0df990e7-5854-4ee3-b887-dc6fe008212c",
   "metadata": {},
   "outputs": [],
   "source": [
    "# -----------------------------\n",
    "# 2. Sample Data Preparation\n",
    "# -----------------------------\n",
    "os.chdir(\"C:\\\\Users\\\\rajpprit\\\\Documents\\\\UK I&I\\\\Trainings\\\\Vizcon 2025\\\\New York city bike data\\\\data_processed\\\\Pickel files\")\n",
    "df_2020_2025 = pd.read_pickle(\"df_2020_2025.pkl\")\n",
    "# df_2024 = pd.read_pickle(\"df_2024.pkl\")"
   ]
  },
  {
   "cell_type": "code",
   "execution_count": 8,
   "id": "2ee421ef-ded5-4b5a-80aa-8fa3a5698728",
   "metadata": {},
   "outputs": [],
   "source": [
    "# df = df_2020_2025.copy()  # your 60% sampled dataframe\n",
    "# df = df_2024.copy()  # your 60% sampled dataframe"
   ]
  },
  {
   "cell_type": "code",
   "execution_count": 9,
   "id": "15d364d8-6621-4079-a6a6-f7c88d142624",
   "metadata": {},
   "outputs": [
    {
     "data": {
      "text/plain": [
       "(36212597, 13)"
      ]
     },
     "execution_count": 9,
     "metadata": {},
     "output_type": "execute_result"
    }
   ],
   "source": [
    "df_2020_2025.shape"
   ]
  },
  {
   "cell_type": "code",
   "execution_count": 10,
   "id": "9555ee3f-1405-4d39-8e4e-d8829ef3afb5",
   "metadata": {},
   "outputs": [
    {
     "data": {
      "text/html": [
       "<div>\n",
       "<style scoped>\n",
       "    .dataframe tbody tr th:only-of-type {\n",
       "        vertical-align: middle;\n",
       "    }\n",
       "\n",
       "    .dataframe tbody tr th {\n",
       "        vertical-align: top;\n",
       "    }\n",
       "\n",
       "    .dataframe thead th {\n",
       "        text-align: right;\n",
       "    }\n",
       "</style>\n",
       "<table border=\"1\" class=\"dataframe\">\n",
       "  <thead>\n",
       "    <tr style=\"text-align: right;\">\n",
       "      <th></th>\n",
       "      <th>ride_id</th>\n",
       "      <th>rideable_type</th>\n",
       "      <th>started_at</th>\n",
       "      <th>ended_at</th>\n",
       "      <th>start_station_name</th>\n",
       "      <th>start_station_id</th>\n",
       "      <th>end_station_name</th>\n",
       "      <th>end_station_id</th>\n",
       "      <th>start_lat</th>\n",
       "      <th>start_lng</th>\n",
       "      <th>end_lat</th>\n",
       "      <th>end_lng</th>\n",
       "      <th>member_casual</th>\n",
       "    </tr>\n",
       "  </thead>\n",
       "  <tbody>\n",
       "    <tr>\n",
       "      <th>0</th>\n",
       "      <td>A955EE529EC6DF27</td>\n",
       "      <td>classic_bike</td>\n",
       "      <td>2020-12-23 16:31:04.165</td>\n",
       "      <td>2020-12-23 16:45:28.611</td>\n",
       "      <td>Forsyth St &amp; Broome St</td>\n",
       "      <td>5453.05</td>\n",
       "      <td>E 33 St &amp; 1 Ave</td>\n",
       "      <td>6197.08</td>\n",
       "      <td>40.718939</td>\n",
       "      <td>-73.992663</td>\n",
       "      <td>40.743227</td>\n",
       "      <td>-73.974498</td>\n",
       "      <td>member</td>\n",
       "    </tr>\n",
       "    <tr>\n",
       "      <th>1</th>\n",
       "      <td>E42C1EDE5F256E87</td>\n",
       "      <td>classic_bike</td>\n",
       "      <td>2020-09-14 18:34:08.324</td>\n",
       "      <td>2020-09-14 18:36:07.759</td>\n",
       "      <td>1 Ave &amp; E 18 St</td>\n",
       "      <td>5854.09</td>\n",
       "      <td>E 20 St &amp; FDR Drive</td>\n",
       "      <td>5886.02</td>\n",
       "      <td>40.733812</td>\n",
       "      <td>-73.980544</td>\n",
       "      <td>40.733143</td>\n",
       "      <td>-73.975739</td>\n",
       "      <td>member</td>\n",
       "    </tr>\n",
       "  </tbody>\n",
       "</table>\n",
       "</div>"
      ],
      "text/plain": [
       "            ride_id rideable_type               started_at  \\\n",
       "0  A955EE529EC6DF27  classic_bike  2020-12-23 16:31:04.165   \n",
       "1  E42C1EDE5F256E87  classic_bike  2020-09-14 18:34:08.324   \n",
       "\n",
       "                  ended_at      start_station_name start_station_id  \\\n",
       "0  2020-12-23 16:45:28.611  Forsyth St & Broome St          5453.05   \n",
       "1  2020-09-14 18:36:07.759         1 Ave & E 18 St          5854.09   \n",
       "\n",
       "      end_station_name end_station_id  start_lat  start_lng    end_lat  \\\n",
       "0      E 33 St & 1 Ave        6197.08  40.718939 -73.992663  40.743227   \n",
       "1  E 20 St & FDR Drive        5886.02  40.733812 -73.980544  40.733143   \n",
       "\n",
       "     end_lng member_casual  \n",
       "0 -73.974498        member  \n",
       "1 -73.975739        member  "
      ]
     },
     "execution_count": 10,
     "metadata": {},
     "output_type": "execute_result"
    }
   ],
   "source": [
    "df_2020_2025.head(2)"
   ]
  },
  {
   "cell_type": "code",
   "execution_count": null,
   "id": "792d131b-16ed-496d-9c75-7bf05de3ec82",
   "metadata": {},
   "outputs": [],
   "source": []
  },
  {
   "cell_type": "markdown",
   "id": "78371ab2-e840-4dbe-afe5-048c038fdc14",
   "metadata": {},
   "source": [
    "#### 0. Data import"
   ]
  },
  {
   "cell_type": "code",
   "execution_count": 11,
   "id": "979a88f7-c396-45f6-a99e-131aa994a971",
   "metadata": {},
   "outputs": [],
   "source": [
    "import pandas as pd\n",
    "import plotly.express as px\n",
    "import plotly.graph_objects as go\n",
    "from plotly.subplots import make_subplots\n",
    "import numpy as np\n",
    "from datetime import datetime"
   ]
  },
  {
   "cell_type": "code",
   "execution_count": null,
   "id": "a97053a9-ee16-49ec-bd80-d799d7f9bc2d",
   "metadata": {},
   "outputs": [],
   "source": []
  },
  {
   "cell_type": "markdown",
   "id": "fd467a54-c53b-443b-a07a-31605780af92",
   "metadata": {},
   "source": [
    "#### 1. Prophet forecast"
   ]
  },
  {
   "cell_type": "code",
   "execution_count": 12,
   "id": "3b1b0331-4068-4355-a688-7a68f52dc063",
   "metadata": {},
   "outputs": [
    {
     "data": {
      "text/plain": [
       "'C:\\\\Users\\\\rajpprit\\\\Documents\\\\UK I&I\\\\Trainings\\\\Vizcon 2025\\\\New York city bike data\\\\data_processed\\\\Pickel files'"
      ]
     },
     "execution_count": 12,
     "metadata": {},
     "output_type": "execute_result"
    }
   ],
   "source": [
    "os.getcwd()"
   ]
  },
  {
   "cell_type": "code",
   "execution_count": 13,
   "id": "1ca008bc-d5e1-42b2-8460-c522ad0cfabf",
   "metadata": {},
   "outputs": [],
   "source": [
    "os.chdir(\"C:\\\\Users\\\\rajpprit\\\\Documents\\\\UK I&I\\\\Trainings\\\\Vizcon 2025\\\\New York city bike data\")"
   ]
  },
  {
   "cell_type": "code",
   "execution_count": 14,
   "id": "4df25be4-8c6f-4cbb-bfb3-7407ed156301",
   "metadata": {},
   "outputs": [
    {
     "data": {
      "text/plain": [
       "'C:\\\\Users\\\\rajpprit\\\\Documents\\\\UK I&I\\\\Trainings\\\\Vizcon 2025\\\\New York city bike data'"
      ]
     },
     "execution_count": 14,
     "metadata": {},
     "output_type": "execute_result"
    }
   ],
   "source": [
    "os.getcwd()"
   ]
  },
  {
   "cell_type": "code",
   "execution_count": null,
   "id": "2f943725-0dbc-4b93-9da2-3af5d3cb8397",
   "metadata": {},
   "outputs": [],
   "source": []
  },
  {
   "cell_type": "code",
   "execution_count": 34,
   "id": "e2e362ba-5bb4-42c7-b660-3c6ef5bd842c",
   "metadata": {},
   "outputs": [],
   "source": [
    "import pandas as pd\n",
    "import plotly.graph_objects as go\n",
    "from prophet import Prophet\n",
    "from datetime import datetime\n",
    "\n",
    "# Prepare data for Prophet\n",
    "def prepare_data_for_prophet(df):\n",
    "    # Convert to datetime if not already\n",
    "    df['started_at'] = pd.to_datetime(df['started_at'])\n",
    "    \n",
    "    # Group by date and count rides\n",
    "    daily_rides = df.groupby(df['started_at'].dt.date).size().reset_index()\n",
    "    daily_rides.columns = ['ds', 'y']\n",
    "    daily_rides['ds'] = pd.to_datetime(daily_rides['ds'])\n",
    "    \n",
    "    # Scale up the counts (20% sample)\n",
    "    daily_rides['y'] = daily_rides['y'] * 5\n",
    "    \n",
    "    return daily_rides\n",
    "\n",
    "# Create forecast\n",
    "def create_forecast(daily_rides):\n",
    "    # Initialize and fit Prophet model\n",
    "    model = Prophet(\n",
    "        yearly_seasonality=True,\n",
    "        weekly_seasonality=True,\n",
    "        daily_seasonality=False,\n",
    "        changepoint_prior_scale=0.05,\n",
    "        seasonality_prior_scale=10,\n",
    "        changepoint_range=0.95\n",
    "    )\n",
    "    \n",
    "    model.fit(daily_rides[['ds', 'y']])\n",
    "    \n",
    "    # Create future dates (2 years)\n",
    "    future_dates = model.make_future_dataframe(periods=730)\n",
    "    \n",
    "    # Make predictions\n",
    "    forecast = model.predict(future_dates)\n",
    "    \n",
    "    return forecast\n",
    "\n",
    "def create_forecast_plot(daily_rides, forecast, output_path):\n",
    "    # Create figure\n",
    "    fig = go.Figure()\n",
    "    \n",
    "    # Add actual values\n",
    "    fig.add_trace(go.Scatter(\n",
    "        x=daily_rides['ds'],\n",
    "        y=daily_rides['y'],\n",
    "        name='Actual Rides',\n",
    "        line=dict(color='rgba(0,114,206,0.7)', width=1),  # Same blue as the reference chart\n",
    "        hovertemplate=\"<b>Date: %{x}</b><br>\" +\n",
    "                     \"<b>Rides: %{y:,.0f}</b><br>\" +\n",
    "                     \"<extra></extra>\",\n",
    "        hoverlabel=dict(\n",
    "            bgcolor='rgba(26, 31, 53, 0.9)',\n",
    "            bordercolor='rgba(255, 255, 255, 0.3)',\n",
    "            font=dict(size=14, color='white')\n",
    "        )\n",
    "    ))\n",
    "    \n",
    "    # Add confidence interval only for forecast period\n",
    "    fig.add_trace(go.Scatter(\n",
    "        x=forecast['ds'][len(daily_rides):],\n",
    "        y=forecast['yhat_upper'][len(daily_rides):],\n",
    "        mode='lines',\n",
    "        line=dict(width=0),\n",
    "        showlegend=False,\n",
    "        hoverinfo='skip'\n",
    "    ))\n",
    "    \n",
    "    fig.add_trace(go.Scatter(\n",
    "        x=forecast['ds'][len(daily_rides):],\n",
    "        y=forecast['yhat_lower'][len(daily_rides):],\n",
    "        mode='lines',\n",
    "        line=dict(width=0),\n",
    "        fillcolor='rgba(155,229,100,0.2)',\n",
    "        fill='tonexty',\n",
    "        showlegend=True,\n",
    "        name='95% Confidence Interval',\n",
    "        hoverinfo='skip'\n",
    "    ))\n",
    "    \n",
    "    # Add forecast\n",
    "    fig.add_trace(go.Scatter(\n",
    "        x=forecast['ds'][len(daily_rides):],\n",
    "        y=forecast['yhat'][len(daily_rides):],\n",
    "        name='Forecasted Rides',\n",
    "        line=dict(color='rgba(155,229,100,0.8)', width=1),\n",
    "        hovertemplate=\"<b>Date: %{x}</b><br>\" +\n",
    "                     \"<b>Forecasted Rides: %{y:,.0f}</b><br>\" +\n",
    "                     \"<extra></extra>\",\n",
    "        hoverlabel=dict(\n",
    "            bgcolor='rgba(26, 31, 53, 0.9)',\n",
    "            bordercolor='rgba(255, 255, 255, 0.3)',\n",
    "            font=dict(size=14, color='white')\n",
    "        )\n",
    "    ))\n",
    "    \n",
    "    # Update layout\n",
    "    fig.update_layout(\n",
    "        title=dict(\n",
    "            text=\"Daily Rides Forecast (2-Year Prediction)\",\n",
    "            y=0.95,\n",
    "            x=0.5,\n",
    "            xanchor='center',\n",
    "            yanchor='top',\n",
    "            font=dict(color='#00fff2', size=24)\n",
    "        ),\n",
    "        width=800,  # Matched to reference chart\n",
    "        height=500,  # Matched to reference chart\n",
    "        paper_bgcolor='rgba(0,0,0,0)',\n",
    "        plot_bgcolor='rgba(0,0,0,0)',\n",
    "        showlegend=True,\n",
    "        legend=dict(\n",
    "            yanchor=\"top\",\n",
    "            y=0.99,\n",
    "            xanchor=\"left\",\n",
    "            x=0.01,\n",
    "            font=dict(color='white'),\n",
    "            bgcolor='rgba(0,0,0,0)'\n",
    "        ),\n",
    "        xaxis=dict(\n",
    "            showgrid=False,\n",
    "            tickfont=dict(color='white'),\n",
    "            title_font=dict(color='#00fff2'),\n",
    "            title=dict(\n",
    "                # text=\"Date\",\n",
    "                font=dict(color='#00fff2')\n",
    "            ),\n",
    "            tickformat='%Y-%m-%d',\n",
    "            range=[daily_rides['ds'].min(), forecast['ds'].max()],\n",
    "            tickangle=0\n",
    "        ),\n",
    "        yaxis=dict(\n",
    "            showgrid=False,\n",
    "            tickfont=dict(color='white'),\n",
    "            title_font=dict(color='#00fff2'),\n",
    "            title=dict(\n",
    "                text=\"Number of Rides\",\n",
    "                font=dict(color='#00fff2')\n",
    "            ),\n",
    "            tickformat=\",d\"\n",
    "        ),\n",
    "        hovermode='x unified',\n",
    "        hoverlabel=dict(\n",
    "            bgcolor='rgba(26, 31, 53, 0.9)',\n",
    "            bordercolor='rgba(255, 255, 255, 0.3)',\n",
    "            font=dict(size=14, color='white')\n",
    "        ),\n",
    "        margin=dict(l=80, r=40, t=80, b=40)\n",
    "    )\n",
    "    \n",
    "    # Save the figure\n",
    "    fig.write_html(output_path,\n",
    "                  full_html=False,\n",
    "                  include_plotlyjs='cdn')\n",
    "    \n",
    "    return fig \n",
    "\n",
    "# Rest of the code remains the same"
   ]
  },
  {
   "cell_type": "code",
   "execution_count": null,
   "id": "87c73543-5c33-4111-9b18-6c6e5b49abd1",
   "metadata": {},
   "outputs": [],
   "source": []
  },
  {
   "cell_type": "code",
   "execution_count": 29,
   "id": "3d89a820-1766-4f79-bffd-4492cf5a5acd",
   "metadata": {},
   "outputs": [
    {
     "data": {
      "text/plain": [
       "'C:\\\\Users\\\\rajpprit\\\\Documents\\\\UK I&I\\\\Trainings\\\\Vizcon 2025\\\\New York city bike data'"
      ]
     },
     "execution_count": 29,
     "metadata": {},
     "output_type": "execute_result"
    }
   ],
   "source": [
    "os.getcwd()"
   ]
  },
  {
   "cell_type": "code",
   "execution_count": 30,
   "id": "09925459-e1c9-4645-8b54-cd6de2c7f676",
   "metadata": {},
   "outputs": [],
   "source": [
    "os.chdir(\"C:\\\\Users\\\\rajpprit\\\\Documents\\\\UK I&I\\\\Trainings\\\\Vizcon 2025\\\\New York city bike data\")"
   ]
  },
  {
   "cell_type": "code",
   "execution_count": 31,
   "id": "4b3a9b56-8658-4230-a4fb-471a33d56bde",
   "metadata": {},
   "outputs": [
    {
     "name": "stdout",
     "output_type": "stream",
     "text": [
      "Preparing data...\n",
      "Creating forecast...\n"
     ]
    },
    {
     "name": "stderr",
     "output_type": "stream",
     "text": [
      "00:44:28 - cmdstanpy - INFO - Chain [1] start processing\n",
      "00:44:29 - cmdstanpy - INFO - Chain [1] done processing\n"
     ]
    },
    {
     "name": "stdout",
     "output_type": "stream",
     "text": [
      "Creating visualization...\n",
      "Forecast visualization saved at site/charts/rides_forecast_2years_daily.html\n"
     ]
    }
   ],
   "source": [
    "print(\"Preparing data...\")\n",
    "daily_rides = prepare_data_for_prophet(df_2020_2025)\n",
    "\n",
    "# Create forecast\n",
    "print(\"Creating forecast...\")\n",
    "forecast = create_forecast(daily_rides)\n",
    "\n"
   ]
  },
  {
   "cell_type": "code",
   "execution_count": null,
   "id": "8ed6533b-015e-4aae-9b40-cf28aa3d5cf4",
   "metadata": {},
   "outputs": [],
   "source": []
  },
  {
   "cell_type": "code",
   "execution_count": 35,
   "id": "9f4fcd74-4663-48dc-b056-daf23d4abc7c",
   "metadata": {},
   "outputs": [
    {
     "name": "stdout",
     "output_type": "stream",
     "text": [
      "Creating visualization...\n",
      "Forecast visualization saved at site/charts/rides_forecast_2years_daily.html\n"
     ]
    }
   ],
   "source": [
    "# Create and save visualization\n",
    "print(\"Creating visualization...\")\n",
    "output_path = \"site/charts/rides_forecast_2years_daily.html\"\n",
    "fig = create_forecast_plot(daily_rides, forecast, output_path)\n",
    "\n",
    "print(f\"Forecast visualization saved at {output_path}\")"
   ]
  },
  {
   "cell_type": "code",
   "execution_count": null,
   "id": "2c3eeb07-1985-4550-95c3-6a6f2e692d1a",
   "metadata": {},
   "outputs": [],
   "source": []
  },
  {
   "cell_type": "code",
   "execution_count": null,
   "id": "d0eb0a78-819c-41ec-9fff-bc0fa6e7e59e",
   "metadata": {},
   "outputs": [],
   "source": []
  },
  {
   "cell_type": "code",
   "execution_count": null,
   "id": "e53b8120-5eb8-45ed-bd2e-63da34ee334f",
   "metadata": {},
   "outputs": [],
   "source": []
  },
  {
   "cell_type": "code",
   "execution_count": null,
   "id": "00ecaa8c-2349-4984-96c3-423efd1693ce",
   "metadata": {},
   "outputs": [],
   "source": []
  }
 ],
 "metadata": {
  "kernelspec": {
   "display_name": "Python 3 (ipykernel)",
   "language": "python",
   "name": "python3"
  },
  "language_info": {
   "codemirror_mode": {
    "name": "ipython",
    "version": 3
   },
   "file_extension": ".py",
   "mimetype": "text/x-python",
   "name": "python",
   "nbconvert_exporter": "python",
   "pygments_lexer": "ipython3",
   "version": "3.12.7"
  }
 },
 "nbformat": 4,
 "nbformat_minor": 5
}
