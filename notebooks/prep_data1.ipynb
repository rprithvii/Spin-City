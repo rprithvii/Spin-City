{
 "cells": [
  {
   "cell_type": "code",
   "execution_count": 1,
   "id": "13981ee6-aa8b-4aa8-8a6b-a98430d5d67b",
   "metadata": {},
   "outputs": [],
   "source": [
    "%reset -f"
   ]
  },
  {
   "cell_type": "code",
   "execution_count": 2,
   "id": "f3cf6294-8177-4add-87cd-88c5dca8abdc",
   "metadata": {},
   "outputs": [],
   "source": [
    "import pandas as pd\n",
    "import numpy as np\n",
    "import os\n",
    "import sys"
   ]
  },
  {
   "cell_type": "code",
   "execution_count": 3,
   "id": "3efea2bb-5ceb-4cfa-a422-7f4c969dc2cb",
   "metadata": {},
   "outputs": [],
   "source": [
    "# Set display options\n",
    "pd.set_option('display.max_columns', None)\n",
    "pd.set_option('display.max_rows', None)\n",
    "pd.set_option('display.width', None)\n",
    "pd.set_option('display.max_colwidth', None)"
   ]
  },
  {
   "cell_type": "code",
   "execution_count": 4,
   "id": "0dc8e220-1128-414f-8d72-4adeef080722",
   "metadata": {},
   "outputs": [
    {
     "data": {
      "text/plain": [
       "'C:\\\\Users\\\\rajpprit\\\\Documents\\\\UK I&I\\\\Trainings\\\\Vizcon 2025\\\\New York city bike data\\\\notebooks'"
      ]
     },
     "execution_count": 4,
     "metadata": {},
     "output_type": "execute_result"
    }
   ],
   "source": [
    "os.getcwd()"
   ]
  },
  {
   "cell_type": "code",
   "execution_count": null,
   "id": "6fb4b69f-c145-4503-9561-3092b750dcf8",
   "metadata": {},
   "outputs": [],
   "source": []
  },
  {
   "cell_type": "code",
   "execution_count": 5,
   "id": "b521280b-4413-4ca3-b479-5fc70d312b72",
   "metadata": {},
   "outputs": [],
   "source": [
    "os.chdir(\"..\")"
   ]
  },
  {
   "cell_type": "code",
   "execution_count": 6,
   "id": "b4eba8fd-6bb3-4123-ad34-cb6c3b7a37aa",
   "metadata": {},
   "outputs": [
    {
     "data": {
      "text/plain": [
       "'C:\\\\Users\\\\rajpprit\\\\Documents\\\\UK I&I\\\\Trainings\\\\Vizcon 2025\\\\New York city bike data'"
      ]
     },
     "execution_count": 6,
     "metadata": {},
     "output_type": "execute_result"
    }
   ],
   "source": [
    "os.getcwd()"
   ]
  },
  {
   "cell_type": "code",
   "execution_count": 7,
   "id": "d818da06-1539-424e-979e-0933e04cd29e",
   "metadata": {},
   "outputs": [
    {
     "data": {
      "text/plain": [
       "['.virtual_documents',\n",
       " 'Community',\n",
       " 'data_processed',\n",
       " 'data_raw',\n",
       " 'desktop.ini',\n",
       " 'notebooks',\n",
       " 'site']"
      ]
     },
     "execution_count": 7,
     "metadata": {},
     "output_type": "execute_result"
    }
   ],
   "source": [
    "os.listdir()"
   ]
  },
  {
   "cell_type": "code",
   "execution_count": 8,
   "id": "d7226bcf-5571-4407-9280-b3b74f9b007c",
   "metadata": {},
   "outputs": [],
   "source": [
    "os.chdir(\"./data_processed\")"
   ]
  },
  {
   "cell_type": "code",
   "execution_count": 9,
   "id": "abef0be6-06e7-4ad8-a2ec-8d79218b86e8",
   "metadata": {},
   "outputs": [
    {
     "data": {
      "text/plain": [
       "'C:\\\\Users\\\\rajpprit\\\\Documents\\\\UK I&I\\\\Trainings\\\\Vizcon 2025\\\\New York city bike data\\\\data_processed'"
      ]
     },
     "execution_count": 9,
     "metadata": {},
     "output_type": "execute_result"
    }
   ],
   "source": [
    "os.getcwd()"
   ]
  },
  {
   "cell_type": "code",
   "execution_count": 10,
   "id": "64c71ffa-e524-4c31-b156-abad33ae8b25",
   "metadata": {},
   "outputs": [
    {
     "data": {
      "text/plain": [
       "['Pickel files']"
      ]
     },
     "execution_count": 10,
     "metadata": {},
     "output_type": "execute_result"
    }
   ],
   "source": [
    "os.listdir()"
   ]
  },
  {
   "cell_type": "code",
   "execution_count": 11,
   "id": "3541a783-6001-41cb-8d0c-c926e09d8b3a",
   "metadata": {},
   "outputs": [],
   "source": [
    "os.chdir(\"./Pickel files\")"
   ]
  },
  {
   "cell_type": "code",
   "execution_count": 12,
   "id": "95fba394-1b0a-473d-918e-e263aa34e3ec",
   "metadata": {},
   "outputs": [
    {
     "data": {
      "text/plain": [
       "'C:\\\\Users\\\\rajpprit\\\\Documents\\\\UK I&I\\\\Trainings\\\\Vizcon 2025\\\\New York city bike data\\\\data_processed\\\\Pickel files'"
      ]
     },
     "execution_count": 12,
     "metadata": {},
     "output_type": "execute_result"
    }
   ],
   "source": [
    "os.getcwd()"
   ]
  },
  {
   "cell_type": "code",
   "execution_count": null,
   "id": "b3b103a2-0a45-48f5-b4ca-1bf645cfedcd",
   "metadata": {},
   "outputs": [],
   "source": []
  },
  {
   "cell_type": "markdown",
   "id": "0a5facb6-2e5e-406e-8876-d57874037e59",
   "metadata": {},
   "source": [
    "#### Important files and saving after removing duplciates"
   ]
  },
  {
   "cell_type": "code",
   "execution_count": 109,
   "id": "53b6a949-0bcd-4431-b14b-fca83746a9d7",
   "metadata": {},
   "outputs": [
    {
     "name": "stdout",
     "output_type": "stream",
     "text": [
      "Processing df_2013.pkl ...\n",
      "✅ df_2013.pkl: 0 duplicates removed (5614888 rows kept)\n",
      "Processing df_2014.pkl ...\n",
      "✅ df_2014.pkl: 0 duplicates removed (8081216 rows kept)\n",
      "Processing df_2015.pkl ...\n",
      "✅ df_2015.pkl: 0 duplicates removed (9937968 rows kept)\n",
      "Processing df_2016.pkl ...\n",
      "✅ df_2016.pkl: 0 duplicates removed (10262649 rows kept)\n",
      "Processing df_2017.pkl ...\n",
      "✅ df_2017.pkl: 0 duplicates removed (14118669 rows kept)\n",
      "Processing df_2018.pkl ...\n",
      "✅ df_2018.pkl: 0 duplicates removed (17548339 rows kept)\n",
      "Processing df_2019.pkl ...\n",
      "✅ df_2019.pkl: 0 duplicates removed (20551697 rows kept)\n",
      "Processing df_2020.pkl ...\n",
      "✅ df_2020.pkl: 0 duplicates removed (19562314 rows kept)\n",
      "Processing df_2021.pkl ...\n",
      "✅ df_2021.pkl: 0 duplicates removed (27130122 rows kept)\n",
      "Processing df_2022.pkl ...\n",
      "✅ df_2022.pkl: 0 duplicates removed (29838806 rows kept)\n",
      "Processing df_2023.pkl ...\n",
      "✅ df_2023.pkl: 0 duplicates removed (35106986 rows kept)\n",
      "Processing df_2024.pkl ...\n",
      "✅ df_2024.pkl: 0 duplicates removed (44303209 rows kept)\n",
      "Processing df_2025.pkl ...\n",
      "✅ df_2025.pkl: 0 duplicates removed (25121550 rows kept)\n",
      "Processing JC_df_2015.pkl ...\n",
      "✅ JC_df_2015.pkl: 0 duplicates removed (52883 rows kept)\n",
      "Processing JC_df_2016.pkl ...\n",
      "✅ JC_df_2016.pkl: 0 duplicates removed (247584 rows kept)\n",
      "Processing JC_df_2017.pkl ...\n",
      "✅ JC_df_2017.pkl: 0 duplicates removed (294928 rows kept)\n",
      "Processing JC_df_2018.pkl ...\n",
      "✅ JC_df_2018.pkl: 0 duplicates removed (353892 rows kept)\n",
      "Processing JC_df_2019.pkl ...\n",
      "✅ JC_df_2019.pkl: 0 duplicates removed (404947 rows kept)\n",
      "Processing JC_df_2020.pkl ...\n",
      "✅ JC_df_2020.pkl: 0 duplicates removed (323351 rows kept)\n",
      "Processing JC_df_2021.pkl ...\n",
      "✅ JC_df_2021.pkl: 0 duplicates removed (644443 rows kept)\n",
      "Processing JC_df_2022.pkl ...\n",
      "✅ JC_df_2022.pkl: 0 duplicates removed (895485 rows kept)\n",
      "Processing JC_df_2023.pkl ...\n",
      "✅ JC_df_2023.pkl: 0 duplicates removed (988851 rows kept)\n",
      "Processing JC_df_2024.pkl ...\n",
      "✅ JC_df_2024.pkl: 0 duplicates removed (1052451 rows kept)\n",
      "Processing JC_df_2025.pkl ...\n",
      "✅ JC_df_2025.pkl: 0 duplicates removed (548789 rows kept)\n",
      "🎯 All pickle files cleaned and saved back.\n"
     ]
    }
   ],
   "source": [
    "import pandas as pd\n",
    "import glob\n",
    "import os\n",
    "\n",
    "# Your pickle directory\n",
    "pkl_folder = r\"C:\\Users\\rajpprit\\Documents\\UK I&I\\Trainings\\Vizcon 2025\\New York city bike data\\data_processed\\Pickel files\"\n",
    "\n",
    "# Loop through all pickle files\n",
    "for pkl_file in glob.glob(os.path.join(pkl_folder, \"*.pkl\")):\n",
    "    print(f\"Processing {os.path.basename(pkl_file)} ...\")\n",
    "    \n",
    "    # Load\n",
    "    df = pd.read_pickle(pkl_file)\n",
    "    \n",
    "    # Drop duplicates\n",
    "    before = df.shape[0]\n",
    "    df = df.drop_duplicates()\n",
    "    after = df.shape[0]\n",
    "    \n",
    "    # Save back (overwrite same file)\n",
    "    df.to_pickle(pkl_file)\n",
    "    \n",
    "    print(f\"✅ {os.path.basename(pkl_file)}: {before - after} duplicates removed ({after} rows kept)\")\n",
    "\n",
    "print(\"🎯 All pickle files cleaned and saved back.\")\n"
   ]
  },
  {
   "cell_type": "code",
   "execution_count": null,
   "id": "10552ffc-92f1-46b4-ad2e-438dde87f564",
   "metadata": {},
   "outputs": [],
   "source": []
  },
  {
   "cell_type": "code",
   "execution_count": 13,
   "id": "ef119a35-4ade-4e15-9c59-d327107dd425",
   "metadata": {},
   "outputs": [
    {
     "data": {
      "text/plain": [
       "'C:\\\\Users\\\\rajpprit\\\\Documents\\\\UK I&I\\\\Trainings\\\\Vizcon 2025\\\\New York city bike data\\\\data_processed\\\\Pickel files'"
      ]
     },
     "execution_count": 13,
     "metadata": {},
     "output_type": "execute_result"
    }
   ],
   "source": [
    "os.getcwd()"
   ]
  },
  {
   "cell_type": "code",
   "execution_count": null,
   "id": "e745f7d1-48ae-4eba-9c46-3f918d32b06f",
   "metadata": {},
   "outputs": [],
   "source": []
  },
  {
   "cell_type": "code",
   "execution_count": 14,
   "id": "3d8eddce-5cbf-4cab-beee-35606197d83f",
   "metadata": {},
   "outputs": [
    {
     "data": {
      "text/plain": [
       "'C:\\\\Users\\\\rajpprit\\\\Documents\\\\UK I&I\\\\Trainings\\\\Vizcon 2025\\\\New York city bike data\\\\data_processed\\\\Pickel files'"
      ]
     },
     "execution_count": 14,
     "metadata": {},
     "output_type": "execute_result"
    }
   ],
   "source": [
    "os.getcwd()"
   ]
  },
  {
   "cell_type": "code",
   "execution_count": null,
   "id": "b863d6b6-6af1-4973-8656-c4bbce6c5700",
   "metadata": {},
   "outputs": [],
   "source": []
  },
  {
   "cell_type": "code",
   "execution_count": null,
   "id": "dec63d29-a52e-4ec8-ace0-57812535ebc0",
   "metadata": {},
   "outputs": [],
   "source": []
  },
  {
   "cell_type": "markdown",
   "id": "87a2c808-e83d-45bd-a5ff-e6a695e10af1",
   "metadata": {},
   "source": [
    "#### Importing files from 2020 to 2025 and saving as single file (20% sample)"
   ]
  },
  {
   "cell_type": "code",
   "execution_count": 15,
   "id": "42e3b4fa-97dc-405c-bab7-a22a86161cdd",
   "metadata": {},
   "outputs": [
    {
     "name": "stdout",
     "output_type": "stream",
     "text": [
      "📂 Loading C:\\Users\\rajpprit\\Documents\\UK I&I\\Trainings\\Vizcon 2025\\New York city bike data\\data_processed\\Pickel files\\df_2020.pkl ...\n",
      "   Original shape: (19562314, 13)\n",
      "   Sampled shape: (3912463, 13)\n",
      "📂 Loading C:\\Users\\rajpprit\\Documents\\UK I&I\\Trainings\\Vizcon 2025\\New York city bike data\\data_processed\\Pickel files\\df_2021.pkl ...\n",
      "   Original shape: (27130122, 13)\n",
      "   Sampled shape: (5426024, 13)\n",
      "📂 Loading C:\\Users\\rajpprit\\Documents\\UK I&I\\Trainings\\Vizcon 2025\\New York city bike data\\data_processed\\Pickel files\\df_2022.pkl ...\n",
      "   Original shape: (29838806, 13)\n",
      "   Sampled shape: (5967761, 13)\n",
      "📂 Loading C:\\Users\\rajpprit\\Documents\\UK I&I\\Trainings\\Vizcon 2025\\New York city bike data\\data_processed\\Pickel files\\df_2023.pkl ...\n",
      "   Original shape: (35106986, 13)\n",
      "   Sampled shape: (7021397, 13)\n",
      "📂 Loading C:\\Users\\rajpprit\\Documents\\UK I&I\\Trainings\\Vizcon 2025\\New York city bike data\\data_processed\\Pickel files\\df_2024.pkl ...\n",
      "   Original shape: (44303209, 13)\n",
      "   Sampled shape: (8860642, 13)\n",
      "📂 Loading C:\\Users\\rajpprit\\Documents\\UK I&I\\Trainings\\Vizcon 2025\\New York city bike data\\data_processed\\Pickel files\\df_2025.pkl ...\n",
      "   Original shape: (25121550, 13)\n",
      "   Sampled shape: (5024310, 13)\n",
      "\n",
      "✅ Final combined DataFrame shape: (36212597, 13)\n",
      "✅ Combined file saved: C:\\Users\\rajpprit\\Documents\\UK I&I\\Trainings\\Vizcon 2025\\New York city bike data\\data_processed\\Pickel files\\df_2020_2025.pkl\n"
     ]
    }
   ],
   "source": [
    "import pandas as pd\n",
    "import os\n",
    "\n",
    "# Folder path\n",
    "pkl_folder = r\"C:\\Users\\rajpprit\\Documents\\UK I&I\\Trainings\\Vizcon 2025\\New York city bike data\\data_processed\\Pickel files\"\n",
    "\n",
    "# Years to load\n",
    "years = range(2020, 2026)\n",
    "df_list = []\n",
    "\n",
    "for year in years:\n",
    "    file_path = os.path.join(pkl_folder, f\"df_{year}.pkl\")\n",
    "    \n",
    "    if os.path.exists(file_path):\n",
    "        print(f\"📂 Loading {file_path} ...\")\n",
    "        \n",
    "        # Read file\n",
    "        df = pd.read_pickle(file_path)\n",
    "        print(f\"   Original shape: {df.shape}\")\n",
    "        \n",
    "        # Take 90% random sample\n",
    "        df = df.sample(frac=0.2, random_state=42)  # fixed seed for reproducibility\n",
    "        print(f\"   Sampled shape: {df.shape}\")\n",
    "        \n",
    "        df_list.append(df)\n",
    "    else:\n",
    "        print(f\"⚠️ File not found: {file_path}\")\n",
    "\n",
    "# Combine all sampled data\n",
    "if df_list:\n",
    "    df_combined = pd.concat(df_list, ignore_index=True)\n",
    "    print(f\"\\n✅ Final combined DataFrame shape: {df_combined.shape}\")\n",
    "    \n",
    "    # Save combined file\n",
    "    output_file = os.path.join(pkl_folder, \"df_2020_2025.pkl\")\n",
    "    df_combined.to_pickle(output_file)\n",
    "    print(f\"✅ Combined file saved: {output_file}\")\n",
    "else:\n",
    "    print(\"❌ No data files found for 2020–2025\")"
   ]
  },
  {
   "cell_type": "code",
   "execution_count": null,
   "id": "56d35c27-f690-4548-9320-386a97f5df62",
   "metadata": {},
   "outputs": [],
   "source": []
  },
  {
   "cell_type": "markdown",
   "id": "46412549-773d-4278-9cd4-875367a8a746",
   "metadata": {},
   "source": [
    "#### 2. Importing files from 2013 to 2019 (20% sample)"
   ]
  },
  {
   "cell_type": "code",
   "execution_count": null,
   "id": "118e6677-a751-458a-8388-28dda1a87803",
   "metadata": {},
   "outputs": [
    {
     "name": "stdout",
     "output_type": "stream",
     "text": [
      "📂 Loading C:\\Users\\rajpprit\\Documents\\UK I&I\\Trainings\\Vizcon 2025\\New York city bike data\\data_processed\\Pickel files\\df_2013.pkl ...\n",
      "   Original shape: (5614888, 15)\n",
      "   Sampled shape: (1122978, 15)\n",
      "📂 Loading C:\\Users\\rajpprit\\Documents\\UK I&I\\Trainings\\Vizcon 2025\\New York city bike data\\data_processed\\Pickel files\\df_2014.pkl ...\n",
      "   Original shape: (8081216, 15)\n",
      "   Sampled shape: (1616243, 15)\n",
      "📂 Loading C:\\Users\\rajpprit\\Documents\\UK I&I\\Trainings\\Vizcon 2025\\New York city bike data\\data_processed\\Pickel files\\df_2015.pkl ...\n",
      "   Original shape: (9937968, 15)\n",
      "   Sampled shape: (1987594, 15)\n",
      "📂 Loading C:\\Users\\rajpprit\\Documents\\UK I&I\\Trainings\\Vizcon 2025\\New York city bike data\\data_processed\\Pickel files\\df_2016.pkl ...\n",
      "   Original shape: (10262649, 15)\n",
      "   Sampled shape: (2052530, 15)\n",
      "📂 Loading C:\\Users\\rajpprit\\Documents\\UK I&I\\Trainings\\Vizcon 2025\\New York city bike data\\data_processed\\Pickel files\\df_2017.pkl ...\n"
     ]
    }
   ],
   "source": [
    "import pandas as pd\n",
    "import os\n",
    "\n",
    "# Folder path\n",
    "pkl_folder = r\"C:\\Users\\rajpprit\\Documents\\UK I&I\\Trainings\\Vizcon 2025\\New York city bike data\\data_processed\\Pickel files\"\n",
    "\n",
    "# Years to load\n",
    "years = range(2013, 2020)\n",
    "df_list = []\n",
    "\n",
    "for year in years:\n",
    "    file_path = os.path.join(pkl_folder, f\"df_{year}.pkl\")\n",
    "    \n",
    "    if os.path.exists(file_path):\n",
    "        print(f\"📂 Loading {file_path} ...\")\n",
    "        \n",
    "        # Read file\n",
    "        df = pd.read_pickle(file_path)\n",
    "        print(f\"   Original shape: {df.shape}\")\n",
    "        \n",
    "        # Take 90% random sample\n",
    "        df = df.sample(frac=0.2, random_state=42)  # fixed seed for reproducibility\n",
    "        print(f\"   Sampled shape: {df.shape}\")\n",
    "        \n",
    "        df_list.append(df)\n",
    "    else:\n",
    "        print(f\"⚠️ File not found: {file_path}\")\n",
    "\n",
    "# Combine all sampled data\n",
    "if df_list:\n",
    "    df_combined = pd.concat(df_list, ignore_index=True)\n",
    "    print(f\"\\n✅ Final combined DataFrame shape: {df_combined.shape}\")\n",
    "    \n",
    "    # Save combined file\n",
    "    output_file = os.path.join(pkl_folder, \"df_2013_2019.pkl\")\n",
    "    df_combined.to_pickle(output_file)\n",
    "    print(f\"✅ Combined file saved: {output_file}\")\n",
    "else:\n",
    "    print(\"❌ No data files found for 2013–2019\")"
   ]
  },
  {
   "cell_type": "code",
   "execution_count": null,
   "id": "7abb0ea4-bd04-48d2-bcbe-b8b5acd624c5",
   "metadata": {},
   "outputs": [],
   "source": []
  },
  {
   "cell_type": "code",
   "execution_count": null,
   "id": "f68374f3-ad33-42ad-a5fe-156a549eff04",
   "metadata": {},
   "outputs": [],
   "source": []
  },
  {
   "cell_type": "code",
   "execution_count": null,
   "id": "14583b3f-8ea6-40d7-a63d-3ef58968f5c3",
   "metadata": {},
   "outputs": [],
   "source": []
  },
  {
   "cell_type": "code",
   "execution_count": null,
   "id": "d18b4598-037a-4039-bffd-a827c99fdd92",
   "metadata": {},
   "outputs": [],
   "source": []
  },
  {
   "cell_type": "code",
   "execution_count": null,
   "id": "5d9fa73c-37eb-4098-9e7a-43415c230add",
   "metadata": {},
   "outputs": [],
   "source": []
  },
  {
   "cell_type": "code",
   "execution_count": null,
   "id": "70af1518-abc7-4ae9-9b95-7b11b8c429ff",
   "metadata": {},
   "outputs": [],
   "source": []
  }
 ],
 "metadata": {
  "kernelspec": {
   "display_name": "Python 3 (ipykernel)",
   "language": "python",
   "name": "python3"
  },
  "language_info": {
   "codemirror_mode": {
    "name": "ipython",
    "version": 3
   },
   "file_extension": ".py",
   "mimetype": "text/x-python",
   "name": "python",
   "nbconvert_exporter": "python",
   "pygments_lexer": "ipython3",
   "version": "3.12.7"
  }
 },
 "nbformat": 4,
 "nbformat_minor": 5
}
