%reset -f


import pandas as pd
import numpy as np
import os
import sys


# Set display options
pd.set_option('display.max_columns', None)
pd.set_option('display.max_rows', None)
pd.set_option('display.width', None)
pd.set_option('display.max_colwidth', None)


os.getcwd()


os.chdir("..")


os.getcwd()


os.listdir()

















os.getcwd()





# -----------------------------
# 2. Sample Data Preparation
# -----------------------------
os.chdir("C:\\Users\\rajpprit\\Documents\\UK I&I\\Trainings\\Vizcon 2025\\New York city bike data\\data_processed\\Pickel files")
# df_2013_2019 = pd.read_pickle("df_2013_2019.pkl")
df_2020_2025 = pd.read_pickle("df_2020_2025.pkl")
# df = df_2020_2025.copy()  # your 60% sampled dataframe


# df_2013_2019.head(2)


df_2020_2025.head(2)


# For df_2013_2019
# Convert starttime to datetime with the correct format
# df_2013_2019['starttime'] = pd.to_datetime(df_2013_2019['starttime'], format='mixed')

# # Create new columns
# df_2013_2019['year'] = df_2013_2019['starttime'].dt.year
# df_2013_2019['month'] = df_2013_2019['starttime'].dt.month
# df_2013_2019['day'] = df_2013_2019['starttime'].dt.day
# df_2013_2019['hour'] = df_2013_2019['starttime'].dt.hour
# df_2013_2019['day_of_week'] = df_2013_2019['starttime'].dt.day_name()

# For df_2020_2025
# Convert started_at to datetime
df_2020_2025['started_at'] = pd.to_datetime(df_2020_2025['started_at'])

# Create new columns
df_2020_2025['year'] = df_2020_2025['started_at'].dt.year
df_2020_2025['month'] = df_2020_2025['started_at'].dt.month
df_2020_2025['day'] = df_2020_2025['started_at'].dt.day
df_2020_2025['hour'] = df_2020_2025['started_at'].dt.hour
df_2020_2025['day_of_week'] = df_2020_2025['started_at'].dt.day_name()






# df_2013_2019.head(2)


# (df_2013_2019.shape[0] + df_2020_2025.shape[0])*5


# df_2024





df_2020_2025.shape[0]


df_2020_2025.head(2)


df_2020_2025['start_station_id'].nunique()


# df_2020_2025['member_casual']





# df_2013_2019['year'].value_counts()


df_2020_2025['year'].value_counts()











os.chdir("C:\\Users\\rajpprit\\Documents\\UK I&I\\Trainings\\Vizcon 2025\\New York city bike data")


os.getcwd()


# df_2013_2019.head(2)


df_2020_2025.head(2)


# df_2013_2019.shape


df_2020_2025.shape





os.getcwd()








os.chdir("C:\\Users\\rajpprit\\Documents\\UK I&I\\Trainings\\Vizcon 2025\\New York city bike data")
os.getcwd()








import pandas as pd
import plotly.graph_objects as go
from plotly.subplots import make_subplots

# Convert datetime columns and create monthly counts for df_2020_2025
df_2020_2025['started_at'] = pd.to_datetime(df_2020_2025['started_at'])
monthly_rides_2020_2025 = df_2020_2025.groupby(
    df_2020_2025['started_at'].dt.to_period('M')
).size().reset_index()
monthly_rides_2020_2025.columns = ['date', 'rides']
monthly_rides_2020_2025['date'] = monthly_rides_2020_2025['date'].astype(str).apply(pd.to_datetime)

# Get unique stations count for df_2020_2025
monthly_stations_2020_2025 = df_2020_2025.groupby(
    df_2020_2025['started_at'].dt.to_period('M')
).agg({
    'start_station_id': 'nunique'  # Using the correct column name
}).reset_index()
monthly_stations_2020_2025.columns = ['date', 'stations']
monthly_stations_2020_2025['date'] = monthly_stations_2020_2025['date'].astype(str).apply(pd.to_datetime)

# Scale up ONLY the rides (multiply by 5 for 20% sample)
monthly_rides_2020_2025['rides'] = monthly_rides_2020_2025['rides'] * 5

# Calculate the ranges for both y-axes
max_rides = monthly_rides_2020_2025['rides'].max()
min_rides = monthly_rides_2020_2025['rides'].min()
max_stations = monthly_stations_2020_2025['stations'].max()
min_stations = monthly_stations_2020_2025['stations'].min()



import pandas as pd
import plotly.graph_objects as go
from plotly.subplots import make_subplots

# Your data processing code remains the same until the figure creation...

# Create the figure with secondary y-axis
fig = make_subplots(specs=[[{"secondary_y": True}]])

# Add rides as bar chart
fig.add_trace(
    go.Bar(
        x=monthly_rides_2020_2025['date'],
        y=monthly_rides_2020_2025['rides'],
        name="Number of Rides",
        marker_color='rgba(0,114,206,0.3)',
        hovertemplate="<b>Date: %{x}</b><br><b>Rides: %{y:,.0f}</b><extra></extra>",
        hoverlabel=dict(
            bgcolor='rgba(26, 31, 53, 0.9)',
            bordercolor='rgba(255, 255, 255, 0.3)',
            font=dict(size=14, color='white')
        )
    ),
    secondary_y=False
)

# Add stations as line chart
fig.add_trace(
    go.Scatter(
        x=monthly_stations_2020_2025['date'],
        y=monthly_stations_2020_2025['stations'],
        name="Number of Stations",
        line=dict(color='#9BE564', width=3),
        hovertemplate="<b>Date: %{x}</b><br><b>Stations: %{y:,.0f}</b><extra></extra>",
        hoverlabel=dict(
            bgcolor='rgba(26, 31, 53, 0.9)',
            bordercolor='rgba(255, 255, 255, 0.3)',
            font=dict(size=14, color='white')
        )
    ),
    secondary_y=True
)

# Update layout
fig.update_layout(
    title={
        'text': "Rides and stations growth (2020-2025)",
        'y':0.95,
        'x':0.5,
        'xanchor': 'center',
        'yanchor': 'top',
        'font': dict(color='#00fff2', size=24)  # Updated color
    },
    width=800,  # Set specific width
    height=500,  # Set specific height
    paper_bgcolor='rgba(0,0,0,0)',
    plot_bgcolor='rgba(0,0,0,0)',
    showlegend=True,
    legend=dict(
        yanchor="top",
        y=0.99,
        xanchor="left",
        x=0.01,
        font=dict(color='white'),
        bgcolor='rgba(0,0,0,0)'
    ),
    xaxis=dict(
        showgrid=False,
        tickfont=dict(color='white'),
        title_font=dict(color='white'),
        range=['2020-01-01', '2025-12-31'],
        dtick='M12'
    ),
    yaxis=dict(
        showgrid=False,
        tickfont=dict(color='white'),
        title_font=dict(color='#00fff2'),  # Updated color
        title=dict(
            text="Number of Rides",
            font=dict(color='#00fff2')  # Updated color
        ),
        tickformat=",d",
        range=[0, max_rides * 1.1]
    ),
    yaxis2=dict(
        showgrid=False,
        tickfont=dict(color='white'),
        title_font=dict(color='#00fff2'),  # Updated color
        title=dict(
            text="Number of Stations",
            font=dict(color='#00fff2')  # Updated color
        ),
        tickformat=",d",
        range=[0, max_stations * 1.1]
    ),
    hovermode='x unified',
    hoverlabel=dict(
        bgcolor='rgba(26, 31, 53, 0.9)',
        bordercolor='rgba(255, 255, 255, 0.3)',
        font=dict(size=14, color='white')
    ),
    margin=dict(l=80, r=40, t=80, b=40)
)

# Explicitly update y-axes titles
fig.update_yaxes(
    title_text="Number of Rides", 
    title_font=dict(color='#00fff2'),
    secondary_y=False
)
fig.update_yaxes(
    title_text="Number of Stations", 
    title_font=dict(color='#00fff2'),
    secondary_y=True
)

# Save the figure
fig.write_html("site//charts//rides_stations_trend_2020_2025.html", 
               full_html=False, 
               include_plotlyjs='cdn')


os.getcwd()











os.getcwd()


df_2020_2025.shape


df_2020_2025.head(2)





import pandas as pd
import plotly.graph_objects as go

# Assuming df_2020_2025 is already loaded and preprocessed

# Group by year and member_casual, count rides, and scale up by 5
yearly_member_counts = df_2020_2025[df_2020_2025['year'] > 2019].groupby(['year', 'member_casual']).size().unstack(fill_value=0) * 5

# Calculate percentages for each year
yearly_percentages = yearly_member_counts.div(yearly_member_counts.sum(axis=1), axis=0) * 100

# Create the stacked bar chart
fig = go.Figure()

for member_type in yearly_member_counts.columns:
    fig.add_trace(go.Bar(
        x=yearly_member_counts.index,
        y=yearly_member_counts[member_type],
        name=member_type.capitalize(),
        marker_color='rgba(0,114,206,0.3)' if member_type == 'member' else 'rgba(155,229,100,0.7)',
        hovertemplate="<b>Year: %{x}</b><br>" +
                     "<b>" + member_type.capitalize() + " Rides: %{y:,.0f}</b><br>" +
                     "<b>Percentage: %{text}%</b><br>" +
                     "<extra></extra>",
        text=yearly_percentages[member_type].round(1),
        textposition='auto',
        texttemplate='%{text:.1f}%',
        textfont=dict(color='white', size=12),
        hoverlabel=dict(
            bgcolor='rgba(26, 31, 53, 0.9)',
            bordercolor='rgba(255, 255, 255, 0.3)',
            font=dict(size=14, color='white')
        )
    ))

# Update layout with smaller size
fig.update_layout(
    title={
        'text': "Riders by membership type (2020-2025)",
        'y': 0.95,
        'x': 0.5,
        'xanchor': 'center',
        'yanchor': 'top',
        'font': dict(color='#00fff2', size=24)
    },
    width=800,  # Added width
    height=500,  # Added height
    barmode='stack',
    paper_bgcolor='rgba(0,0,0,0)',
    plot_bgcolor='rgba(0,0,0,0)',
    showlegend=True,
    legend=dict(
        yanchor="top",
        y=0.99,
        xanchor="left",
        x=0.01,
        font=dict(color='white'),
        bgcolor='rgba(0,0,0,0)'
    ),
    xaxis=dict(
        showgrid=False,
        tickfont=dict(color='white'),
        title_font=dict(color='white'),
        # title="Year",
        dtick=1
    ),
    yaxis=dict(
        showgrid=False,
        tickfont=dict(color='white'),
        title_font=dict(color='#00fff2'),
        title=dict(
            text="Number of Rides",
            font=dict(color='#00fff2')
        ),
        tickformat=",d"
    ),
    hovermode='x unified',
    hoverlabel=dict(
        bgcolor='rgba(26, 31, 53, 0.9)',
        bordercolor='rgba(255, 255, 255, 0.3)',
        font=dict(size=14, color='white')
    ),
    margin=dict(l=80, r=40, t=80, b=40)  # Added margins for better spacing
)

# Explicitly update y-axis title color
fig.update_yaxes(title_font=dict(color='#00fff2'))

# Save the figure
fig.write_html("site//charts//yearly_member_rides_2020_2025.html")








os.getcwd()


os.chdir("C:\\Users\\rajpprit\\Documents\\UK I&I\\Trainings\\Vizcon 2025\\New York city bike data")


import pandas as pd
import plotly.graph_objects as go

# Convert started_at to datetime if it's not already
df_2020_2025['started_at'] = pd.to_datetime(df_2020_2025['started_at'])

# Filter for 2024 data and group by month and member_casual
df_2024 = df_2020_2025[df_2020_2025['started_at'].dt.year == 2024].copy()
df_2024['month'] = df_2024['started_at'].dt.strftime('%b')  # Use 3-letter month format

# Group by month and member_casual, count rides, and scale up by 5
monthly_member_counts = df_2024.groupby(['month', 'member_casual']).size().unstack(fill_value=0) * 5

# Set month order
month_order = ['Jan', 'Feb', 'Mar', 'Apr', 'May', 'Jun', 
               'Jul', 'Aug', 'Sep', 'Oct', 'Nov', 'Dec']
monthly_member_counts = monthly_member_counts.reindex(month_order)

# Calculate percentages for each month
monthly_percentages = monthly_member_counts.div(monthly_member_counts.sum(axis=1), axis=0) * 100

# Create the stacked bar chart
fig = go.Figure()

for member_type in monthly_member_counts.columns:
    fig.add_trace(go.Bar(
        x=monthly_member_counts.index,
        y=monthly_member_counts[member_type],
        name=member_type.capitalize(),
        marker_color='rgba(0,114,206,0.3)' if member_type == 'member' else 'rgba(155,229,100,0.7)',
        hovertemplate="<b>Month: %{x}</b><br>" +
                     "<b>" + member_type.capitalize() + " Rides: %{y:,.0f}</b><br>" +
                     "<b>Percentage: %{text}%</b><br>" +
                     "<extra></extra>",
        text=monthly_percentages[member_type].round(1),
        textposition='auto',
        texttemplate='%{text:.1f}%',
        textangle=0,  # Make percentage text straight
        textfont=dict(color='white', size=12),
        hoverlabel=dict(
            bgcolor='rgba(26, 31, 53, 0.9)',
            bordercolor='rgba(255, 255, 255, 0.3)',
            font=dict(size=14, color='white')
        )
    ))

# Update layout
fig.update_layout(
    title={
        'text': "Monthly distribution of rides by membership (2024)",
        'y': 0.95,
        'x': 0.5,
        'xanchor': 'center',
        'yanchor': 'top',
        'font': dict(color='#00fff2', size=24)
    },
    width=800,
    height=500,
    barmode='stack',
    paper_bgcolor='rgba(0,0,0,0)',
    plot_bgcolor='rgba(0,0,0,0)',
    showlegend=True,
    legend=dict(
        yanchor="top",
        y=0.99,
        xanchor="left",
        x=0.01,
        font=dict(color='white'),
        bgcolor='rgba(0,0,0,0)'
    ),
    xaxis=dict(
        showgrid=False,
        tickfont=dict(color='white'),
        title_font=dict(color='white'),
        tickangle=0  # Make month labels straight
    ),
    yaxis=dict(
        showgrid=False,
        tickfont=dict(color='white'),
        title_font=dict(color='#00fff2'),
        title=dict(
            text="Number of Rides",
            font=dict(color='#00fff2')
        ),
        tickformat=",d"
    ),
    hovermode='x unified',
    hoverlabel=dict(
        bgcolor='rgba(26, 31, 53, 0.9)',
        bordercolor='rgba(255, 255, 255, 0.3)',
        font=dict(size=14, color='white')
    ),
    margin=dict(l=80, r=40, t=80, b=40)  # Reduced bottom margin
)

# Explicitly update y-axis title color
fig.update_yaxes(title_font=dict(color='#00fff2'))

# Save the figure
fig.write_html("site//charts//monthly_member_rides_2024.html",
               full_html=False,
               include_plotlyjs='cdn')



























df_2020_2025.head(2)








os.getcwd()


os.chdir("C:\\Users\\rajpprit\\Documents\\UK I&I\\Trainings\\Vizcon 2025\\New York city bike data")


os.getcwd()


import pandas as pd
import plotly.graph_objects as go

# Calculate hourly distribution and scale up by 5 for 20% sample
hourly_rides = df_2020_2025.groupby('hour').size().reset_index()
hourly_rides.columns = ['hour', 'count']
hourly_rides['count'] = hourly_rides['count'] * 5

# Create the bar chart
fig = go.Figure()

fig.add_trace(go.Bar(
    x=hourly_rides['hour'],
    y=hourly_rides['count'],
    marker_color='rgba(0,114,206,0.3)',  # Semi-transparent brand blue
    hovertemplate="<b>Hour: %{x}:00</b><br>" +
                 "<b>Number of Rides: %{y:,.0f}</b><br>" +
                 "<extra></extra>",
    hoverlabel=dict(
        bgcolor='rgba(26, 31, 53, 0.9)',
        bordercolor='rgba(255, 255, 255, 0.3)',
        font=dict(size=14, color='white')
    )
))

# Update layout
fig.update_layout(
    title={
        'text': "Hourly distribution of rides (2020-2025)",
        'y': 0.95,
        'x': 0.5,
        'xanchor': 'center',
        'yanchor': 'top',
        'font': dict(color='#00fff2', size=24)
    },
    width=800,
    height=500,
    paper_bgcolor='rgba(0,0,0,0)',
    plot_bgcolor='rgba(0,0,0,0)',
    showlegend=False,
    xaxis=dict(
        showgrid=False,
        tickfont=dict(color='white'),
        title_font=dict(color='white'),
        # title="Hour of Day",
        dtick=1,
        ticktext=['12 AM'] + [f'{i} AM' for i in range(1,12)] + 
                ['12 PM'] + [f'{i} PM' for i in range(1,12)],
        tickvals=list(range(0,24))
    ),
    yaxis=dict(
        showgrid=False,
        tickfont=dict(color='white'),
        title_font=dict(color='#00fff2'),
        title=dict(
            text="Number of Rides",
            font=dict(color='#00fff2')
        ),
        tickformat=",d"
    ),
    hovermode='x unified',
    hoverlabel=dict(
        bgcolor='rgba(26, 31, 53, 0.9)',
        bordercolor='rgba(255, 255, 255, 0.3)',
        font=dict(size=14, color='white')
    ),
    margin=dict(l=80, r=40, t=80, b=40)
)

# Save the figure
fig.write_html("site//charts//hourly_distribution.html",
               full_html=False,
               include_plotlyjs='cdn')









os.chdir("C:\\Users\\rajpprit\\Documents\\UK I&I\\Trainings\\Vizcon 2025\\New York city bike data")


os.getcwd()


import pandas as pd
import plotly.graph_objects as go

# Group by year and rideable_type, count rides, and scale up by 5
yearly_bike_counts = df_2020_2025[df_2020_2025['year'] > 2019].groupby(['year', 'rideable_type']).size().unstack(fill_value=0) * 5

# Calculate percentages for each year
yearly_percentages = yearly_bike_counts.div(yearly_bike_counts.sum(axis=1), axis=0) * 100

# Create the stacked bar chart
fig = go.Figure()

# Color mapping for different bike types
color_map = {
    'classic_bike': 'rgba(0,114,206,0.3)',    # Semi-transparent blue
    'electric_bike': 'rgba(155,229,100,0.7)',  # Semi-transparent green
    'docked_bike': 'rgba(255,255,255,0.3)'     # Semi-transparent white
}

for bike_type in yearly_bike_counts.columns:
    fig.add_trace(go.Bar(
        x=yearly_bike_counts.index,
        y=yearly_bike_counts[bike_type],
        name=bike_type.replace('_', ' ').title(),
        marker_color=color_map.get(bike_type, 'rgba(255,255,255,0.3)'),
        hovertemplate="<b>Year: %{x}</b><br>" +
                     "<b>" + bike_type.replace('_', ' ').title() + " Rides: %{y:,.0f}</b><br>" +
                     "<b>Percentage: %{text}%</b><br>" +
                     "<extra></extra>",
        text=yearly_percentages[bike_type].round(1),
        textposition='auto',
        texttemplate='%{text:.1f}%',
        textfont=dict(color='white', size=12),
        hoverlabel=dict(
            bgcolor='rgba(26, 31, 53, 0.9)',
            bordercolor='rgba(255, 255, 255, 0.3)',
            font=dict(size=14, color='white')
        )
    ))

# Update layout
fig.update_layout(
    title={
        'text': "Rides by bike type (2020-2025)",
        'y': 0.95,
        'x': 0.5,
        'xanchor': 'center',
        'yanchor': 'top',
        'font': dict(color='#00fff2', size=24)
    },
    width=800,
    height=500,
    barmode='stack',
    paper_bgcolor='rgba(0,0,0,0)',
    plot_bgcolor='rgba(0,0,0,0)',
    showlegend=True,
    legend=dict(
        yanchor="top",
        y=0.99,
        xanchor="left",
        x=0.01,
        font=dict(color='white'),
        bgcolor='rgba(0,0,0,0)'
    ),
    xaxis=dict(
        showgrid=False,
        tickfont=dict(color='white'),
        title_font=dict(color='white'),
        dtick=1
    ),
    yaxis=dict(
        showgrid=False,
        tickfont=dict(color='white'),
        title_font=dict(color='#00fff2'),
        title=dict(
            text="Number of Rides",
            font=dict(color='#00fff2')
        ),
        tickformat=",d"
    ),
    hovermode='x unified',
    hoverlabel=dict(
        bgcolor='rgba(26, 31, 53, 0.9)',
        bordercolor='rgba(255, 255, 255, 0.3)',
        font=dict(size=14, color='white')
    ),
    margin=dict(l=80, r=40, t=80, b=40)
)

# Explicitly update y-axis title color
fig.update_yaxes(title_font=dict(color='#00fff2'))

# Save the figure
fig.write_html("site//charts//yearly_bike_type_rides_2020_2025.html",
               full_html=False,
               include_plotlyjs='cdn')









import pandas as pd
import plotly.graph_objects as go
from plotly.subplots import make_subplots

# Group by day_of_week and hour, count rides
hourly_by_day = df_2020_2025.groupby(['day_of_week', 'hour']).size().reset_index()
hourly_by_day.columns = ['day', 'hour', 'count']

# Normalize counts for each day
hourly_by_day['normalized'] = hourly_by_day.groupby('day')['count'].transform(lambda x: x / x.max())

# Define the order of days
days_order = ['Monday', 'Tuesday', 'Wednesday', 'Thursday', 'Friday', 'Saturday', 'Sunday']

# Create subplot layout (4 plots in first row, 3 in second row)
fig = make_subplots(
    rows=2, cols=4,
    specs=[[{'type': 'polar'}, {'type': 'polar'}, {'type': 'polar'}, {'type': 'polar'}],
           [{'type': 'polar'}, {'type': 'polar'}, {'type': 'polar'}, None]],
    subplot_titles=days_order
)

# Color for all plots
color = 'rgba(0,114,206,0.3)'

# Create each day's plot
for idx, day in enumerate(days_order):
    row = 1 if idx < 4 else 2
    col = idx + 1 if idx < 4 else idx - 3
    
    day_data = hourly_by_day[hourly_by_day['day'] == day]
    
    fig.add_trace(
        go.Scatterpolar(
            r=day_data['normalized'],
            theta=day_data['hour'].apply(lambda x: f"{x}:00"),
            name=day,
            fill='toself',
            fillcolor=color,
            line=dict(color='rgba(0,114,206,0.7)'),
            hovertemplate="<b>Hour: %{theta}</b><br>" +
                         "<b>Relative proportion: %{r:.2f}</b><br>" +
                         "<extra></extra>",
            hoverlabel=dict(
                bgcolor='rgba(26, 31, 53, 0.9)',
                bordercolor='rgba(255, 255, 255, 0.3)',
                font=dict(size=14, color='white')
            ),
            showlegend=False
        ),
        row=row, col=col
    )

# Update layout
fig.update_layout(
    title={
        'text': "Hourly ride patterns by day of week",
        'y': 0.95,
        'x': 0.5,
        'xanchor': 'center',
        'yanchor': 'top',
        'font': dict(color='#00fff2', size=24)
    },
    width=800,
    height=500,
    paper_bgcolor='rgba(0,0,0,0)',
    plot_bgcolor='rgba(0,0,0,0)',
    showlegend=False,
    margin=dict(l=20, r=20, t=80, b=20)
)

# Update all polar axes
for i in range(1, 8):
    fig.update_layout({
        f'polar{i if i > 1 else ""}': dict(
            radialaxis=dict(
                showline=False,
                showgrid=True,
                gridcolor='rgba(255,255,255,0.1)',
                tickfont=dict(color='rgba(0,0,0,0)'),
                range=[0, 1]
            ),
            angularaxis=dict(
                showline=False,
                showgrid=True,
                gridcolor='rgba(255,255,255,0.1)',
                tickfont=dict(color='white', size=8),
                direction='clockwise',
                ticktext=[''] + [f'{i}' for i in range(1,24)] + [''],
                tickvals=list(range(0,25))
            ),
            bgcolor='rgba(0,0,0,0)'
        )
    })

# Update subplot titles color, size, and position
for annotation in fig.layout.annotations:
    annotation.update(
        font=dict(color='#00fff2', size=10),  # Smaller font size and cyan color
        y=annotation.y - 0.05  # Move the title down slightly
    )

# Save the figure
fig.write_html("site//charts//hourly_by_day_radial.html",
               full_html=False,
               include_plotlyjs='cdn')









import pandas as pd
import plotly.graph_objects as go
from plotly.subplots import make_subplots

# Group by month and hour, count rides
hourly_by_month = df_2020_2025.groupby(['month', 'hour']).size().reset_index()
hourly_by_month.columns = ['month', 'hour', 'count']

# Normalize counts for each month
hourly_by_month['normalized'] = hourly_by_month.groupby('month')['count'].transform(lambda x: x / x.max())

# Define the order of months
months_order = ['January', 'February', 'March', 'April', 
                'May', 'June', 'July', 'August', 
                'September', 'October', 'November', 'December']

# Create subplot layout (3 rows, 4 columns)
fig = make_subplots(
    rows=3, cols=4,
    specs=[[{'type': 'polar'} for _ in range(4)] for _ in range(3)],
    subplot_titles=months_order
)

# Color for all plots
color = 'rgba(0,114,206,0.3)'

# Create each month's plot
for idx, month in enumerate(months_order):
    row = (idx // 4) + 1
    col = (idx % 4) + 1
    
    month_data = hourly_by_month[hourly_by_month['month'] == idx + 1]
    
    fig.add_trace(
        go.Scatterpolar(
            r=month_data['normalized'],
            theta=month_data['hour'].apply(lambda x: f"{x}:00"),
            name=month,
            fill='toself',
            fillcolor=color,
            line=dict(color='rgba(0,114,206,0.7)'),
            hovertemplate="<b>Hour: %{theta}</b><br>" +
                         "<b>Relative proportion: %{r:.2f}</b><br>" +
                         "<extra></extra>",
            hoverlabel=dict(
                bgcolor='rgba(26, 31, 53, 0.9)',
                bordercolor='rgba(255, 255, 255, 0.3)',
                font=dict(size=14, color='white')
            ),
            showlegend=False
        ),
        row=row, col=col
    )

# Update layout
fig.update_layout(
    title={
        'text': "Hourly ride patterns by month",
        'y': 0.95,
        'x': 0.5,
        'xanchor': 'center',
        'yanchor': 'top',
        'font': dict(color='#00fff2', size=24)
    },
    width=800,
    height=800,  # Increased height to accommodate 3 rows
    paper_bgcolor='rgba(0,0,0,0)',
    plot_bgcolor='rgba(0,0,0,0)',
    showlegend=False,
    margin=dict(l=20, r=20, t=80, b=20)
)

# Update all polar axes
for i in range(1, 13):
    fig.update_layout({
        f'polar{i if i > 1 else ""}': dict(
            radialaxis=dict(
                showline=False,
                showgrid=True,
                gridcolor='rgba(255,255,255,0.1)',
                tickfont=dict(color='rgba(0,0,0,0)'),
                range=[0, 1]
            ),
            angularaxis=dict(
                showline=False,
                showgrid=True,
                gridcolor='rgba(255,255,255,0.1)',
                tickfont=dict(color='white', size=8),
                direction='clockwise',
                ticktext=[''] + [f'{i}' for i in range(1,24)] + [''],
                tickvals=list(range(0,25))
            ),
            bgcolor='rgba(0,0,0,0)'
        )
    })

# Update subplot titles color, size, and position
for annotation in fig.layout.annotations:
    annotation.update(
        font=dict(color='#00fff2', size=10),  # Smaller font size and cyan color
        y=annotation.y - 0.05  # Move the title down slightly
    )

# Save the figure
fig.write_html("site//charts//hourly_by_month_radial.html",
               full_html=False,
               include_plotlyjs='cdn')









os.chdir("C:\\Users\\rajpprit\\Documents\\UK I&I\\Trainings\\Vizcon 2025\\New York city bike data\\data_processed\\Pickel files")
df_2013_2019 = pd.read_pickle("df_2013_2019.pkl")
# df_2020_2025 = pd.read_pickle("df_2020_2025.pkl")


df_2013_2019.head(2)








df_2013_2019.head(2)














df_2013_2019.head(2)





os.chdir("C:\\Users\\rajpprit\\Documents\\UK I&I\\Trainings\\Vizcon 2025\\New York city bike data")
os.getcwd()





import pandas as pd
import plotly.graph_objects as go

# Create gender mapping (assuming 1 is male, 2 is female, 0 is unknown/other)
gender_mapping = {1: 'Male', 2: 'Female', 0: 'Unknown'}
df_2013_2019['gender_label'] = df_2013_2019['gender'].map(gender_mapping)

# Group by year and gender, count rides, and scale up by 5
yearly_gender_counts = df_2013_2019.groupby(['year', 'gender_label']).size().unstack(fill_value=0) * 5

# Calculate percentages for each year
yearly_percentages = yearly_gender_counts.div(yearly_gender_counts.sum(axis=1), axis=0) * 100

# Create the stacked bar chart
fig = go.Figure()

# Color mapping for gender
color_map = {
    'Male': 'rgba(0,114,206,0.3)',      # Blue (same as member color)
    'Female': 'rgba(255,182,193,0.7)',   # Light pink
    'Unknown': 'rgba(169,169,169,0.3)'   # Grey
}

for gender in yearly_gender_counts.columns:
    fig.add_trace(go.Bar(
        x=yearly_gender_counts.index,
        y=yearly_gender_counts[gender],
        name=gender,
        marker_color=color_map[gender],
        hovertemplate="<b>Year: %{x}</b><br>" +
                     "<b>" + gender + " Riders: %{y:,.0f}</b><br>" +
                     "<b>Percentage: %{text}%</b><br>" +
                     "<extra></extra>",
        text=yearly_percentages[gender].round(1),
        textposition='auto',
        texttemplate='%{text:.1f}%',
        textfont=dict(color='white', size=12),
        hoverlabel=dict(
            bgcolor='rgba(26, 31, 53, 0.9)',
            bordercolor='rgba(255, 255, 255, 0.3)',
            font=dict(size=14, color='white')
        )
    ))

# Update layout
fig.update_layout(
    title={
        'text': "Riders by gender (2013-2019)",
        'y': 0.95,
        'x': 0.5,
        'xanchor': 'center',
        'yanchor': 'top',
        'font': dict(color='#00fff2', size=24)
    },
    width=800,
    height=500,
    barmode='stack',
    paper_bgcolor='rgba(0,0,0,0)',
    plot_bgcolor='rgba(0,0,0,0)',
    showlegend=True,
    legend=dict(
        yanchor="top",
        y=0.99,
        xanchor="left",
        x=0.01,
        font=dict(color='white'),
        bgcolor='rgba(0,0,0,0)'
    ),
    xaxis=dict(
        showgrid=False,
        tickfont=dict(color='white'),
        title_font=dict(color='white'),
        dtick=1
    ),
    yaxis=dict(
        showgrid=False,
        tickfont=dict(color='white'),
        title_font=dict(color='#00fff2'),
        title=dict(
            text="Number of Rides",
            font=dict(color='#00fff2')
        ),
        tickformat=",d"
    ),
    hovermode='x unified',
    hoverlabel=dict(
        bgcolor='rgba(26, 31, 53, 0.9)',
        bordercolor='rgba(255, 255, 255, 0.3)',
        font=dict(size=14, color='white')
    ),
    margin=dict(l=80, r=40, t=80, b=40)
)

# Explicitly update y-axis title color
fig.update_yaxes(title_font=dict(color='#00fff2'))

# Save the figure
fig.write_html("site//charts//yearly_gender_rides_2013_2019.html",
               full_html=False,
               include_plotlyjs='cdn')









os.getcwd()


os.chdir("C:\\Users\\rajpprit\\Documents\\UK I&I\\Trainings\\Vizcon 2025\\New York city bike data")


os.getcwd()


os.chdir("C:\\Users\\rajpprit\\Documents\\UK I&I\\Trainings\\Vizcon 2025\\New York city bike data\\data_processed\\Pickel files")
df_2019 = pd.read_pickle("df_2019.pkl")
# df_2020_2025 = pd.read_pickle("df_2020_2025.pkl")


df_2019.head(2)











os.getcwd()


os.chdir("C:\\Users\\rajpprit\\Documents\\UK I&I\\Trainings\\Vizcon 2025\\New York city bike data")


os.getcwd()





import pandas as pd
import plotly.graph_objects as go

# Create age column (2019 - birth year)
df_2019['age'] = 2019 - df_2019['birth year']

# Cap age at 80
df_2019.loc[df_2019['age'] > 80, 'age'] = 80

# Create age bands in steps of 5
df_2019['age_band'] = ((df_2019['age'] // 5) * 5).apply(lambda x: f"{x}-{x+4}")
# For age 80, change the band to "80+"
df_2019.loc[df_2019['age'] == 80, 'age_band'] = "80+"

# Create gender mapping
gender_map = {1: 'Male', 2: 'Female', 0: 'Unknown'}
df_2019['gender_label'] = df_2019['gender'].map(gender_map)

# Group by age_band and gender, count rides, and scale up by 5
age_gender_rides = df_2019.groupby(['age_band', 'gender_label']).size().reset_index()
age_gender_rides.columns = ['age_band', 'gender', 'count']
age_gender_rides['count'] = age_gender_rides['count'] * 5

# Filter for just Male and Female
age_gender_rides = age_gender_rides[age_gender_rides['gender'].isin(['Male', 'Female'])]

# Create separate series for male and female
male_data = age_gender_rides[age_gender_rides['gender'] == 'Male']
female_data = age_gender_rides[age_gender_rides['gender'] == 'Female']

# Sort age bands numerically
def sort_key(x):
    if x == "80+":
        return 80
    return int(x.split('-')[0])

male_data = male_data.sort_values(by='age_band', key=lambda x: x.map(sort_key))
female_data = female_data.sort_values(by='age_band', key=lambda x: x.map(sort_key))





import pandas as pd
import plotly.graph_objects as go

# Previous data preparation code remains the same until the figure creation

# Create the figure
fig = go.Figure()

# Add male area
fig.add_trace(go.Scatter(
    name='Male',
    x=male_data['age_band'],
    y=male_data['count'],
    fill='tozeroy',  # Fill to zero on y axis
    fillcolor='rgba(0,114,206,0.3)',  # Semi-transparent blue
    line=dict(color='rgba(0,114,206,0.7)', width=1),
    hovertemplate="<b>Age: %{x}</b><br>" +
                 "<b>Male Rides: %{y:,.0f}</b><br>" +
                 "<extra></extra>",
    hoverlabel=dict(
        bgcolor='rgba(26, 31, 53, 0.9)',
        bordercolor='rgba(255, 255, 255, 0.3)',
        font=dict(size=14, color='white')
    )
))

# Add female area
fig.add_trace(go.Scatter(
    name='Female',
    x=female_data['age_band'],
    y=female_data['count'],
    fill='tozeroy',  # Fill to zero on y axis
    fillcolor='rgba(255,182,193,0.7)',  # Semi-transparent pink
    line=dict(color='rgba(255,182,193,0.9)', width=1),
    hovertemplate="<b>Age: %{x}</b><br>" +
                 "<b>Female Rides: %{y:,.0f}</b><br>" +
                 "<extra></extra>",
    hoverlabel=dict(
        bgcolor='rgba(26, 31, 53, 0.9)',
        bordercolor='rgba(255, 255, 255, 0.3)',
        font=dict(size=14, color='white')
    )
))

# Update layout
fig.update_layout(
    title={
        'text': "Age distribution by gender (2019)",
        'y': 0.95,
        'x': 0.5,
        'xanchor': 'center',
        'yanchor': 'top',
        'font': dict(color='#00fff2', size=24)
    },
    width=800,
    height=500,
    paper_bgcolor='rgba(0,0,0,0)',
    plot_bgcolor='rgba(0,0,0,0)',
    showlegend=True,
    legend=dict(
        yanchor="top",
        y=0.99,
        xanchor="left",
        x=0.01,
        font=dict(color='white'),
        bgcolor='rgba(0,0,0,0)'
    ),
    xaxis=dict(
        showgrid=False,
        tickfont=dict(color='white'),
        title_font=dict(color='white'),
        tickangle=0,
        categoryorder='array',
        categoryarray=male_data['age_band']  # Ensure correct order of age bands
    ),
    yaxis=dict(
        showgrid=False,
        tickfont=dict(color='white'),
        title_font=dict(color='#00fff2'),
        title=dict(
            text="Number of Rides",
            font=dict(color='#00fff2')
        ),
        tickformat=",d"
    ),
    hovermode='x unified',
    hoverlabel=dict(
        bgcolor='rgba(26, 31, 53, 0.9)',
        bordercolor='rgba(255, 255, 255, 0.3)',
        font=dict(size=14, color='white')
    ),
    margin=dict(l=80, r=40, t=80, b=40)
)

# Save the figure
fig.write_html("site//charts//age_gender_distribution_2019.html",
               full_html=False,
               include_plotlyjs='cdn')









import pandas as pd
import plotly.graph_objects as go
from math import radians, sin, cos, sqrt, atan2
import numpy as np

def calculate_distance_km(row):
    """Calculate distance in kilometers using Haversine formula"""
    R = 6371  # Earth's radius in kilometers
    
    lat1 = radians(row['start station latitude'])
    lon1 = radians(row['start station longitude'])
    lat2 = radians(row['end station latitude'])
    lon2 = radians(row['end station longitude'])
    
    dlat = lat2 - lat1
    dlon = lon2 - lon1
    
    a = sin(dlat/2)**2 + cos(lat1) * cos(lat2) * sin(dlon/2)**2
    c = 2 * atan2(sqrt(a), sqrt(1-a))
    
    return R * c

# Calculate distance
df_2019['distance_km'] = df_2019.apply(calculate_distance_km, axis=1)

# Calculate duration in hours
df_2019['duration_hours'] = df_2019['tripduration'] / 3600  # assuming tripduration is in seconds

# Calculate speed in km/h
df_2019['speed_kmh'] = df_2019['distance_km'] / df_2019['duration_hours']

# Remove unrealistic speeds (e.g., below 0.5 km/h or above 50 km/h)
df_2019 = df_2019[(df_2019['speed_kmh'] >= 0.5) & (df_2019['speed_kmh'] <= 50)]

# Create speed bands
df_2019['speed_band'] = pd.cut(
    df_2019['speed_kmh'],
    bins=np.arange(0, 55, 5),
    labels=[f"{i}-{i+5}" for i in range(0, 50, 5)]
)

# Group by speed_band and gender
speed_gender_counts = df_2019.groupby(['speed_band', 'gender_label']).size().reset_index()
speed_gender_counts.columns = ['speed_band', 'gender', 'count']
speed_gender_counts['count'] = speed_gender_counts['count'] * 5  # Scale up by 5

# Separate male and female data
male_data = speed_gender_counts[speed_gender_counts['gender'] == 'Male']
female_data = speed_gender_counts[speed_gender_counts['gender'] == 'Female']






# Create the figure
fig = go.Figure()

# Add male area
fig.add_trace(go.Scatter(
    name='Male',
    x=male_data['speed_band'],
    y=male_data['count'],
    fill='tozeroy',
    fillcolor='rgba(0,114,206,0.3)',  # Semi-transparent blue
    line=dict(color='rgba(0,114,206,0.7)', width=1),
    hovertemplate="<b>Speed: %{x} km/h</b><br>" +
                 "<b>Male Rides: %{y:,.0f}</b><br>" +
                 "<extra></extra>",
    hoverlabel=dict(
        bgcolor='rgba(26, 31, 53, 0.9)',
        bordercolor='rgba(255, 255, 255, 0.3)',
        font=dict(size=14, color='white')
    )
))

# Add female area
fig.add_trace(go.Scatter(
    name='Female',
    x=female_data['speed_band'],
    y=female_data['count'],
    fill='tozeroy',
    fillcolor='rgba(255,182,193,0.7)',  # Semi-transparent pink
    line=dict(color='rgba(255,182,193,0.9)', width=1),
    hovertemplate="<b>Speed: %{x} km/h</b><br>" +
                 "<b>Female Rides: %{y:,.0f}</b><br>" +
                 "<extra></extra>",
    hoverlabel=dict(
        bgcolor='rgba(26, 31, 53, 0.9)',
        bordercolor='rgba(255, 255, 255, 0.3)',
        font=dict(size=14, color='white')
    )
))

# Update layout
fig.update_layout(
    title={
        'text': "Speed distribution by gender (2019)",
        'y': 0.95,
        'x': 0.5,
        'xanchor': 'center',
        'yanchor': 'top',
        'font': dict(color='#00fff2', size=24)
    },
    width=800,
    height=500,
    paper_bgcolor='rgba(0,0,0,0)',
    plot_bgcolor='rgba(0,0,0,0)',
    showlegend=True,
    legend=dict(
        yanchor="top",
        y=0.99,
        xanchor="left",
        x=0.01,
        font=dict(color='white'),
        bgcolor='rgba(0,0,0,0)'
    ),
    xaxis=dict(
        showgrid=False,
        tickfont=dict(color='white'),
        title_font=dict(color='#00fff2'),
        title=dict(
            text="Speed (km/hr)",
            font=dict(color='#00fff2')
        ),
        tickangle=0
    ),
    yaxis=dict(
        showgrid=False,
        tickfont=dict(color='white'),
        title_font=dict(color='#00fff2'),
        title=dict(
            text="Number of Rides",
            font=dict(color='#00fff2')
        ),
        tickformat=",d"
    ),
    hovermode='x unified',
    hoverlabel=dict(
        bgcolor='rgba(26, 31, 53, 0.9)',
        bordercolor='rgba(255, 255, 255, 0.3)',
        font=dict(size=14, color='white')
    ),
    margin=dict(l=80, r=40, t=80, b=40)
)

# Save the figure
fig.write_html("site//charts//speed_gender_distribution_2019.html",
               full_html=False,
               include_plotlyjs='cdn')



